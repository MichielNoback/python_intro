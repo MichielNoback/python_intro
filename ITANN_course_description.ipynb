{
 "cells": [
  {
   "cell_type": "markdown",
   "id": "59f3b5e0",
   "metadata": {},
   "source": [
    "# ITANN course: Introduction to Python Programming"
   ]
  },
  {
   "cell_type": "markdown",
   "id": "3a312451",
   "metadata": {},
   "source": [
    "This course is an introduction to Python programming for data science. Python is a very versatile programming language that is used in many domains; simple scripting, web applications, desktop GUI applications, data processing pipelines, scientific computing. \n",
    "\n",
    "This course focuses on Python programming for data science, with emphasis on literate programming: programming in a Notebook context. The learning outcomes of this course are in line with these:"
   ]
  },
  {
   "cell_type": "markdown",
   "id": "09b95503",
   "metadata": {},
   "source": [
    "## Learning goals\n",
    "\n",
    "After succesfully attending the course, learners will be able to write basic Python code dedicated to data science challenges.  \n",
    "In more detail, after attending this course, students will \n",
    "\n",
    "* use correct data structures and syntax elements for a given purpose:\n",
    "    * data types (scalars, list, dict, set)\n",
    "    * flow control elements (if/else, for)\n",
    "    * functions\n",
    "* understand the object-oriented nature of Python\n",
    "* run, edit and write Jupyter notebooks\n",
    "* read and apply Python documentation using the help() function or online resources \n",
    "* deal with a data analysis project in a logical and structured manner (formulate problem, reformulate in separate steps, rewrite in pseudocode, translate to Python)\n",
    "* analyse and solve bugs and errors in their own code\n",
    "* read data from, and write data to file using Pythons built-in functionality\n",
    "* create simple list comprehensions used for generating, filtering and processing collections\n",
    "\n",
    "\n",
    "Besides these goals, students can choose to challenge themselves with these optional outcomes:\n",
    "* creating and using modules\n",
    "* being able to design, implement and use simple data classes\n",
    "* being able to define and use regular expressions \n"
   ]
  },
  {
   "cell_type": "markdown",
   "id": "651d340a",
   "metadata": {},
   "source": [
    "## Program\n"
   ]
  },
  {
   "cell_type": "markdown",
   "id": "6825051e",
   "metadata": {},
   "source": [
    "### Day 1\n",
    "\n",
    "* Morning  \n",
    "    * Course intro: Python, (Ana)conda, suggested toolbox\n",
    "    * Wishes and expectations\n",
    "    * Jupyter & Markdown\n",
    "        * Practice: write an small blog on your favorite topic\n",
    "    * Demo application\n",
    "    * Python as calculator: scalars and operators\n",
    "        * Practice: 12.2.1 & 12.2.2.\n",
    "    * Operator precedence\n",
    "        * Practice: 12.2.3 & 12.2.4.\n",
    "* Afternoon  \n",
    "    * Datatypes\n",
    "        * Practice: 12.3.1\n",
    "    * Slicing \n",
    "        * Practice: 12.3.3 & 12.3.4 & 12.3.5.\n",
    "    * Flow control\n",
    "        * Practice: 12.4.1. & 12.4.3.\n"
   ]
  },
  {
   "cell_type": "markdown",
   "id": "a508de94",
   "metadata": {},
   "source": [
    "### Day 2\n",
    "\n",
    "* Morning  \n",
    "    * Review of previous topics\n",
    "    * Functions\n",
    "        * Practice: 12.5.2.\n",
    "    * Comments: how and when\n",
    "        * Practice: Comment 12.5.2.\n",
    "    * File I/O\n",
    "        * Practice: 12.6.1.\n",
    "* Afternoon\n",
    "    * Standard library functions\n",
    "        * Practice: 12.7.1-3\n",
    "    * Sorting\n",
    "        * Practice: 12.7.4.\n",
    "    * Script design & error handling\n",
    "        * As a group: 12.5.1. (12.4.4)\n",
    "    * Learn how to program with one of the programming challenges, i.e. hangman, sudoku, sea battle (\"zeeslag\") against the computer\n",
    "        * Choose bigger project from 12.12.1-4\n",
    "\n"
   ]
  },
  {
   "cell_type": "markdown",
   "id": "e6330dde",
   "metadata": {},
   "source": [
    "### Day 3\n",
    "\n",
    "* Morning\n",
    "    * Review of previous topics\n",
    "    * Python standard modules\n",
    "    * List comprehensions\n",
    "    * \\[Optional\\] OOP    \n",
    "    * \\[Optional\\] regular expressions    \n",
    "    * \\[Optional\\] writing and using modules    \n",
    "\n",
    "    * discussion of challenges\n",
    "\n",
    "* Afternoon\n",
    "    * Leftovers\n",
    "    * Evaluation of module\n",
    "    * Guest lecture\n",
    "\n"
   ]
  }
 ],
 "metadata": {
  "kernelspec": {
   "display_name": "Python 3 (ipykernel)",
   "language": "python",
   "name": "python3"
  },
  "language_info": {
   "codemirror_mode": {
    "name": "ipython",
    "version": 3
   },
   "file_extension": ".py",
   "mimetype": "text/x-python",
   "name": "python",
   "nbconvert_exporter": "python",
   "pygments_lexer": "ipython3",
   "version": "3.9.16"
  }
 },
 "nbformat": 4,
 "nbformat_minor": 5
}
