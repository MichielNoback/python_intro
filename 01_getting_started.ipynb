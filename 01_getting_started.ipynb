{
 "cells": [
  {
   "cell_type": "markdown",
   "metadata": {
    "slideshow": {
     "slide_type": "slide"
    }
   },
   "source": [
    "# A quick overview\n",
    "\n",
    "In this course you will get to know the programming language **Python**. You will get to know the language up to a level where you will be able to write some scripts and run Python code as an executable program, or in a notebook environment.\n",
    "\n",
    "Since this is the preferred way for a majority of data scientists, and a convenient form for educational purposes, we will start in a notebook setting. The document you are currently reading is a **Jupyter** notebook. A scientific notebook is an electronic  document used for **literate programming**. In literate programming, text (usually in the form of **Markdown**), code, and its output (both textual and graphical) are combined."
   ]
  },
  {
   "cell_type": "markdown",
   "metadata": {
    "slideshow": {
     "slide_type": "slide"
    }
   },
   "source": [
    "## An example\n",
    "\n",
    "Suppose I want to calculate the surface of three different equilateral triangles, with sides 3, 4 and 2.21 respectively.\n",
    "First I define a **variable** representing the side and assign an initial value to it. To inspect the value of a variable at any given time you can `print()` it."
   ]
  },
  {
   "cell_type": "code",
   "execution_count": 5,
   "metadata": {
    "slideshow": {
     "slide_type": "fragment"
    }
   },
   "outputs": [
    {
     "name": "stdout",
     "output_type": "stream",
     "text": [
      "3\n"
     ]
    }
   ],
   "source": [
    "side = 3\n",
    "print(side) # print the side"
   ]
  },
  {
   "cell_type": "markdown",
   "metadata": {
    "slideshow": {
     "slide_type": "fragment"
    }
   },
   "source": [
    "Note the use of `#text` to add human-readable comments to the code. Everything on a line after `#` will be ignored when evaluating the cell."
   ]
  },
  {
   "cell_type": "markdown",
   "metadata": {
    "slideshow": {
     "slide_type": "skip"
    }
   },
   "source": [
    "<div class=\"alert alert-block alert-info\">\n",
    "    <img src=\"pics/64px-Simple_Information.png\" style=\"float:left;margin-right:10px;\">\n",
    "    <span style=\"display:block;overflow:hidden;\">\n",
    "        <strong>Code comments</strong><br> Any text occurring on a line after a hash symbol <code>#</code> will be ignored by the python interpreter. Text after a hash is called code comment. <br><br>\n",
    "    </span>\n",
    "</div>"
   ]
  },
  {
   "cell_type": "markdown",
   "metadata": {
    "slideshow": {
     "slide_type": "skip"
    }
   },
   "source": [
    "`print()` is a **function** that can be used to display text on the console (or in a notebook).  \n",
    "If it is the last statement in a notebook cell, you can simply type the name of the variable you want to see without wrapping it in a call to print().\n"
   ]
  },
  {
   "cell_type": "markdown",
   "metadata": {
    "slideshow": {
     "slide_type": "slide"
    }
   },
   "source": [
    "<div class=\"alert alert-block alert-info\">\n",
    "    <img src=\"pics/64px-Simple_Information.png\" style=\"float:left;margin-right:10px;\">\n",
    "    <span style=\"display:block;overflow:hidden;\">\n",
    "        <strong>Functions</strong><br>A function is a re-usable piece of code, accessible by its name. It can receive input data (arguments) specified by its parameters. These are passed to the function between parentheses. For instance, <code>print(..., sep=\" \")</code> is a function named print that can receive any number of arguments to print (...) that will be displayed on the console separated by the value specified with the \"sep\" parameter. You can create your own functions very easily as will be shown later.\n",
    "    </span>\n",
    "</div>"
   ]
  },
  {
   "cell_type": "markdown",
   "metadata": {
    "slideshow": {
     "slide_type": "slide"
    }
   },
   "source": [
    "Next, I use the `side` variable to calculate the surface of a 3 - 3 - 3 triangle. The formula is $\\frac{1}{2} * width * height$, but since it is equilateral we can simply use $\\frac{1}{2} * side^2$"
   ]
  },
  {
   "cell_type": "code",
   "execution_count": 8,
   "metadata": {
    "slideshow": {
     "slide_type": "fragment"
    }
   },
   "outputs": [
    {
     "data": {
      "text/plain": [
       "'The area of an equilateral triangle with side 3 is 4.5'"
      ]
     },
     "execution_count": 8,
     "metadata": {},
     "output_type": "execute_result"
    }
   ],
   "source": [
    "side = 3\n",
    "area =  0.5 * side**2\n",
    "\n",
    "f'The area of an equilateral triangle with side {side} is {area}'\n"
   ]
  },
  {
   "cell_type": "markdown",
   "metadata": {
    "slideshow": {
     "slide_type": "slide"
    }
   },
   "source": [
    "<div class=\"alert alert-block alert-info\">\n",
    "    <img src=\"pics/64px-Simple_Information.png\" style=\"float:left;margin-right:10px;\">\n",
    "    <span style=\"display:block;overflow:hidden;\">\n",
    "        <strong>Operators</strong><br> \n",
    "        Operators such as <code>*</code> and <code>**</code> are (combinations of) symbols within Python code that <i>operate</i> on (usually) the two values on either side of it (named <i>operands</i>), and that will generate a new value from these two input values. \n",
    "        We call this combination an <i>expression</i>. <br> \n",
    "        For instance, <code>+</code> is the addition operator that takes the values on either side and returns the sum of the two.\n",
    "        Other mathematical operators are, not surprisingly, minus (<code>-</code>), plus (<code>+</code>), division (<code>/</code>). <br> \n",
    "        There are many more operators, classified as <i>mathematical</i> (like the above), <i>assignment</i> (like the `=` symbol in the above cells), <i>comparison</i> operators (such as \"&lt;\"), and some more categories. A complete listing of operators can be found <a href=\"https://www.w3schools.com/python/python_operators.asp\">here</a> or \n",
    "        <a href=\"https://www.tutorialspoint.com/python/python_basic_operators.htm\">here</a>.\n",
    "    </span>\n",
    "</div>"
   ]
  },
  {
   "cell_type": "markdown",
   "metadata": {
    "slideshow": {
     "slide_type": "slide"
    }
   },
   "source": [
    "This:\n",
    "```python\n",
    "f'The area of an equilateral triangle with side {side} is {area}'\n",
    "```\n",
    "is a format string; a series of characters in which we can insert values from python variables at the location of the curly braces to produce this:  \n",
    "  \n",
    "`'The area of an equilateral triangle with side 3 is 4.5'`\n"
   ]
  },
  {
   "cell_type": "markdown",
   "metadata": {
    "slideshow": {
     "slide_type": "skip"
    }
   },
   "source": [
    "Until a few Python versions ago we could not use these _format strings_ and needed to write this:\n",
    "\n",
    "`print(\"The area of an equilateral triangle with side \", side, \" is \", area)'`\n",
    "\n",
    "instead of this:\n",
    "\n",
    "`f'The area of an equilateral triangle with side {side} is {area}'`"
   ]
  },
  {
   "cell_type": "markdown",
   "metadata": {
    "slideshow": {
     "slide_type": "slide"
    }
   },
   "source": [
    "Now I want to do the same calculation and reporting for other triangles. I could just copy-and-paste all code, as in the cell below:"
   ]
  },
  {
   "cell_type": "code",
   "execution_count": 7,
   "metadata": {
    "slideshow": {
     "slide_type": "fragment"
    }
   },
   "outputs": [
    {
     "name": "stdout",
     "output_type": "stream",
     "text": [
      "The area of an equilateral triangle with side 4 is 8.0\n",
      "The area of an equilateral triangle with side 2.21 is 2.44\n"
     ]
    }
   ],
   "source": [
    "side = 4\n",
    "area =  0.5 * side**2\n",
    "\n",
    "print(f'The area of an equilateral triangle with side {side} is {area}') \n",
    "\n",
    "side = 2.21\n",
    "area =  0.5 * side**2\n",
    "\n",
    "#note the use of round() in the statement below\n",
    "print(f'The area of an equilateral triangle with side {side} is {round(area, 2)}') "
   ]
  },
  {
   "cell_type": "markdown",
   "metadata": {
    "slideshow": {
     "slide_type": "slide"
    }
   },
   "source": [
    "This is awful!   \n",
    "\n",
    "Copy-and-paste activities are a real no-no in programming.  \n",
    "Whenever you catch yourself using Ctrl+C & Ctrl+V, stop and consider a better way to do it.  \n",
    "In many cases this will result in extracting the copied code into a **function**.  "
   ]
  },
  {
   "cell_type": "markdown",
   "metadata": {
    "slideshow": {
     "slide_type": "slide"
    }
   },
   "source": [
    "Below, the re-used piece of code is embedded in the function `triangle_area()`."
   ]
  },
  {
   "cell_type": "code",
   "execution_count": 2,
   "metadata": {
    "slideshow": {
     "slide_type": "fragment"
    }
   },
   "outputs": [],
   "source": [
    "def print_triangle_area(side):\n",
    "    area =  0.5 * side**2\n",
    "    print(f'The area of an equilateral triangle with side {side} is {round(area, 2)}')\n"
   ]
  },
  {
   "cell_type": "markdown",
   "metadata": {
    "slideshow": {
     "slide_type": "fragment"
    }
   },
   "source": [
    "We'll visit the theory and practice of functions in a later chapter. Suffice to know here is that a named piece of code has been defined which can be used by that name when it is also given a value for its input argument, `side`. "
   ]
  },
  {
   "cell_type": "markdown",
   "metadata": {
    "slideshow": {
     "slide_type": "slide"
    }
   },
   "source": [
    "With this function defined (and loaded) it is easy to repeat the operation for a series of values:"
   ]
  },
  {
   "cell_type": "code",
   "execution_count": 8,
   "metadata": {
    "slideshow": {
     "slide_type": "fragment"
    }
   },
   "outputs": [
    {
     "name": "stdout",
     "output_type": "stream",
     "text": [
      "The area of an equilateral triangle with side 3 is 4.5\n",
      "The area of an equilateral triangle with side 4 is 8.0\n",
      "The area of an equilateral triangle with side 2.21 is 2.44\n"
     ]
    }
   ],
   "source": [
    "print_triangle_area(3)\n",
    "print_triangle_area(4)\n",
    "print_triangle_area(2.21)"
   ]
  },
  {
   "cell_type": "markdown",
   "metadata": {
    "slideshow": {
     "slide_type": "slide"
    }
   },
   "source": [
    "But wait! There is still copied code. Taking a leap forward in Python programming concepts - the `for` loop, here is an even better way to do it."
   ]
  },
  {
   "cell_type": "code",
   "execution_count": 8,
   "metadata": {
    "slideshow": {
     "slide_type": "fragment"
    }
   },
   "outputs": [
    {
     "name": "stdout",
     "output_type": "stream",
     "text": [
      "The area of an equilateral triangle with side 3 is 4.5\n",
      "The area of an equilateral triangle with side 4 is 8.0\n",
      "The area of an equilateral triangle with side 2.21 is 2.44\n"
     ]
    }
   ],
   "source": [
    "sides = [3, 4, 2.21]        # a list of values\n",
    "for n in sides:             # iterate using for\n",
    "    print_triangle_area(n)  # the iterated block"
   ]
  },
  {
   "cell_type": "markdown",
   "metadata": {
    "slideshow": {
     "slide_type": "fragment"
    }
   },
   "source": [
    "The `for` loop _iterates_ an iterable (a collection of values) and executes the given block for each of the values. We call this type of construct a **flow control** element because it controls the flow of the program.  "
   ]
  },
  {
   "cell_type": "markdown",
   "metadata": {
    "slideshow": {
     "slide_type": "slide"
    }
   },
   "source": [
    "# A real program\n",
    "\n",
    "By now you may be thinking that this does not look like programming at all. Where is the program?\n",
    "Actually there is no program here. A program is usually a piece of functionality on a computer or other device that receives some input (keyboard, mouse, touchscreen, sensor, etc.) and generates some output (screen, terminal, file, database).\n"
   ]
  },
  {
   "cell_type": "markdown",
   "metadata": {
    "slideshow": {
     "slide_type": "slide"
    }
   },
   "source": [
    "Given the triangle example above, a standalone program for calculating and reporting triangle surface area would look like this:"
   ]
  },
  {
   "cell_type": "markdown",
   "metadata": {
    "slideshow": {
     "slide_type": "fragment"
    }
   },
   "source": [
    "```python\n",
    "'''This program calculates the surface of equilateral triangles with sides given on the command line.'''\n",
    "\n",
    "import sys\n",
    "\n",
    "def print_triangle_area(side):\n",
    "    area =  0.5 * side**2\n",
    "    print(f'The area of an equilateral triangle with side {side} is {round(area, 2)}')\n",
    "\n",
    "for arg in sys.argv[1:]:\n",
    "    side = float(arg)\n",
    "    print_triangle_area(side)\n",
    "```"
   ]
  },
  {
   "cell_type": "markdown",
   "metadata": {
    "slideshow": {
     "slide_type": "slide"
    }
   },
   "source": [
    "\n",
    "Suppose this code is stored in a text file (e.g. 'triangle_surface.py') on your computer it could be run from a terminal (Linux or MacOS) or command prompt (Windows) using the command \n",
    "\n",
    "```bash\n",
    "> python3 triangle_surface.py 3 4 2.21\n",
    "The area of an equilateral triangle with side 3 is 4.5\n",
    "The area of an equilateral triangle with side 4 is 8.0\n",
    "The area of an equilateral triangle with side 2.21 is 2.44\n",
    "```\n",
    "\n",
    "The code for this program, which we usually call a **script**, can be found [here](./scripts/triangle_surface.py).  "
   ]
  },
  {
   "cell_type": "markdown",
   "metadata": {
    "slideshow": {
     "slide_type": "slide"
    }
   },
   "source": [
    "There are some elements that you may not understand yet. For those who cannot proceed without a little premature explanation:  \n",
    "\n",
    "- `import sys` says \"load the functionality located in module `sys` and make it available here\". The functionality that is available by default in any Python program is rather limited to keep it lean. Any additional functionality must be loaded from modules using an **import statement**.\n",
    "- `sys.argv` is the list of arguments entered on the command line, in this case `[\"triangle_surface.py\", \"3\", \"4\", \"2.21\"]`. We'll get to lists in the next chapter. \n",
    "- `for arg in sys.argv[1:]:` this says: \"iterate the command-line arguments but skip the first\". Again, subject of a later chapter."
   ]
  },
  {
   "cell_type": "markdown",
   "metadata": {
    "slideshow": {
     "slide_type": "skip"
    }
   },
   "source": [
    "## Excercises\n",
    "\n",
    "These assume that you already have Python3 installed on your device. Use the Qt console from Anaconda Navigator for these. Alternatively you can use the terminal Python 3 REPL (Read, Evaluate Print Loop) engine by typing `python3` (so without any argument) in the Terminal or Command prompt. Both options provide an interactive Python session we call a REPL (for Read Evaluate Print Loop).  \n",
    "\n",
    "1. First enter `import math` and press enter to load the math module. \n",
    "\n",
    "2. Inspect the value of `math.pi` and try out the function `math.sqrt()`.\n",
    "\n",
    "3. Calculate the following (using `math.pi` and `math.sqrt()` where relevant).  \n",
    "\n",
    "    - $\\frac{4.6 + 1.2}{2.09}$ \n",
    "    - $3\\times4^\\frac{7}{12}$\n",
    "    - $r = 6$ <br />\n",
    "      $\\frac{2}{3}\\times \\pi r^3$  \n",
    "    - $5 \\times (\\frac{4 + 2}{\\sqrt{7} \\times 9})$\n",
    "  \n",
    "4. On your computer, create a folder that will hold the exercises of this course. In it, put a copy of the above script [triangle_surface.py](./scripts/triangle_surface.py). Run the script as demonstrated above. Try out some other command-line arguments.\n",
    "\n",
    "5. Change the script at some points and investigate the effect:\n",
    "    - comment-out (e.g. put a hash symbol `#` in front of it) the `import sys` statement\n",
    "    - change `float(side)` to `int(side)`\n",
    "    - change `sys.argv[1:]` to `sys.argv[2]` and to `sys.argv[2:]`\n",
    "    - use your imagination and experiment further\n"
   ]
  },
  {
   "cell_type": "markdown",
   "metadata": {
    "slideshow": {
     "slide_type": "skip"
    }
   },
   "source": [
    "# Key concepts\n",
    "\n",
    "- **(computer) program**: a computer program is a sequence or set of instructions in a programming language that a computer (or other device) can execute or interpret.\n",
    "- **flow control**: programming elements that control the flow of a program. Flow control elements are used for iteration and conditional execution.\n",
    "- **function**: A function is a chunk of code (usually named) that you can re-use, rather than copying it multiple times. Functions enable programmers to break down a problem into smaller pieces, each of which performs a particular task.\n",
    "- **import**: A statement making functionality available that is not loaded by default.\n",
    "- **Jupyter**: a Notebook platform in which you do interactive _literate programming_. It supports Julia, Python and R.  \n",
    "- **Markdown**: Markdown is a lightweight markup language that you can use to add formatting elements to plaintext text documents. It is used in a wide range of settings: Jupyter Notebooks, R Markdown, eBook authoring etcetera.\n",
    "- **operator**: a symbol that operates on operands, usually on both sides, together forming an expression.\n",
    "- **Python**: a very popular _programming language_, praised for its ease of learning and use and applicability in a wide range of programming challenges.  \n",
    "- **script**: a text file with computer code that can be executed as a program, usually by the _interpreter_ for the programming lanuage used.\n",
    "- **variable**: a program element that couples a name to a memory location with some contents."
   ]
  }
 ],
 "metadata": {
  "celltoolbar": "Slideshow",
  "kernelspec": {
   "display_name": "Python 3 (ipykernel)",
   "language": "python",
   "name": "python3"
  },
  "language_info": {
   "codemirror_mode": {
    "name": "ipython",
    "version": 3
   },
   "file_extension": ".py",
   "mimetype": "text/x-python",
   "name": "python",
   "nbconvert_exporter": "python",
   "pygments_lexer": "ipython3",
   "version": "3.9.12"
  },
  "vscode": {
   "interpreter": {
    "hash": "b0fa6594d8f4cbf19f97940f81e996739fb7646882a419484c72d19e05852a7e"
   }
  }
 },
 "nbformat": 4,
 "nbformat_minor": 2
}
