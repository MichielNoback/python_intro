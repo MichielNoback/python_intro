{
 "cells": [
  {
   "cell_type": "markdown",
   "metadata": {
    "slideshow": {
     "slide_type": "slide"
    }
   },
   "source": [
    "# Data\n",
    "Without data there is not much computing to be done. All programs take data as input (from file, a database, keyboard, a GUI) and most of them also generate data as output.  \n",
    "In essence, there are only a few basic types of data: text and numbers. Data can be aggregated in more complex structures such as collections and objects.\n",
    "\n",
    "In this chapter we'll explore the different base data types of Python, both **scalar** and **collection**.  \n",
    " "
   ]
  },
  {
   "cell_type": "markdown",
   "metadata": {
    "slideshow": {
     "slide_type": "slide"
    }
   },
   "source": [
    "## Scalar types\n",
    "\n",
    "A scalar data type, or just **scalar**, is any non-collection value. Put differently, a scalar is a singular value. There are just a few different scalar values in Python to be found in the vast majority of Python code, and they are the same or at least similar across the vast majority of programming languages.\n",
    "\n",
    "- **Numeric types** represent numbers and they come in two flavours; with and without decimal part. \n",
    "    - integers have no decimal part (`int`) e.g. `2`, `3`, `140000000198`\n",
    "    - floating point numbers do have a decimal part (`float`) e.g. `3.211`, `2.0`, `5E-5`\n",
    "- **Text**: aka string data (`str`) e.g. `\"It's a wonderful world\"` or `'What a challenge!'`\n",
    "- **Logical**: aka boolean (`bool`) with only two possible values: `True` and `False`\n",
    "\n",
    "(I skipped binary and complex types for conciseness)\n"
   ]
  },
  {
   "cell_type": "markdown",
   "metadata": {
    "slideshow": {
     "slide_type": "slide"
    }
   },
   "source": [
    "Since Python is a **dynamically typed language** you do not need to specify its type when creating a variable. However, you can inspect the type by using the `type()` function on any literal or variable. "
   ]
  },
  {
   "cell_type": "code",
   "execution_count": 1,
   "metadata": {
    "slideshow": {
     "slide_type": "fragment"
    }
   },
   "outputs": [
    {
     "name": "stdout",
     "output_type": "stream",
     "text": [
      "<class 'bool'>\n",
      "<class 'str'>\n",
      "<class 'float'>\n"
     ]
    }
   ],
   "source": [
    "print(type(True))\n",
    "\n",
    "m = \"It's a wonderful world\" # You can use single quotes in a double-quoted string, but not double quotes (unless escaped)\n",
    "\n",
    "print(type(m))\n",
    "\n",
    "print(type(5E5)) #exponents are always floats"
   ]
  },
  {
   "cell_type": "markdown",
   "metadata": {
    "slideshow": {
     "slide_type": "slide"
    }
   },
   "source": [
    "Variables can change type when their value changes:"
   ]
  },
  {
   "cell_type": "code",
   "execution_count": 2,
   "metadata": {
    "slideshow": {
     "slide_type": "fragment"
    }
   },
   "outputs": [
    {
     "name": "stdout",
     "output_type": "stream",
     "text": [
      "x is of type <class 'int'> and has value 42\n",
      "x is of type <class 'bool'> and has value True\n"
     ]
    }
   ],
   "source": [
    "x = 42\n",
    "\n",
    "print(f'x is of type {type(x)} and has value {x}')\n",
    "\n",
    "x = True\n",
    "\n",
    "print(f'x is of type {type(x)} and has value {x}')"
   ]
  },
  {
   "cell_type": "markdown",
   "metadata": {
    "slideshow": {
     "slide_type": "slide"
    }
   },
   "source": [
    "You can also explicitly change between types, as long as it is a legal conversion."
   ]
  },
  {
   "cell_type": "code",
   "execution_count": 3,
   "metadata": {
    "slideshow": {
     "slide_type": "fragment"
    }
   },
   "outputs": [
    {
     "name": "stdout",
     "output_type": "stream",
     "text": [
      "42.0\n",
      "42\n",
      "True\n",
      "False\n"
     ]
    }
   ],
   "source": [
    "print(float(\"42.0\"))  # OK\n",
    "#print(int(\"42.0\"))   # fails\n",
    "print(int(\"42\"))      # OK\n",
    "print(bool(\"42.0\"))   # OK - any non-empty string is considered True\n",
    "print(bool(\"\"))       # OK - an empty string is False\n",
    "# print(int(\"\"))      # fails"
   ]
  },
  {
   "cell_type": "markdown",
   "metadata": {
    "slideshow": {
     "slide_type": "slide"
    }
   },
   "source": [
    "When reading from the command-line args (terminal) or from file, your data will always be character data, even though they are numeric. You always need to do the conversion yourself (unless you use dedicated libraries for it). "
   ]
  },
  {
   "cell_type": "markdown",
   "metadata": {
    "slideshow": {
     "slide_type": "slide"
    }
   },
   "source": [
    "### Exercise 2.1\n",
    "Try some conversions yourself.  \n",
    "Figure out why some fail and some do not (sometimes where you expected it), what the result is and what the logic behind the conversion is. Especially conversions to `bool` are interesting and very relevant in `if <condition>:` blocks. "
   ]
  },
  {
   "cell_type": "markdown",
   "metadata": {
    "slideshow": {
     "slide_type": "slide"
    }
   },
   "source": [
    "### Mathematical operators with strings?\n",
    "\n",
    "Yes, some math operators work with string as well, but not all:"
   ]
  },
  {
   "cell_type": "code",
   "execution_count": 4,
   "metadata": {
    "slideshow": {
     "slide_type": "fragment"
    }
   },
   "outputs": [
    {
     "name": "stdout",
     "output_type": "stream",
     "text": [
      "Hello, world!\n",
      "Hello, Hello, \n"
     ]
    },
    {
     "ename": "TypeError",
     "evalue": "can only concatenate str (not \"int\") to str",
     "output_type": "error",
     "traceback": [
      "\u001b[0;31m---------------------------------------------------------------------------\u001b[0m",
      "\u001b[0;31mTypeError\u001b[0m                                 Traceback (most recent call last)",
      "Cell \u001b[0;32mIn[4], line 3\u001b[0m\n\u001b[1;32m      1\u001b[0m \u001b[38;5;28mprint\u001b[39m(\u001b[38;5;124m'\u001b[39m\u001b[38;5;124mHello, \u001b[39m\u001b[38;5;124m'\u001b[39m \u001b[38;5;241m+\u001b[39m \u001b[38;5;124m'\u001b[39m\u001b[38;5;124mworld!\u001b[39m\u001b[38;5;124m'\u001b[39m)\n\u001b[1;32m      2\u001b[0m \u001b[38;5;28mprint\u001b[39m(\u001b[38;5;124m'\u001b[39m\u001b[38;5;124mHello, \u001b[39m\u001b[38;5;124m'\u001b[39m \u001b[38;5;241m*\u001b[39m \u001b[38;5;241m2\u001b[39m)\n\u001b[0;32m----> 3\u001b[0m \u001b[38;5;28mprint\u001b[39m(\u001b[38;5;124;43m'\u001b[39;49m\u001b[38;5;124;43mHello\u001b[39;49m\u001b[38;5;124;43m'\u001b[39;49m\u001b[43m \u001b[49m\u001b[38;5;241;43m+\u001b[39;49m\u001b[43m \u001b[49m\u001b[38;5;241;43m2\u001b[39;49m) \u001b[38;5;66;03m# gives a TypeError\u001b[39;00m\n",
      "\u001b[0;31mTypeError\u001b[0m: can only concatenate str (not \"int\") to str"
     ]
    }
   ],
   "source": [
    "print('Hello, ' + 'world!')\n",
    "print('Hello, ' * 2)\n",
    "print('Hello' + 2) # gives a TypeError"
   ]
  },
  {
   "cell_type": "markdown",
   "metadata": {
    "slideshow": {
     "slide_type": "slide"
    }
   },
   "source": [
    "## Collection types"
   ]
  },
  {
   "cell_type": "markdown",
   "metadata": {
    "slideshow": {
     "slide_type": "skip"
    }
   },
   "source": [
    "Collection types, also named Container types, are exactly what their name implies; they are collections of other types (scalar or collection). The number of collection types in the base language is limited, and there are only a few that are used in the majority of cases; these are listed here. A very important aspect of collections is that they are **iterable**: they can be traversed to inspect or access all individual elements.\n"
   ]
  },
  {
   "cell_type": "markdown",
   "metadata": {
    "slideshow": {
     "slide_type": "slide"
    }
   },
   "source": [
    "\n",
    "- **Sequence types** These all have elements in a specific order and these can be addressed using the position of the element - its **index**.\n",
    "    - **list** In a list, order matters, and that is why you can fetch elements by their position, starting at zero. Lists can change: you can add and delete elements.\n",
    "    - **tuple** The tuple is much like a list, but with a very important distinction: they are **immutable**. Once created they can't change.\n",
    "    - **range** A range is a series of numbers that can be used for iteration of for creating lists or tuples.\n",
    "    - (**str**) Strings behave A LOT like other sequence types!\n",
    "- **set** A set is a collection of unique elements; no duplicates are allowed.\n",
    "- **dict** In a dictionary (in other languages map)there are **entries** where a (**key**) is coupled to a corresponding **value**. So that can be retreived by its key.\n"
   ]
  },
  {
   "cell_type": "markdown",
   "metadata": {
    "slideshow": {
     "slide_type": "skip"
    }
   },
   "source": [
    "\n",
    "Below, common aspects of collections are discussed first. These are **slicing** and accessing methods via the **dot operator** (`object.method()`). Some details of individual collection types are discussed in later sections."
   ]
  },
  {
   "cell_type": "markdown",
   "metadata": {
    "slideshow": {
     "slide_type": "slide"
    }
   },
   "source": [
    "### Slicing\n",
    "A any sequence type can be considered as a street with houses. The house number identifies a house within the street. In Python these addresses start at zero, but unlike house numbers you can also start from the end, with -1:   \n",
    "\n",
    "<code style=\"font-size: x-large; font-weight: bold; color: darkred\">\n",
    " 0  1  2  3  4  5  6  7 \t\n",
    " A  B  C  D  E  F  G  H\n",
    "-8 -7 -6 -5 -4 -3 -2 -1\n",
    "</code>\n",
    "\n",
    "You can access a single house, a range of houses or in a pattern. All this is done using **slicing**. Its general syntax is `[start:stop:step]`.  \n"
   ]
  },
  {
   "cell_type": "markdown",
   "metadata": {
    "slideshow": {
     "slide_type": "skip"
    }
   },
   "source": [
    "The `step` is 1 by default and it is not mandatory, and if `start` or `stop` is omitted this means \"from the beginning (0)\" or \"to the end\".  \n",
    "Note that `stop` is NOT inclusive!  \n",
    "If you try to access an element (character) that does not exist you will get an `IndexError`.    \n",
    "Here are some examples using strings. They work the same in lists and tuples as you will discover."
   ]
  },
  {
   "cell_type": "code",
   "execution_count": null,
   "metadata": {
    "slideshow": {
     "slide_type": "slide"
    }
   },
   "outputs": [],
   "source": [
    "letters = 'ABCDEFGHIJK'\n",
    "\n",
    "print(f'The character(s) selected by letters[0] are {letters[0]}')\n",
    "print(f'The character(s) selected by letters[3] are {letters[3]}')\n",
    "print(f'The character(s) selected by letters[-3] are {letters[-3]}')\n",
    "print(f'The character(s) selected by letters[2:6] are {letters[2:6]}')\n"
   ]
  },
  {
   "cell_type": "code",
   "execution_count": null,
   "metadata": {
    "slideshow": {
     "slide_type": "slide"
    }
   },
   "outputs": [],
   "source": [
    "letters = 'ABCDEFGHIJK'\n",
    "\n",
    "print(f'The character(s) selected by letters[::2] are {letters[::2]}')\n",
    "print(f'The character(s) selected by letters[:] are {letters[:]}')\n",
    "print(f'The character(s) selected by letters[::-2] are {letters[::-2]}')\n",
    "print(f'The character(s) selected by letters[:-5:-2] are {letters[:-5:-2]}')\n"
   ]
  },
  {
   "cell_type": "markdown",
   "metadata": {
    "slideshow": {
     "slide_type": "fragment"
    }
   },
   "source": [
    "As you can see, when the step is negative (last 2 examples), start and stop will be \"reversed\". I don't understand this design decision."
   ]
  },
  {
   "cell_type": "markdown",
   "metadata": {
    "slideshow": {
     "slide_type": "slide"
    }
   },
   "source": [
    "#### Exercise\n",
    "\n",
    "Given the string `txt = 'aA.bB.cC.dD.eE.fF.gG.hH.zZ'`, write code using string slicing to print to screen  \n",
    " \n",
    "- `\"abcdefgz\"`\n",
    "- `\"........\"` \n",
    "- `\"BCDEFGH\"` \n",
    "- `'bC.fG.'`"
   ]
  },
  {
   "cell_type": "code",
   "execution_count": null,
   "metadata": {
    "slideshow": {
     "slide_type": "skip"
    }
   },
   "outputs": [],
   "source": [
    "txt = 'aA.bB.cC.dD.eE.fF.gG.hH.zZ'\n",
    "# YOUR CODE"
   ]
  },
  {
   "cell_type": "markdown",
   "metadata": {
    "slideshow": {
     "slide_type": "slide"
    }
   },
   "source": [
    "### Meet the dot operator and objects\n",
    "\n",
    "So far I have skipped the point that Python is an **Object-Oriented** programming language.  \n",
    "Being object-oriented means the (almost) everything is being modeled as an entity with data and behaviour (e.g. methods) where the objects' **class** holds the _blueprint_ for creating objects (instances) according to that blueprint.  \n"
   ]
  },
  {
   "cell_type": "markdown",
   "metadata": {
    "slideshow": {
     "slide_type": "slide"
    }
   },
   "source": [
    "Let's explore this concept with the string type. In Python, strings have only a single property - their character sequence. They do, however, have many methods.  \n",
    "Properties and methods can borh be accessed on an object using the **dot operator**.  \n",
    "The difference lies in the fact that -unlike properties- methods have parentheses after their name that (optionally) define method arguments.  \n"
   ]
  },
  {
   "cell_type": "markdown",
   "metadata": {
    "slideshow": {
     "slide_type": "skip"
    }
   },
   "source": [
    "\n",
    "Here are some examples of methods on string objects."
   ]
  },
  {
   "cell_type": "code",
   "execution_count": null,
   "metadata": {
    "slideshow": {
     "slide_type": "slide"
    }
   },
   "outputs": [],
   "source": [
    "s1 = \"Hello\"\n",
    "print(s1.upper())      # every character to uppercase\n",
    "\n",
    "print(s1.find(\"ll\"))   # find('str') gives the index where a given substring occurs (or -1 if not present)\n",
    "\n",
    "print(\"Hi I am a programmer\".split(\" \"))    # split on space to get a list of words\n",
    "\n",
    "print(.join(\"ABC\")) # combine individual characters with a separator\n",
    "\n",
    "print(s1.rjust(10))    # right jusitify at 10 characters\n",
    "\n",
    "print(\"foo bar baz\".title())  # make all first letters of words uppercase. Alternatively, call on the class itself: str.title(\"foo bar baz\")"
   ]
  },
  {
   "cell_type": "markdown",
   "metadata": {
    "slideshow": {
     "slide_type": "slide"
    }
   },
   "source": [
    "#### Exercise\n",
    "Given this variable (use your own name!)\n",
    "\n",
    "```python\n",
    "name = 'Michiel Noback'\n",
    "```\n",
    "\n",
    "use any combination of find() and slicing to print only your first name."
   ]
  },
  {
   "cell_type": "code",
   "execution_count": null,
   "metadata": {
    "slideshow": {
     "slide_type": "skip"
    }
   },
   "outputs": [],
   "source": [
    "name = 'Michiel Noback'\n",
    "# your code"
   ]
  },
  {
   "cell_type": "markdown",
   "metadata": {
    "slideshow": {
     "slide_type": "slide"
    }
   },
   "source": [
    "The dot operator works on **all objects** in Python. Of course, the set of available methods differs from type to type; a list for instance does not have `upper()`.  You may be wondering how you can recognize what is an object and what is not? Well, that one is simple: _everything in Python is an object_.  \n",
    "\n",
    "Try it out!  \n",
    "\n",
    "Use the function `type()` again to get the object type of any variable or type. There are (of course) a few exceptions: the reserved **keywords** of the language do not have a type: `and`, `if`, `not`, `for`, etc; type `help(\"keywords\")` or see [Python keywords](https://realpython.com/python-keywords/). Here are some built-in and custom types.   "
   ]
  },
  {
   "cell_type": "code",
   "execution_count": null,
   "metadata": {
    "slideshow": {
     "slide_type": "subslide"
    }
   },
   "outputs": [],
   "source": [
    "print(type(42))\n",
    "print(type(print))\n",
    "print(type(type))\n",
    "\n",
    "#define a custom type\n",
    "class Foo:\n",
    "    pass\n",
    "\n",
    "print(type(Foo()))\n"
   ]
  },
  {
   "cell_type": "markdown",
   "metadata": {
    "slideshow": {
     "slide_type": "slide"
    }
   },
   "source": [
    "### Collection type `list`: []\n",
    "\n",
    "A list is an **ordered mutable sequence of elements**.  \n",
    "\n",
    "**Ordered** means that individual elements can be accessed using their index.  \n",
    "**Mutable** means that lists can be extended, shortened, end elements can be changed (swapped).  \n",
    "\n",
    "As with string objects, slicing is a very important technique for working with them. Accessing elements is done using square brackets `[]`.\n",
    "Here are a few basic operations with lists."
   ]
  },
  {
   "cell_type": "code",
   "execution_count": null,
   "metadata": {
    "slideshow": {
     "slide_type": "subslide"
    }
   },
   "outputs": [],
   "source": [
    "fruits = [\"apple\", \"orange\", \"kiwi\", \"pear\"]\n",
    "fruits += [\"banana\", \"plum\"]       # extend and overwrite\n",
    "print(fruits)\n",
    "fruits[2:5] = [] # delete elements 3 - 5\n",
    "print(fruits)\n",
    "fruits[1:1] = [\"grapefruit\", \"strawberry\"]  # insert new elements\n",
    "print(fruits)\n",
    "# fruits[1] = [\"grapefruit\", \"strawberry\"] gives an embedded list!\n"
   ]
  },
  {
   "cell_type": "markdown",
   "metadata": {
    "slideshow": {
     "slide_type": "slide"
    }
   },
   "source": [
    "#### Exercise\n",
    "\n",
    "Given the list below, investigate whether list slicing behaves the same as with strings."
   ]
  },
  {
   "cell_type": "code",
   "execution_count": null,
   "metadata": {
    "slideshow": {
     "slide_type": "fragment"
    }
   },
   "outputs": [],
   "source": [
    "fruits = [\"apple\", \"orange\", \"kiwi\", \"pear\", \"banana\", \"plum\"]\n",
    "#your code"
   ]
  },
  {
   "cell_type": "markdown",
   "metadata": {
    "slideshow": {
     "slide_type": "slide"
    }
   },
   "source": [
    "#### Multidimensional lists\n",
    "\n",
    "Since you can put any Python data type in a list, it is easy to create a multidimensional list (matrix). \n",
    "\n",
    "```python\n",
    "numbers = [[1, 2], [3, 4], [5, 6]]\n",
    "numbers[1]    # gives [3, 4]\n",
    "numbers[2][1] # gives [6]\n",
    "```\n",
    "\n",
    "Note that Python has dedicated libraries for working with datastructures of this type: Numpy (number crunching) and Pandas (spreadsheet type data)."
   ]
  },
  {
   "cell_type": "markdown",
   "metadata": {
    "slideshow": {
     "slide_type": "slide"
    }
   },
   "source": [
    "#### Methods of type list\n",
    "\n",
    "Class `list` als has an extensive collection of methods to apply to lists. Here are just a few. Also, there is the Python builtin `len()` that will give you the length of any iterable. Again, this is only a glimpse of what is available. *Any* operation you can think of with lists is probably already implemented, if not in the core data types then for sure in Numpy of Pandas.\n"
   ]
  },
  {
   "cell_type": "code",
   "execution_count": null,
   "metadata": {
    "slideshow": {
     "slide_type": "subslide"
    }
   },
   "outputs": [],
   "source": [
    "fruits = [\"apple\", \"orange\", \"kiwi\"] # note the square brackets\n",
    "fruits.append([\"banana\", \"plum\"])    # adds an embedded list\n",
    "fruits.extend([\"guava\", \"cherry\"])    # addes each element separately\n",
    "print(fruits)\n",
    "print(fruits.pop()) # removes and returns last element\n",
    "print(len(fruits))  # len() is one of the built-in functions. See chapter on functions for more info\n",
    "fruits.reverse()\n",
    "print(fruits)"
   ]
  },
  {
   "cell_type": "markdown",
   "metadata": {
    "slideshow": {
     "slide_type": "slide"
    }
   },
   "source": [
    "### Collection type `tuple`: ()\n",
    "\n",
    "A tuple is an **ordered immutable sequence of elements**. \n",
    "\n",
    "**Ordered** means that individual elements can be accessed using their index.  \n",
    "**Immutable** means that tuples cannot be changes once they are created.  "
   ]
  },
  {
   "cell_type": "markdown",
   "metadata": {
    "slideshow": {
     "slide_type": "skip"
    }
   },
   "source": [
    "As with string and list objects, slicing is a very important technique for working with them as long as they are not mutating operations. Accessing elements is done using square brackets `[]`. \n",
    "Tuples are often encountered as return value of a method.\n",
    "Here are a few basic operations with tuples."
   ]
  },
  {
   "cell_type": "code",
   "execution_count": null,
   "metadata": {
    "slideshow": {
     "slide_type": "slide"
    }
   },
   "outputs": [],
   "source": [
    "animals = (\"bear\", \"horse\", \"ant\")  # note the parentheses ()\n",
    "print(animals[:2])                  # OK\n",
    "animals += (\"platypus\", )           # surprisingly, OK \n",
    "#animals += (\"platypus\")            # Gives a TypeError because this is a string surrounded by parentheses\n",
    "#animals[1:2] = ()                  # TypeError because tuples are immutable\n",
    "print(animals)"
   ]
  },
  {
   "cell_type": "markdown",
   "metadata": {
    "slideshow": {
     "slide_type": "slide"
    }
   },
   "source": [
    "You may be puzzled by the above snippet. This is allowed:\n",
    "\n",
    "```python\n",
    "animals += (\"platypus\", )\n",
    "```\n",
    "\n",
    "whereas this is not:\n",
    "\n",
    "```python\n",
    "animals[1:2] = () \n",
    "```\n",
    "\n",
    "Type tuple is immutable, but you _can_ create a _modified copy_, which is exactly what happens in the first example. The second line attempts to delete an element which is not allowed.\n",
    "\n",
    "It is very informative to visualize this kind of stuff in https://pythontutor.com/"
   ]
  },
  {
   "cell_type": "markdown",
   "metadata": {
    "slideshow": {
     "slide_type": "slide"
    }
   },
   "source": [
    "### Collection type `set`: {}\n",
    "\n",
    "A set is a collection type that can only hold unique values.  \n",
    "If a value is added that is already present this will have no effect (the value will be ignored).  \n",
    "If you attempt to add a mutable type (an unhashable element) you get a `TypeError`.  "
   ]
  },
  {
   "cell_type": "markdown",
   "metadata": {
    "slideshow": {
     "slide_type": "skip"
    }
   },
   "source": [
    "They are quite limited in functionality when comppared to other collection types: they are not sliceable or indexable (using brackets `[index]` or `[from:to]`).\n",
    "\n",
    "Below you see the most-used usage scenarios."
   ]
  },
  {
   "cell_type": "code",
   "execution_count": null,
   "metadata": {
    "slideshow": {
     "slide_type": "subslide"
    }
   },
   "outputs": [],
   "source": [
    "animals = set()\n",
    "animals.add(\"deer\") \n",
    "\n",
    "## could also have been created as a literal: \n",
    "# animals = {'deer'}\n",
    "animals.add(\"deer\")\n",
    "animals.add(\"beetle\")\n",
    "\n",
    "print(animals)"
   ]
  },
  {
   "cell_type": "code",
   "execution_count": null,
   "metadata": {
    "slideshow": {
     "slide_type": "subslide"
    }
   },
   "outputs": [],
   "source": [
    "\n",
    "#animals.add([\"gorilla\", \"horse\"]) # TypeError, not immutable/hashable\n",
    "animals.add((\"zebra\", \"armadillo\")) # OK\n",
    "\n",
    "print(animals)\n",
    "\n",
    "animals.remove(\"deer\") # remove an element\n",
    "print(animals)"
   ]
  },
  {
   "cell_type": "markdown",
   "metadata": {
    "slideshow": {
     "slide_type": "slide"
    }
   },
   "source": [
    "#### Why sets (and dicts)?\n",
    "Although any collection in Python supports membership tests, like `element in collection`, sets have several properties that make them extremely useful.\n",
    "\n",
    "- Sets are guaranteed to have unique elements\n",
    "- Element lookup is extremely efficient: O(1) for sets (and dicts) instead of O(n) for lists\n",
    "- Sets support all operations of set theory (see below)\n"
   ]
  },
  {
   "cell_type": "markdown",
   "metadata": {
    "slideshow": {
     "slide_type": "slide"
    }
   },
   "source": [
    "### Set theory operations\n",
    "\n",
    "Given the sets depicted here; set A and B:\n",
    "\n",
    "![sets](./pics/sets.png)\n"
   ]
  },
  {
   "cell_type": "markdown",
   "metadata": {
    "slideshow": {
     "slide_type": "fragment"
    }
   },
   "source": [
    "Where set A contains the elements `{'apple', 'banana', 'kiwi'}` and  \n",
    "set B contains the elements `{'kiwi', 'orange', 'pear'}`\n"
   ]
  },
  {
   "cell_type": "markdown",
   "metadata": {
    "slideshow": {
     "slide_type": "slide"
    }
   },
   "source": [
    "- the **union** of two sets is the set of elements that are in A or in B (`A ∪ B`)\n",
    "- the **intersections** of two sets is the set of elements that are in A and in B (`A ∩ B`)\n",
    "- set A and set B are **disjoint** if they have no elemenst in common.\n",
    "- set B is a **proper subset** of A if all elements of B are also in B but `B ≠ A`\n",
    "- the **symmetric difference** is the complement of the intersection"
   ]
  },
  {
   "cell_type": "code",
   "execution_count": null,
   "metadata": {
    "slideshow": {
     "slide_type": "subslide"
    }
   },
   "outputs": [],
   "source": [
    "A = {'apple', 'banana', 'kiwi'}\n",
    "B = {'kiwi', 'orange', 'pear'}\n",
    "\n",
    "print(A | B)  # union, same as A.union(B)\n",
    "print(A & B)  # intersection, same as A.intersection(B)\n",
    "print(A.isdisjoint(B))\n",
    "print(A in B) # subset\n",
    "print(A ^ B)  # symmetric difference, same as A.symmetric_difference(B)"
   ]
  },
  {
   "cell_type": "markdown",
   "metadata": {
    "slideshow": {
     "slide_type": "slide"
    }
   },
   "source": [
    "### Collection type `dict`: {}\n",
    "\n",
    "The last collection type discussed here is the dict, which is an abbreviation of _dictionary_.  \n",
    "It is used to hold mappings between _keys_ and _values_, much like real dictionaries.  \n",
    "Like sets, the keys of a dict must be immutable types. There are no restrictions for the values. Also like sets, the keys are always unique. The values, however, can contain duplicates.  \n",
    "Dicts cannot be sliced, but finding values is done using `dictionary[key]`.\n"
   ]
  },
  {
   "cell_type": "code",
   "execution_count": null,
   "metadata": {
    "slideshow": {
     "slide_type": "subslide"
    }
   },
   "outputs": [],
   "source": [
    "zoo = {'lion' : 'Carl',\n",
    "      'leopard' : ['Sue', \"Lilith\"],\n",
    "      'rhino' : 'Bobolin'}\n",
    "\n",
    "print(zoo.get(\"leopard\"))\n",
    "\n",
    "if (zoo.get('lion')):       # workst because get() returns None when key is absent, and None evaulates to False\n",
    "    print('we have lions!')\n",
    "\n",
    "# better solution \n",
    "if ('lion' in zoo):\n",
    "    print('we have lions!')\n",
    "\n",
    "print(zoo['rhino'])\n",
    "\n",
    "#print(zoo['giraffe'])     # gives a KeyError\n",
    "print(zoo.get('giraffe'))  # returns None\n"
   ]
  },
  {
   "cell_type": "markdown",
   "metadata": {
    "slideshow": {
     "slide_type": "slide"
    }
   },
   "source": [
    "#### DIY\n",
    "Now take some time to figure out what the `dict` methods `setdefault()` and `getdefault()` are for and how they are used. Try them out!"
   ]
  },
  {
   "cell_type": "markdown",
   "metadata": {
    "slideshow": {
     "slide_type": "slide"
    }
   },
   "source": [
    "### Shared operations of collection types\n",
    "\n",
    "Many operations (operators and methods) are applicable to all or a subset of collection types. Slicing only works on sequence types (list, tuple, string), but not on dict or set. Here are some of the most-used collection operations.\n"
   ]
  },
  {
   "cell_type": "markdown",
   "metadata": {
    "slideshow": {
     "slide_type": "subslide"
    }
   },
   "source": [
    "\n",
    "\n",
    "Operation    | Meaning\n",
    "-------------|---------------------------------\n",
    "x in s       |True if x is an item in or member of s, False otherwise\n",
    "x not in s   | idem, reversed\n",
    "s + t        | the concatenation of s and t\n",
    "s * n, n * s | n shallow copies of s concatenated\n",
    "s\\[i\\]       | i‘th item of s, origin 0\n",
    "s\\[i:j\\]     | slice of s from i to j\n",
    "s\\[i:j:k\\]   | slice of s from i to j with step k\n",
    "len(s)       | length of s\n",
    "min(s)       | smallest item of s\n",
    "max(s)       | largest item of s\n",
    "s.index(i)   | index of the first occurence of i in s\n",
    "s.count(i)   | total number of occurences of i in s\n"
   ]
  },
  {
   "cell_type": "markdown",
   "metadata": {
    "slideshow": {
     "slide_type": "slide"
    }
   },
   "source": [
    "### What do I need to memorize?\n",
    "\n",
    "Do you need to know all these string methods, and methods from other datatypes?  \n",
    "\n",
    "&nbsp;&nbsp;&nbsp;&nbsp;&nbsp;&nbsp;**NO!**\n",
    "\n",
    "You will simply remember the ones you use most without any problem.  \n",
    "For the most part you will need to learn how to quickly find answers to your problems. Here are the resources that are most relevant (in logical order of usage):\n",
    "\n",
    "1. Use the dot operator within your editor. This usually suggests possible methods on an object (or class).\n",
    "2. use `help()` in Jupyter or the Python console, e.g. help(str)\n",
    "3. Use [the python docs](https://docs.python.org/3/), in particular [The Python Standard lLibrary](https://docs.python.org/3/library/index.html)\n",
    "4. GIYF (Google Is Your Friend)\n",
    "5. Ask a colleague/friend/random tech wizard on the street. Possibly preceeded by asking the [debug duck](https://rubberduckdebugging.com/)\n",
    "\n",
    "Also, it may be worth your while to have some cheat sheets copied to your Desktop (fysical or virtual)."
   ]
  },
  {
   "cell_type": "markdown",
   "metadata": {
    "slideshow": {
     "slide_type": "slide"
    }
   },
   "source": [
    "#### Exercise\n",
    "\n",
    "Use the above (sequence of) resources to find out how to ...\n",
    "- print three string variables as one, with a `+` between each string\n",
    "- split a sentence in a list of separate words\n",
    "- get a random number between 1 and 100\n",
    "- round a number to 2 decimals\n"
   ]
  },
  {
   "cell_type": "markdown",
   "metadata": {
    "slideshow": {
     "slide_type": "slide"
    }
   },
   "source": [
    "# Key concepts\n",
    "\n",
    "- **collection**: variable that is composed of multiple values i.e. `list`, `set` etc.\n",
    "- **class**: A blueprint for creating objects of that type. Classes define data and -mainly- behaviour in the form of methods. These methods may be blueprint-scoped (class methods) or instance-scoped (object methods).\n",
    "- **(im)mutable**: Indicates whether the collection can change or not.\n",
    "- **keywords**: The reserved words of the programming language. These include words like `for`, `in`, `not` etc.\n",
    "- **scalar** variable consisting of a single value.\n"
   ]
  }
 ],
 "metadata": {
  "celltoolbar": "Slideshow",
  "kernelspec": {
   "display_name": "Python 3 (ipykernel)",
   "language": "python",
   "name": "python3"
  },
  "language_info": {
   "codemirror_mode": {
    "name": "ipython",
    "version": 3
   },
   "file_extension": ".py",
   "mimetype": "text/x-python",
   "name": "python",
   "nbconvert_exporter": "python",
   "pygments_lexer": "ipython3",
   "version": "3.11.0"
  },
  "vscode": {
   "interpreter": {
    "hash": "b0fa6594d8f4cbf19f97940f81e996739fb7646882a419484c72d19e05852a7e"
   }
  }
 },
 "nbformat": 4,
 "nbformat_minor": 2
}
