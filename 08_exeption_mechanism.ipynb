{
 "cells": [
  {
   "cell_type": "markdown",
   "id": "82cb42e3",
   "metadata": {
    "slideshow": {
     "slide_type": "slide"
    }
   },
   "source": [
    "# 08 The Exeption mechanism"
   ]
  },
  {
   "cell_type": "markdown",
   "id": "6856e8c6",
   "metadata": {
    "slideshow": {
     "slide_type": "skip"
    }
   },
   "source": [
    "## What are exceptions\n",
    "\n",
    "By now you have probably seen quite some errors in you code passing by: Syntax Errors, ValueErrors, IndexErrors etc. The first is something you cannot deal with in your program but the others are called (runtime) exceptions. They indicate that something exceptional has occurred. The Python interpreter is designed in such a way that when this happens you get a **_Traceback_** of the method calls all the way down the **_call stack_**. \n",
    "We will now investigate these concepts in more detail, and als introduce a mechanism that you can use to hook into the flow of exceptions."
   ]
  },
  {
   "cell_type": "markdown",
   "id": "b1561901",
   "metadata": {
    "slideshow": {
     "slide_type": "skip"
    }
   },
   "source": [
    "Consider the code cell below, which has two methods calling each other to form a small call stack."
   ]
  },
  {
   "cell_type": "code",
   "execution_count": 3,
   "id": "e61115b8",
   "metadata": {
    "slideshow": {
     "slide_type": "slide"
    }
   },
   "outputs": [
    {
     "name": "stdout",
     "output_type": "stream",
     "text": [
      "processing data\n",
      "processing person\n",
      "last name=Mutter\n",
      "processing person\n"
     ]
    },
    {
     "ename": "IndexError",
     "evalue": "tuple index out of range",
     "output_type": "error",
     "traceback": [
      "\u001b[0;31m---------------------------------------------------------------------------\u001b[0m",
      "\u001b[0;31mIndexError\u001b[0m                                Traceback (most recent call last)",
      "Cell \u001b[0;32mIn[3], line 11\u001b[0m\n\u001b[1;32m      8\u001b[0m     \u001b[38;5;28mprint\u001b[39m(\u001b[38;5;124mf\u001b[39m\u001b[38;5;124m\"\u001b[39m\u001b[38;5;124mlast name=\u001b[39m\u001b[38;5;132;01m{\u001b[39;00mtup[\u001b[38;5;241m1\u001b[39m]\u001b[38;5;132;01m}\u001b[39;00m\u001b[38;5;124m\"\u001b[39m)\n\u001b[1;32m     10\u001b[0m my_data \u001b[38;5;241m=\u001b[39m [(\u001b[38;5;124m\"\u001b[39m\u001b[38;5;124mMike\u001b[39m\u001b[38;5;124m\"\u001b[39m, \u001b[38;5;124m\"\u001b[39m\u001b[38;5;124mMutter\u001b[39m\u001b[38;5;124m\"\u001b[39m), (\u001b[38;5;124m\"\u001b[39m\u001b[38;5;124mRalph Racker\u001b[39m\u001b[38;5;124m\"\u001b[39m, ), (\u001b[38;5;124m\"\u001b[39m\u001b[38;5;124mLouis\u001b[39m\u001b[38;5;124m\"\u001b[39m, \u001b[38;5;124m\"\u001b[39m\u001b[38;5;124mLevee\u001b[39m\u001b[38;5;124m\"\u001b[39m)]\n\u001b[0;32m---> 11\u001b[0m \u001b[43mprocess_data\u001b[49m\u001b[43m(\u001b[49m\u001b[43mmy_data\u001b[49m\u001b[43m)\u001b[49m\n",
      "Cell \u001b[0;32mIn[3], line 4\u001b[0m, in \u001b[0;36mprocess_data\u001b[0;34m(data)\u001b[0m\n\u001b[1;32m      2\u001b[0m \u001b[38;5;28mprint\u001b[39m(\u001b[38;5;124m\"\u001b[39m\u001b[38;5;124mprocessing data\u001b[39m\u001b[38;5;124m\"\u001b[39m)\n\u001b[1;32m      3\u001b[0m \u001b[38;5;28;01mfor\u001b[39;00m e \u001b[38;5;129;01min\u001b[39;00m data:\n\u001b[0;32m----> 4\u001b[0m     \u001b[43mprocess_person\u001b[49m\u001b[43m(\u001b[49m\u001b[43me\u001b[49m\u001b[43m)\u001b[49m\n",
      "Cell \u001b[0;32mIn[3], line 8\u001b[0m, in \u001b[0;36mprocess_person\u001b[0;34m(tup)\u001b[0m\n\u001b[1;32m      6\u001b[0m \u001b[38;5;28;01mdef\u001b[39;00m \u001b[38;5;21mprocess_person\u001b[39m(tup):\n\u001b[1;32m      7\u001b[0m     \u001b[38;5;28mprint\u001b[39m(\u001b[38;5;124m\"\u001b[39m\u001b[38;5;124mprocessing person\u001b[39m\u001b[38;5;124m\"\u001b[39m)\n\u001b[0;32m----> 8\u001b[0m     \u001b[38;5;28mprint\u001b[39m(\u001b[38;5;124mf\u001b[39m\u001b[38;5;124m\"\u001b[39m\u001b[38;5;124mlast name=\u001b[39m\u001b[38;5;132;01m{\u001b[39;00m\u001b[43mtup\u001b[49m\u001b[43m[\u001b[49m\u001b[38;5;241;43m1\u001b[39;49m\u001b[43m]\u001b[49m\u001b[38;5;132;01m}\u001b[39;00m\u001b[38;5;124m\"\u001b[39m)\n",
      "\u001b[0;31mIndexError\u001b[0m: tuple index out of range"
     ]
    }
   ],
   "source": [
    "def process_data(data):\n",
    "    print(\"processing data\")\n",
    "    for e in data:\n",
    "        process_person(e)\n",
    "\n",
    "def process_person(tup):\n",
    "    print(\"processing person\")\n",
    "    print(f\"last name={tup[1]}\")\n",
    "\n",
    "my_data = [(\"Mike\", \"Mutter\"), (\"Ralph Racker\", ), (\"Louis\", \"Levee\")]\n",
    "process_data(my_data)\n"
   ]
  },
  {
   "cell_type": "markdown",
   "id": "3b070821",
   "metadata": {
    "slideshow": {
     "slide_type": "skip"
    }
   },
   "source": [
    "From the \"global\" context, which is the executing cell in this case (this is rather different when running scripts), method `process_data` is called and from this method `process_person`. everything is going hunky-dory until the `process_person` method tries to access a non-existing tuple element of the second person.  \n",
    "The Python interpreter has a special kind of error to inform you of such events: the `IndexError`."
   ]
  },
  {
   "cell_type": "markdown",
   "id": "dafbb854",
   "metadata": {
    "slideshow": {
     "slide_type": "slide"
    }
   },
   "source": [
    "Because we have no error / exception event handling in place, the error \"falls\" all the way through the call stack until it reaches \"main\". The interpreter then exits execution with a representation of the route to the origin of the error.  \n",
    "Fortunately this traceback is really informative; it gives you in nice highlighted text \n",
    "\n",
    "- The type of error with extra info: `IndexError: tuple index out of range`\n",
    "- The state of the call stack at the moment the error occurred\n",
    "- The origin of the error: `tup[1]`"
   ]
  },
  {
   "cell_type": "markdown",
   "id": "5d8c3c21",
   "metadata": {
    "slideshow": {
     "slide_type": "slide"
    }
   },
   "source": [
    "![](pics/python_traceback.png)"
   ]
  },
  {
   "cell_type": "markdown",
   "id": "33f56659",
   "metadata": {
    "slideshow": {
     "slide_type": "slide"
    }
   },
   "source": [
    "So are we completely helpless in case of such events? No! We have have the tools to hook into the exception mechanism to prevent a crashing program. The basic tool is the try/except block:\n",
    "\n",
    "```python\n",
    "try:\n",
    "    # do something risky\n",
    "except:\n",
    "    # recover from error event\n",
    "```\n"
   ]
  },
  {
   "cell_type": "markdown",
   "id": "82890f60",
   "metadata": {
    "slideshow": {
     "slide_type": "slide"
    }
   },
   "source": [
    "Given our apparently risky method:\n",
    "\n",
    "```python\n",
    "def process_person(tup):\n",
    "    print(\"processing person\")\n",
    "    print(f\"last name={tup[1]}\")\n",
    "```\n",
    "\n",
    "We need to ask ourselves \"Is there a erasonable way to recover from the event where a person has no last name?"
   ]
  },
  {
   "cell_type": "markdown",
   "id": "a05d0177",
   "metadata": {
    "slideshow": {
     "slide_type": "skip"
    }
   },
   "source": [
    "In this case there is one, and it is simply assigning a deafult name in case of absence:\n",
    "\n"
   ]
  },
  {
   "cell_type": "code",
   "execution_count": 4,
   "id": "8774c4d5",
   "metadata": {
    "slideshow": {
     "slide_type": "slide"
    }
   },
   "outputs": [],
   "source": [
    "def process_person(tup):\n",
    "    print(\"processing person\")\n",
    "    try:\n",
    "        last_name = tup[1]\n",
    "    except:\n",
    "        last_name = \"UNKNOWN\"\n",
    "    print(f\"last name={last_name}\")\n",
    "    "
   ]
  },
  {
   "cell_type": "markdown",
   "id": "1154b2bc",
   "metadata": {
    "slideshow": {
     "slide_type": "skip"
    }
   },
   "source": [
    "Now when the same data processing is perfomed we simply have an unknwon person in our collection"
   ]
  },
  {
   "cell_type": "code",
   "execution_count": 5,
   "id": "be785baa",
   "metadata": {
    "slideshow": {
     "slide_type": "slide"
    }
   },
   "outputs": [
    {
     "name": "stdout",
     "output_type": "stream",
     "text": [
      "processing data\n",
      "processing person\n",
      "last name=Mutter\n",
      "processing person\n",
      "last name=UNKNOWN\n",
      "processing person\n",
      "last name=Levee\n"
     ]
    }
   ],
   "source": [
    "my_data = [(\"Mike\", \"Mutter\"), (\"Ralph Racker\", ), (\"Louis\", \"Levee\")]\n",
    "process_data(my_data)"
   ]
  }
 ],
 "metadata": {
  "celltoolbar": "Slideshow",
  "kernelspec": {
   "display_name": "base",
   "language": "python",
   "name": "base"
  },
  "language_info": {
   "codemirror_mode": {
    "name": "ipython",
    "version": 3
   },
   "file_extension": ".py",
   "mimetype": "text/x-python",
   "name": "python",
   "nbconvert_exporter": "python",
   "pygments_lexer": "ipython3",
   "version": "3.9.12"
  }
 },
 "nbformat": 4,
 "nbformat_minor": 5
}
