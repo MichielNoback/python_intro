{
 "cells": [
  {
   "cell_type": "markdown",
   "metadata": {},
   "source": [
    "# Introduction \n",
    "These exercises are meant for you to practice your skills. The sections are numbered according to the chapter numbering so you know where to look for exercises of a particular chapter.  \n",
    "\n",
    "You can deal with the exercises in several ways. The most convenient is to clone or download the entire repository, and work on the notebook on your own machine. You can also download only this notebook, but that will not include all  solutions.    \n",
    "\n",
    "Hints and/or solutions are often included; they can be displayed where it says <span style = \"color:OrangeRed;cursor:pointer;\">\"&#10149; Click to see the solution\"</span> or <span style = \"color:OrangeRed;cursor:pointer;\">\"&#10149; Give me a hint\"</span>. Unfortunately, rendering of these hints is not flawless: they only get displayed correctly in a hosted notebook environment (not in a static viewer such as nbviewer or github).  \n",
    "Give it a try:"
   ]
  },
  {
   "cell_type": "markdown",
   "metadata": {},
   "source": [
    "<details>\n",
    "<summary style = \"color:OrangeRed;cursor:pointer;\">&#10149; Click to see solution!</summary>\n",
    "\n",
    "```python\n",
    "first_name = \"John\"\n",
    "surname = \"Doe\"\n",
    "print(f'good morning, {first_name} {surname}!')\n",
    "```\n",
    "\n",
    "<br>\n",
    "Of course, you should always really try to solve it yourself before going to the easy-peasy zone\n",
    "</details>\n"
   ]
  },
  {
   "cell_type": "markdown",
   "metadata": {},
   "source": [
    "Alternatively, solutions can be loaded from file by uncommenting and running the commented line of code that looks like this: \n",
    "\n",
    "```python\n",
    "# Uncomment the following line to see the solution or code hint\n",
    "# %load ./exercise_solutions/exercise_1_1.py\n",
    "```\n",
    "\n",
    "Give it a try in the cell below."
   ]
  },
  {
   "cell_type": "code",
   "execution_count": null,
   "metadata": {},
   "outputs": [],
   "source": [
    "# Uncomment the following line to see the solution or code hint\n",
    "#%load ./exercise_solutions/exercise_0_0.py"
   ]
  },
  {
   "cell_type": "markdown",
   "metadata": {},
   "source": [
    "## 01 Getting started\n"
   ]
  },
  {
   "cell_type": "markdown",
   "metadata": {},
   "source": [
    "### 01.1 Operator precedence\n",
    "\n",
    "In the code cell below, it was attempted to calculate the surface area of a circle. However, because of [operator precedence](https://www.tutorialspoint.com/python/operators_precedence_example.htm) the outcome is wrong! It should be 12.57. Can you correct this by using parentheses in the calculation? While you are at it, also add some spaces to make the code more readable."
   ]
  },
  {
   "cell_type": "code",
   "execution_count": 6,
   "metadata": {},
   "outputs": [
    {
     "data": {
      "text/plain": [
       "25.132741228718345"
      ]
     },
     "execution_count": 6,
     "metadata": {},
     "output_type": "execute_result"
    }
   ],
   "source": [
    "import math\n",
    "def circle_area(diameter):\n",
    "    return math.pi*1/2*diameter**2\n",
    "\n",
    "circle_area(4)\n"
   ]
  },
  {
   "cell_type": "markdown",
   "metadata": {},
   "source": [
    "<details>\n",
    "  <summary style = \"color:OrangeRed;cursor:pointer;\">&#10149; Click to see solution!</summary>\n",
    "  \n",
    "```python\n",
    "return math.pi * (1/2 * diameter)**2\n",
    "```\n",
    "    \n",
    "</details>"
   ]
  },
  {
   "cell_type": "markdown",
   "metadata": {},
   "source": [
    "### 01.2 Assignment shortcut operators\n",
    "The code cell below is not wrong, but it can be expressed more efficiently by using dedicated [assignment operators](https://www.tutorialspoint.com/python/assignment_operators_example.htm).\n",
    "Can you improve by using these? Although flow control was not dealt with explicitly the code should be pretty obvious (this is one of the strengths of Python)."
   ]
  },
  {
   "cell_type": "code",
   "execution_count": 12,
   "metadata": {},
   "outputs": [
    {
     "name": "stdout",
     "output_type": "stream",
     "text": [
      "i is now 3; the cumulative sum is 4 and the cumulative \"fraction\" is 0.3333333333333333\n",
      "i is now 6; the cumulative sum is 10 and the cumulative \"fraction\" is 0.05555555555555555\n",
      "i is now 10; the cumulative sum is 20 and the cumulative \"fraction\" is 0.005555555555555555\n",
      "i is now 15; the cumulative sum is 35 and the cumulative \"fraction\" is 0.00037037037037037035\n"
     ]
    }
   ],
   "source": [
    "total = 1\n",
    "fraction = 1\n",
    "i = 1\n",
    "for n in range(2, 6):\n",
    "    i = i + n\n",
    "    total = total + i\n",
    "    fraction = fraction / i\n",
    "    print(f'i is now {i}; the cumulative sum is {total} and the cumulative \"fraction\" is {fraction}')\n"
   ]
  },
  {
   "cell_type": "markdown",
   "metadata": {},
   "source": [
    "<details>\n",
    "  <summary style = \"color:OrangeRed;cursor:pointer;\">&#10149; Click to see solution!</summary>\n",
    "  \n",
    "```python\n",
    "i += n\n",
    "total += i\n",
    "fraction /= i\n",
    "```\n",
    "</details>\n"
   ]
  },
  {
   "cell_type": "markdown",
   "metadata": {},
   "source": [
    "### 01.2: The Floor division and Modulo operators\n",
    "\n",
    "The floor division and modulo operators are handy tools if you want to work with currency, weight and distance units.\n",
    "\n",
    "The **modulo operator** `%` gives the _remainder_ of a division: "
   ]
  },
  {
   "cell_type": "code",
   "execution_count": 14,
   "metadata": {},
   "outputs": [
    {
     "name": "stdout",
     "output_type": "stream",
     "text": [
      "1 modulo 3 is 1\n",
      "2 modulo 3 is 2\n",
      "3 modulo 3 is 0\n",
      "4 modulo 3 is 1\n",
      "5 modulo 3 is 2\n"
     ]
    }
   ],
   "source": [
    "for n in range(1,6):\n",
    "    print(f'{n} modulo 3 is {n % 3}')"
   ]
  },
  {
   "cell_type": "markdown",
   "metadata": {},
   "source": [
    "The **floor division** operator `//` gives the integer part of a division:"
   ]
  },
  {
   "cell_type": "code",
   "execution_count": 15,
   "metadata": {},
   "outputs": [
    {
     "name": "stdout",
     "output_type": "stream",
     "text": [
      "1 floor divided by 3 is 0\n",
      "2 floor divided by 3 is 0\n",
      "3 floor divided by 3 is 1\n",
      "4 floor divided by 3 is 1\n",
      "5 floor divided by 3 is 1\n"
     ]
    }
   ],
   "source": [
    "for n in range(1,6):\n",
    "    print(f'{n} floor divided by 3 is {n // 3}')"
   ]
  },
  {
   "cell_type": "markdown",
   "metadata": {},
   "source": [
    "Now, suppose you want to create a tool converting from meters to imperial length units:  \n",
    "\n",
    "- a yard is 0.9144 meters\n",
    "- a foot is 0.3048 meters\n",
    "- an inch is 2.54 centimeters\n",
    "\n",
    "Using the above explained two operators, can you solve this problem? Use the correct _assignment operator_ to store intermediate results."
   ]
  },
  {
   "cell_type": "code",
   "execution_count": 24,
   "metadata": {},
   "outputs": [
    {
     "name": "stdout",
     "output_type": "stream",
     "text": [
      "234 metric meters is equivalent to 255.0 yards, 2.0 feet and 8.598425196850487 inches\n"
     ]
    }
   ],
   "source": [
    "meters = 234\n",
    "yards = 0\n",
    "feet = 0\n",
    "inches = 0\n",
    "\n",
    "# Your code \n",
    "\n",
    "\n",
    "print(f'{meters} metric meters is equivalent to {yards} yards, {feet} feet and {inches} inches')"
   ]
  },
  {
   "cell_type": "markdown",
   "metadata": {},
   "source": [
    "<details>\n",
    "  <summary style = \"color:OrangeRed;cursor:pointer;\">&#10149; Give me a hint!</summary>\n",
    "  \n",
    "```python\n",
    "yards = meters // yard\n",
    "```\n",
    "\n",
    "will calculate the yards from meters\n",
    "</details>\n",
    "\n",
    "<br />\n",
    "\n",
    "<details>\n",
    "  <summary style = \"color:OrangeRed;cursor:pointer;\">&#10149; Give me another hint!</summary>\n",
    "  \n",
    "```python\n",
    "remainder = meters % yard\n",
    "```\n",
    "\n",
    "will calculate what is left after getting the yards.\n",
    "</details>\n",
    "\n",
    "<br />\n",
    "\n",
    "<details>\n",
    "  <summary style = \"color:OrangeRed;cursor:pointer;\">&#10149; Give me the complete solution!</summary>\n",
    "  \n",
    "```python\n",
    "meters = 234\n",
    "yards = 0\n",
    "feet = 0\n",
    "inches = 0\n",
    "\n",
    "# Your code \n",
    "yard = 0.9144\n",
    "foot = 0.3048\n",
    "inch = 2.54/100\n",
    "\n",
    "yards = meters // yard\n",
    "remainder = meters % yard\n",
    "\n",
    "feet = remainder // foot\n",
    "remainder %= foot \n",
    "\n",
    "inches = remainder / inch  # no need to floor here!\n",
    "\n",
    "print(f'{meters} metric meters is equivalent to {yards} yards, {feet} feet and {inches} inches')\n",
    "```\n",
    "</details>\n"
   ]
  },
  {
   "cell_type": "markdown",
   "metadata": {},
   "source": [
    "#### Challenge\n",
    "Can you already take this to the next level and put the solution in a function?"
   ]
  },
  {
   "cell_type": "markdown",
   "metadata": {},
   "source": [
    "## 02 Data types\n",
    "\n"
   ]
  },
  {
   "cell_type": "markdown",
   "metadata": {},
   "source": [
    "### 02.1 sets\n",
    "\n",
    "\n",
    "Create a set named \"fruits_a\" that has the values 'apple', 'pear' and 'banana'. Create a second set, \"fruits_b\", that holds the values 'banana', 'guava' and 'orange'. Find the union, intersection and difference (both ways) between these sets.\n",
    "\n",
    "<details>\n",
    "  <summary style = \"color:OrangeRed;cursor:pointer;\">&#10149; Give me a hint!</summary>\n",
    "  \n",
    "```python\n",
    "help(set)\n",
    "```\n",
    "\n",
    "will calculate the yards from meters\n",
    "</details>\n",
    "\n",
    "Next, study the docs and find out  \n",
    "\n",
    "- how to empty a set\n",
    "- what the difference is between `discard()` and `remove()`\n",
    "- how to find out whether one set is present within another set.\n",
    "\n",
    "Demonstrate all these with code examples.\n"
   ]
  },
  {
   "cell_type": "markdown",
   "metadata": {},
   "source": [
    "### 02.2 dict\n",
    "\n",
    "There are (at least) three ways to create and fill a dict. Use the suggested resources of chapter 1 to find them. Demonstrate these techniques to create a variable named `inventory` holding this dict:  \n",
    "\n",
    "```python  \n",
    "{513: 'hammer', 322: 'screwdriver', 462: 'nailgun'}\n",
    "```\n",
    "\n",
    "<br>\n",
    "\n",
    "<details>\n",
    "  <summary style = \"color:OrangeRed;cursor:pointer;\">&#10149; Give me a hint!</summary>\n",
    "  Use a literal with the format `inventory = {key1: value1, key2: value2}`.\n",
    "    \n",
    "</details>\n",
    "\n",
    "<br />\n",
    "\n",
    "<details>\n",
    "  <summary style = \"color:OrangeRed;cursor:pointer;\">&#10149; Give me another hint!</summary>\n",
    "Create an empty dict, `inventory = dict()` and add individual items like this `inventory[513] = 'hammer'`.\n",
    "</details>\n",
    "\n",
    "<br />\n",
    "\n",
    "<details>\n",
    "  <summary style = \"color:OrangeRed;cursor:pointer;\">&#10149; Give me the complete solution!</summary>\n",
    "  \n",
    "<pre><code>\n",
    "inventory = {513: 'hammer', 322: 'screwdriver', 462: 'nailgun'}\n",
    "print(inventory)\n",
    "\n",
    "inventory = dict()\n",
    "inventory[513] = 'hammer'\n",
    "inventory[322] = 'screwdriver'\n",
    "inventory[462] = 'nailgun'\n",
    "print(inventory)\n",
    "\n",
    "inventory = dict([[513, 'hammer'], [322, 'screwdriver'], [462, 'nailgun']])\n",
    "print(inventory)\n",
    "</code></pre>\n",
    "    \n",
    "This technique uses a list of 2-element-lists passed as argument to the `dict()` function..\n",
    "</details>\n"
   ]
  },
  {
   "cell_type": "markdown",
   "metadata": {},
   "source": [
    "### 02.3 dict\n",
    "\n",
    "There are also several ways to make this block of code work."
   ]
  },
  {
   "cell_type": "code",
   "execution_count": null,
   "metadata": {},
   "outputs": [],
   "source": []
  },
  {
   "cell_type": "markdown",
   "metadata": {},
   "source": [
    "# 03. Flow control"
   ]
  },
  {
   "cell_type": "markdown",
   "metadata": {},
   "source": []
  },
  {
   "cell_type": "markdown",
   "metadata": {},
   "source": [
    "# Functions"
   ]
  },
  {
   "cell_type": "code",
   "execution_count": 12,
   "metadata": {},
   "outputs": [
    {
     "name": "stdout",
     "output_type": "stream",
     "text": [
      "hello\n"
     ]
    }
   ],
   "source": [
    "print(\"hello\")"
   ]
  },
  {
   "cell_type": "markdown",
   "metadata": {},
   "source": [
    "## I/O"
   ]
  },
  {
   "cell_type": "markdown",
   "metadata": {},
   "source": [
    "## Object-Oriented Python"
   ]
  },
  {
   "cell_type": "markdown",
   "metadata": {},
   "source": [
    "## Regex"
   ]
  }
 ],
 "metadata": {
  "kernelspec": {
   "display_name": "Python 3 (ipykernel)",
   "language": "python",
   "name": "python3"
  },
  "language_info": {
   "codemirror_mode": {
    "name": "ipython",
    "version": 3
   },
   "file_extension": ".py",
   "mimetype": "text/x-python",
   "name": "python",
   "nbconvert_exporter": "python",
   "pygments_lexer": "ipython3",
   "version": "3.9.12"
  },
  "vscode": {
   "interpreter": {
    "hash": "b0fa6594d8f4cbf19f97940f81e996739fb7646882a419484c72d19e05852a7e"
   }
  }
 },
 "nbformat": 4,
 "nbformat_minor": 2
}
