{
 "cells": [
  {
   "cell_type": "markdown",
   "id": "29ff7b0b",
   "metadata": {
    "slideshow": {
     "slide_type": "slide"
    }
   },
   "source": [
    "# The core library functions\n",
    "\n",
    "Python ships with a wealth of built-in functions at your disposal.\n",
    "Some are readily available but many should be \"activated\" using an `import` statement.\n",
    "\n",
    "This chapter only deals with a very cursory inspection; your should really bookmark the [docs](https://docs.python.org/3/library/index.html).\n"
   ]
  },
  {
   "cell_type": "markdown",
   "id": "16e2b399",
   "metadata": {
    "slideshow": {
     "slide_type": "slide"
    }
   },
   "source": [
    "## Built-in functions\n",
    "These are the functions you have always at your disposal, without `import` statement. The list is not very long because this keeps the core of Python lean.\n",
    "The complete list can be found in the [doc page on built-ins](https://docs.python.org/3/library/functions.html)\n",
    "\n",
    "The core contains \"constructor functions\" for all built-in datatypes - which we have already seen: `bool()`, `dict()`, `float()`, `int()`, `list()`, `set()`, `str()`, `tuple()` (some were not discussed and will neither be listed here)\n",
    "\n",
    "Also already discussed or demonstrated were `help()`, `input()`, `len()`, `max()`, `min()`, `range()`, `type()`\n",
    "\n",
    "There are some functions related to object-oriented programming (OOP): `getattr()`, `setattr()`, `hasattr()`, `isinstance()`, `issubclass()`, `iter()`, `next()`, `staticmethod()` that will be deiscussed in the chapter on OOP.\n"
   ]
  },
  {
   "cell_type": "markdown",
   "id": "b1925aaa",
   "metadata": {
    "slideshow": {
     "slide_type": "slide"
    }
   },
   "source": [
    "In the listing below only a very short description is given. For a few others a more detailed discussion is provided in the following sections.  \n",
    "\n",
    "- `abs()` gives the absolute value of a number (i.e. removes the minus sign if present).\n",
    "- `dir()` and `vars()` help you inspect the attributes available on a class, object or the current environment.\n",
    "- `sum()` gives the sum of a numeric iterable.\n",
    "- `pow(a, b)` calculates power of a to b (a^4)\n",
    "- `round()` rounds a number to the given number decimal digits (or to the nearest integer of none provided)\n",
    "- `reversed()` gives a reversed _iterator_ of a sequence object. Can be inserted in a list or tuple constructor, or in a iteration control structure.\n",
    "- `zip()` yields n-length tuples, where n is the number of iterables passed as positional arguments to zip().  The i-th element in every tuple comes from the i-th iterable argument to zip().\n"
   ]
  },
  {
   "cell_type": "markdown",
   "id": "92e7fd7e",
   "metadata": {
    "slideshow": {
     "slide_type": "slide"
    }
   },
   "source": [
    "### Get an iteration counter with `enumerate()`\n",
    "\n",
    "Used primarily in `for` loops to get hold of an iteration counter. It is a solution for the `for(int i, i < length(seq), i++){}` structure in other languages. The enumeration is wrapped around an iterable object such as string, list or other collection."
   ]
  },
  {
   "cell_type": "code",
   "execution_count": null,
   "id": "ca6edbdd",
   "metadata": {
    "slideshow": {
     "slide_type": "fragment"
    }
   },
   "outputs": [],
   "source": [
    "for (i, c) in enumerate(\"abcd\"):\n",
    "    print(f'the number {i+1} letter of the alphabet is {c}')\n",
    "\n"
   ]
  },
  {
   "cell_type": "markdown",
   "id": "afbb8246",
   "metadata": {
    "slideshow": {
     "slide_type": "slide"
    }
   },
   "source": [
    "### Read and write files with `open()`\n",
    "\n",
    "The `open()` function gives an iterator of file contents when used in a read-only context. It is often used in conjunction with the `for` loop."
   ]
  },
  {
   "cell_type": "code",
   "execution_count": null,
   "id": "e295c8d2",
   "metadata": {
    "slideshow": {
     "slide_type": "fragment"
    }
   },
   "outputs": [],
   "source": [
    "for line in open(\"data/employees.txt\"):\n",
    "    print(line.strip())\n"
   ]
  },
  {
   "cell_type": "markdown",
   "id": "1d380f99",
   "metadata": {
    "slideshow": {
     "slide_type": "slide"
    }
   },
   "source": [
    "The `open()` function comes with a few more parameters, of which only the mode is inetersting right now. It takes a string inidcating how the file should be opened. The default is `\"rt\"` which means the file is opened in read-only, text mode.\n",
    "When you want to **write to file** these are the options at your disposal:\n",
    "\n",
    "- **`\"x\"`**: **Create** - creates the file but returns an error if the file exists\n",
    "- **`\"a\"`**: **Append** - creates the file if the specified file does not exist and appends to the end\n",
    "- **`\"w\"`**: **Write** - creates the file if the specified file does not exist and overwrites if it does exist\n"
   ]
  },
  {
   "cell_type": "code",
   "execution_count": null,
   "id": "35f5d0cc",
   "metadata": {
    "slideshow": {
     "slide_type": "slide"
    }
   },
   "outputs": [],
   "source": [
    "fruits = [\"kiwi\", \"apple\", \"guava\"]\n",
    "fruits_file = open(\"data/fruits.txt\", \"w\") # overwrite mode!\n",
    "for fruit in fruits:\n",
    "    fruits_file.write(f'this is a fruit: {fruit}\\n') # the \\n adds a newline\n",
    "    \n",
    "fruits_file.close()\n"
   ]
  },
  {
   "cell_type": "markdown",
   "id": "9f33f10d",
   "metadata": {
    "slideshow": {
     "slide_type": "fragment"
    }
   },
   "source": [
    "The file fruits.txt now has this contents, no matter how often the snippet is run:\n",
    "\n",
    "```\n",
    "this is a fruit: kiwi\n",
    "this is a fruit: apple\n",
    "this is a fruit: guava\n",
    "```\n"
   ]
  },
  {
   "cell_type": "markdown",
   "id": "27111671",
   "metadata": {
    "slideshow": {
     "slide_type": "slide"
    }
   },
   "source": [
    "### Converting between characters and ASCII/unicode\n",
    "\n",
    "Below the surface, characters are just numbers. Originally there were only 128 characters that could be encoded using a byte: the ASCII characters:\n",
    "\n",
    "![ASCII codes](pics/ASCII_table.png)"
   ]
  },
  {
   "cell_type": "markdown",
   "id": "0ae6a70c",
   "metadata": {
    "slideshow": {
     "slide_type": "slide"
    }
   },
   "source": [
    "\n",
    "The pair of functions **`chr()`** and **`ord()`** can be used to convert characters to their numeric counterpart and vice versa. For instance,\n",
    "\n",
    "```python\n",
    "print(chr(7))\n",
    "```\n",
    "\n",
    "will sound a 'bell' (but not in Jupyter unfortunately - give it a try in ipython).\n",
    "\n",
    "The distinction between `chr()` and `str()` is: `str()` will give the _string representation_ of a number (or any object for that matter) whereas `chr()` will give the character belonging to a numeric code."
   ]
  },
  {
   "cell_type": "code",
   "execution_count": null,
   "id": "4e6527ce",
   "metadata": {
    "slideshow": {
     "slide_type": "fragment"
    }
   },
   "outputs": [],
   "source": [
    "test = \"Some Text\"\n",
    "ords = []\n",
    "letters = []\n",
    "for letter in test:\n",
    "    print('{:<3} is encoded by {:<3}'.format(letter, ord(letter)))"
   ]
  },
  {
   "cell_type": "markdown",
   "id": "430a963f",
   "metadata": {
    "slideshow": {
     "slide_type": "slide"
    }
   },
   "source": [
    "### Sorting with `sorted()` and `list.sort()`\n",
    "\n",
    "Sorting is quite ubiquitous in programming: give top-5 performing employees, sort countries on average income, sort members on last name, etc.\n",
    "\n",
    "There are two functions available. \n",
    "\n",
    "- The built-in function `sorted()` returns a sorted **_copy of_** the original list \n",
    "- The list method `sort()` performs an in-place sort that modifies the original list\n",
    "\n",
    "Both use _natural ordering_ of text data (alphabetically) and numeric data (ascending) and both provide two customizing parameters: `reverse` and `key`. \n"
   ]
  },
  {
   "cell_type": "code",
   "execution_count": null,
   "id": "2f5be15c",
   "metadata": {
    "slideshow": {
     "slide_type": "slide"
    }
   },
   "outputs": [],
   "source": [
    "fruits = [\"kiwi\", \"apple\", \"guava\"]\n",
    "print(sorted(fruits))\n",
    "print(fruits)        # unchanged!"
   ]
  },
  {
   "cell_type": "code",
   "execution_count": null,
   "id": "aca1e38e",
   "metadata": {
    "slideshow": {
     "slide_type": "fragment"
    }
   },
   "outputs": [],
   "source": [
    "fruits = [\"kiwi\", \"apple\", \"guava\"]\n",
    "fruits.sort()\n",
    "print(fruits)        # modified in-place"
   ]
  },
  {
   "cell_type": "markdown",
   "id": "52a62d2f",
   "metadata": {
    "slideshow": {
     "slide_type": "slide"
    }
   },
   "source": [
    "**Reversed sorting** can be done using the function argument `reverse=True|False`"
   ]
  },
  {
   "cell_type": "code",
   "execution_count": null,
   "id": "d458696e",
   "metadata": {
    "slideshow": {
     "slide_type": "fragment"
    }
   },
   "outputs": [],
   "source": [
    "print(sorted([3, 2, 4, 1])) # default is reverse=False\n",
    "print(sorted([3, 2, 4, 1], reverse=True))"
   ]
  },
  {
   "cell_type": "code",
   "execution_count": null,
   "id": "8f9467f3",
   "metadata": {
    "slideshow": {
     "slide_type": "fragment"
    }
   },
   "outputs": [],
   "source": [
    "numbers = [3, 2, 4, 1]\n",
    "numbers.sort(reverse=True)\n",
    "numbers"
   ]
  },
  {
   "cell_type": "markdown",
   "id": "174c9655",
   "metadata": {
    "slideshow": {
     "slide_type": "slide"
    }
   },
   "source": [
    "#### The `key` parameter\n",
    "\n",
    "This parameter makes it possible to define custom sorting of collection types and objects. It takes as value a function that will return some property of each element to sort on.\n",
    "\n",
    "For instance, suppose you want to sort a list of words on the second character:"
   ]
  },
  {
   "cell_type": "code",
   "execution_count": null,
   "id": "a764939c",
   "metadata": {
    "slideshow": {
     "slide_type": "fragment"
    }
   },
   "outputs": [],
   "source": [
    "def second_character_sorter(word):\n",
    "    return word[1]\n",
    "\n",
    "sorted(fruits, key=second_character_sorter)\n"
   ]
  },
  {
   "cell_type": "markdown",
   "id": "234a0880",
   "metadata": {
    "slideshow": {
     "slide_type": "slide"
    }
   },
   "source": [
    "#### Lambdas  (advanced topic)\n",
    "The `sorted()` parameter `key` is most often used in conjunction with an anonymous type of function called a **lambda**. They are usually defined at the location where they are needed and have the form of\n",
    "\n",
    "```\n",
    "lambda <data>: <return property of data>\n",
    "```\n",
    "\n",
    "The above function could have been written as this lambda:\n",
    "\n",
    "```python\n",
    "key=lambda fruit: fruit[1]\n",
    "```"
   ]
  },
  {
   "cell_type": "code",
   "execution_count": null,
   "id": "22a1c25b",
   "metadata": {
    "slideshow": {
     "slide_type": "fragment"
    }
   },
   "outputs": [],
   "source": [
    "fruits = [\"kiwi\", \"apple\", \"guava\"]\n",
    "\n",
    "sorted(fruits, key=lambda fruit: fruit[1])"
   ]
  },
  {
   "cell_type": "markdown",
   "id": "6aa2a9ad",
   "metadata": {
    "slideshow": {
     "slide_type": "slide"
    }
   },
   "source": [
    "Here is another example, involving a list of dictionaries."
   ]
  },
  {
   "cell_type": "code",
   "execution_count": null,
   "id": "2841bd87",
   "metadata": {
    "slideshow": {
     "slide_type": "fragment"
    }
   },
   "outputs": [],
   "source": [
    "fruits = [\n",
    "    {'name': 'apple', 'color': 'green/red', 'origin': 'Europe'},\n",
    "    {'name': 'kiwi', 'color': 'green', 'origin': 'New Zealand'},\n",
    "    {'name': 'orange', 'color': 'orange', 'origin': 'Europe'},\n",
    "    {'name': 'banana', 'color': 'yellow', 'origin': 'Africa'}]\n",
    "\n",
    "sorted(fruits, key = lambda fruit: fruit['origin'])"
   ]
  },
  {
   "cell_type": "markdown",
   "id": "cf5eb41f",
   "metadata": {
    "slideshow": {
     "slide_type": "slide"
    }
   },
   "source": [
    "#### Multi-key sorting\n",
    "\n",
    "Whenever you need sorting based on multiple properties - e.g. sorting first on family name and then on given name - you can employ the trick of tuple sorting:"
   ]
  },
  {
   "cell_type": "code",
   "execution_count": null,
   "id": "f0313fe8",
   "metadata": {
    "slideshow": {
     "slide_type": "fragment"
    }
   },
   "outputs": [],
   "source": [
    "persons = [{'first': 'Mark', 'last': 'Adams', 'age': 35},\n",
    "           {'first': 'Brad', 'last': 'Young', 'age': 64}, \n",
    "           {'first': 'Rose', 'last': 'Berg', 'age': 51},\n",
    "           {'first': 'Julia', 'last': 'Adams', 'age': 28}]\n",
    "\n",
    "def last_first_sort(person):\n",
    "    return (person['last'], person['first'])  # returns a tuple with last and first name\n",
    "\n",
    "sorted(persons, key = last_first_sort)\n"
   ]
  },
  {
   "cell_type": "markdown",
   "id": "d1d68d66",
   "metadata": {
    "slideshow": {
     "slide_type": "slide"
    }
   },
   "source": [
    "## Using `filter()` and `map()` (optional)\n",
    "\n",
    "These functions are used on collections, to filter the elements in them on some property, or to change each element or to swap them for something else.  \n",
    "\n",
    "Fot example, imagine a cupcake production line. There will be a machine taking in a plate of cupcakes and applying frosting to all of them: it **maps** a cupcake to a frosted cupcake. There will also be a machine taking in a plate of cupcakes, removing the badly formed ones: it **filters** the cupcakes, only letting the good ones pass."
   ]
  },
  {
   "cell_type": "markdown",
   "id": "52dd94a5",
   "metadata": {
    "slideshow": {
     "slide_type": "slide"
    }
   },
   "source": [
    "- **map()** applies a function (e.g. frosting) to all members of a collection, and returns the resulting collection, which is of course the same size as the original\n",
    "- **filter()** applies a function (e.g. scanning bad cupcakes) to all members of a collection, only keeping those members that pass the function (return True)\n",
    "\n",
    "![Map vs Filter](pics/map_filter.png)\n",
    "Here follows an example of a map/filter chain. Note that both map and filter produce iterator objects that you usually need to embed in a collection constructor."
   ]
  },
  {
   "cell_type": "code",
   "execution_count": null,
   "id": "9c256a2b",
   "metadata": {
    "slideshow": {
     "slide_type": "slide"
    }
   },
   "outputs": [],
   "source": [
    "fruits = [\"kiwi\", \"orange\", \"apple\", \"guava\", \"banana\"]\n",
    "\n",
    "def capitalize_name(fruit):\n",
    "    return fruit.capitalize()\n",
    "    \n",
    "list(map(capitalize_name, fruits))\n"
   ]
  },
  {
   "cell_type": "code",
   "execution_count": null,
   "id": "e7bacd72",
   "metadata": {
    "slideshow": {
     "slide_type": "slide"
    }
   },
   "outputs": [],
   "source": [
    "fruits = [\"kiwi\", \"orange\", \"apple\", \"guava\", \"banana\"]\n",
    "\n",
    "def filter_with_an(fruit):\n",
    "    return \"an\" in fruit\n",
    "    \n",
    "list(filter(filter_with_an, fruits))\n"
   ]
  },
  {
   "cell_type": "markdown",
   "id": "65516922",
   "metadata": {
    "slideshow": {
     "slide_type": "fragment"
    }
   },
   "source": [
    "Note that working with these functions is superceded by the use of comprehensions. These are outlined in the next chapter."
   ]
  },
  {
   "cell_type": "markdown",
   "id": "72c7e3d9",
   "metadata": {
    "slideshow": {
     "slide_type": "slide"
    }
   },
   "source": [
    "## Working with modules\n",
    "\n",
    "The core functionality of Python that is available to you once you start coding is rather small. That is because the deveolpers of the language wanted to keep the memory footprint as small as possible. \n",
    "Why load functionality if there is a significant possibility it will not be used? \n",
    "\n",
    "To solve the footprint problem, most functionality in Python is put inside **_modules_**."
   ]
  },
  {
   "cell_type": "markdown",
   "id": "0d3fc120",
   "metadata": {
    "slideshow": {
     "slide_type": "slide"
    }
   },
   "source": [
    "To make use of functionality (or data) within modules you need to **_import_** these. Here is a small example to illustrate:\n"
   ]
  },
  {
   "cell_type": "code",
   "execution_count": 8,
   "id": "855ece6d",
   "metadata": {
    "slideshow": {
     "slide_type": "fragment"
    }
   },
   "outputs": [
    {
     "data": {
      "text/plain": [
       "4.0"
      ]
     },
     "execution_count": 8,
     "metadata": {},
     "output_type": "execute_result"
    }
   ],
   "source": [
    "import math\n",
    "math.sqrt(16)"
   ]
  },
  {
   "cell_type": "markdown",
   "id": "d91ee10d",
   "metadata": {
    "slideshow": {
     "slide_type": "fragment"
    }
   },
   "source": [
    "When you want to access data or functions within a module you need to use the dot operator together with the module name, as in `math.sqrt()`"
   ]
  },
  {
   "cell_type": "markdown",
   "id": "c33d9e8d",
   "metadata": {
    "slideshow": {
     "slide_type": "slide"
    }
   },
   "source": [
    "To prevent having to type the module name all the time you can also specify which attributes of a module you want to import using the `from <module> import <attr>` syntax:"
   ]
  },
  {
   "cell_type": "code",
   "execution_count": 10,
   "id": "40f2c2c9",
   "metadata": {
    "slideshow": {
     "slide_type": "fragment"
    }
   },
   "outputs": [
    {
     "data": {
      "text/plain": [
       "4"
      ]
     },
     "execution_count": 10,
     "metadata": {},
     "output_type": "execute_result"
    }
   ],
   "source": [
    "from math import ceil\n",
    "ceil(3.1222)"
   ]
  },
  {
   "cell_type": "markdown",
   "id": "8c375890",
   "metadata": {
    "slideshow": {
     "slide_type": "fragment"
    }
   },
   "source": [
    "Or, alternatively, use `from <module> import <attr> as <name>` to use a different name than the one specified for/in the module itself:"
   ]
  },
  {
   "cell_type": "code",
   "execution_count": 11,
   "id": "338e45bb",
   "metadata": {},
   "outputs": [
    {
     "data": {
      "text/plain": [
       "3"
      ]
     },
     "execution_count": 11,
     "metadata": {},
     "output_type": "execute_result"
    }
   ],
   "source": [
    "from math import floor as fl\n",
    "fl(3.9999)"
   ]
  },
  {
   "cell_type": "code",
   "execution_count": null,
   "id": "a3ccde64",
   "metadata": {},
   "outputs": [],
   "source": []
  },
  {
   "cell_type": "code",
   "execution_count": 6,
   "id": "7d1f0a67",
   "metadata": {},
   "outputs": [
    {
     "name": "stdout",
     "output_type": "stream",
     "text": [
      "Hello Rob!\n",
      "\n",
      "a simple module\n",
      "\n"
     ]
    }
   ],
   "source": [
    "# the module is defined by file `my_module.py` in folder `scripts`\n",
    "from scripts import my_module\n",
    "my_module.say_hello(\"Rob\")\n",
    "\n",
    "#or\n",
    "# from scripts.my_module import say_hello\n",
    "# say_hello(\"Mike\")\n",
    "\n",
    "#or\n",
    "# from scripts.my_module import *\n",
    "# say_hello(\"Rose\")\n",
    "\n",
    "print(my_module.__doc__)"
   ]
  }
 ],
 "metadata": {
  "celltoolbar": "Slideshow",
  "kernelspec": {
   "display_name": "Python 3 (ipykernel)",
   "language": "python",
   "name": "python3"
  },
  "language_info": {
   "codemirror_mode": {
    "name": "ipython",
    "version": 3
   },
   "file_extension": ".py",
   "mimetype": "text/x-python",
   "name": "python",
   "nbconvert_exporter": "python",
   "pygments_lexer": "ipython3",
   "version": "3.9.13"
  }
 },
 "nbformat": 4,
 "nbformat_minor": 5
}
