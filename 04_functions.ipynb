{
 "cells": [
  {
   "cell_type": "markdown",
   "metadata": {
    "slideshow": {
     "slide_type": "slide"
    }
   },
   "source": [
    "# Functions"
   ]
  },
  {
   "cell_type": "markdown",
   "metadata": {
    "slideshow": {
     "slide_type": "slide"
    }
   },
   "source": [
    "## What are functions\n",
    "\n",
    "A function is a reusable piece of functionality which performs (ideally) a single and well-defined task and handles error-conditions in a graceful manner.  \n",
    "Many functions are already provided by Python itself or one of its many external libraries.\n",
    "\n",
    "Functions themselves usually call one or more functions within the function body.\n",
    "\n",
    "Here is a very simple example:"
   ]
  },
  {
   "cell_type": "code",
   "execution_count": 1,
   "metadata": {
    "slideshow": {
     "slide_type": "fragment"
    }
   },
   "outputs": [
    {
     "name": "stdout",
     "output_type": "stream",
     "text": [
      "what shall I call you? Henk\n",
      "Goodday to you, Henk\n"
     ]
    }
   ],
   "source": [
    "def say_hello():\n",
    "    name = input(\"what shall I call you? \")\n",
    "    print(\"Goodday to you,\", name)\n",
    "\n",
    "say_hello()"
   ]
  },
  {
   "cell_type": "markdown",
   "metadata": {
    "slideshow": {
     "slide_type": "skip"
    }
   },
   "source": [
    "This function asks for the users' name and serves it back with a greeting.\n",
    "It _calls_ two functions itself to perform its task: `input()` which will read input entered using a keyboard on the command line and `print()` which outputs text to that same command-line (also called terminal or console). \n",
    "\n",
    "Actually, this function does not adhere to the definition stated above \"... a single and well-defined task and handles error-conditions in a graceful manner.\" Can you spot the flaw(s) in the function defined above?\n",
    "\n",
    "<br />\n",
    "\n",
    "<details>\n",
    "<summary style=\"color:OrangeRed;cursor:pointer;\">&#10149; Just tell me!</summary>\n",
    "    <blockquote>\n",
    "       <li> There is no check for the user input. What if the user enters an empty line? </li>\n",
    "    </blockquote>\n",
    "</details>\n",
    "\n",
    "These aspects will be discussed in detail later in this chapter."
   ]
  },
  {
   "cell_type": "markdown",
   "metadata": {
    "slideshow": {
     "slide_type": "slide"
    }
   },
   "source": [
    "In this chapter we'll be looking at how to design, implement and call (use) functions. \n",
    "The next chapter deals with an overview of some of the most-used built-in functions of the Python language."
   ]
  },
  {
   "cell_type": "markdown",
   "metadata": {
    "slideshow": {
     "slide_type": "slide"
    }
   },
   "source": [
    "## Creating and using functions\n",
    "\n",
    "Functions must  \n",
    "\n",
    "- start with the keyword `def` \n",
    "- have a legal name (in short: no reserved words or funny characters, and don't start with a number).\n",
    "- have an argument list, but it may be empty: `()`\n",
    "- have a function body starting after a colon, indented one level with respect to the function definition line, and with at the least the keyword `pass` in it.\n",
    "\n",
    "_Naming convention_ for functions state that they should be lowercase (verbs), with words separated by underscores to improve readability.\""
   ]
  },
  {
   "cell_type": "markdown",
   "metadata": {
    "slideshow": {
     "slide_type": "slide"
    }
   },
   "source": [
    "Here is a minimal function that is perfectly legal and perfectly useless:\n",
    "\n",
    "```python\n",
    "def do_nothing():\n",
    "    pass\n",
    "```\n",
    "\n",
    "\n",
    "The indentation level is usually 4 spaces, but must be the same within a single code block (and you are strongly encouraged to be consistent within all your source files). In Python, whitespaces (space, tab and newline characters) are an essential part of the syntax! "
   ]
  },
  {
   "cell_type": "markdown",
   "metadata": {
    "slideshow": {
     "slide_type": "skip"
    }
   },
   "source": [
    "<div class=\"alert alert-block alert-info\">\n",
    "    <img src=\"pics/64px-Simple_Information.png\" style=\"float:left;margin-right:10px;\">\n",
    "    <span style=\"display:block;overflow:hidden;\">\n",
    "        Actually, empty functions are a much-used construct in <strong>test-driven development</strong>, a programming paradigm in which a placeholder function is created first, together with an extensive <strong>test suite</strong> (a set of testing functions assessing the correctness and robustness of a function). Only then the function is iteratively implemented and marked finished when all tests pass. See \n",
    "    <a href=\"https://en.wikipedia.org/wiki/Test-driven_development\">Wikipedia</a>\n",
    "    </span>\n",
    "</div>"
   ]
  },
  {
   "cell_type": "markdown",
   "metadata": {
    "slideshow": {
     "slide_type": "slide"
    }
   },
   "source": [
    "Here are some variations that will NOT run because of a syntax error.  \n",
    "\n",
    "This one gives `IndentationError: expected an indented block` because there is no indentation in the function body:\n",
    "\n",
    "```python\n",
    "def do_nothing():\n",
    "pass\n",
    "```\n"
   ]
  },
  {
   "cell_type": "markdown",
   "metadata": {
    "slideshow": {
     "slide_type": "fragment"
    }
   },
   "source": [
    "\n",
    "This one gives an `IndentationError: unindent does not match any outer indentation level` because the indentation is not the same within the function body:\n",
    "\n",
    "```python\n",
    "def do_nothing():\n",
    "    print(\"one\")\n",
    "  print(\"two\")\n",
    "```"
   ]
  },
  {
   "cell_type": "markdown",
   "metadata": {
    "slideshow": {
     "slide_type": "slide"
    }
   },
   "source": [
    "\n",
    "This one gives a `SyntaxError: invalid syntax` because there is no colon to start the function body:\n",
    "\n",
    "```python\n",
    "def do_nothing()\n",
    "    pass\n",
    "```\n",
    "\n"
   ]
  },
  {
   "cell_type": "markdown",
   "metadata": {
    "slideshow": {
     "slide_type": "fragment"
    }
   },
   "source": [
    "Often, Python will be quite specific in where things go wrong, as in the last example:\n",
    "\n",
    "```\n",
    "  Input In [15]\n",
    "    def do_nothing()\n",
    "                    ^\n",
    "SyntaxError: invalid syntax\n",
    "```"
   ]
  },
  {
   "cell_type": "markdown",
   "metadata": {
    "slideshow": {
     "slide_type": "slide"
    }
   },
   "source": [
    "### A more realistic example"
   ]
  },
  {
   "cell_type": "markdown",
   "metadata": {
    "slideshow": {
     "slide_type": "skip"
    }
   },
   "source": [
    "Now for a more realistic -though still simple- example: calculating distance from speed and time. Note that in the function below the **parameters** have been given names to communicate the units in which they should be passed. Yes this is important! A Mars orbiter crashed in 1999 because of a coding mistake involving different use of measurement units, costing $193 million (see [The seven most expensive Bugs in code history](https://www.zentao.pm/blog/the-seven-most-expensive-bugs-in-code-history-1137.html)). We'll see in a later section in this chapter how to document this as well in a more human-readable manner using docstrings. "
   ]
  },
  {
   "cell_type": "code",
   "execution_count": 4,
   "metadata": {
    "slideshow": {
     "slide_type": "fragment"
    }
   },
   "outputs": [
    {
     "name": "stdout",
     "output_type": "stream",
     "text": [
      "50.0\n",
      "100000.0\n",
      "50.0\n",
      "Calculates the distance in meters given a speed in km/h and\n",
      "    elapsed time in seconds\n"
     ]
    }
   ],
   "source": [
    "def distance_meters(speed_km_h, time_sec):\n",
    "    '''Calculates the distance in meters given a speed in km/h and\n",
    "    elapsed time in seconds'''\n",
    "    return (1000 / 3600) * speed_km_h * time_sec\n",
    "\n",
    "print(distance_meters(36, 5))\n",
    "print(distance_meters(100, (60*60)))                  # one hour\n",
    "print(distance_meters(time_sec = 5, speed_km_h = 36)) # using named arguments"
   ]
  },
  {
   "cell_type": "markdown",
   "metadata": {
    "slideshow": {
     "slide_type": "skip"
    }
   },
   "source": [
    "As you can see in the above example, calling functions is quite flexible. By using **grouping parentheses** you can do some in-place calculations within the **argument list parentheses** (yes they look exactly the same but have very different functions within the code. The only difference is their context.  \n",
    "\n",
    "In the last example above you can see the use of named arguments. When using the parameter names to pass the arguments, the order in which they are passed does not need to match the order of the parameters in the function definition."
   ]
  },
  {
   "cell_type": "markdown",
   "metadata": {
    "slideshow": {
     "slide_type": "slide"
    }
   },
   "source": [
    "<div class=\"alert alert-block alert-info\">\n",
    "    <img src=\"pics/64px-Simple_Information.png\" style=\"float:left;margin-right:10px;\">\n",
    "    <span style=\"display:block;overflow:hidden;\">\n",
    "        <strong>Parameters versus Arguments</strong><br>\n",
    "        A parameter is a variable in a function definition. It is a placeholder and hence does not have a concrete value. An argument is a value passed during function invocation. In a way, arguments fill in the place the parameters have held for them.\n",
    "    </span>\n",
    "</div>"
   ]
  },
  {
   "cell_type": "markdown",
   "metadata": {
    "slideshow": {
     "slide_type": "slide"
    }
   },
   "source": [
    "### You've got to adhere to the contract\n",
    "\n",
    "When a function defines two parameters and no default values, you _must_ provide exactly two values when calling the function. \n",
    "These three invocations fail for that reason.\n",
    "\n",
    "```python\n",
    "distance_meters()\n",
    "distance_meters(1)\n",
    "distance_meters(1, 2, 3)\n",
    "```\n",
    "\n",
    "You will get an error message like this: `TypeError: distance_meters() takes 2 positional arguments but 3 were given\n",
    "`.\n",
    "\n",
    "Of course, if you provide values of a type other than expected you will get an error (if you're lucky), or return values that are very strange and that are hard to debug if you are not so lucky."
   ]
  },
  {
   "cell_type": "markdown",
   "metadata": {
    "slideshow": {
     "slide_type": "slide"
    }
   },
   "source": [
    "### Default values give more flexibility\n",
    "\n",
    "If you can think of a sensible default value for your parameters you can provide these. That way you can make the invocation and execution of your functions much more flexible. \n",
    "\n",
    "There is an important aspect to think about: only provide default values if they make sense, and of course you can provide only one default value so choose the most appropriate ones if you have multiple candidates."
   ]
  },
  {
   "cell_type": "markdown",
   "metadata": {
    "slideshow": {
     "slide_type": "skip"
    }
   },
   "source": [
    "Here is the distance calculating function again, in a slightly modified version. The `time_sec` parameter now has a default value. This means that if this argument is omitted, you do not get an error but instead the function will execute with the default. If you _do_ provide a value for it, this will override the default value. "
   ]
  },
  {
   "cell_type": "code",
   "execution_count": 3,
   "metadata": {
    "slideshow": {
     "slide_type": "slide"
    }
   },
   "outputs": [
    {
     "name": "stdout",
     "output_type": "stream",
     "text": [
      "10.0\n",
      "50.0\n",
      "10.0\n",
      "50.0\n"
     ]
    }
   ],
   "source": [
    "def distance_meters2(speed_km_h, time_sec = 1):\n",
    "    return (1000 / 3600) * speed_km_h * time_sec\n",
    "\n",
    "print(distance_meters2(36))\n",
    "print(distance_meters2(36, 5))\n",
    "print(distance_meters2(speed_km_h = 36))\n",
    "print(distance_meters2(speed_km_h = 36, time_sec = 5))\n",
    "#print(distance_meters2(time_sec = 5)) #TypeError!"
   ]
  },
  {
   "cell_type": "markdown",
   "metadata": {
    "slideshow": {
     "slide_type": "slide"
    }
   },
   "source": [
    "### Functions can only return one thing\n",
    "\n",
    "Functions can only return a single value. If you want to return more than one value, you've got to wrap them inside a collection type or class instance:  \n",
    "\n",
    "- list\n",
    "- tuple\n",
    "- dict\n",
    "- class instance (an object)\n",
    "- a generator function (a special kind of function)\n"
   ]
  },
  {
   "cell_type": "markdown",
   "metadata": {
    "slideshow": {
     "slide_type": "skip"
    }
   },
   "source": [
    "### Communicate intent and details via docstring\n",
    "\n",
    "So far you have seen only simple comments using a single hash `#`. These comments generally serve to communicate something about the code to yourself or maybe to your colleague programmer.  \n",
    "However, if you're successfull there will also be others using your code in the context of an imported library. If you wish to provide them with info on how your functions should be used, you should take some time to write a **pydoc docstring**. A triple-quoted string at the top of your function body will make it available though the `__doc__` attribute and via the `help()` function.\n"
   ]
  },
  {
   "cell_type": "code",
   "execution_count": 4,
   "metadata": {
    "slideshow": {
     "slide_type": "slide"
    }
   },
   "outputs": [],
   "source": [
    "def distance_meters3(speed_km_h, time_sec = 1):\n",
    "    '''\n",
    "    Calculate the distance.\n",
    "    \n",
    "    The distance is calculated in meters, given a speed in km/h and elapsed time in seconds.\n",
    "\n",
    "    Parameters\n",
    "    ----------\n",
    "    speed_km_h : float\n",
    "        The speed in km per hour (km/h)\n",
    "    time_sec : float\n",
    "        Elapsed time, in seconds. Defaults to 1.\n",
    "\n",
    "    Returns\n",
    "    -------\n",
    "    float\n",
    "        Covered distance, in meters \n",
    "    '''\n",
    "    return (1000 / 3600) * speed_km_h * time_sec"
   ]
  },
  {
   "cell_type": "code",
   "execution_count": 5,
   "metadata": {
    "slideshow": {
     "slide_type": "subslide"
    }
   },
   "outputs": [
    {
     "name": "stdout",
     "output_type": "stream",
     "text": [
      "Help on function distance_meters3 in module __main__:\n",
      "\n",
      "distance_meters3(speed_km_h, time_sec=1)\n",
      "    Calculate the distance.\n",
      "    \n",
      "    The distance is calculated in meters, given a speed in km/h and elapsed time in seconds.\n",
      "    \n",
      "    Parameters\n",
      "    ----------\n",
      "    speed_km_h : float\n",
      "        The speed in km per hour (km/h)\n",
      "    time_sec : float\n",
      "        Elapsed time, in seconds. Defaults to 1.\n",
      "    \n",
      "    Returns\n",
      "    -------\n",
      "    float\n",
      "        Covered distance, in meters\n",
      "\n"
     ]
    }
   ],
   "source": [
    "#print(distance_meters3.__doc__) #gives the same info, but without context.\n",
    "help(distance_meters3)"
   ]
  },
  {
   "cell_type": "markdown",
   "metadata": {
    "slideshow": {
     "slide_type": "slide"
    }
   },
   "source": [
    "### Scope and the `global` keyword\n",
    "\n",
    "So far I have avoided the concept of scope. Scope has to do with \"visibility\" of objects from within your code as well as \"write access\".\n",
    "In the snippet below, the function reads a variable from global scope but does not attempt to change it."
   ]
  },
  {
   "cell_type": "code",
   "execution_count": 5,
   "metadata": {
    "slideshow": {
     "slide_type": "slide"
    }
   },
   "outputs": [
    {
     "name": "stdout",
     "output_type": "stream",
     "text": [
      "a has value 12\n",
      "b has value 5\n",
      "c has value 5\n",
      "a has value 12\n"
     ]
    }
   ],
   "source": [
    "a = 12\n",
    "\n",
    "def do_it(b):\n",
    "    c = b\n",
    "    print(f'a has value {a}')\n",
    "    print(f'b has value {b}')\n",
    "    print(f'c has value {c}')\n",
    "\n",
    "do_it(5)\n",
    "print(f'a has value {a}')\n"
   ]
  },
  {
   "cell_type": "markdown",
   "metadata": {
    "slideshow": {
     "slide_type": "slide"
    }
   },
   "source": [
    "No problem here. But now the function attempts to change the value of `a`. We get an `UnboundLocalError: local variable 'a' referenced before assignment` Here, the error message is not as clear as we would possibly like it because it seems as if the variable does not exist (yet)."
   ]
  },
  {
   "cell_type": "code",
   "execution_count": 6,
   "metadata": {
    "slideshow": {
     "slide_type": "slide"
    }
   },
   "outputs": [
    {
     "ename": "UnboundLocalError",
     "evalue": "local variable 'a' referenced before assignment",
     "output_type": "error",
     "traceback": [
      "\u001b[0;31m---------------------------------------------------------------------------\u001b[0m",
      "\u001b[0;31mUnboundLocalError\u001b[0m                         Traceback (most recent call last)",
      "Input \u001b[0;32mIn [6]\u001b[0m, in \u001b[0;36m<cell line: 10>\u001b[0;34m()\u001b[0m\n\u001b[1;32m      7\u001b[0m     \u001b[38;5;28mprint\u001b[39m(\u001b[38;5;124mf\u001b[39m\u001b[38;5;124m'\u001b[39m\u001b[38;5;124mb has value \u001b[39m\u001b[38;5;132;01m{\u001b[39;00mb\u001b[38;5;132;01m}\u001b[39;00m\u001b[38;5;124m'\u001b[39m)\n\u001b[1;32m      8\u001b[0m     \u001b[38;5;28mprint\u001b[39m(\u001b[38;5;124mf\u001b[39m\u001b[38;5;124m'\u001b[39m\u001b[38;5;124mc has value \u001b[39m\u001b[38;5;132;01m{\u001b[39;00mc\u001b[38;5;132;01m}\u001b[39;00m\u001b[38;5;124m'\u001b[39m)\n\u001b[0;32m---> 10\u001b[0m \u001b[43mdo_it\u001b[49m\u001b[43m(\u001b[49m\u001b[38;5;241;43m5\u001b[39;49m\u001b[43m)\u001b[49m\n\u001b[1;32m     11\u001b[0m \u001b[38;5;28mprint\u001b[39m(\u001b[38;5;124mf\u001b[39m\u001b[38;5;124m'\u001b[39m\u001b[38;5;124ma has value \u001b[39m\u001b[38;5;132;01m{\u001b[39;00ma\u001b[38;5;132;01m}\u001b[39;00m\u001b[38;5;124m'\u001b[39m)\n\u001b[1;32m     12\u001b[0m \u001b[38;5;28mprint\u001b[39m(\u001b[38;5;124mf\u001b[39m\u001b[38;5;124m'\u001b[39m\u001b[38;5;124mc has value \u001b[39m\u001b[38;5;132;01m{\u001b[39;00mc\u001b[38;5;132;01m}\u001b[39;00m\u001b[38;5;124m'\u001b[39m)\n",
      "Input \u001b[0;32mIn [6]\u001b[0m, in \u001b[0;36mdo_it\u001b[0;34m(b)\u001b[0m\n\u001b[1;32m      3\u001b[0m \u001b[38;5;28;01mdef\u001b[39;00m \u001b[38;5;21mdo_it\u001b[39m(b):\n\u001b[1;32m      4\u001b[0m     c \u001b[38;5;241m=\u001b[39m b\n\u001b[0;32m----> 5\u001b[0m     a \u001b[38;5;241m+\u001b[39m\u001b[38;5;241m=\u001b[39m \u001b[38;5;241m1\u001b[39m\n\u001b[1;32m      6\u001b[0m     \u001b[38;5;28mprint\u001b[39m(\u001b[38;5;124mf\u001b[39m\u001b[38;5;124m'\u001b[39m\u001b[38;5;124ma has value \u001b[39m\u001b[38;5;132;01m{\u001b[39;00ma\u001b[38;5;132;01m}\u001b[39;00m\u001b[38;5;124m'\u001b[39m)\n\u001b[1;32m      7\u001b[0m     \u001b[38;5;28mprint\u001b[39m(\u001b[38;5;124mf\u001b[39m\u001b[38;5;124m'\u001b[39m\u001b[38;5;124mb has value \u001b[39m\u001b[38;5;132;01m{\u001b[39;00mb\u001b[38;5;132;01m}\u001b[39;00m\u001b[38;5;124m'\u001b[39m)\n",
      "\u001b[0;31mUnboundLocalError\u001b[0m: local variable 'a' referenced before assignment"
     ]
    }
   ],
   "source": [
    "a = 12\n",
    "\n",
    "def do_it(b):\n",
    "    c = b\n",
    "    a += 1\n",
    "    print(f'a has value {a}')\n",
    "    print(f'b has value {b}')\n",
    "    print(f'c has value {c}')\n",
    "\n",
    "do_it(5)\n",
    "print(f'a has value {a}')\n",
    "print(f'c has value {c}')"
   ]
  },
  {
   "cell_type": "markdown",
   "metadata": {
    "slideshow": {
     "slide_type": "slide"
    }
   },
   "source": [
    "To solve this, we need to specify within the function that we are going to access the global variable `a`, using the `global` keyword. This is solved below."
   ]
  },
  {
   "cell_type": "code",
   "execution_count": null,
   "metadata": {
    "slideshow": {
     "slide_type": "fragment"
    }
   },
   "outputs": [],
   "source": [
    "a = 12\n",
    "\n",
    "def do_it(b):\n",
    "    global a\n",
    "    c = b\n",
    "    a += 1\n",
    "    print(f'a has value {a}')\n",
    "    print(f'b has value {b}')\n",
    "    print(f'c has value {c}')\n",
    "\n",
    "do_it(5)\n",
    "print(f'a has value {a}')"
   ]
  },
  {
   "cell_type": "markdown",
   "metadata": {
    "slideshow": {
     "slide_type": "slide"
    }
   },
   "source": [
    "That's OK again. But what if we try to do the reverse - accessing a local variable from the global context? This fails again, unless we make variable `c` global as well.  "
   ]
  },
  {
   "cell_type": "code",
   "execution_count": null,
   "metadata": {
    "slideshow": {
     "slide_type": "fragment"
    }
   },
   "outputs": [],
   "source": [
    "a = 12\n",
    "\n",
    "def do_it(b):\n",
    "    global a\n",
    "    global c\n",
    "    c = b\n",
    "    a += 1\n",
    "    print(f'a has value {a}')\n",
    "    print(f'b has value {b}')\n",
    "    print(f'c has value {c}')\n",
    "\n",
    "do_it(5)\n",
    "print(f'a has value {a}')\n",
    "c += 1\n",
    "print(f'c has value {c}')"
   ]
  },
  {
   "cell_type": "markdown",
   "metadata": {
    "slideshow": {
     "slide_type": "slide"
    }
   },
   "source": [
    "When creating your own scripts you should try to avoid creating (many) global variables and especially to define global variables from a local context, as was done with variable `c` in the above example.\n",
    " "
   ]
  },
  {
   "cell_type": "markdown",
   "metadata": {
    "slideshow": {
     "slide_type": "skip"
    }
   },
   "source": [
    "### Advanced function stuff\n",
    "Functions are also objects and can be created within another function.\n",
    "You can pass (references to) functions around as you can with any object in Python. Moreover, functions can be defined within, and returned from, other functions. Below is an example where the `get_messenger()` function returns either a top-level function (`say_hello_anonymous`) or a **closure**, `say_hello_with_name` that even holds the value of the function variable `name` _after it has been returned from the creating function_.\n",
    "Note that you do _not_ use parentheses when passing a function object!\n",
    "Take a minute to figure out what is happening here. Although it is a rather short piece of code it already shows some advanced Python stuff, as well as not-yet discussed flow control with `if` and `else`."
   ]
  },
  {
   "cell_type": "code",
   "execution_count": 2,
   "metadata": {
    "slideshow": {
     "slide_type": "skip"
    }
   },
   "outputs": [
    {
     "name": "stdout",
     "output_type": "stream",
     "text": [
      "Give me your name please: Mike\n",
      "Howdy, Mike!\n"
     ]
    }
   ],
   "source": [
    "def get_messenger():\n",
    "    name = input('Give me your name please: ')\n",
    "    \n",
    "    # this closure 'encloses' the name variable that is local to this function and \n",
    "    # keeps a reference even though it is returned from within this function context\n",
    "    def say_hello_with_name():\n",
    "        print(f'Howdy, {name}!')\n",
    "\n",
    "    #another enclosed function\n",
    "    def say_hello_anonymous():\n",
    "        print(\"Hello unknown guest\")\n",
    "    \n",
    "    # a non-empty name will evaluate to True\n",
    "    if name.strip():\n",
    "        return say_hello_with_name\n",
    "    else:\n",
    "        return say_hello_anonymous\n",
    "    \n",
    "\n",
    "def use_messenger(messenger):\n",
    "    # the argument to this function is another function!\n",
    "    messenger()\n",
    "    \n",
    "use_messenger(get_messenger())"
   ]
  },
  {
   "cell_type": "markdown",
   "metadata": {
    "slideshow": {
     "slide_type": "slide"
    }
   },
   "source": [
    "### Design and Testing\n",
    "\n",
    "When you embark on serious programming you will be creating many functions along the way. Here are some \"rules\" that may help you create robust, maintainable and extensible programs.\n",
    "\n",
    "1. **Break up the problem into manageable pieces**. When designing an algorithm, first think about which individual steps it involves. Then implement each step as a separate function.\n",
    "2. **Have functions do only one thing**. If your function apparantly does more than one thing, split it up!\n",
    "3. **Create small functions**. If your functions spans more than 30 lines it is probable too big, split it up! If it is indented by more than 3 levels, split it up!\n",
    "4. **Use names that mean something**. Use short but descriptive names. We are way past the era where function names could not be longer than 8 characters.\n",
    "5. **Verify function arguments**. For instance, if you get a negative elapsed time, is it still a good idea to carry on? We'll discuss error handling and Exceptions in a later chapter.\n",
    "6. **Write test code**. Something out of scope for this course, but very important nevertheless. Have a look at [unittest](https://docs.python.org/3/library/unittest.html). \n"
   ]
  },
  {
   "cell_type": "markdown",
   "metadata": {
    "slideshow": {
     "slide_type": "skip"
    }
   },
   "source": [
    "Below is a small example testing the distance calculation function (this test does not work in a notebook environment; run the script at `scripts/unittest_distance_calc.py` from the commandline to try out)\n",
    "\n",
    "```python\n",
    "import unittest\n",
    "\n",
    "def distance_meters4(speed_km_h, time_sec = 1):\n",
    "    return (1000 / 3600) * speed_km_h * time_sec\n",
    "\n",
    "class TestDistanceCalculations(unittest.TestCase):\n",
    "\n",
    "    def test_zero(self):\n",
    "        self.assertAlmostEqual(distance_meters4(4, 0), 0, places = 6)\n",
    "        self.assertAlmostEqual(distance_meters4(4000000, 0), 0, places = 6)\n",
    "        self.assertAlmostEqual(distance_meters4(0, 10000), 0, places = 6)\n",
    "    \n",
    "    def test_normal(self):\n",
    "        self.assertAlmostEqual(distance_meters4(36, 5), 50, places = 6)\n",
    "        self.assertAlmostEqual(distance_meters4(36), 10, places = 6)\n",
    "        \n",
    "if __name__ == '__main__':\n",
    "    unittest.main()\n",
    "```\n",
    "\n",
    "This outputs (on my machine at least):\n",
    "\n",
    "```\n",
    "michiel$ python3 scripts/unittest_distance_calc.py \n",
    "..\n",
    "----------------------------------------------------------------------\n",
    "Ran 2 tests in 0.000s\n",
    "\n",
    "OK\n",
    "```"
   ]
  }
 ],
 "metadata": {
  "celltoolbar": "Slideshow",
  "kernelspec": {
   "display_name": "Python 3 (ipykernel)",
   "language": "python",
   "name": "python3"
  },
  "language_info": {
   "codemirror_mode": {
    "name": "ipython",
    "version": 3
   },
   "file_extension": ".py",
   "mimetype": "text/x-python",
   "name": "python",
   "nbconvert_exporter": "python",
   "pygments_lexer": "ipython3",
   "version": "3.9.12"
  },
  "rise": {
   "height": "90%",
   "width": "90%"
  },
  "vscode": {
   "interpreter": {
    "hash": "b0fa6594d8f4cbf19f97940f81e996739fb7646882a419484c72d19e05852a7e"
   }
  }
 },
 "nbformat": 4,
 "nbformat_minor": 2
}
