{
 "cells": [
  {
   "cell_type": "markdown",
   "id": "c4180b6b",
   "metadata": {
    "slideshow": {
     "slide_type": "slide"
    }
   },
   "source": [
    "# Comprehensions\n"
   ]
  },
  {
   "cell_type": "markdown",
   "id": "6411dda2",
   "metadata": {
    "slideshow": {
     "slide_type": "slide"
    }
   },
   "source": [
    "## filtering and mapping\n",
    "\n",
    "In the previous chapter there was a section on `filter()` and `map()`. These functions represent processes that are present in a majority of data processing activities.\n",
    "\n",
    "For convenience, the concepts are repeated here:  \n",
    "\n",
    "![Map vs Filter](pics/map_filter.png)"
   ]
  },
  {
   "cell_type": "markdown",
   "id": "f62baa9e",
   "metadata": {
    "slideshow": {
     "slide_type": "slide"
    }
   },
   "source": [
    "## What are comprehensions?\n",
    "\n",
    "Comprehensions are shorthand syntactic structures that can be used to generate, filter and map different types of collections:  \n",
    "\n",
    "- **list comprehensions** generate lists using `[]`\n",
    "- **tuple comprehensions** generate tuples using the `tuple()` constructor\n",
    "- **set comprehensions** generate sets using `{}` with single values\n",
    "- **dict comprehensions** generate dictionaries using `{}` with key-value combinations\n",
    "- **generator comprehensions** are used to generate values _on demand_ using `()`\n"
   ]
  },
  {
   "cell_type": "markdown",
   "id": "626ca1e4",
   "metadata": {
    "slideshow": {
     "slide_type": "slide"
    }
   },
   "source": [
    "#### Are these essential to Python programming?\n",
    "\n",
    "Comprehensions have superseded the use of the `map()` and `filter()` functions, and are very popular constructs of the language.  \n",
    "\n",
    "However, some beginning programmers feel awkward using them. So remember, if you feel ill at ease with these, you can always implement any comprehension using regular flow control elements such as `for` and `if` structures, or fall back to the use of `map()` and `filter()`"
   ]
  },
  {
   "cell_type": "markdown",
   "id": "4abf9a26",
   "metadata": {
    "slideshow": {
     "slide_type": "slide"
    }
   },
   "source": [
    "### List comprehensions\n",
    "The most-used type of comprehension is list comprehension, or listcomp in short.\n",
    "\n",
    "Let's implement both examples from the picture using these."
   ]
  },
  {
   "cell_type": "code",
   "execution_count": 10,
   "id": "2ae1b153",
   "metadata": {
    "slideshow": {
     "slide_type": "fragment"
    }
   },
   "outputs": [
    {
     "name": "stdout",
     "output_type": "stream",
     "text": [
      "[81, 1, 25, 16, 64, 9, 4, 1, 16]\n",
      "[1, 4, 3, 2, 1, 4]\n"
     ]
    }
   ],
   "source": [
    "numbers = [9, 1, 5, 4, 8, 3, 2, 1, 4]\n",
    "\n",
    "#map\n",
    "print([x**2 for x in numbers])\n",
    "\n",
    "#filter\n",
    "print([x for x in numbers if x < 5])"
   ]
  },
  {
   "cell_type": "code",
   "execution_count": 9,
   "id": "abe44ccf",
   "metadata": {
    "slideshow": {
     "slide_type": "slide"
    }
   },
   "outputs": [
    {
     "name": "stdout",
     "output_type": "stream",
     "text": [
      "[81, 1, 25, 16, 64, 9, 4, 1, 16]\n",
      "[1, 4, 3, 2, 1, 4]\n"
     ]
    }
   ],
   "source": [
    "# using plain Python\n",
    "\n",
    "#map\n",
    "result = list()\n",
    "for x in numbers:\n",
    "    result.append(x**2)\n",
    "print(result)\n",
    "\n",
    "#filter\n",
    "result = list()\n",
    "for x in numbers:\n",
    "    if x < 5:\n",
    "        result.append(x)\n",
    "print(result)\n"
   ]
  },
  {
   "cell_type": "markdown",
   "id": "8ab01d6d",
   "metadata": {
    "slideshow": {
     "slide_type": "slide"
    }
   },
   "source": [
    "![listcomp anatomy](pics/listcomp_anatomy.png)"
   ]
  },
  {
   "cell_type": "markdown",
   "id": "9a2b03be",
   "metadata": {
    "slideshow": {
     "slide_type": "slide"
    }
   },
   "source": [
    "#### if else shorthand in the mapping\n",
    "\n",
    "The mapping operation itself can also contain flow control using if else shorthand, as in the example below"
   ]
  },
  {
   "cell_type": "code",
   "execution_count": 13,
   "id": "d6f8594e",
   "metadata": {
    "slideshow": {
     "slide_type": "fragment"
    }
   },
   "outputs": [
    {
     "data": {
      "text/plain": [
       "[8, 4, 'aa', 'cc', 12, 2]"
      ]
     },
     "execution_count": 13,
     "metadata": {},
     "output_type": "execute_result"
    }
   ],
   "source": [
    "data = [4, 2, 'a', 'c', 6, True]\n",
    "\n",
    "[x**2 if type(x) == 'int' else x * 2 for x in data]\n"
   ]
  },
  {
   "cell_type": "markdown",
   "id": "cee4dda1",
   "metadata": {
    "slideshow": {
     "slide_type": "slide"
    }
   },
   "source": [
    "#### nested comprehensions\n",
    "\n",
    "Comprehensions can be nested to create complex combinations and datastructures.  \n",
    "Note that when you think the code gets unclear it is time to simplify thigs and switch back to regular flow control."
   ]
  },
  {
   "cell_type": "code",
   "execution_count": 25,
   "id": "97452b8d",
   "metadata": {
    "slideshow": {
     "slide_type": "fragment"
    }
   },
   "outputs": [
    {
     "name": "stdout",
     "output_type": "stream",
     "text": [
      "['3c', '3e', '2c', '2e', '5c', '5e']\n",
      "[[3, 'c'], [3, 'e'], [2, 'c'], [2, 'e'], [5, 'c'], [5, 'e']]\n"
     ]
    }
   ],
   "source": [
    "A = [3, 2, 5]\n",
    "B = ['c', 'e']\n",
    "\n",
    "print([str(a) + b for a in A for b in B])\n",
    "print([[a, b] for a in A for b in B])"
   ]
  },
  {
   "cell_type": "markdown",
   "id": "03005a93",
   "metadata": {
    "slideshow": {
     "slide_type": "slide"
    }
   },
   "source": [
    "### dict comprehensions\n",
    "\n",
    "Dict comprehensions are different because they need to produce key-value pairs in the form of `key: value`."
   ]
  },
  {
   "cell_type": "code",
   "execution_count": 29,
   "id": "ba3201fd",
   "metadata": {
    "slideshow": {
     "slide_type": "fragment"
    }
   },
   "outputs": [
    {
     "data": {
      "text/plain": [
       "{110: 'n',\n",
       " 111: 'o',\n",
       " 112: 'p',\n",
       " 113: 'q',\n",
       " 114: 'r',\n",
       " 115: 's',\n",
       " 116: 't',\n",
       " 117: 'u',\n",
       " 118: 'v',\n",
       " 119: 'w'}"
      ]
     },
     "execution_count": 29,
     "metadata": {},
     "output_type": "execute_result"
    }
   ],
   "source": [
    "\n",
    "{x: chr(x) for x in range(110, 120)}"
   ]
  },
  {
   "cell_type": "markdown",
   "id": "9cb4baf8",
   "metadata": {
    "slideshow": {
     "slide_type": "slide"
    }
   },
   "source": [
    "### Other comprehensions\n",
    "\n",
    "Set comprehensions look a lot like dict comprehensions but they have no key: value pairs.  \n",
    "Tuples are created using the tuple constructor.  \n",
    "Generator expressions generate values that can be used to feed other collections, or iterate the values.  \n",
    "Other that the embracing symbols they work the same as lists."
   ]
  },
  {
   "cell_type": "code",
   "execution_count": 40,
   "id": "031b4285",
   "metadata": {
    "slideshow": {
     "slide_type": "fragment"
    }
   },
   "outputs": [
    {
     "name": "stdout",
     "output_type": "stream",
     "text": [
      "{0, 1}\n",
      "('H', 'A', 'P', 'P', 'Y')\n",
      "<generator object <genexpr> at 0x110ba33c0>\n",
      "frozenset({0, 1})\n"
     ]
    }
   ],
   "source": [
    "#set with {}\n",
    "print({x % 2 for x in range(10)})\n",
    "\n",
    "#tuple with tuple()\n",
    "print(tuple(x.upper() for x in 'happy'))\n",
    "\n",
    "#generator with ()\n",
    "gen = (x % 2 for x in range(10))\n",
    "print(gen)\n",
    "print(frozenset(gen))"
   ]
  }
 ],
 "metadata": {
  "celltoolbar": "Slideshow",
  "kernelspec": {
   "display_name": "Python 3 (ipykernel)",
   "language": "python",
   "name": "python3"
  },
  "language_info": {
   "codemirror_mode": {
    "name": "ipython",
    "version": 3
   },
   "file_extension": ".py",
   "mimetype": "text/x-python",
   "name": "python",
   "nbconvert_exporter": "python",
   "pygments_lexer": "ipython3",
   "version": "3.9.13"
  }
 },
 "nbformat": 4,
 "nbformat_minor": 5
}
