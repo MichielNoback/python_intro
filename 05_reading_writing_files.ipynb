{
 "cells": [
  {
   "cell_type": "markdown",
   "id": "42be6f0b",
   "metadata": {
    "slideshow": {
     "slide_type": "slide"
    }
   },
   "source": [
    "# Files are the main source of data\n",
    "\n",
    "In most data science related scripts and analysis workflows, data will enter via files. To be more precise: via text files.  \n",
    "Fortunately, reading from file is really simple in Python. "
   ]
  },
  {
   "cell_type": "markdown",
   "id": "16514a2b",
   "metadata": {
    "slideshow": {
     "slide_type": "skip"
    }
   },
   "source": [
    "And if you have structured data in the form of csv, tsv, xml or Excel, the Python ecosystem prvides a wealth of dedicated data reading functions. If you are going to work with excel-style data (data organized in rows with examples and variables in columns) a lot, it is recommended to have a look at the Pandas library (we'll have a peek at that at the end of this chapter).\n",
    "In this chapter however we are going to check out the basics of file reading and writing, I/O in short.\n"
   ]
  },
  {
   "cell_type": "markdown",
   "id": "ab67a893",
   "metadata": {
    "slideshow": {
     "slide_type": "slide"
    }
   },
   "source": [
    "Suppose we have some data file named `lengths.csv` which contains the body lengths (in centimeters) of a sample of male and female subjects:\n",
    "\n",
    "```\n",
    "1,m,180\n",
    "2,m,188\n",
    "3,f,178\n",
    "4,f,182\n",
    "5,f,172\n",
    "6,m,189\n",
    "```\n",
    "\n",
    "This file in *csv format* (for Comma-Separated Values) can be found [here](./data/lengths.csv) (at `./data/lengths.csv`)"
   ]
  },
  {
   "cell_type": "markdown",
   "id": "abf795b9",
   "metadata": {
    "slideshow": {
     "slide_type": "slide"
    }
   },
   "source": [
    "To read this data in the most convenient way possible, we can read its contents in one operation:"
   ]
  },
  {
   "cell_type": "code",
   "execution_count": 9,
   "id": "9ee56d94",
   "metadata": {
    "slideshow": {
     "slide_type": "fragment"
    }
   },
   "outputs": [
    {
     "name": "stdout",
     "output_type": "stream",
     "text": [
      "1,m,180\n",
      "2,m,188\n",
      "3,f,178\n",
      "4,f,182\n",
      "5,f,172\n",
      "6,m,189\n",
      "\n"
     ]
    }
   ],
   "source": [
    "file = open(\"data/lengths.csv\", \"r\")\n",
    "data = file.read()\n",
    "print(data)\n"
   ]
  },
  {
   "cell_type": "markdown",
   "id": "77249a6b",
   "metadata": {
    "slideshow": {
     "slide_type": "slide"
    }
   },
   "source": [
    "The statement \n",
    "```python\n",
    "file = open(\"data/lengths.csv\", \"r\")\n",
    "```\n",
    "opens the file in read mode (the second argument is the `mode` argument which defaults to `'r'`, so it could have been omitted). The functions returns a stream, or handle on the file. **Not the actual contents yet**.  \n",
    "\n",
    "Reading the contents happens with the `file.read()` function call."
   ]
  },
  {
   "cell_type": "markdown",
   "id": "3bbd4378",
   "metadata": {
    "slideshow": {
     "slide_type": "slide"
    }
   },
   "source": [
    "## Iterating contents\n",
    "\n",
    "Usually you want to iterate over file contents line by line without the need to store it all in memry as-is. This is done by applying the for-loop on the file stream:"
   ]
  },
  {
   "cell_type": "code",
   "execution_count": 2,
   "id": "426c0db5",
   "metadata": {
    "slideshow": {
     "slide_type": "fragment"
    }
   },
   "outputs": [
    {
     "name": "stdout",
     "output_type": "stream",
     "text": [
      "['1', 'm', '180']\n",
      "['2', 'm', '188']\n",
      "['3', 'f', '178']\n",
      "['4', 'f', '182']\n",
      "['5', 'f', '172']\n",
      "['6', 'm', '189']\n"
     ]
    }
   ],
   "source": [
    "file = open(\"data/lengths.csv\", \"r\")\n",
    "for line in file:\n",
    "    print(line.strip().split(',')) # of course you want to split the data to separate values"
   ]
  },
  {
   "cell_type": "markdown",
   "id": "8e2bc95c",
   "metadata": {
    "slideshow": {
     "slide_type": "skip"
    }
   },
   "source": [
    "The file stream object returned by the `open()` function supports iteration. Note that line endings are data in the file and are included when reading the lines. To remove any leading and trailing whitespaces we use the `strip()` function.  \n",
    "To only remove whitespace characters at the end, use `rstrip()` with an optional argument specifying which characters to strip off."
   ]
  },
  {
   "cell_type": "markdown",
   "id": "845e24c0",
   "metadata": {
    "slideshow": {
     "slide_type": "slide"
    }
   },
   "source": [
    "## Closing files\n",
    "It is good custom to close streams to files that you open. In read mode this is not essential, but in write mode it is. You do this using the `close()` method. The above fragment is better like this:"
   ]
  },
  {
   "cell_type": "code",
   "execution_count": 21,
   "id": "fdd15413",
   "metadata": {
    "slideshow": {
     "slide_type": "fragment"
    }
   },
   "outputs": [
    {
     "name": "stdout",
     "output_type": "stream",
     "text": [
      "1,m,180\n",
      "2,m,188\n",
      "3,f,178\n",
      "4,f,182\n",
      "5,f,172\n",
      "6,m,189\n"
     ]
    }
   ],
   "source": [
    "file = open(\"data/lengths.csv\", \"r\")\n",
    "for line in file:\n",
    "    print(line.strip())\n",
    "file.close()            # explicitly closing resources is always a good idea"
   ]
  },
  {
   "cell_type": "markdown",
   "id": "72c924a1",
   "metadata": {
    "slideshow": {
     "slide_type": "slide"
    }
   },
   "source": [
    "## The best way: using `with`\n",
    "\n",
    "Since programmers forgot to close their files all the time, the \"with open\" syntax was introduced. If you simply always use this form you will never go wrong."
   ]
  },
  {
   "cell_type": "code",
   "execution_count": 24,
   "id": "d7f6d2ac",
   "metadata": {
    "slideshow": {
     "slide_type": "fragment"
    }
   },
   "outputs": [
    {
     "name": "stdout",
     "output_type": "stream",
     "text": [
      "1,m,180\n",
      "2,m,188\n",
      "3,f,178\n",
      "4,f,182\n",
      "5,f,172\n",
      "6,m,189\n"
     ]
    }
   ],
   "source": [
    "with open(\"data/lengths.csv\", \"r\") as file:\n",
    "    for line in file:\n",
    "        print(line.strip())\n",
    "# no need to close since that is assured by using with"
   ]
  },
  {
   "cell_type": "markdown",
   "id": "0c937b57",
   "metadata": {
    "slideshow": {
     "slide_type": "slide"
    }
   },
   "source": [
    "## Writing to file\n",
    "\n",
    "To open a stream for writing you need to set the mode to one of these:  \n",
    "\n",
    "- \"w\" (open for writing, truncating the file first) \n",
    "- \"a\" (open for writing, appending to the end of the file if it exists).\n",
    "\n",
    "When writing to file, using the `with` syntax is the best way."
   ]
  },
  {
   "cell_type": "code",
   "execution_count": 32,
   "id": "d4366959",
   "metadata": {
    "slideshow": {
     "slide_type": "slide"
    }
   },
   "outputs": [],
   "source": [
    "my_data = [\"Better safe\\n\", \"then sorry\\n\"] #note the newlines already present!\n",
    "\n",
    "with open(\"data/saying.txt\", \"w\") as sayings:\n",
    "    for l in my_data:\n",
    "        sayings.write(l)\n",
    "\n",
    "#or, in one operatition\n",
    "#with open(\"data/saying.txt\", \"w\") as sayings:\n",
    "#    sayings.writelines(my_data)"
   ]
  },
  {
   "cell_type": "markdown",
   "id": "67e0db76",
   "metadata": {
    "slideshow": {
     "slide_type": "fragment"
    }
   },
   "source": [
    "Both operations will result in a file with these contents:\n",
    "\n",
    "```\n",
    "Better safe\n",
    "then sorry\n",
    "```\n",
    "\n",
    "And no matter how often the code is run, the same file will be created.\n",
    "If the mode `\"a\"` had been used, the saying would be added to the file every time the code was run."
   ]
  }
 ],
 "metadata": {
  "celltoolbar": "Slideshow",
  "kernelspec": {
   "display_name": "Python 3 (ipykernel)",
   "language": "python",
   "name": "python3"
  },
  "language_info": {
   "codemirror_mode": {
    "name": "ipython",
    "version": 3
   },
   "file_extension": ".py",
   "mimetype": "text/x-python",
   "name": "python",
   "nbconvert_exporter": "python",
   "pygments_lexer": "ipython3",
   "version": "3.9.12"
  }
 },
 "nbformat": 4,
 "nbformat_minor": 5
}
