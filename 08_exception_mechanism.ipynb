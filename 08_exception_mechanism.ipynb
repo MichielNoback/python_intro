{
 "cells": [
  {
   "cell_type": "markdown",
   "id": "82cb42e3",
   "metadata": {
    "slideshow": {
     "slide_type": "slide"
    }
   },
   "source": [
    "# The exception mechanism"
   ]
  },
  {
   "cell_type": "markdown",
   "id": "b4e02660",
   "metadata": {
    "slideshow": {
     "slide_type": "skip"
    }
   },
   "source": [
    "## What are exceptions\n",
    "\n",
    "By now you have probably seen quite some errors in you code passing by: Syntax Errors, ValueErrors, IndexErrors etc. The first is something you cannot deal with in your program but the others are called (runtime) exceptions. They indicate that something exceptional has occurred. The Python interpreter is designed in such a way that when this happens you get a **_Traceback_** of the method calls all the way down the **_call stack_**. \n",
    "We will now investigate these concepts in more detail, and als introduce a mechanism that you can use to hook into the flow of exceptions."
   ]
  },
  {
   "cell_type": "markdown",
   "id": "a5bb7ea5",
   "metadata": {
    "slideshow": {
     "slide_type": "skip"
    }
   },
   "source": [
    "Consider the code cell below, which has two methods calling each other to form a small call stack."
   ]
  },
  {
   "cell_type": "code",
   "execution_count": 3,
   "id": "2035c543",
   "metadata": {
    "slideshow": {
     "slide_type": "slide"
    }
   },
   "outputs": [
    {
     "name": "stdout",
     "output_type": "stream",
     "text": [
      "processing data\n",
      "processing person\n",
      "last name=Mutter\n",
      "processing person\n"
     ]
    },
    {
     "ename": "IndexError",
     "evalue": "tuple index out of range",
     "output_type": "error",
     "traceback": [
      "\u001b[0;31m---------------------------------------------------------------------------\u001b[0m",
      "\u001b[0;31mIndexError\u001b[0m                                Traceback (most recent call last)",
      "Cell \u001b[0;32mIn[3], line 11\u001b[0m\n\u001b[1;32m      8\u001b[0m     \u001b[38;5;28mprint\u001b[39m(\u001b[38;5;124mf\u001b[39m\u001b[38;5;124m\"\u001b[39m\u001b[38;5;124mlast name=\u001b[39m\u001b[38;5;132;01m{\u001b[39;00mtup[\u001b[38;5;241m1\u001b[39m]\u001b[38;5;132;01m}\u001b[39;00m\u001b[38;5;124m\"\u001b[39m)\n\u001b[1;32m     10\u001b[0m my_data \u001b[38;5;241m=\u001b[39m [(\u001b[38;5;124m\"\u001b[39m\u001b[38;5;124mMike\u001b[39m\u001b[38;5;124m\"\u001b[39m, \u001b[38;5;124m\"\u001b[39m\u001b[38;5;124mMutter\u001b[39m\u001b[38;5;124m\"\u001b[39m), (\u001b[38;5;124m\"\u001b[39m\u001b[38;5;124mRalph Racker\u001b[39m\u001b[38;5;124m\"\u001b[39m, ), (\u001b[38;5;124m\"\u001b[39m\u001b[38;5;124mLouis\u001b[39m\u001b[38;5;124m\"\u001b[39m, \u001b[38;5;124m\"\u001b[39m\u001b[38;5;124mLevee\u001b[39m\u001b[38;5;124m\"\u001b[39m)]\n\u001b[0;32m---> 11\u001b[0m \u001b[43mprocess_data\u001b[49m\u001b[43m(\u001b[49m\u001b[43mmy_data\u001b[49m\u001b[43m)\u001b[49m\n",
      "Cell \u001b[0;32mIn[3], line 4\u001b[0m, in \u001b[0;36mprocess_data\u001b[0;34m(data)\u001b[0m\n\u001b[1;32m      2\u001b[0m \u001b[38;5;28mprint\u001b[39m(\u001b[38;5;124m\"\u001b[39m\u001b[38;5;124mprocessing data\u001b[39m\u001b[38;5;124m\"\u001b[39m)\n\u001b[1;32m      3\u001b[0m \u001b[38;5;28;01mfor\u001b[39;00m e \u001b[38;5;129;01min\u001b[39;00m data:\n\u001b[0;32m----> 4\u001b[0m     \u001b[43mprocess_person\u001b[49m\u001b[43m(\u001b[49m\u001b[43me\u001b[49m\u001b[43m)\u001b[49m\n",
      "Cell \u001b[0;32mIn[3], line 8\u001b[0m, in \u001b[0;36mprocess_person\u001b[0;34m(tup)\u001b[0m\n\u001b[1;32m      6\u001b[0m \u001b[38;5;28;01mdef\u001b[39;00m \u001b[38;5;21mprocess_person\u001b[39m(tup):\n\u001b[1;32m      7\u001b[0m     \u001b[38;5;28mprint\u001b[39m(\u001b[38;5;124m\"\u001b[39m\u001b[38;5;124mprocessing person\u001b[39m\u001b[38;5;124m\"\u001b[39m)\n\u001b[0;32m----> 8\u001b[0m     \u001b[38;5;28mprint\u001b[39m(\u001b[38;5;124mf\u001b[39m\u001b[38;5;124m\"\u001b[39m\u001b[38;5;124mlast name=\u001b[39m\u001b[38;5;132;01m{\u001b[39;00m\u001b[43mtup\u001b[49m\u001b[43m[\u001b[49m\u001b[38;5;241;43m1\u001b[39;49m\u001b[43m]\u001b[49m\u001b[38;5;132;01m}\u001b[39;00m\u001b[38;5;124m\"\u001b[39m)\n",
      "\u001b[0;31mIndexError\u001b[0m: tuple index out of range"
     ]
    }
   ],
   "source": [
    "def process_data(data):\n",
    "    print(\"processing data\")\n",
    "    for e in data:\n",
    "        process_person(e)\n",
    "\n",
    "def process_person(tup):\n",
    "    print(\"processing person\")\n",
    "    print(f\"last name={tup[1]}\")\n",
    "\n",
    "my_data = [(\"Mike\", \"Mutter\"), (\"Ralph Racker\", ), (\"Louis\", \"Levee\")]\n",
    "process_data(my_data)\n"
   ]
  },
  {
   "cell_type": "markdown",
   "id": "0487e3be",
   "metadata": {
    "slideshow": {
     "slide_type": "skip"
    }
   },
   "source": [
    "From the \"global\" context, which is the executing cell in this case (this is rather different when running scripts), method `process_data` is called and from this method `process_person`. everything is going hunky-dory until the `process_person` method tries to access a non-existing tuple element of the second person.  \n",
    "The Python interpreter has a special kind of error to inform you of such events: the `IndexError`."
   ]
  },
  {
   "cell_type": "markdown",
   "id": "1501afef",
   "metadata": {
    "slideshow": {
     "slide_type": "slide"
    }
   },
   "source": [
    "Because we have no error / exception event handling in place, the error \"falls\" all the way through the call stack until it reaches \"main\". The interpreter then exits execution with a representation of the route to the origin of the error.  \n",
    "Fortunately this traceback is really informative; it gives you in nice highlighted text \n",
    "\n",
    "- The type of error with extra info: `IndexError: tuple index out of range`\n",
    "- The state of the call stack at the moment the error occurred\n",
    "- The origin of the error: `tup[1]`"
   ]
  },
  {
   "cell_type": "markdown",
   "id": "6c1ee6c2",
   "metadata": {
    "slideshow": {
     "slide_type": "slide"
    }
   },
   "source": [
    "![](pics/python_traceback.png)"
   ]
  },
  {
   "cell_type": "markdown",
   "id": "492d522b",
   "metadata": {},
   "source": [
    "## Catching exceptions"
   ]
  },
  {
   "cell_type": "markdown",
   "id": "eb248afb",
   "metadata": {
    "slideshow": {
     "slide_type": "slide"
    }
   },
   "source": [
    "So are we completely helpless in case of such events? No! We have have the tools to hook into the exception mechanism to prevent a crashing program. The basic tool is the try/except block:\n",
    "\n",
    "```python\n",
    "try:\n",
    "    # do something risky\n",
    "except:\n",
    "    # recover from error event\n",
    "```\n"
   ]
  },
  {
   "cell_type": "markdown",
   "id": "90bafc49",
   "metadata": {
    "slideshow": {
     "slide_type": "slide"
    }
   },
   "source": [
    "Given our apparently risky method:\n",
    "\n",
    "```python\n",
    "def process_person(tup):\n",
    "    print(\"processing person\")\n",
    "    print(f\"last name={tup[1]}\")\n",
    "```\n",
    "\n",
    "We need to ask ourselves \"Is there a erasonable way to recover from the event where a person has no last name?"
   ]
  },
  {
   "cell_type": "markdown",
   "id": "742e5f94",
   "metadata": {
    "slideshow": {
     "slide_type": "skip"
    }
   },
   "source": [
    "In this case there is one, and it is simply assigning a deafult name in case of absence:\n",
    "\n"
   ]
  },
  {
   "cell_type": "code",
   "execution_count": 4,
   "id": "ba327615",
   "metadata": {
    "slideshow": {
     "slide_type": "slide"
    }
   },
   "outputs": [],
   "source": [
    "def process_person(tup):\n",
    "    print(\"processing person\")\n",
    "    try:\n",
    "        last_name = tup[1]\n",
    "    except:\n",
    "        last_name = \"UNKNOWN\"\n",
    "    print(f\"last name={last_name}\")\n",
    "    "
   ]
  },
  {
   "cell_type": "markdown",
   "id": "b1c14a40",
   "metadata": {
    "slideshow": {
     "slide_type": "skip"
    }
   },
   "source": [
    "Now when the same data processing is performed we simply have an unknwon person in our collection"
   ]
  },
  {
   "cell_type": "code",
   "execution_count": 6,
   "id": "e5d528c2",
   "metadata": {
    "slideshow": {
     "slide_type": "slide"
    }
   },
   "outputs": [
    {
     "name": "stdout",
     "output_type": "stream",
     "text": [
      "processing data\n",
      "processing person\n",
      "last name=Mutter\n",
      "processing person\n",
      "last name=UNKNOWN\n",
      "processing person\n",
      "last name=Levee\n"
     ]
    }
   ],
   "source": [
    "my_data = [(\"Mike\", \"Mutter\"), (\"Ralph Racker\", ), (\"Louis\", \"Levee\")]\n",
    "process_data(my_data)"
   ]
  },
  {
   "cell_type": "markdown",
   "id": "d456bec5",
   "metadata": {},
   "source": [
    "But wait! There is more. What if a completely different error occurs from the one we were expecting? Here is a hypothetical example\""
   ]
  },
  {
   "cell_type": "code",
   "execution_count": 10,
   "id": "7ce41421",
   "metadata": {
    "slideshow": {
     "slide_type": "slide"
    }
   },
   "outputs": [],
   "source": [
    "def process_person(tup):\n",
    "    print(\"processing person\")\n",
    "    try:\n",
    "        last_name = tup[1]\n",
    "        if last_name == \"Levee\":\n",
    "            x = 1/0\n",
    "    except:\n",
    "        last_name = \"UNKNOWN\"\n",
    "    print(f\"last name={last_name}\")"
   ]
  },
  {
   "cell_type": "code",
   "execution_count": 11,
   "id": "19353143",
   "metadata": {
    "slideshow": {
     "slide_type": "slide"
    }
   },
   "outputs": [
    {
     "name": "stdout",
     "output_type": "stream",
     "text": [
      "processing data\n",
      "processing person\n",
      "last name=Mutter\n",
      "processing person\n",
      "last name=Racker\n",
      "processing person\n",
      "last name=UNKNOWN\n"
     ]
    }
   ],
   "source": [
    "my_data = [(\"Mike\", \"Mutter\"), (\"Ralph\", \"Racker\"), (\"Louis\", \"Levee\")]\n",
    "process_data(my_data)"
   ]
  },
  {
   "cell_type": "markdown",
   "id": "61025648",
   "metadata": {
    "slideshow": {
     "slide_type": "slide"
    }
   },
   "source": [
    "Now we have an unknown person when there actually is a last name for this person. This can be solved by catching the right type of exception."
   ]
  },
  {
   "cell_type": "code",
   "execution_count": 12,
   "id": "5af5e006",
   "metadata": {
    "slideshow": {
     "slide_type": "fragment"
    }
   },
   "outputs": [],
   "source": [
    "def process_person(tup):\n",
    "    print(\"processing person\")\n",
    "    try:\n",
    "        last_name = tup[1]\n",
    "        if last_name == \"Levee\":\n",
    "            x = 1/0\n",
    "    except IndexError:\n",
    "        last_name = \"UNKNOWN\"\n",
    "    print(f\"last name={last_name}\")"
   ]
  },
  {
   "cell_type": "markdown",
   "id": "7cfbc0a3",
   "metadata": {
    "slideshow": {
     "slide_type": "fragment"
    }
   },
   "source": [
    "The consequence is that the name handling is correct, but the `ZeroDivisionError` will still cause the system to crash."
   ]
  },
  {
   "cell_type": "code",
   "execution_count": 13,
   "id": "402fe4d6",
   "metadata": {
    "slideshow": {
     "slide_type": "slide"
    }
   },
   "outputs": [
    {
     "name": "stdout",
     "output_type": "stream",
     "text": [
      "processing data\n",
      "processing person\n",
      "last name=Mutter\n",
      "processing person\n",
      "last name=Racker\n",
      "processing person\n"
     ]
    },
    {
     "ename": "ZeroDivisionError",
     "evalue": "division by zero",
     "output_type": "error",
     "traceback": [
      "\u001b[0;31m---------------------------------------------------------------------------\u001b[0m",
      "\u001b[0;31mZeroDivisionError\u001b[0m                         Traceback (most recent call last)",
      "Cell \u001b[0;32mIn[13], line 2\u001b[0m\n\u001b[1;32m      1\u001b[0m my_data \u001b[38;5;241m=\u001b[39m [(\u001b[38;5;124m\"\u001b[39m\u001b[38;5;124mMike\u001b[39m\u001b[38;5;124m\"\u001b[39m, \u001b[38;5;124m\"\u001b[39m\u001b[38;5;124mMutter\u001b[39m\u001b[38;5;124m\"\u001b[39m), (\u001b[38;5;124m\"\u001b[39m\u001b[38;5;124mRalph\u001b[39m\u001b[38;5;124m\"\u001b[39m, \u001b[38;5;124m\"\u001b[39m\u001b[38;5;124mRacker\u001b[39m\u001b[38;5;124m\"\u001b[39m), (\u001b[38;5;124m\"\u001b[39m\u001b[38;5;124mLouis\u001b[39m\u001b[38;5;124m\"\u001b[39m, \u001b[38;5;124m\"\u001b[39m\u001b[38;5;124mLevee\u001b[39m\u001b[38;5;124m\"\u001b[39m)]\n\u001b[0;32m----> 2\u001b[0m \u001b[43mprocess_data\u001b[49m\u001b[43m(\u001b[49m\u001b[43mmy_data\u001b[49m\u001b[43m)\u001b[49m\n",
      "Cell \u001b[0;32mIn[3], line 4\u001b[0m, in \u001b[0;36mprocess_data\u001b[0;34m(data)\u001b[0m\n\u001b[1;32m      2\u001b[0m \u001b[38;5;28mprint\u001b[39m(\u001b[38;5;124m\"\u001b[39m\u001b[38;5;124mprocessing data\u001b[39m\u001b[38;5;124m\"\u001b[39m)\n\u001b[1;32m      3\u001b[0m \u001b[38;5;28;01mfor\u001b[39;00m e \u001b[38;5;129;01min\u001b[39;00m data:\n\u001b[0;32m----> 4\u001b[0m     \u001b[43mprocess_person\u001b[49m\u001b[43m(\u001b[49m\u001b[43me\u001b[49m\u001b[43m)\u001b[49m\n",
      "Cell \u001b[0;32mIn[12], line 6\u001b[0m, in \u001b[0;36mprocess_person\u001b[0;34m(tup)\u001b[0m\n\u001b[1;32m      4\u001b[0m     last_name \u001b[38;5;241m=\u001b[39m tup[\u001b[38;5;241m1\u001b[39m]\n\u001b[1;32m      5\u001b[0m     \u001b[38;5;28;01mif\u001b[39;00m last_name \u001b[38;5;241m==\u001b[39m \u001b[38;5;124m\"\u001b[39m\u001b[38;5;124mLevee\u001b[39m\u001b[38;5;124m\"\u001b[39m:\n\u001b[0;32m----> 6\u001b[0m         x \u001b[38;5;241m=\u001b[39m \u001b[38;5;241;43m1\u001b[39;49m\u001b[38;5;241;43m/\u001b[39;49m\u001b[38;5;241;43m0\u001b[39;49m\n\u001b[1;32m      7\u001b[0m \u001b[38;5;28;01mexcept\u001b[39;00m \u001b[38;5;167;01mIndexError\u001b[39;00m:\n\u001b[1;32m      8\u001b[0m     last_name \u001b[38;5;241m=\u001b[39m \u001b[38;5;124m\"\u001b[39m\u001b[38;5;124mUNKNOWN\u001b[39m\u001b[38;5;124m\"\u001b[39m\n",
      "\u001b[0;31mZeroDivisionError\u001b[0m: division by zero"
     ]
    }
   ],
   "source": [
    "my_data = [(\"Mike\", \"Mutter\"), (\"Ralph\", \"Racker\"), (\"Louis\", \"Levee\")]\n",
    "process_data(my_data)"
   ]
  },
  {
   "cell_type": "markdown",
   "id": "2579bf7c",
   "metadata": {
    "slideshow": {
     "slide_type": "slide"
    }
   },
   "source": [
    "We can catch an exception where it occurs or anywhere \"below\" the risky operation in the call stack. Here is another solution where the person causing the error is completely ignored:"
   ]
  },
  {
   "cell_type": "code",
   "execution_count": 14,
   "id": "ad4afefe",
   "metadata": {
    "slideshow": {
     "slide_type": "fragment"
    }
   },
   "outputs": [
    {
     "name": "stdout",
     "output_type": "stream",
     "text": [
      "processing data\n",
      "processing person\n",
      "last name=Mutter\n",
      "processing person\n",
      "--PERSON IGNORED--\n",
      "processing person\n",
      "last name=Levee\n"
     ]
    }
   ],
   "source": [
    "def process_data(data):\n",
    "    print(\"processing data\")\n",
    "    for e in data:\n",
    "        try:\n",
    "            process_person(e)\n",
    "        except IndexError:\n",
    "            print(\"--PERSON IGNORED--\")\n",
    "\n",
    "def process_person(tup):\n",
    "    print(\"processing person\")\n",
    "    print(f\"last name={tup[1]}\")\n",
    "\n",
    "my_data = [(\"Mike\", \"Mutter\"), (\"Ralph Racker\", ), (\"Louis\", \"Levee\")]\n",
    "process_data(my_data)\n"
   ]
  },
  {
   "cell_type": "markdown",
   "id": "dc77fc3c",
   "metadata": {
    "slideshow": {
     "slide_type": "slide"
    }
   },
   "source": [
    "Finally, you can get a hold of the actual error object and extract some information from it:"
   ]
  },
  {
   "cell_type": "code",
   "execution_count": 18,
   "id": "9bfa2b0b",
   "metadata": {
    "slideshow": {
     "slide_type": "slide"
    }
   },
   "outputs": [
    {
     "name": "stdout",
     "output_type": "stream",
     "text": [
      "processing data\n",
      "processing person\n",
      "last name=Mutter\n",
      "processing person\n",
      "ERROR: tuple index out of range on ('Ralph Racker',)\n",
      "processing person\n",
      "last name=Levee\n"
     ]
    }
   ],
   "source": [
    "def process_data(data):\n",
    "    print(\"processing data\")\n",
    "    for e in data:\n",
    "        process_person(e)\n",
    "\n",
    "def process_person(tup):\n",
    "    print(\"processing person\")\n",
    "    try:\n",
    "        print(f\"last name={tup[1]}\")\n",
    "    except IndexError as e:\n",
    "        print(f\"ERROR: {e} on {tup}\")\n",
    "\n",
    "my_data = [(\"Mike\", \"Mutter\"), (\"Ralph Racker\", ), (\"Louis\", \"Levee\")]\n",
    "process_data(my_data)\n"
   ]
  },
  {
   "cell_type": "markdown",
   "id": "90ce8daf",
   "metadata": {
    "slideshow": {
     "slide_type": "slide"
    }
   },
   "source": [
    "## Raising exceptions"
   ]
  },
  {
   "cell_type": "markdown",
   "id": "c39c0748",
   "metadata": {
    "slideshow": {
     "slide_type": "slide"
    }
   },
   "source": [
    "Sometimes you want to message your own error, or \"convert\" a previously cought exception into another type. In that case you will want to `raise` an exception in your code yourself."
   ]
  },
  {
   "cell_type": "code",
   "execution_count": 20,
   "id": "43f67141",
   "metadata": {
    "slideshow": {
     "slide_type": "fragment"
    }
   },
   "outputs": [
    {
     "name": "stdout",
     "output_type": "stream",
     "text": [
      "going for it\n"
     ]
    },
    {
     "ename": "ValueError",
     "evalue": "chickening out",
     "output_type": "error",
     "traceback": [
      "\u001b[0;31m---------------------------------------------------------------------------\u001b[0m",
      "\u001b[0;31mValueError\u001b[0m                                Traceback (most recent call last)",
      "Cell \u001b[0;32mIn[20], line 5\u001b[0m\n\u001b[1;32m      2\u001b[0m     \u001b[38;5;28mprint\u001b[39m(\u001b[38;5;124m\"\u001b[39m\u001b[38;5;124mgoing for it\u001b[39m\u001b[38;5;124m\"\u001b[39m)\n\u001b[1;32m      3\u001b[0m     \u001b[38;5;28;01mraise\u001b[39;00m \u001b[38;5;167;01mValueError\u001b[39;00m(\u001b[38;5;124m\"\u001b[39m\u001b[38;5;124mchickening out\u001b[39m\u001b[38;5;124m\"\u001b[39m)\n\u001b[0;32m----> 5\u001b[0m \u001b[43mraise_it\u001b[49m\u001b[43m(\u001b[49m\u001b[43m)\u001b[49m\n",
      "Cell \u001b[0;32mIn[20], line 3\u001b[0m, in \u001b[0;36mraise_it\u001b[0;34m()\u001b[0m\n\u001b[1;32m      1\u001b[0m \u001b[38;5;28;01mdef\u001b[39;00m \u001b[38;5;21mraise_it\u001b[39m():\n\u001b[1;32m      2\u001b[0m     \u001b[38;5;28mprint\u001b[39m(\u001b[38;5;124m\"\u001b[39m\u001b[38;5;124mgoing for it\u001b[39m\u001b[38;5;124m\"\u001b[39m)\n\u001b[0;32m----> 3\u001b[0m     \u001b[38;5;28;01mraise\u001b[39;00m \u001b[38;5;167;01mValueError\u001b[39;00m(\u001b[38;5;124m\"\u001b[39m\u001b[38;5;124mchickening out\u001b[39m\u001b[38;5;124m\"\u001b[39m)\n",
      "\u001b[0;31mValueError\u001b[0m: chickening out"
     ]
    }
   ],
   "source": [
    "def raise_it():\n",
    "    print(\"going for it\")\n",
    "    raise ValueError(\"chickening out\")\n",
    "    \n",
    "raise_it()"
   ]
  }
 ],
 "metadata": {
  "celltoolbar": "Slideshow",
  "kernelspec": {
   "display_name": "base",
   "language": "python",
   "name": "base"
  },
  "language_info": {
   "codemirror_mode": {
    "name": "ipython",
    "version": 3
   },
   "file_extension": ".py",
   "mimetype": "text/x-python",
   "name": "python",
   "nbconvert_exporter": "python",
   "pygments_lexer": "ipython3",
   "version": "3.9.12"
  }
 },
 "nbformat": 4,
 "nbformat_minor": 5
}
