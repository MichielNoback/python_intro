{
 "cells": [
  {
   "cell_type": "markdown",
   "id": "4177a8d0",
   "metadata": {
    "slideshow": {
     "slide_type": "slide"
    }
   },
   "source": [
    "# Regular expressions\n"
   ]
  },
  {
   "cell_type": "markdown",
   "id": "2be114ce",
   "metadata": {
    "slideshow": {
     "slide_type": "slide"
    }
   },
   "source": [
    "## Introduction\n",
    "\n",
    "Sometimes, literal text searching is not enough.  \n",
    "\n",
    "For instance, when searching for email addresses, zipcodes, telephone numbers, dates or biological sequence patterns (my field), it is impossible to say *what exactly* you want found, but you can say what it will *look like*.\n",
    "\n",
    "This is where regular expressions come in. They provide a means to specify in a dedicated mini \"language\", what the pattern looks like.  \n"
   ]
  },
  {
   "cell_type": "markdown",
   "id": "41d97fa9",
   "metadata": {
    "slideshow": {
     "slide_type": "slide"
    }
   },
   "source": [
    "\n",
    "For instance, the pattern \n",
    " \n",
    "```python\n",
    "pattern = \"[0-9]{4}[a-zA-Z]{2}\"\n",
    "```\n",
    "\n",
    "Specifies a pattern that will look for four digits followed by two upper- or lowercase letters.\n",
    "\n",
    "The Python `re` module provides all functionality for this kind of work."
   ]
  },
  {
   "cell_type": "markdown",
   "id": "31118c48",
   "metadata": {
    "slideshow": {
     "slide_type": "slide"
    }
   },
   "source": [
    ":::{admonition} Regex\n",
    ":class: note\n",
    "\n",
    "A regular expression or regex consists of a combination of literal character sequences, character classes, quantifiers, groupings and positional anchors that can be used to search for patterns in text in order to locate, extract or replace the occurrences.\n",
    ":::\n"
   ]
  },
  {
   "cell_type": "markdown",
   "id": "8ae7dec6",
   "metadata": {
    "slideshow": {
     "slide_type": "skip"
    }
   },
   "source": [
    "In this tutorial the concepts will be demonstrated using te Python `re` module. To use this module, you will need to _import_ it of course:"
   ]
  },
  {
   "cell_type": "code",
   "execution_count": 1,
   "id": "3faa8b4e",
   "metadata": {
    "slideshow": {
     "slide_type": "skip"
    }
   },
   "outputs": [],
   "source": [
    "import re"
   ]
  },
  {
   "cell_type": "markdown",
   "id": "7e8f220b",
   "metadata": {
    "slideshow": {
     "slide_type": "slide"
    }
   },
   "source": [
    "The `re` module provides some useful functions for working with patterns:\n",
    "\n",
    "\n",
    "| Function      | Description |\n",
    "| :---        |    :----  |\n",
    "| **`match(pattern, text)`**  | Returns a Match object if there is a complete match of `pattern` with `text`  |\n",
    "| **`search(pattern, text)`**   | Returns a Match object if there is a match of `pattern` anywhere in `text` |\n",
    "| **`findall(pattern, text)`**  | Returns a list containing all matches of `pattern` in `text`  |\n",
    "| **`finditer(pattern, text)`**   | Returns an iterator of Match objects for all matches of `pattern` in `text` |\n",
    "| **`split(pattern, text)`**   | Returns a list where the string has been split on each occurrences of `pattern` in `text`   |\n",
    "| **`sub(pattern, replacement, text)`**   | Replaces one or many matches of `pattern` with `replacement` in text and returns the resulting string    |\n"
   ]
  },
  {
   "cell_type": "markdown",
   "id": "290b5db8",
   "metadata": {
    "slideshow": {
     "slide_type": "slide"
    }
   },
   "source": [
    "For example, to extract occurrences of the word 'the' from a larger body of text you can use"
   ]
  },
  {
   "cell_type": "code",
   "execution_count": 22,
   "id": "6c7d6537",
   "metadata": {
    "slideshow": {
     "slide_type": "fragment"
    }
   },
   "outputs": [
    {
     "data": {
      "text/plain": [
       "['The', 'the']"
      ]
     },
     "execution_count": 22,
     "metadata": {},
     "output_type": "execute_result"
    }
   ],
   "source": [
    "text = \"The following telephone numbers can be used to get the required information on your order: 020-1234567 or 06-12345678\"\n",
    "re.findall(\"[Tt]he\", text)"
   ]
  },
  {
   "cell_type": "markdown",
   "id": "32a56d0f",
   "metadata": {
    "slideshow": {
     "slide_type": "skip"
    }
   },
   "source": [
    "where `[Tt]` specifies a _character class_.  \n",
    "\n",
    "Before looking at the functions of the `re` module in more detail, we'll cover the basics of all regex elements first.\n"
   ]
  },
  {
   "cell_type": "markdown",
   "id": "178ee0ee",
   "metadata": {
    "slideshow": {
     "slide_type": "slide"
    }
   },
   "source": [
    "## Regex syntax"
   ]
  },
  {
   "cell_type": "markdown",
   "id": "124a9bea",
   "metadata": {
    "slideshow": {
     "slide_type": "slide"
    }
   },
   "source": [
    "### Character classes\n",
    "\n",
    "One of the pillars under regular expression syntax is the use of character classes. Character classes specify -for a single character position in the pattern- which characters are allowed on that position.  \n",
    "\n",
    "For instance, in the example above, (`[Tt]`), it was specified that both 'T' and 't' were allowed at the first position of the expression. Character classes are generally specified between brackets `[]`, but there are a few much-used character classes that have their own symbol.  "
   ]
  },
  {
   "cell_type": "markdown",
   "id": "5c060112",
   "metadata": {
    "slideshow": {
     "slide_type": "slide"
    }
   },
   "source": [
    "| Character class   | Description |\n",
    "| :---      |    :----  | \n",
    "| `[AaBb]`  | Matches the characters 'A', 'a', 'B' and 'B' |\n",
    "| `[a-z]`   | Matches all lowercase characters between 'a' and 'z' |\n",
    "| `[a-zA-Z]`| Matches all characters between 'a' and 'z' and 'A' and 'Z' | \n",
    "| `[0-9]`   | Matches all digits | \n",
    "| `[-]`   | Matches a literal hyphen | \n",
    "| `[^a]`    | Matches anything BUT a |\n",
    "| `[^0-9]`  | Matches anything BUT a digit |\n"
   ]
  },
  {
   "cell_type": "markdown",
   "id": "a01592fe",
   "metadata": {
    "slideshow": {
     "slide_type": "slide"
    }
   },
   "source": [
    "#### Special character classes\n",
    "\n",
    "There are quite a few; see the [docs](https://docs.python.org/3/library/re.html). Here are only the most-used ones.  \n",
    "\n",
    "| special sequence | Description | \n",
    "|--------|---------------------------|\n",
    "| `.`    | Matches _any_ character.  |\n",
    "| `\\d`   | Matches all digits | \n",
    "| `\\s`   | Matches all whitespace characters | \n",
    "| `\\w`   | Matches all word characters; equivalent to `[0-9a-zA-Z_]` | \n",
    "| `\\t`   | Matches the tab character | \n",
    "| `\\n`   | Matches the newline character | \n"
   ]
  },
  {
   "cell_type": "markdown",
   "id": "51ee3a8e",
   "metadata": {
    "slideshow": {
     "slide_type": "slide"
    }
   },
   "source": [
    "Here is an example, looking for digits and spaces"
   ]
  },
  {
   "cell_type": "code",
   "execution_count": 32,
   "id": "e297eb20",
   "metadata": {
    "slideshow": {
     "slide_type": "fragment"
    }
   },
   "outputs": [
    {
     "data": {
      "text/plain": [
       "[' 9\\tw', ' 8 p']"
      ]
     },
     "execution_count": 32,
     "metadata": {},
     "output_type": "execute_result"
    }
   ],
   "source": [
    "re.findall(\"\\s\\d\\s\\w\", \"If I cout to 9\\twill you count to 8 please?\")"
   ]
  },
  {
   "cell_type": "markdown",
   "id": "a9e1fa28",
   "metadata": {
    "slideshow": {
     "slide_type": "slide"
    }
   },
   "source": [
    ":::{admonition} The escape character `\\`\n",
    ":class: warning\n",
    "\n",
    "The backslash `\\` has special meaning; it _escapes_ the special meaning of the following symbol, or gives it special meaning (as seen above) depending on context.  \n",
    "\n",
    "It is the cause of many programming errors and bugs, especially when the backslash itself is part of the pattern. \n",
    ":::\n"
   ]
  },
  {
   "cell_type": "markdown",
   "id": "96e962a6",
   "metadata": {
    "slideshow": {
     "slide_type": "slide"
    }
   },
   "source": [
    "When looking for a literal '\\[' or ']' in a search string for instance, you need to do this:"
   ]
  },
  {
   "cell_type": "code",
   "execution_count": 26,
   "id": "73f92e51",
   "metadata": {
    "scrolled": true,
    "slideshow": {
     "slide_type": "fragment"
    }
   },
   "outputs": [
    {
     "data": {
      "text/plain": [
       "['[', ']']"
      ]
     },
     "execution_count": 26,
     "metadata": {},
     "output_type": "execute_result"
    }
   ],
   "source": [
    "re.findall(\"[\\[\\]]\", \"hallo [daar] ben ik weer\")"
   ]
  },
  {
   "cell_type": "markdown",
   "id": "696f77e1",
   "metadata": {
    "slideshow": {
     "slide_type": "fragment"
    }
   },
   "source": [
    "When looking for a literal '\\\\' it gets even harder:"
   ]
  },
  {
   "cell_type": "code",
   "execution_count": 27,
   "id": "ab465b0b",
   "metadata": {
    "slideshow": {
     "slide_type": "fragment"
    }
   },
   "outputs": [
    {
     "data": {
      "text/plain": [
       "['\\\\']"
      ]
     },
     "execution_count": 27,
     "metadata": {},
     "output_type": "execute_result"
    }
   ],
   "source": [
    "re.findall(\"[\\\\\\]\", \"hallo \\ daar ben ik weer\")"
   ]
  },
  {
   "cell_type": "markdown",
   "id": "5491a11f",
   "metadata": {
    "slideshow": {
     "slide_type": "slide"
    }
   },
   "source": [
    "### Quantifiers\n",
    "\n",
    "Quantifiers are used to specify how often a (series of) characters are allowed to occur.  \n",
    "The universal form is with the `{from,to}` syntax, but there are a few shortcuts here as well:\n",
    "\n",
    "| quantifier | Meaning |\n",
    "|------------|---------|\n",
    "| `{3,8}`    | Matches a repetition of 3 to 8 times |\n",
    "| `{,2}`    | Matches a repetition of 0 to 2 times; equivalent to `{0,2}` |\n",
    "| `{3,}`    | Matches a repetition of 3 or more times |\n",
    "| `{3,8}`    | Matches a repetition of 3 to 8 times |\n",
    "| `+`    | Matches a repetition of one or more times |\n",
    "| `?`    | Matches a repetition of zero or one times |\n",
    "| `*`    | Matches a repetition of zero or more times |\n"
   ]
  },
  {
   "cell_type": "markdown",
   "id": "9d283631",
   "metadata": {
    "slideshow": {
     "slide_type": "slide"
    }
   },
   "source": [
    "Here are a few examples."
   ]
  },
  {
   "cell_type": "code",
   "execution_count": 53,
   "id": "21c783d7",
   "metadata": {
    "slideshow": {
     "slide_type": "fragment"
    }
   },
   "outputs": [
    {
     "name": "stdout",
     "output_type": "stream",
     "text": [
      "3-4: ['aaaa', 'aaa']\n",
      "1 or more: ['a', 'a', 'aaaa', 'aaa']\n",
      "more than 2: ['aa', 'aa', 'aa']\n"
     ]
    }
   ],
   "source": [
    "print(\"3-4:\", re.findall(\"a{3,4}\", \"Please say aaaa, not aaa!\"))\n",
    "print(\"1 or more:\", re.findall(\"a+\", \"Please say aaaa, not aaa!\"))\n",
    "print(\"more than 2:\", re.findall(\"a{2,}\", \"Please say aaaa, not aaa!\"))"
   ]
  },
  {
   "cell_type": "markdown",
   "id": "e80b5da8",
   "metadata": {
    "slideshow": {
     "slide_type": "slide"
    }
   },
   "source": [
    "### Anchors\n",
    "\n",
    "Use the `^` to anchor a pattern at the start of the search string and `$` to anchor at the end. In the special case that you want to have the whole search string match the pattern, you use both anchors."
   ]
  },
  {
   "cell_type": "code",
   "execution_count": 49,
   "id": "554369a1",
   "metadata": {
    "slideshow": {
     "slide_type": "fragment"
    }
   },
   "outputs": [
    {
     "name": "stdout",
     "output_type": "stream",
     "text": [
      "At the start: ['The']\n",
      "At the end: ['!']\n"
     ]
    }
   ],
   "source": [
    "print(\"At the start:\", re.findall(\"^[Tt]he\", \"The CEO is the boss\"))\n",
    "print(\"At the end:\", re.findall(\"!$\", \"Please! Say something!\"))\n"
   ]
  },
  {
   "cell_type": "markdown",
   "id": "482f2771",
   "metadata": {
    "slideshow": {
     "slide_type": "slide"
    }
   },
   "source": [
    "### Alternatives\n",
    "\n",
    "To indicate alternative patterns you can use the `|` OR sign. Can als be used in conjunction with grabbing elements using parentheses. See below for details."
   ]
  },
  {
   "cell_type": "code",
   "execution_count": 52,
   "id": "19d92618",
   "metadata": {
    "slideshow": {
     "slide_type": "fragment"
    }
   },
   "outputs": [
    {
     "name": "stdout",
     "output_type": "stream",
     "text": [
      "Literal alternatives: ['banana', 'apple']\n",
      "Alternative patterns: ['bike', 'bite', 'car', 'bar']\n"
     ]
    }
   ],
   "source": [
    "print(\"Literal alternatives:\", re.findall(\"banana|apple\", \"I want a banana or an apple!\"))\n",
    "print(\"Alternative patterns:\", re.findall(\"bi[kt]e|[bc]ar\", \"A bike, a bite, a car, a bar\"))"
   ]
  },
  {
   "cell_type": "markdown",
   "id": "8ff28a00",
   "metadata": {
    "slideshow": {
     "slide_type": "slide"
    }
   },
   "source": [
    "### Being greedy or non-greedy\n",
    "\n",
    "Sometimes, you want to influence the way a pattern is matched with regard to the length of the match.\n",
    "Consider this example:"
   ]
  },
  {
   "cell_type": "code",
   "execution_count": 58,
   "id": "cec6f821",
   "metadata": {
    "slideshow": {
     "slide_type": "fragment"
    }
   },
   "outputs": [
    {
     "name": "stdout",
     "output_type": "stream",
     "text": [
      "Non-greedy: ['To be greedy or not to be ']\n"
     ]
    }
   ],
   "source": [
    "print(\"Non-greedy:\", re.findall(\"^.+ \", \"To be greedy or not to be greedy\"))"
   ]
  },
  {
   "cell_type": "markdown",
   "id": "6cab1755",
   "metadata": {
    "slideshow": {
     "slide_type": "skip"
    }
   },
   "source": [
    "This looks for a sequence of characters at the beginning of the search string up to a space. The result is the entire phrase up to the last space. We call this _greedy_ behaviour, which is the default for regex.  \n",
    "What if you are only interested in the first word, up to the first space? In that case you need to use the non-greedy modifier, `?`. Again a symbol with multiple meanings in the context of regex..."
   ]
  },
  {
   "cell_type": "code",
   "execution_count": 59,
   "id": "b809ef1e",
   "metadata": {
    "slideshow": {
     "slide_type": "slide"
    }
   },
   "outputs": [
    {
     "name": "stdout",
     "output_type": "stream",
     "text": [
      "Non-greedy: ['To ']\n"
     ]
    }
   ],
   "source": [
    "print(\"Non-greedy:\", re.findall(\"^.+? \", \"To be greedy or not to be greedy\"))"
   ]
  },
  {
   "cell_type": "markdown",
   "id": "0cd82645",
   "metadata": {
    "slideshow": {
     "slide_type": "fragment"
    }
   },
   "source": [
    "The non-greedy modifier can be used in combination with any quantifier: `+?`, `*?`, `??`, `{,}?`."
   ]
  },
  {
   "cell_type": "markdown",
   "id": "db4c0566",
   "metadata": {
    "slideshow": {
     "slide_type": "slide"
    }
   },
   "source": [
    "## Working with `match` objects\n"
   ]
  },
  {
   "cell_type": "markdown",
   "id": "80fe517e",
   "metadata": {
    "slideshow": {
     "slide_type": "skip"
    }
   },
   "source": [
    "The `search()` and `finditer()` functions return a (sequence of) Match objects. These match objects give much flexibility in dealing with your matches: from ***sub-patterns*** to ***match locations***.  \n",
    "\n",
    "With this type of analysis it ofetn a good idea to create a compiled pattern. This saves much computation time if the operation is repeated often.  \n",
    "\n",
    "When placing pairs of parenthese in the pattern you can catch sub-patterns.\n",
    "\n",
    "Here is an example of the use of Match objects and use:"
   ]
  },
  {
   "cell_type": "code",
   "execution_count": 76,
   "id": "a4a4512f",
   "metadata": {
    "slideshow": {
     "slide_type": "slide"
    }
   },
   "outputs": [
    {
     "name": "stdout",
     "output_type": "stream",
     "text": [
      "whole match: 2633 AX Someplace\n",
      "postal code: 2633 AX\n",
      "town:        Someplace\n",
      "match start: 65\n",
      "whole match: 1221ZA, Nowhere\n",
      "postal code: 1221ZA\n",
      "town:        Nowhere\n",
      "match start: 111\n"
     ]
    }
   ],
   "source": [
    "postal_code_pattern = re.compile(\"([0-9]{4}[- ]?[A-Za-z]{2}),? ([a-zA-Z]+)\")\n",
    "text = \"\"\"Please send a copy of this message to John Doe on Marktstraat 5, 2633 AX Someplace, \n",
    "and to Jane Doe, Brink 3, 1221ZA, Nowhere.\"\"\"\n",
    "for match in re.finditer(postal_code_pattern, text):\n",
    "    print(\"whole match:\", match.group(0))\n",
    "    print(\"postal code:\", match.group(1))\n",
    "    print(\"town:       \", match.group(2))\n",
    "    print(\"match start:\", match.start())\n"
   ]
  },
  {
   "cell_type": "markdown",
   "id": "47a787ec",
   "metadata": {
    "slideshow": {
     "slide_type": "slide"
    }
   },
   "source": [
    "## Modifying flags\n",
    "\n",
    "Finally, the Python regex engine gives you the possibility to modify the behaviour of its regex functions by using the `flags=` argument.\n",
    "See [here](https://docs.python.org/3/library/re.html#contents-of-module-re) for details on the flags.\n",
    "\n",
    "The most-used are listed below\n",
    "\n",
    "\n",
    "| flag short form | flag long form | behaviour |\n",
    "|:---------------|:-----------|:---------------|\n",
    "| re.I | re.IGNORECASE | Case-insensitive matching |\n",
    "| re.M | re.MULTILINE | Matches `^` at the beginning of each line |\n",
    "| re.S | re.DOTALL | Make the '.' special character ALSO a newline |"
   ]
  },
  {
   "cell_type": "markdown",
   "id": "73f8af42",
   "metadata": {
    "slideshow": {
     "slide_type": "slide"
    }
   },
   "source": [
    "If you want to combine multiple flags, you need to 'OR' them:\n",
    "\n",
    "`flags=re.I | re.DOTALL`"
   ]
  }
 ],
 "metadata": {
  "celltoolbar": "Slideshow",
  "kernelspec": {
   "display_name": "Python 3 (ipykernel)",
   "language": "python",
   "name": "python3"
  },
  "language_info": {
   "codemirror_mode": {
    "name": "ipython",
    "version": 3
   },
   "file_extension": ".py",
   "mimetype": "text/x-python",
   "name": "python",
   "nbconvert_exporter": "python",
   "pygments_lexer": "ipython3",
   "version": "3.9.16"
  }
 },
 "nbformat": 4,
 "nbformat_minor": 5
}
