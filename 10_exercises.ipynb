{
 "cells": [
  {
   "cell_type": "markdown",
   "metadata": {},
   "source": [
    "# Introduction \n",
    "These exercises are meant for you to practice your skills. The sections are numbered according to the chapter numbering so you know where to look for exercises of a particular chapter.  \n",
    "\n",
    "You can deal with the exercises in several ways. The most convenient is to clone or download the entire repository, and work on the notebook on your own machine. You can also download only this notebook, but that will not include all  solutions.    \n",
    "\n",
    "Hints and/or solutions are often included; they can be displayed where it says <span style = \"color:OrangeRed;cursor:pointer;\">\"&#10149; Click to see the solution\"</span> or <span style = \"color:OrangeRed;cursor:pointer;\">\"&#10149; Give me a hint\"</span>. Unfortunately, rendering of these hints is not flawless: they only get displayed correctly in a hosted notebook environment (not in a static viewer such as nbviewer or github).  \n",
    "Give it a try:"
   ]
  },
  {
   "cell_type": "markdown",
   "metadata": {},
   "source": [
    "<details>\n",
    "<summary style = \"color:OrangeRed;cursor:pointer;\">&#10149; Click to see solution!</summary>\n",
    "\n",
    "```python\n",
    "first_name = \"John\"\n",
    "surname = \"Doe\"\n",
    "print(f'good morning, {first_name} {surname}!')\n",
    "```\n",
    "\n",
    "<br>\n",
    "Of course, you should always really try to solve it yourself before going to the easy-peasy zone\n",
    "</details>\n"
   ]
  },
  {
   "cell_type": "markdown",
   "metadata": {},
   "source": [
    "Alternatively, solutions can be loaded from file by uncommenting and running the commented line of code that looks like this: \n",
    "\n",
    "```python\n",
    "# Uncomment the following line to see the solution or code hint\n",
    "# %load ./exercise_solutions/exercise_1_1.py\n",
    "```\n",
    "\n",
    "Give it a try in the cell below."
   ]
  },
  {
   "cell_type": "code",
   "execution_count": null,
   "metadata": {},
   "outputs": [],
   "source": [
    "# Uncomment the following line to see the solution or code hint\n",
    "#%load ./exercise_solutions/exercise_0_0.py"
   ]
  },
  {
   "cell_type": "markdown",
   "metadata": {},
   "source": [
    "## 01 Getting started\n"
   ]
  },
  {
   "cell_type": "markdown",
   "metadata": {},
   "source": [
    "### 01.1 Operator precedence (1)\n",
    "\n",
    "In the code cell below, it was attempted to calculate the surface area of a circle. However, because of [operator precedence](https://www.tutorialspoint.com/python/operators_precedence_example.htm) the outcome is wrong! It should be 12.57. Can you correct this by using parentheses in the calculation? While you are at it, also add some spaces to make the code more readable."
   ]
  },
  {
   "cell_type": "code",
   "execution_count": 6,
   "metadata": {},
   "outputs": [
    {
     "data": {
      "text/plain": [
       "25.132741228718345"
      ]
     },
     "execution_count": 6,
     "metadata": {},
     "output_type": "execute_result"
    }
   ],
   "source": [
    "import math\n",
    "def circle_area(diameter):\n",
    "    return math.pi*1/2*diameter**2\n",
    "\n",
    "circle_area(4)\n"
   ]
  },
  {
   "cell_type": "markdown",
   "metadata": {},
   "source": [
    "<details>\n",
    "  <summary style = \"color:OrangeRed;cursor:pointer;\">&#10149; Click to see solution!</summary>\n",
    "  \n",
    "```python\n",
    "return math.pi * (1/2 * diameter)**2\n",
    "```\n",
    "    \n",
    "</details>"
   ]
  },
  {
   "cell_type": "markdown",
   "metadata": {},
   "source": [
    "### 01.2 Operator precedence (2)\n",
    "\n",
    "Correct the calculations below by making use of grouping parentheses.\n",
    "\n",
    "```\n",
    "10 - 7 // 2 * 3 + 1 = -2\n",
    "45 % 10 / 2 = 0\n",
    "27 * 2 + 46 ** 0.5 = 10\n",
    "5 * 2 // 3 = 0\n",
    "6 + 4 * 2 - 10 // 2 - 4 * 2 = -3\n",
    "2 ** 3 ** 2 = 64\n",
    "5 + 3 * 2 ** 2 = 32\n",
    "```\n",
    "\n",
    "<details>\n",
    "  <summary style = \"color:OrangeRed;cursor:pointer;\">&#10149; Give me a hint!</summary>\n",
    "  \n",
    "```python\n",
    "10 - 7 // 2 * (3 + 1)\n",
    "```\n",
    "\n",
    "    is the solution for the first\n",
    "</details>\n",
    "\n",
    "<details>\n",
    "  <summary style = \"color:OrangeRed;cursor:pointer;\">&#10149; Give me the solution</summary>\n",
    "  \n",
    "```python\n",
    "10 - 7 // 2 * (3 + 1)\n",
    "45 % (10 / 2)\n",
    "(27 * 2 + 46) ** 0.5\n",
    "5 * (2 // 3)\n",
    "6 + (4 * 2 - 10) // 2 - 4 * 2\n",
    "(2 ** 3) ** 2\n",
    "(5 + 3) * 2 ** 2\n",
    "```\n",
    "</details>"
   ]
  },
  {
   "cell_type": "markdown",
   "metadata": {},
   "source": [
    "### 01.3 Assignment shortcut operators\n",
    "The code cell below is not wrong, but it can be expressed more efficiently by using dedicated [assignment operators](https://www.tutorialspoint.com/python/assignment_operators_example.htm).\n",
    "Can you improve by using these? Although flow control was not dealt with explicitly the code should be pretty obvious (this is one of the strengths of Python)."
   ]
  },
  {
   "cell_type": "code",
   "execution_count": 12,
   "metadata": {},
   "outputs": [
    {
     "name": "stdout",
     "output_type": "stream",
     "text": [
      "i is now 3; the cumulative sum is 4 and the cumulative \"fraction\" is 0.3333333333333333\n",
      "i is now 6; the cumulative sum is 10 and the cumulative \"fraction\" is 0.05555555555555555\n",
      "i is now 10; the cumulative sum is 20 and the cumulative \"fraction\" is 0.005555555555555555\n",
      "i is now 15; the cumulative sum is 35 and the cumulative \"fraction\" is 0.00037037037037037035\n"
     ]
    }
   ],
   "source": [
    "total = 1\n",
    "fraction = 1\n",
    "i = 1\n",
    "for n in range(2, 6):\n",
    "    i = i + n\n",
    "    total = total + i\n",
    "    fraction = fraction / i\n",
    "    print(f'i is now {i}; the cumulative sum is {total} and the cumulative \"fraction\" is {fraction}')\n"
   ]
  },
  {
   "cell_type": "markdown",
   "metadata": {},
   "source": [
    "<details>\n",
    "  <summary style = \"color:OrangeRed;cursor:pointer;\">&#10149; Click to see solution!</summary>\n",
    "  \n",
    "```python\n",
    "i += n\n",
    "total += i\n",
    "fraction /= i\n",
    "```\n",
    "</details>\n"
   ]
  },
  {
   "cell_type": "markdown",
   "metadata": {},
   "source": [
    "### 01.4: The Floor division and Modulo operators\n",
    "\n",
    "The floor division and modulo operators are handy tools if you want to work with currency, weight and distance units.\n",
    "\n",
    "The **modulo operator** `%` gives the _remainder_ of a division: "
   ]
  },
  {
   "cell_type": "code",
   "execution_count": 14,
   "metadata": {},
   "outputs": [
    {
     "name": "stdout",
     "output_type": "stream",
     "text": [
      "1 modulo 3 is 1\n",
      "2 modulo 3 is 2\n",
      "3 modulo 3 is 0\n",
      "4 modulo 3 is 1\n",
      "5 modulo 3 is 2\n"
     ]
    }
   ],
   "source": [
    "for n in range(1,6):\n",
    "    print(f'{n} modulo 3 is {n % 3}')"
   ]
  },
  {
   "cell_type": "markdown",
   "metadata": {},
   "source": [
    "The **floor division** operator `//` gives the integer part of a division:"
   ]
  },
  {
   "cell_type": "code",
   "execution_count": 15,
   "metadata": {},
   "outputs": [
    {
     "name": "stdout",
     "output_type": "stream",
     "text": [
      "1 floor divided by 3 is 0\n",
      "2 floor divided by 3 is 0\n",
      "3 floor divided by 3 is 1\n",
      "4 floor divided by 3 is 1\n",
      "5 floor divided by 3 is 1\n"
     ]
    }
   ],
   "source": [
    "for n in range(1,6):\n",
    "    print(f'{n} floor divided by 3 is {n // 3}')"
   ]
  },
  {
   "cell_type": "markdown",
   "metadata": {},
   "source": [
    "Now, suppose you want to create a tool converting from meters to imperial length units:  \n",
    "\n",
    "- a yard is 0.9144 meters\n",
    "- a foot is 0.3048 meters\n",
    "- an inch is 2.54 centimeters\n",
    "\n",
    "Using the above explained two operators, can you solve this problem? Use the correct _assignment operator_ to store intermediate results."
   ]
  },
  {
   "cell_type": "code",
   "execution_count": 24,
   "metadata": {},
   "outputs": [
    {
     "name": "stdout",
     "output_type": "stream",
     "text": [
      "234 metric meters is equivalent to 255.0 yards, 2.0 feet and 8.598425196850487 inches\n"
     ]
    }
   ],
   "source": [
    "meters = 234\n",
    "yards = 0\n",
    "feet = 0\n",
    "inches = 0\n",
    "\n",
    "# Your code \n",
    "\n",
    "\n",
    "print(f'{meters} metric meters is equivalent to {yards} yards, {feet} feet and {inches} inches')"
   ]
  },
  {
   "cell_type": "markdown",
   "metadata": {},
   "source": [
    "<details>\n",
    "  <summary style = \"color:OrangeRed;cursor:pointer;\">&#10149; Give me a hint!</summary>\n",
    "  \n",
    "```python\n",
    "yards = meters // yard\n",
    "```\n",
    "\n",
    "will calculate the yards from meters\n",
    "</details>\n",
    "\n",
    "<br />\n",
    "\n",
    "<details>\n",
    "  <summary style = \"color:OrangeRed;cursor:pointer;\">&#10149; Give me another hint!</summary>\n",
    "  \n",
    "```python\n",
    "remainder = meters % yard\n",
    "```\n",
    "\n",
    "will calculate what is left after getting the yards.\n",
    "</details>\n",
    "\n",
    "<br />\n",
    "\n",
    "<details>\n",
    "  <summary style = \"color:OrangeRed;cursor:pointer;\">&#10149; Give me the complete solution!</summary>\n",
    "  \n",
    "```python\n",
    "meters = 234\n",
    "yards = 0\n",
    "feet = 0\n",
    "inches = 0\n",
    "\n",
    "# Your code \n",
    "yard = 0.9144\n",
    "foot = 0.3048\n",
    "inch = 2.54/100\n",
    "\n",
    "yards = meters // yard\n",
    "remainder = meters % yard\n",
    "\n",
    "feet = remainder // foot\n",
    "remainder %= foot \n",
    "\n",
    "inches = remainder / inch  # no need to floor here!\n",
    "\n",
    "print(f'{meters} metric meters is equivalent to {yards} yards, {feet} feet and {inches} inches')\n",
    "```\n",
    "</details>\n"
   ]
  },
  {
   "cell_type": "markdown",
   "metadata": {},
   "source": [
    "#### Challenge\n",
    "Can you already take this to the next level and put the solution in a function?"
   ]
  },
  {
   "cell_type": "markdown",
   "metadata": {},
   "source": [
    "## 02 Data types\n",
    "\n"
   ]
  },
  {
   "cell_type": "markdown",
   "metadata": {},
   "source": [
    "### 02.1 String methods\n",
    "\n",
    "From the string below, use methods from `str` to capitalize the words and remove all whitespaces.\n",
    "So, this string `\"The quick brown fox jumps over the lazy dog\"` should become `\"TheQuickBrownFoxJumpsOverTheLazyDog\"`.\n",
    "Have a look at the `str` help documentation to find out which functions you should use.\n",
    "\n",
    "<details>\n",
    "  <summary style = \"color:OrangeRed;cursor:pointer;\">&#10149; Give me the solution</summary>\n",
    "  \n",
    "```python\n",
    "sentence = \"The quick brown fox jumps over the lazy dog\"\n",
    "sentence = sentence.title()\n",
    "sentence.replace(' ', '')\n",
    "# or, in one chained statement:\n",
    "#sentence.title().replace(' ', '')\n",
    "```\n",
    "</details>"
   ]
  },
  {
   "cell_type": "code",
   "execution_count": 14,
   "metadata": {},
   "outputs": [],
   "source": [
    "sentence = \"The quick brown fox jumps over the lazy dog\""
   ]
  },
  {
   "cell_type": "markdown",
   "metadata": {},
   "source": [
    "### 02.2 String formatting \n",
    "\n",
    "Study this short [string formatting tutorial](https://docs.python.org/3/library/string.html#formatspec) and find out\n",
    "\n",
    "- how, given the variable `name = 'Bert'`, you can print `Hello, Bert, bye Bert'` in four different ways using 4 different string formattng techniques\n",
    "\n",
    "<details>\n",
    "  <summary style = \"color:OrangeRed;cursor:pointer;\">&#10149; Give me the solution</summary>\n",
    "  \n",
    "```python\n",
    "name = 'Bert'\n",
    "print(\"Hello, {}, bye {}\".format(name, name))\n",
    "print(\"Hello, {name1}, bye {name2}\".format(name1 = name, name2 = name))\n",
    "print(\"Hello, {0}, bye {0}\".format(name))\n",
    "print(f\"Hello, {name}, bye {name}\")\n",
    "```\n",
    "</details>\n",
    "\n",
    "- how to center a variable within a fixed 100-character wide field of spaces\n",
    "\n",
    "<details>\n",
    "  <summary style = \"color:OrangeRed;cursor:pointer;\">&#10149; Give me the solution</summary>\n",
    "  \n",
    "```python\n",
    "print(\"XX{:^100}XX\".format(name))\n",
    "```\n",
    "</details>\n",
    "\n",
    "- how to center a variable within a fixed 100-character wide field, filled up with asterisks\n",
    "\n",
    "<details>\n",
    "  <summary style = \"color:OrangeRed;cursor:pointer;\">&#10149; Give me the solution</summary>\n",
    "  \n",
    "```python\n",
    "print(\"XX{:*^100}XX\".format(name))\n",
    "```\n",
    "</details>\n",
    "\n",
    "\n",
    "- how to print the variable `number = 3124855.667698` with thousand separators and rounded at 2 decimals, right aligned in a field of 20 characters.\n",
    "\n",
    "\n",
    "<details>\n",
    "  <summary style = \"color:OrangeRed;cursor:pointer;\">&#10149; Give me the solution</summary>\n",
    "  \n",
    "```python\n",
    "number = 3124855.667698\n",
    "print(\"XX{:>20,.2f}XX\".format(number))\n",
    "```\n",
    "</details>\n"
   ]
  },
  {
   "cell_type": "code",
   "execution_count": 48,
   "metadata": {},
   "outputs": [],
   "source": [
    "name = 'Bert'\n",
    "#YOUR CODE"
   ]
  },
  {
   "cell_type": "markdown",
   "metadata": {},
   "source": [
    "### 02.3 String slicing\n",
    "\n",
    "Given this string:\n",
    "\n",
    "```python\n",
    "letters = 'Een Aap Die Ijs Eet!'\n",
    "```\n",
    "\n",
    "write a slice that\n",
    "\n",
    "a) prints `'Aap'`\n",
    "\n",
    "<details>\n",
    "  <summary style = \"color:OrangeRed;cursor:pointer;\">&#10149; Give me the solution</summary>\n",
    "  \n",
    "```python\n",
    "letters = 'Een Aap Die Ijs Eet!'\n",
    "print(f'{letters[4:7]}')\n",
    "```\n",
    "</details>\n",
    "\n",
    "b) prints `'EAD'`\n",
    "\n",
    "<details>\n",
    "  <summary style = \"color:OrangeRed;cursor:pointer;\">&#10149; Give me the solution</summary>\n",
    "  \n",
    "```python\n",
    "print(f'{letters[:9:4]}')\n",
    "```\n",
    "</details>\n",
    "\n",
    "c) prints `'!Eje Ae'`\n",
    "\n",
    "<details>\n",
    "  <summary style = \"color:OrangeRed;cursor:pointer;\">&#10149; Give me the solution</summary>\n",
    "  \n",
    "```python\n",
    "print(f'{letters[::-3]}')\n",
    "```\n",
    "</details>\n",
    "\n",
    "d) prints `'    !'`\n",
    "\n",
    "<details>\n",
    "  <summary style = \"color:OrangeRed;cursor:pointer;\">&#10149; Give me the solution</summary>\n",
    "  \n",
    "```python\n",
    "print(f'{letters[3::4]}')\n",
    "```\n",
    "</details>\n",
    "\n"
   ]
  },
  {
   "cell_type": "code",
   "execution_count": 49,
   "metadata": {},
   "outputs": [],
   "source": [
    "letters = 'Een Aap Die Ijs Eet!'\n",
    "#YOUR CODE"
   ]
  },
  {
   "cell_type": "markdown",
   "metadata": {},
   "source": [
    "### 02.4 Working with lists\n",
    "\n",
    "Given the starting list below, implement the required series of single-statement steps to go to each consecutive modification.\n",
    "\n",
    "```python\n",
    "#feeding an iterable to the list constructor will give a list of individual elements, in this case the letters\n",
    "letters = list('ABCDEFGHIJK')\n",
    "```\n",
    "\n",
    "a) `['A', 'B', 'C', 'D', 'E', 'F', 'G', 'H', 'I', 'J', 'K', 'L', 'M']`\n",
    "\n",
    "<details>\n",
    "  <summary style = \"color:OrangeRed;cursor:pointer;\">&#10149; Give me the solution</summary>\n",
    "  \n",
    "```python\n",
    "letters += list('LM')\n",
    "# or letters += ['L', 'M']\n",
    "# or letters.extend(['L', 'M'])\n",
    "```\n",
    "</details>\n",
    "\n",
    "b) `['A', 'B', 'C', 'H', 'I', 'J', 'K', 'L', 'M']`\n",
    "\n",
    "<details>\n",
    "  <summary style = \"color:OrangeRed;cursor:pointer;\">&#10149; Give me the solution</summary>\n",
    "  \n",
    "```python\n",
    "letters[3:7] = []\n",
    "```\n",
    "</details>\n",
    "\n",
    "c) `['A', 'B', 'C', 'X', 'Y', 'Z', 'L', 'M']`\n",
    "\n",
    "<details>\n",
    "  <summary style = \"color:OrangeRed;cursor:pointer;\">&#10149; Give me the solution</summary>\n",
    "  \n",
    "```python\n",
    "letters[3:7] = list('XYZ')\n",
    "```\n",
    "</details>\n",
    "\n",
    "\n",
    "d) `['A', 'B', 'C', 'X', 'Y', 'Z', 'L', 'M', 'A', 'B', 'C', 'X', 'Y', 'Z', 'L', 'M']`\n",
    "\n",
    "<details>\n",
    "  <summary style = \"color:OrangeRed;cursor:pointer;\">&#10149; Give me the solution</summary>\n",
    "  \n",
    "```python\n",
    "letters = letters * 2\n",
    "# or letters *= 2\n",
    "```\n",
    "</details>\n"
   ]
  },
  {
   "cell_type": "code",
   "execution_count": 86,
   "metadata": {},
   "outputs": [],
   "source": [
    "letters = list('ABCDEFGHIJK')\n",
    "# YOUR CODE"
   ]
  },
  {
   "cell_type": "markdown",
   "metadata": {},
   "source": [
    "### 02.5 Choosing between lists and tuples\n",
    "\n",
    "In essence, a tuple is a list that cannot be changed after it has been created. For the following use cases, choose the most appropriate of these two and implement the case.\n",
    "\n",
    "a) Create a collection with the different roles that users of a web application can have: 'GUEST', 'USER', and 'ADMIN'.\n",
    "\n",
    "<details>\n",
    "  <summary style = \"color:OrangeRed;cursor:pointer;\">&#10149; Give me the solution</summary>\n",
    "  \n",
    "```python\n",
    "#a tuple because no other roles should be defined, or removed (accidentally).\n",
    "roles = ('GUEST', 'USER', 'ADMIN')\n",
    "```\n",
    "</details>\n",
    "\n",
    "\n",
    "b) Create a collection storing the moves in a chess game. Each move consists of a piece (e.g. pawn, knight, queen etc) a field of origin (e.g. B2) and a field of destination (e.g. B4). Demonstrate its use by creating and storing a few moves.\n",
    "\n",
    "<details>\n",
    "  <summary style = \"color:OrangeRed;cursor:pointer;\">&#10149; Give me the solution</summary>\n",
    "  \n",
    "```python\n",
    "#moves must be a list!\n",
    "moves = list()\n",
    "# tuple is best for a single move\n",
    "move = ('pawn', 'e2', 'e4')\n",
    "moves.append(move)\n",
    "move = ('pawn', 'e7', 'e5')\n",
    "moves.append(move)\n",
    "move = ('pawn', 'f2', 'f4')\n",
    "moves.append(move)\n",
    "move = ('pawn', 'e5', 'f4')\n",
    "moves.append(move)\n",
    "move = ('bishop', 'f1', 'c4')\n",
    "moves.append(move)\n",
    "\n",
    "# using module pprint to get a nice 2D printed representation\n",
    "import pprint\n",
    "pp = pprint.PrettyPrinter(width = 30)\n",
    "pp.pprint(moves)\n",
    "```\n",
    "</details>\n",
    "\n",
    "\n",
    "\n",
    "c) Create a collection representing the board of the game 'tic tac toe' (Dutch: boter kaas en eieren) in which each 'cell' can (1) be empty - a space ' ' (2) have a cross 'X' or (3) a circle 'O'. Remember, collections can be nested!\n",
    "\n",
    "<details>\n",
    "  <summary style = \"color:OrangeRed;cursor:pointer;\">&#10149; Give me the solution</summary>\n",
    "  \n",
    "```python\n",
    "# using module pprint to get a nice 2D printed representation\n",
    "import pprint\n",
    "pp = pprint.PrettyPrinter(width = 20)\n",
    "# top level should be tuple, \"rows\" should be lists\n",
    "tic_tac_toe = ([' ', 'X', 'O'],\n",
    "               ['X', 'O', ' '],\n",
    "               ['O', 'X', ' '])\n",
    "pp.pprint(tic_tac_toe)\n",
    "```\n",
    "</details>\n",
    "\n"
   ]
  },
  {
   "cell_type": "markdown",
   "metadata": {},
   "source": [
    "### 02.6 Tuples and lists\n",
    "\n",
    "Tuples are supposed to be immutable. Let's explore the extend of this rule, and also some other behaviour of tuples and lists.\n",
    "\n",
    "Given this tuple that is the top level collection of this datastructure:\n",
    "\n",
    "```python\n",
    "ZP11 = ({'street': 'Zernikeplein',\n",
    "         'number': 11}, \n",
    "        [\"Life Sciences\", \"Building\", \"ICT\"],\n",
    "        ('Wing A', 'Wing B', 'Wing C', 'Wing H'))\n",
    "```\n",
    "\n",
    "First think and deduce, then try and/or demonstrate these:\n",
    "\n",
    "a) Add an element to ZP11; a single number (e.g. 1500)\n",
    "<details>\n",
    "  <summary style = \"color:OrangeRed;cursor:pointer;\">&#10149; Give me the solution</summary>\n",
    "This is not possible. If ZP11 were a list, this would have been the way:  \n",
    "\n",
    "```python\n",
    "ZP11 += [1500]\n",
    "```\n",
    "</details>\n",
    "\n",
    "b) Add an element, `zipcode`, to the address map\n",
    "<details>\n",
    "  <summary style = \"color:OrangeRed;cursor:pointer;\">&#10149; Give me the solution</summary>\n",
    "  \n",
    "```python\n",
    "ZP11[0]['zipcode'] = \"9747AS\"\n",
    "```\n",
    "</details>\n",
    "\n",
    "c) Remove 'ICT' from the institutes\n",
    "<details>\n",
    "  <summary style = \"color:OrangeRed;cursor:pointer;\">&#10149; Give me the solution</summary>\n",
    "  \n",
    "```python\n",
    "ZP11[1][2:3] = []\n",
    "```\n",
    "</details>\n",
    "\n",
    "\n",
    "d) Add 'Wing D' to the wings of the building\n",
    "<details>\n",
    "  <summary style = \"color:OrangeRed;cursor:pointer;\">&#10149; Give me the solution</summary>\n",
    "Again this is not possible because it is a tuple\n",
    "</details>\n",
    "\n",
    "e) Swap the list `[\"Life Sciences\", \"Building env\", \"ICT\", \"Engineering\"]` for `[\"Economics]`\n",
    "<details>\n",
    "  <summary style = \"color:OrangeRed;cursor:pointer;\">&#10149; Give me the solution</summary>\n",
    "Again this is not possible because it is a tuple. This fails:\n",
    "\n",
    "```python\n",
    "    ZP11[1] = [\"Economics\"]\n",
    "```\n",
    "\n",
    "but there is a workaround!\n",
    "```python\n",
    "    ZP11[1][:] = [\"Economics\"]\n",
    "```\n",
    "\n",
    "    This works because you can swap the <i>contents</i> of the entire list!\n",
    "</details>\n"
   ]
  },
  {
   "cell_type": "code",
   "execution_count": 106,
   "metadata": {},
   "outputs": [],
   "source": [
    "ZP11 = ({'street': 'Zernikeplein',\n",
    "            'number': 11}, \n",
    "            [\"Life Sciences\", \"Building env\", \"ICT\", \"Engineering\"],\n",
    "            ('Wing A', 'Wing B', 'Wing C', 'Wing H'))\n",
    "# YOUR CODE"
   ]
  },
  {
   "cell_type": "markdown",
   "metadata": {},
   "source": [
    "### 02.7 sets\n",
    "\n",
    "\n",
    "Create a set named \"fruits_a\" that has the values 'apple', 'pear' and 'banana'. Create a second set, \"fruits_b\", that holds the values 'banana', 'guava' and 'orange'. Find the union, intersection and difference (both ways) between these sets.\n",
    "\n",
    "<details>\n",
    "  <summary style = \"color:OrangeRed;cursor:pointer;\">&#10149; Give me a hint!</summary>\n",
    "  \n",
    "```python\n",
    "help(set)\n",
    "```\n",
    "\n",
    "</details>\n",
    "\n",
    "Next, study the docs and find out  \n",
    "\n",
    "- how to empty a set\n",
    "- what the difference is between `discard()` and `remove()`\n",
    "- how to find out whether one set is present within another set.\n",
    "\n",
    "Demonstrate all these with code examples.\n"
   ]
  },
  {
   "cell_type": "markdown",
   "metadata": {},
   "source": [
    "### 02.8 dict\n",
    "\n",
    "There are (at least) three ways to create and fill a dict. Use the suggested resources of chapter 1 to find them. Demonstrate these techniques to create a variable named `inventory` holding this dict:  \n",
    "\n",
    "```python  \n",
    "{513: 'hammer', 322: 'screwdriver', 462: 'nailgun'}\n",
    "```\n",
    "\n",
    "<br>\n",
    "\n",
    "<details>\n",
    "  <summary style = \"color:OrangeRed;cursor:pointer;\">&#10149; Give me a hint!</summary>\n",
    "  Use a literal with the format `inventory = {key1: value1, key2: value2}`.\n",
    "    \n",
    "</details>\n",
    "\n",
    "<br />\n",
    "\n",
    "<details>\n",
    "  <summary style = \"color:OrangeRed;cursor:pointer;\">&#10149; Give me another hint!</summary>\n",
    "Create an empty dict, `inventory = dict()` and add individual items like this `inventory[513] = 'hammer'`.\n",
    "</details>\n",
    "\n",
    "<br />\n",
    "\n",
    "<details>\n",
    "  <summary style = \"color:OrangeRed;cursor:pointer;\">&#10149; Give me the complete solution!</summary>\n",
    "  \n",
    "<pre><code>\n",
    "inventory = {513: 'hammer', 322: 'screwdriver', 462: 'nailgun'}\n",
    "print(inventory)\n",
    "\n",
    "inventory = dict()\n",
    "inventory[513] = 'hammer'\n",
    "inventory[322] = 'screwdriver'\n",
    "inventory[462] = 'nailgun'\n",
    "print(inventory)\n",
    "\n",
    "inventory = dict([[513, 'hammer'], [322, 'screwdriver'], [462, 'nailgun']])\n",
    "print(inventory)\n",
    "</code></pre>\n",
    "    \n",
    "This technique uses a list of 2-element-lists passed as argument to the `dict()` function..\n",
    "</details>\n"
   ]
  },
  {
   "cell_type": "markdown",
   "metadata": {},
   "source": [
    "### 02.4 dict\n",
    "\n",
    "There are also several ways to make this block of code work."
   ]
  },
  {
   "cell_type": "code",
   "execution_count": null,
   "metadata": {},
   "outputs": [],
   "source": []
  },
  {
   "cell_type": "markdown",
   "metadata": {},
   "source": [
    "# 03. Flow control"
   ]
  },
  {
   "cell_type": "markdown",
   "metadata": {},
   "source": []
  },
  {
   "cell_type": "markdown",
   "metadata": {},
   "source": [
    "# Functions"
   ]
  },
  {
   "cell_type": "code",
   "execution_count": 12,
   "metadata": {},
   "outputs": [
    {
     "name": "stdout",
     "output_type": "stream",
     "text": [
      "hello\n"
     ]
    }
   ],
   "source": [
    "print(\"hello\")"
   ]
  },
  {
   "cell_type": "markdown",
   "metadata": {},
   "source": [
    "## I/O"
   ]
  },
  {
   "cell_type": "markdown",
   "metadata": {},
   "source": [
    "## Object-Oriented Python"
   ]
  },
  {
   "cell_type": "markdown",
   "metadata": {},
   "source": [
    "## Regex"
   ]
  },
  {
   "cell_type": "code",
   "execution_count": 3,
   "metadata": {},
   "outputs": [
    {
     "name": "stdout",
     "output_type": "stream",
     "text": [
      "The area of an equilateral triangle with side         2.0 is 2.0\n"
     ]
    }
   ],
   "source": [
    "%run ./scripts/triangle_surface.py 2"
   ]
  }
 ],
 "metadata": {
  "kernelspec": {
   "display_name": "Python 3 (ipykernel)",
   "language": "python",
   "name": "python3"
  },
  "language_info": {
   "codemirror_mode": {
    "name": "ipython",
    "version": 3
   },
   "file_extension": ".py",
   "mimetype": "text/x-python",
   "name": "python",
   "nbconvert_exporter": "python",
   "pygments_lexer": "ipython3",
   "version": "3.9.12"
  },
  "vscode": {
   "interpreter": {
    "hash": "b0fa6594d8f4cbf19f97940f81e996739fb7646882a419484c72d19e05852a7e"
   }
  }
 },
 "nbformat": 4,
 "nbformat_minor": 2
}
