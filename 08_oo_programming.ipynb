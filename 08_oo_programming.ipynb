{
 "cells": [
  {
   "cell_type": "markdown",
   "id": "bcc28f3f",
   "metadata": {
    "slideshow": {
     "slide_type": "slide"
    }
   },
   "source": [
    "# Object-oriented programming\n",
    "\n",
    "You already know that Python is an _object-oriented_ programming language and have seen some aspects of it demonstrated, for instance the dot operator that lets you access methods on objects."
   ]
  },
  {
   "cell_type": "markdown",
   "id": "6974b799",
   "metadata": {
    "slideshow": {
     "slide_type": "slide"
    }
   },
   "source": [
    "The key to this programming paradigm is **classes** that form the blueprint for creating **objects** (often called instances).\n",
    "\n",
    "\n",
    "![Class vs Objects](pics/class_vs_objects.png)"
   ]
  },
  {
   "cell_type": "markdown",
   "id": "0c369ca8",
   "metadata": {
    "slideshow": {
     "slide_type": "slide"
    }
   },
   "source": [
    "Although Python provides a wealth of classes, there are many occasions where the need for custom classes arise.  \n",
    "\n",
    "The essence of using classes is to combine data and related functionality (methods) into a single entity.\n",
    "Before embarking on a little (slightly) realistic example let's have a look at a minimal class and build some data and functionality into it.  \n",
    "\n",
    "Here is a Duck class that does absolutely nothing:"
   ]
  },
  {
   "cell_type": "code",
   "execution_count": 2,
   "id": "44ca1beb",
   "metadata": {
    "slideshow": {
     "slide_type": "fragment"
    }
   },
   "outputs": [],
   "source": [
    "class Duck:\n",
    "    pass"
   ]
  },
  {
   "cell_type": "markdown",
   "id": "031241f8",
   "metadata": {
    "slideshow": {
     "slide_type": "slide"
    }
   },
   "source": [
    "However, there is something you can do _with_ it: you can create a Duck _**instance**_:"
   ]
  },
  {
   "cell_type": "code",
   "execution_count": 3,
   "id": "d9bae859",
   "metadata": {
    "slideshow": {
     "slide_type": "fragment"
    }
   },
   "outputs": [],
   "source": [
    "mallard = Duck()"
   ]
  },
  {
   "cell_type": "markdown",
   "id": "e6d24c73",
   "metadata": {
    "slideshow": {
     "slide_type": "fragment"
    }
   },
   "source": [
    "The duck instance called mallard is a single \"materialization\" of the Duck blueprint. Besides printing it there is nothing it can do:"
   ]
  },
  {
   "cell_type": "code",
   "execution_count": 4,
   "id": "950956d1",
   "metadata": {
    "slideshow": {
     "slide_type": "fragment"
    }
   },
   "outputs": [
    {
     "name": "stdout",
     "output_type": "stream",
     "text": [
      "<__main__.Duck object at 0x7fa141c07070>\n"
     ]
    }
   ],
   "source": [
    "print(mallard)"
   ]
  },
  {
   "cell_type": "markdown",
   "id": "091fcf48",
   "metadata": {
    "slideshow": {
     "slide_type": "slide"
    }
   },
   "source": [
    "By printing it, you get to see the name of the objects' class, where it was defined, en where this instance lives in memory. When a new instance is created, it will only have a different memory address:"
   ]
  },
  {
   "cell_type": "code",
   "execution_count": 5,
   "id": "a3bc66f0",
   "metadata": {
    "slideshow": {
     "slide_type": "fragment"
    }
   },
   "outputs": [
    {
     "name": "stdout",
     "output_type": "stream",
     "text": [
      "<__main__.Duck object at 0x7fa141c07070>\n",
      "<__main__.Duck object at 0x7fa141c50520>\n"
     ]
    }
   ],
   "source": [
    "print(mallard)\n",
    "shellduck = Duck()\n",
    "print(shellduck)"
   ]
  },
  {
   "cell_type": "markdown",
   "id": "a36f7d43",
   "metadata": {
    "slideshow": {
     "slide_type": "slide"
    }
   },
   "source": [
    "Now, if we want to have a use for this duck we could give it something to do: swimming for instance."
   ]
  },
  {
   "cell_type": "code",
   "execution_count": 8,
   "id": "a0425807",
   "metadata": {
    "slideshow": {
     "slide_type": "fragment"
    }
   },
   "outputs": [
    {
     "name": "stdout",
     "output_type": "stream",
     "text": [
      "quack quack\n"
     ]
    }
   ],
   "source": [
    "class Duck:\n",
    "    def swim(self):\n",
    "        print('quack quack')\n",
    "        \n",
    "eider = Duck()\n",
    "eider.swim()"
   ]
  },
  {
   "cell_type": "markdown",
   "id": "bca2b847",
   "metadata": {
    "slideshow": {
     "slide_type": "slide"
    }
   },
   "source": [
    "Now we have a class specifying behaviour (a method) but no properties (data / variables). Don't worry about the `self` just yet. Let's give Ducks a name as well:"
   ]
  },
  {
   "cell_type": "code",
   "execution_count": 6,
   "id": "e7e30da9",
   "metadata": {
    "slideshow": {
     "slide_type": "fragment"
    }
   },
   "outputs": [
    {
     "name": "stdout",
     "output_type": "stream",
     "text": [
      "quack quack I am a Ruddy Duck\n"
     ]
    }
   ],
   "source": [
    "class Duck:\n",
    "    def __init__(self, name):\n",
    "        self.name = name\n",
    "        \n",
    "    def swim(self):\n",
    "        print(f'quack quack I am a {self.name}')\n",
    "        \n",
    "\n",
    "ruddy_duck = Duck(\"Ruddy Duck\")\n",
    "ruddy_duck.swim()"
   ]
  },
  {
   "cell_type": "markdown",
   "id": "71ef216a",
   "metadata": {
    "slideshow": {
     "slide_type": "slide"
    }
   },
   "source": [
    "Here is a first class with data and functionality and a first instance demonstrating the use of both.\n",
    "\n",
    "\n",
    "Let's walk through a slightly more realistic example.\n"
   ]
  },
  {
   "cell_type": "markdown",
   "id": "b972ed85",
   "metadata": {
    "slideshow": {
     "slide_type": "fragment"
    }
   },
   "source": [
    "Suppose you have a small theater and want to have a system for managing your reservations. Since you are a beginning Python enthousiast you decide to program it yourself.\n",
    "\n",
    "The first thing any good (OO-)programmer would do is to _model_ the entities and their relations within the application."
   ]
  },
  {
   "cell_type": "markdown",
   "id": "9eb748b8",
   "metadata": {
    "slideshow": {
     "slide_type": "slide"
    }
   },
   "source": [
    "![reservation system](pics/reservation_system.png)"
   ]
  },
  {
   "cell_type": "markdown",
   "id": "199e04af",
   "metadata": {
    "slideshow": {
     "slide_type": "fragment"
    }
   },
   "source": [
    "Yes! This looks an awful lot like a database diagram (ERD), except for the missing id fields."
   ]
  },
  {
   "cell_type": "markdown",
   "id": "f0c2b384",
   "metadata": {
    "slideshow": {
     "slide_type": "skip"
    }
   },
   "source": [
    "<div class=\"alert alert-block alert-info\">\n",
    "    <img src=\"pics/64px-Simple_Information.png\" style=\"float:left;margin-right:10px;\">\n",
    "    <span style=\"display:block;overflow:hidden;\">\n",
    "        <strong>Naming conventions</strong>. You may have noticed the use of uppercase characters as first letter of the classes. This is one of the <a href=\"https://peps.python.org/pep-0008/\">PEP 8 style guide</a> conventions. It states that \"Class names should normally use the CapWords convention.\" Properties (fileds) and methods (functions) of classes should again follow this rule \"Function names should be lowercase, with words separated by underscores as necessary to improve readability.\"\n",
    "    </span>\n",
    "</div>\n"
   ]
  },
  {
   "cell_type": "markdown",
   "id": "2dcd9105",
   "metadata": {
    "slideshow": {
     "slide_type": "slide"
    }
   },
   "source": [
    "The next step is of course implementing these classes. \n",
    "We'll start with the Customer class.\n"
   ]
  },
  {
   "cell_type": "code",
   "execution_count": 2,
   "id": "91b1fe81",
   "metadata": {
    "slideshow": {
     "slide_type": "fragment"
    }
   },
   "outputs": [],
   "source": [
    "class Customer:\n",
    "    def __init__(self, first_name, last_name, email):\n",
    "        self.first = first_name\n",
    "        self.last = last_name\n",
    "        self.email = email\n",
    "        "
   ]
  },
  {
   "cell_type": "markdown",
   "id": "005c6f40",
   "metadata": {
    "slideshow": {
     "slide_type": "fragment"
    }
   },
   "source": [
    "The keyword `class` is used to communicate there is a class definition - an object blueprint. The `__init__()` method is called the **constructor** method because it is used to construct an object: an instance of the class."
   ]
  },
  {
   "cell_type": "markdown",
   "id": "ef1efa2d",
   "metadata": {
    "slideshow": {
     "slide_type": "slide"
    }
   },
   "source": [
    "You never call the`__init__()` method directly! This will be explained below. \n",
    "\n",
    "There is something special going on in there: the `self` method argument. In OO-Python, all methods invoked on a class instance will receive as first argument -inserted by the Python interpreter- a reference to the **current executing object** and convention states that you name it `self`.  \n",
    "\n",
    "Because you have a reference to the current executing object you can attach, access and modify its data using this reference.\n",
    "\n",
    "Let's construct a Customer instance."
   ]
  },
  {
   "cell_type": "code",
   "execution_count": 10,
   "id": "30d67e1e",
   "metadata": {
    "slideshow": {
     "slide_type": "slide"
    }
   },
   "outputs": [
    {
     "name": "stdout",
     "output_type": "stream",
     "text": [
      "A Customer! Pete is coming. His email is p.walsh@example.com\n"
     ]
    }
   ],
   "source": [
    "cust1 = Customer(\"Pete\", \"Walsh\", \"p.walsh@example.com\")\n",
    "\n",
    "print(f'A Customer! {cust1.first} is coming. His email is {cust1.email}')"
   ]
  },
  {
   "cell_type": "markdown",
   "id": "1f8b6cb8",
   "metadata": {
    "slideshow": {
     "slide_type": "fragment"
    }
   },
   "source": [
    "The `Customer(...)` expression is where a new Customer instance is created. Under water, the `__init__()` method is invoked by the Python interpreter and the `self` reference is injected.  \n",
    "\n",
    "You already learned that you can use the dot operator on object instances to invoke methods and access data. That is used here as well to access the Customer properties. \n"
   ]
  },
  {
   "cell_type": "markdown",
   "id": "d77c8b5b",
   "metadata": {
    "slideshow": {
     "slide_type": "slide"
    }
   },
   "source": [
    "<div class=\"alert alert-block alert-info\">\n",
    "    <img src=\"pics/64px-Simple_Information.png\" style=\"float:left;margin-right:10px;\">\n",
    "    <span style=\"display:block;overflow:hidden;\">\n",
    "        <strong>Object hooks</strong>. The <code>__init__()</code> method is one of the many object hooks that exist in Python. They are called \"dunder\" methods because of the \"double underscores\" (there is also a special use of single underscores). When you implement these, <strong>they let you interact with operators and built-in functions</strong>. The <code>__init__()</code> hook makes it possible to hook into the <code>()</code> constructor argument list. We will see a few more hooks later in this chapter. Google \"Python dunder methods\" for more details.\n",
    "    </span>\n",
    "</div>\n"
   ]
  },
  {
   "cell_type": "markdown",
   "id": "6be30d38",
   "metadata": {
    "slideshow": {
     "slide_type": "slide"
    }
   },
   "source": [
    "### Implement some hooks\n",
    "\n",
    "When you print the object reference itself you get something like this:"
   ]
  },
  {
   "cell_type": "code",
   "execution_count": 11,
   "id": "4235192b",
   "metadata": {
    "slideshow": {
     "slide_type": "fragment"
    }
   },
   "outputs": [
    {
     "name": "stdout",
     "output_type": "stream",
     "text": [
      "<__main__.Customer object at 0x7fbe709e8fa0>\n"
     ]
    }
   ],
   "source": [
    "print(cust1)"
   ]
  },
  {
   "cell_type": "markdown",
   "id": "7daf2635",
   "metadata": {
    "slideshow": {
     "slide_type": "fragment"
    }
   },
   "source": [
    "This says it is an instance of the Customer class that is defined in the `__main__` scope and that it can be found at memory \"location\" `0x7fbe709e8fa0` - not very informative.  \n",
    "\n",
    "Time to implement `__str__()`."
   ]
  },
  {
   "cell_type": "code",
   "execution_count": 20,
   "id": "3ac6e7b9",
   "metadata": {
    "slideshow": {
     "slide_type": "slide"
    }
   },
   "outputs": [
    {
     "name": "stdout",
     "output_type": "stream",
     "text": [
      "Julia Marsh [j.marsh@example.com]\n"
     ]
    }
   ],
   "source": [
    "class Customer:\n",
    "    def __init__(self, first_name, last_name, email):\n",
    "        self.first = first_name\n",
    "        self.last = last_name\n",
    "        self.email = email\n",
    "    def __str__(self):\n",
    "        return f'{self.first} {self.last} [{self.email}]'\n",
    "\n",
    "cust2 = Customer(\"Julia\", \"Marsh\", \"j.marsh@example.com\")\n",
    "print(cust2)"
   ]
  },
  {
   "cell_type": "markdown",
   "id": "ada0f862",
   "metadata": {
    "slideshow": {
     "slide_type": "fragment"
    }
   },
   "source": [
    "The `__str__()` method is a hook for interacting with the `print()` built-in. When print receives an object to print it will look for the `__str__()` method and call it."
   ]
  },
  {
   "cell_type": "markdown",
   "id": "515a0350",
   "metadata": {
    "slideshow": {
     "slide_type": "slide"
    }
   },
   "source": [
    "<div class=\"alert alert-block alert-info\">\n",
    "    <img src=\"pics/64px-Simple_Information.png\" style=\"float:left;margin-right:10px;\">\n",
    "    <span style=\"display:block;overflow:hidden;\">\n",
    "        <h4>Hooks __str__() and __repr__()</h4>\n",
    "        Hooks <code>__str__()</code> and <code>__repr__()</code>, targeting the built-in functions <code>str()</code> and <code>repr()</code> respectively, are both used to get a string representation of an object. However, their intent is different:<br>\n",
    "        <ul>\n",
    "        <li>str() is used for generating human-readable output while repr() is mainly used for debugging and development. <i>repr’s goal is to be unambiguous and str’s is to be readable</i>.</li>\n",
    "        <li>repr() fetches the “formal” string representation of an object (a representation that has all information about the object) and str() is used to fetch the “informal” string representation of an object.</li>\n",
    "        <li>The print() and str() built-in function use __str__() to display the string representation of the object while the repr() built-in function uses __repr__() to display the object.</li>\n",
    "        </ul>\n",
    "    </span>\n",
    "</div>"
   ]
  },
  {
   "cell_type": "markdown",
   "id": "6be47a9b",
   "metadata": {
    "slideshow": {
     "slide_type": "slide"
    }
   },
   "source": [
    "### The Performance class\n",
    "Similar to the Customer class we can now implement the Performance class. The properties listed above are \"title\", \"datetime\", \"seat_price\", \"max_seats\" and \"reserved_seats\". All properties except the last one (which will simply default to 0) are useful to specify at construction time. Here is a first version."
   ]
  },
  {
   "cell_type": "code",
   "execution_count": 36,
   "id": "ea9b53e9",
   "metadata": {},
   "outputs": [
    {
     "name": "stdout",
     "output_type": "stream",
     "text": [
      "The Tempest (2022/12/20 20:00H - €12); reserved 0 out of 50\n"
     ]
    }
   ],
   "source": [
    "class Performance:\n",
    "    def __init__(self, title, datetime, seat_price, max_seats):\n",
    "        self.title = title\n",
    "        self.datetime = datetime\n",
    "        self.seat_price = seat_price\n",
    "        self.max_seats = max_seats\n",
    "        self.reserved = 0\n",
    "    def __str__(self):\n",
    "        return f'{self.title} ({self.datetime} - €{self.seat_price}); reserved {self.reserved} out of {self.max_seats}'\n",
    "\n",
    "perf1 = Performance(\"The Tempest\", \"2022/12/20 20:00H\", \"12\", \"50\")\n",
    "print(perf1)\n"
   ]
  },
  {
   "cell_type": "markdown",
   "id": "cf52fd6b",
   "metadata": {},
   "source": [
    "The coding pattern here is similar to the Customer class. One thing warrants some attention: The use of a string to specify datetime. Working with actual date/time data is a very important topic of course but out of scope in this course.\n",
    "In a more realist setting we would have done something like this:\n",
    "\n",
    "```python\n",
    "from datetime import datetime\n",
    "dt = datetime.strptime(\"2022/12/20 20:00H\", \"%Y/%m/%d %H:%MH\")\n",
    "perf1 = Performance(\"The Tempest\", dt, \"12\", \"50\")\n",
    "```"
   ]
  },
  {
   "cell_type": "markdown",
   "id": "98506eb8",
   "metadata": {},
   "source": [
    "The Performace class is not ready - we will need to implement some means to process reservations. Let's give that a go as well:"
   ]
  },
  {
   "cell_type": "markdown",
   "id": "b92a5515",
   "metadata": {
    "slideshow": {
     "slide_type": "slide"
    }
   },
   "source": [
    "## The main hooks\n",
    "\n",
    "\n",
    "* `__init__()`: used by constructor new Instance`()`\n",
    "* `__str__()`: used by `str( )` (and `print()`)\n",
    "* `__repr__()`: used by `repr()` (and `print()` when it does not find a `__str__()`)\n",
    "\n",
    "\n",
    "\n"
   ]
  }
 ],
 "metadata": {
  "celltoolbar": "Slideshow",
  "kernelspec": {
   "display_name": "Python 3 (ipykernel)",
   "language": "python",
   "name": "python3"
  },
  "language_info": {
   "codemirror_mode": {
    "name": "ipython",
    "version": 3
   },
   "file_extension": ".py",
   "mimetype": "text/x-python",
   "name": "python",
   "nbconvert_exporter": "python",
   "pygments_lexer": "ipython3",
   "version": "3.9.13"
  }
 },
 "nbformat": 4,
 "nbformat_minor": 5
}
