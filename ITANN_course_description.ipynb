{
 "cells": [
  {
   "cell_type": "markdown",
   "id": "59f3b5e0",
   "metadata": {},
   "source": [
    "# ITANN course: Introduction to Python Programming"
   ]
  },
  {
   "cell_type": "markdown",
   "id": "3a312451",
   "metadata": {},
   "source": [
    "This course is an introduction to Python programming for data science. Python is a very versatile programming language that is used in many domains; simple scripting, web applications, desktop GUI applications, data processing pipelines, scientific computing. \n",
    "\n",
    "This course focuses on Python programming for data science, with emphasis on literate programming: programming in a Notebook context. The learning outcomes of this course are in line with these:"
   ]
  },
  {
   "cell_type": "markdown",
   "id": "09b95503",
   "metadata": {},
   "source": [
    "## Learning goals\n",
    "\n",
    "After succesfully attending the course, learners will be able to write basic Python code dedicated to data science challenges.  \n",
    "In more detail, after attending this course, students will \n",
    "\n",
    "* use correct data structures and syntax elements for a given purpose:\n",
    "    * data types (scalars, list, dict, set)\n",
    "    * flow control elements (if/else, for)\n",
    "    * functions\n",
    "* understand the object-oriented nature of Python\n",
    "* run, edit and write Jupyter notebooks\n",
    "* read and apply Python documentation using the help() function or online resources \n",
    "* deal with a data analysis project in a logical and structured manner (formulate problem, reformulate in separate steps, rewrite in pseudocode, translate to Python)\n",
    "* analyse and solve bugs and errors in their own code\n",
    "* read data from, and write data to file using Pythons built-in functionality\n",
    "* create simple list comprehensions used for generating, filtering and processing collections\n",
    "\n",
    "\n",
    "Besides these goals, students can choose to challenge themselves with these optional outcomes:\n",
    "* creating and using modules\n",
    "* being able to design, implement and use simple data classes\n",
    "* being able to define and use regular expressions \n"
   ]
  },
  {
   "cell_type": "markdown",
   "id": "651d340a",
   "metadata": {},
   "source": [
    "## Program\n",
    "\n",
    "### Day 1\n",
    "\n",
    "* Morning  \n",
    "    * Course intro\n",
    "    * Wishes and expectations\n",
    "    * (Anaconda)\n",
    "    * Jupyter\n",
    "    * Python as calculator: scalars and operators\n",
    "* Afternoon  \n",
    "    * Datatypes\n",
    "    * Flow control\n",
    "    * Markdown\n",
    "    * Functions\n",
    "    * Comments: how and when\n",
    "\n",
    "### Day 2\n",
    "\n",
    "* Morning  \n",
    "    * File I/O\n",
    "    * Script schrijven\n",
    "    * Bugs and errors: syntax, runtime, semantic errors\n",
    "    * Learn how to program (hangman, sudoku, zeeslagje tegen de computer)\n",
    "* Afternoon\n",
    "    * Standard library functions\n",
    "    * List comprehensions\n",
    "    * Data analysis challenge (COVID data, CBS odata): bv kMeans clustering\n",
    "\n",
    "### Day 3\n",
    "\n",
    "* Morning\n",
    "    * challenges\n",
    "    * writing and using mnodules\n",
    "    * On demand topics\n",
    "    * [Optional] OOP    \n",
    "* Afternoon\n",
    "    * Evaluatie\n",
    "    * Guest lecture\n",
    "\n"
   ]
  }
 ],
 "metadata": {
  "kernelspec": {
   "display_name": "Python 3 (ipykernel)",
   "language": "python",
   "name": "python3"
  },
  "language_info": {
   "codemirror_mode": {
    "name": "ipython",
    "version": 3
   },
   "file_extension": ".py",
   "mimetype": "text/x-python",
   "name": "python",
   "nbconvert_exporter": "python",
   "pygments_lexer": "ipython3",
   "version": "3.9.12"
  }
 },
 "nbformat": 4,
 "nbformat_minor": 5
}
