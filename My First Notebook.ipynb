{
 "cells": [
  {
   "cell_type": "code",
   "execution_count": 4,
   "id": "0778441e",
   "metadata": {},
   "outputs": [
    {
     "name": "stdout",
     "output_type": "stream",
     "text": [
      "Hello world!\n",
      "Bye now\n"
     ]
    }
   ],
   "source": [
    "print(\"Hello world!\")\n",
    "print(\"Bye now\")"
   ]
  },
  {
   "cell_type": "markdown",
   "id": "f8b06c0c",
   "metadata": {},
   "source": [
    "# Hoofdstuk 1\n",
    "<h1>Hoofdstuk 1</h1>\n",
    "\n",
    "## Paragraaf 1: de start\n",
    "### Subparagraaf 1\n",
    "Ik kan hier mijn gedachten kwijt\n",
    "\n",
    "* punt a\n",
    "* punt b\n",
    "* punt c"
   ]
  },
  {
   "cell_type": "markdown",
   "id": "cb67a2d9",
   "metadata": {},
   "source": [
    "\n",
    "![kitten picture](pics/kitten.jpeg)"
   ]
  },
  {
   "cell_type": "markdown",
   "id": "95defcbf",
   "metadata": {},
   "source": [
    "1. punt 1\n",
    "1. punt 2\n",
    "1. punt 3\n",
    "\n",
    "We **praten** nog even __door__ met *__elkaar__*\n",
    "~test~\n",
    "\n",
    "<u>underlined</u> moet via HTML\n",
    "\n",
    "> dit is een block quote deel. blabla bla  \n",
    "dit is een nieuwe regel\n",
    "\n",
    "Dit is een [link](https://www.edureka.co/blog/wp-content/uploads/2018/10/Jupyter_Notebook_CheatSheet_Edureka.pdf) naar een Jupyter cheat sheet!\n",
    "`[link text](url)`\n"
   ]
  },
  {
   "cell_type": "raw",
   "id": "fb4b052f",
   "metadata": {},
   "source": [
    "ljwehblfjehwb\n",
    ";kchbdJCHV,jh\n",
    "<h1>Hallo</h1>\n",
    "# Hallo"
   ]
  },
  {
   "cell_type": "code",
   "execution_count": 30,
   "id": "3ce28176",
   "metadata": {},
   "outputs": [
    {
     "name": "stdout",
     "output_type": "stream",
     "text": [
      "24.074074074074073\n",
      "4\n",
      "-2\n",
      "15\n",
      "0.6\n",
      "243\n",
      "1.7320508075688772\n"
     ]
    },
    {
     "data": {
      "text/plain": [
       "1.7320508075688772"
      ]
     },
     "execution_count": 30,
     "metadata": {},
     "output_type": "execute_result"
    }
   ],
   "source": [
    "print(78 / 1.8**2)\n",
    "print(1 + 3)\n",
    "print(1 - 3)\n",
    "print(3 * 5)\n",
    "print(3 / 5)\n",
    "print(3 ** 5)\n",
    "print(3 ** 0.5)\n",
    "\n",
    "import math\n",
    "math.sqrt(3)\n",
    "\n"
   ]
  },
  {
   "cell_type": "code",
   "execution_count": 29,
   "id": "e4254dc7",
   "metadata": {},
   "outputs": [
    {
     "name": "stdout",
     "output_type": "stream",
     "text": [
      "2.7751196172248807\n",
      "6.734772289856238\n"
     ]
    }
   ],
   "source": [
    "print((4.6 + 1.2) / 2.09)\n",
    "a = 3 * 4**(7/12)\n",
    "print(a)"
   ]
  },
  {
   "cell_type": "code",
   "execution_count": 39,
   "id": "cec0e2c1",
   "metadata": {},
   "outputs": [
    {
     "name": "stdout",
     "output_type": "stream",
     "text": [
      "The volumne of a sphere with radius 6 is 452.39\n"
     ]
    }
   ],
   "source": [
    "r = 6\n",
    "vol = (2 / 3) * math.pi * r**3\n",
    "\n",
    "print(f'The volumne of a sphere with radius {r} is {round(vol, 2)}')"
   ]
  },
  {
   "cell_type": "code",
   "execution_count": 42,
   "id": "8bd27bb1",
   "metadata": {},
   "outputs": [
    {
     "data": {
      "text/plain": [
       "1.259881576697424"
      ]
     },
     "execution_count": 42,
     "metadata": {},
     "output_type": "execute_result"
    }
   ],
   "source": [
    "5 * ((4 + 2) / (math.sqrt(7) * 9))"
   ]
  },
  {
   "cell_type": "code",
   "execution_count": null,
   "id": "49a9e3f2",
   "metadata": {},
   "outputs": [],
   "source": [
    "bool()\n",
    "int()\n",
    "float()\n",
    "str()\n",
    "\n",
    "type()"
   ]
  },
  {
   "cell_type": "code",
   "execution_count": 59,
   "id": "5b1a1eb3",
   "metadata": {},
   "outputs": [
    {
     "data": {
      "text/plain": [
       "'I e li use'"
      ]
     },
     "execution_count": 59,
     "metadata": {},
     "output_type": "execute_result"
    }
   ],
   "source": [
    "message = \"In een klein huisje\"\n",
    "message[:] # SLICING COPY\n",
    "\n",
    "#I e li (elke tweede letter)\n",
    "message[::2]"
   ]
  },
  {
   "cell_type": "code",
   "execution_count": 82,
   "id": "c92991df",
   "metadata": {},
   "outputs": [
    {
     "data": {
      "text/plain": [
       "['In ', ' klein huisje']"
      ]
     },
     "execution_count": 82,
     "metadata": {},
     "output_type": "execute_result"
    }
   ],
   "source": [
    "message.split(\"een\")\n"
   ]
  }
 ],
 "metadata": {
  "kernelspec": {
   "display_name": "Python 3 (ipykernel)",
   "language": "python",
   "name": "python3"
  },
  "language_info": {
   "codemirror_mode": {
    "name": "ipython",
    "version": 3
   },
   "file_extension": ".py",
   "mimetype": "text/x-python",
   "name": "python",
   "nbconvert_exporter": "python",
   "pygments_lexer": "ipython3",
   "version": "3.11.0"
  }
 },
 "nbformat": 4,
 "nbformat_minor": 5
}
