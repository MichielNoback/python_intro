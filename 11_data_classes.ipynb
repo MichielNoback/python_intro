{
 "cells": [
  {
   "cell_type": "markdown",
   "id": "6ed437f9",
   "metadata": {
    "slideshow": {
     "slide_type": "slide"
    }
   },
   "source": [
    "# Data classes\n",
    "## Data models the easy way"
   ]
  },
  {
   "cell_type": "markdown",
   "id": "521c8754",
   "metadata": {
    "slideshow": {
     "slide_type": "slide"
    }
   },
   "source": [
    "Suppose we have some datamodel involving Users and their roles.\n",
    "\n",
    "User has  \n",
    "- email\n",
    "- roles\n",
    "- street\n",
    "- number\n",
    "- city"
   ]
  },
  {
   "cell_type": "markdown",
   "id": "94c65cce",
   "metadata": {
    "slideshow": {
     "slide_type": "slide"
    }
   },
   "source": [
    "Naively, many (non-OO) programmers will start out with something like this:"
   ]
  },
  {
   "cell_type": "code",
   "execution_count": 3,
   "id": "cf48cfb6",
   "metadata": {
    "slideshow": {
     "slide_type": "fragment"
    }
   },
   "outputs": [],
   "source": [
    "### This list of tuples holds all information of users: \n",
    "# email at [0]\n",
    "# roles at [1]\n",
    "# street at [2]\n",
    "# number at [3]\n",
    "# city at [4]\n",
    "users = [('henk@example.com', ['scrum master', 'team leader'], 'Square', 'Krowing'), \n",
    "         ('ian@example.com'), ['programmer', 'designer'], 'Maple Street', 98, 'Peelsing']"
   ]
  },
  {
   "cell_type": "markdown",
   "id": "3d059493",
   "metadata": {
    "slideshow": {
     "slide_type": "slide"
    }
   },
   "source": [
    "Yes, I have seen this type of structure - may times!   \n",
    "\n",
    "OK, maybe some student is a little bit more aware of data structures and you get this:"
   ]
  },
  {
   "cell_type": "code",
   "execution_count": 4,
   "id": "5223aa9f",
   "metadata": {
    "slideshow": {
     "slide_type": "fragment"
    }
   },
   "outputs": [],
   "source": [
    "users = [{'email': 'henk@example.com', \n",
    "          'roles': ['scrum master', 'team leader'],\n",
    "          'street': 'Square',\n",
    "          'number': 31,\n",
    "          'city': 'Krowing'}, \n",
    "         {'email': 'ian@example.com', \n",
    "          'roles': ['programmer', 'designer'],\n",
    "          'street': 'Maple Street',\n",
    "          'number': 98,\n",
    "          'city': 'Peelsing'}]"
   ]
  },
  {
   "cell_type": "markdown",
   "id": "ed809d27",
   "metadata": {
    "slideshow": {
     "slide_type": "slide"
    }
   },
   "source": [
    "Still, this needs careful inspection of the fields and how you are going to access them, and also being very alert on typos when accessing the data fields.  \n",
    "Yet another programmer has read about this OO API of Python and comes up with this:  "
   ]
  },
  {
   "cell_type": "code",
   "execution_count": 5,
   "id": "99c96305",
   "metadata": {
    "slideshow": {
     "slide_type": "fragment"
    }
   },
   "outputs": [],
   "source": [
    "class User1(object):\n",
    "    def __init__(self, email, roles, street, number, city):\n",
    "        self.email = email\n",
    "        self.roles = roles\n",
    "        self.street = street\n",
    "        self.number = number\n",
    "        self.city = city\n",
    "    \n",
    "    def __str__(self):\n",
    "        return f'{self.email} lives at {self.street} {self.number} in {self.city} and has the following roles: {self.roles}'\n",
    "    \n",
    "    def __repr__(self):\n",
    "        return f'User({self.email}, {self.roles}, {self.street}, {self.number}, {self.city})'\n",
    "    \n",
    "    def __eq__(self, other):\n",
    "        return self.email == other.email and self.street == other.street and self.number == other.number and self.city == other.city and self.roles == other.roles\n",
    "    \n",
    "    # more hooks implemented"
   ]
  },
  {
   "cell_type": "markdown",
   "id": "c518098d",
   "metadata": {},
   "source": [
    "So we have a nice class that models user objects. Here we create a few and put them in a list."
   ]
  },
  {
   "cell_type": "code",
   "execution_count": 6,
   "id": "323e04d9",
   "metadata": {
    "slideshow": {
     "slide_type": "slide"
    }
   },
   "outputs": [
    {
     "data": {
      "text/plain": [
       "[User(henk@example.com, ['scrum master', 'team leader'], Square, 31, Krowing),\n",
       " User(ian@example.com, ['programmer', 'designer'], Maple Street, 98, Peelsing)]"
      ]
     },
     "execution_count": 6,
     "metadata": {},
     "output_type": "execute_result"
    }
   ],
   "source": [
    "users = [User1('henk@example.com', ['scrum master', 'team leader'], 'Square', 31, 'Krowing'), \n",
    "         User1('ian@example.com', ['programmer', 'designer'], 'Maple Street', 98, 'Peelsing')]\n",
    "users"
   ]
  },
  {
   "cell_type": "markdown",
   "id": "eae979d7",
   "metadata": {
    "slideshow": {
     "slide_type": "slide"
    }
   },
   "source": [
    "The alert reader, knowing a bit about the Single Responsibility Principle (SRP) might suggest to split into two entities: `Address` and `User`. After all, addresses can be used outside the scope of user instances, and by separating them, the code becomes simpler and easier to maintain and extend."
   ]
  },
  {
   "cell_type": "code",
   "execution_count": 7,
   "id": "0b604f4f",
   "metadata": {
    "slideshow": {
     "slide_type": "slide"
    }
   },
   "outputs": [],
   "source": [
    "class Address2(object):\n",
    "    def __init__(self, street, number, city):\n",
    "        self.street = street\n",
    "        self.number = number\n",
    "        self.city = city\n",
    "    \n",
    "    def __str__(self):\n",
    "        return f'{self.street} {self.number}, {self.city}'\n",
    "    \n",
    "    def __repr__(self):\n",
    "        return f'Address({self.street}, {self.number}, {self.city})'\n",
    "    \n",
    "    def __eq__(self, other):\n",
    "        return self.street == other.street and self.number == other.number and self.city == other.city\n"
   ]
  },
  {
   "cell_type": "code",
   "execution_count": 8,
   "id": "aa074c1a",
   "metadata": {
    "slideshow": {
     "slide_type": "slide"
    }
   },
   "outputs": [],
   "source": [
    "class User2(object):\n",
    "    def __init__(self, email, roles, address):\n",
    "        self.email = email\n",
    "        self.roles = roles\n",
    "        self.address = address\n",
    "    \n",
    "    def __str__(self):\n",
    "        return f'{self.email} lives at {self.address} and has the following roles: {self.roles}'\n",
    "    \n",
    "    def __repr__(self):\n",
    "        return f'User({self.email}, {self.roles}, {self.address})'\n",
    "    \n",
    "    def __eq__(self, other):\n",
    "        return self.email == other.email and self.address == other.address and self.roles == other.roles"
   ]
  },
  {
   "cell_type": "code",
   "execution_count": 9,
   "id": "2c9214df",
   "metadata": {
    "slideshow": {
     "slide_type": "slide"
    }
   },
   "outputs": [
    {
     "name": "stdout",
     "output_type": "stream",
     "text": [
      "henk@example.com lives at Square 31, Krowing and has the following roles: ['scrum master', 'team leader']\n",
      "ian@example.com lives at Maple Street 98, Peelsing and has the following roles: ['programmer', 'designer']\n"
     ]
    }
   ],
   "source": [
    "users = [User2('henk@example.com', ['scrum master', 'team leader'], Address2('Square', 31, 'Krowing')), \n",
    "         User2('ian@example.com', ['programmer', 'designer'], Address2('Maple Street', 98, 'Peelsing'))]\n",
    "for user in users:\n",
    "    print(user)"
   ]
  },
  {
   "cell_type": "markdown",
   "id": "4b3e1443",
   "metadata": {},
   "source": [
    "But wow, that is a lot of boilerplate code, almost as much as pre-records Java!  "
   ]
  },
  {
   "cell_type": "markdown",
   "id": "9e0c10b9",
   "metadata": {},
   "source": [
    ":::{admonition} Boilerplate\n",
    ":class: note\n",
    "Boilerplate code are sections of code that are repeated in multiple places with little to no variation.  \n",
    "You need to write a lot of boilerplate code to accomplish only minor functionality.\n",
    ":::"
   ]
  },
  {
   "cell_type": "markdown",
   "id": "2a853b5b",
   "metadata": {
    "slideshow": {
     "slide_type": "slide"
    }
   },
   "source": [
    "Wouldn't it be wonderful if there was some way to get rid of this boilerplate, and simply focus on \n",
    "what is being modelled: a User and an Address, both with some properties!\n",
    "\n",
    "In Java nowadays we simple write this:\n",
    "\n",
    "```java\n",
    "record Address(String street, int number, String city){\n",
    "    // really, there's nothing here anymore!\n",
    "    // we get a constructor, equals(), hashCode, \n",
    "    // toString(), all free\n",
    "    // of charge from the compiler\n",
    "}\n",
    "```"
   ]
  },
  {
   "cell_type": "markdown",
   "id": "8955e62e",
   "metadata": {
    "slideshow": {
     "slide_type": "slide"
    }
   },
   "source": [
    "As is typically Python, there are not one, not two, but at least three different ways to get to more concise data classes.  \n",
    "Let's start with the most well-known (but least versatile), `namedtuple`."
   ]
  },
  {
   "cell_type": "markdown",
   "id": "45c27ecd",
   "metadata": {
    "slideshow": {
     "slide_type": "slide"
    }
   },
   "source": [
    "## Option one: `collections.namedtuple`"
   ]
  },
  {
   "cell_type": "code",
   "execution_count": 18,
   "id": "d2bebc07",
   "metadata": {
    "slideshow": {
     "slide_type": "fragment"
    }
   },
   "outputs": [
    {
     "name": "stdout",
     "output_type": "stream",
     "text": [
      "User3(email='henk@example.com', roles=['scrum master', 'team leader'], address=Address3(street='Square', number=31, city='Krowing'))\n"
     ]
    }
   ],
   "source": [
    "from collections import namedtuple\n",
    "\n",
    "Address3 = namedtuple('Address3', ['street', 'number', 'city'])\n",
    "User3 = namedtuple('User3', ['email', 'roles', 'address'])\n",
    "\n",
    "user = User3('henk@example.com', ['scrum master', 'team leader'], \n",
    "              Address3('Square', 31, 'Krowing'))\n",
    "print(user)"
   ]
  },
  {
   "cell_type": "markdown",
   "id": "5721d626",
   "metadata": {
    "slideshow": {
     "slide_type": "slide"
    }
   },
   "source": [
    "This gives you the most basic data class. It extends from `namedtuple`, but is closed for extension. You cannot add extra methods, such as for instance, `addRole(role)`.  \n",
    "However, you get everything `tuple` has, like slicing and `in`:"
   ]
  },
  {
   "cell_type": "code",
   "execution_count": 19,
   "id": "7032f7c5",
   "metadata": {
    "slideshow": {
     "slide_type": "fragment"
    }
   },
   "outputs": [
    {
     "data": {
      "text/plain": [
       "(['scrum master', 'team leader'],\n",
       " Address3(street='Square', number=31, city='Krowing'))"
      ]
     },
     "execution_count": 19,
     "metadata": {},
     "output_type": "execute_result"
    }
   ],
   "source": [
    "nt_user = User3('henk@example.com', ['scrum master', 'team leader'], Address3('Square', 31, 'Krowing'))\n",
    "nt_user[1:3]"
   ]
  },
  {
   "cell_type": "code",
   "execution_count": 13,
   "id": "39a46f89",
   "metadata": {
    "slideshow": {
     "slide_type": "fragment"
    }
   },
   "outputs": [
    {
     "data": {
      "text/plain": [
       "True"
      ]
     },
     "execution_count": 13,
     "metadata": {},
     "output_type": "execute_result"
    }
   ],
   "source": [
    "'henk@example.com' in nt_user"
   ]
  },
  {
   "cell_type": "markdown",
   "id": "de299509",
   "metadata": {
    "slideshow": {
     "slide_type": "slide"
    }
   },
   "source": [
    "Moreover, you get to access properties using the dot operator:"
   ]
  },
  {
   "cell_type": "code",
   "execution_count": 14,
   "id": "af311d0a",
   "metadata": {
    "slideshow": {
     "slide_type": "fragment"
    }
   },
   "outputs": [
    {
     "name": "stdout",
     "output_type": "stream",
     "text": [
      "Address3(street='Square', number=31, city='Krowing')\n",
      "Krowing\n"
     ]
    }
   ],
   "source": [
    "print(nt_user.address)\n",
    "print(nt_user.address.city)"
   ]
  },
  {
   "cell_type": "markdown",
   "id": "9c51732f",
   "metadata": {},
   "source": [
    "If you omit one of the parameter values, you get an error:"
   ]
  },
  {
   "cell_type": "markdown",
   "id": "0ea750f8",
   "metadata": {},
   "source": [
    "```python\n",
    "address = Address3('Square', 31)\n",
    "```\n",
    "```\n",
    "---------------------------------------------------------------------------\n",
    "TypeError                                 Traceback (most recent call last)\n",
    "Cell In[21], line 1\n",
    "----> 1 address = Address3('Square', 31)\n",
    "\n",
    "TypeError: Address3.__new__() missing 1 required positional argument: 'city'\n",
    "```"
   ]
  },
  {
   "cell_type": "markdown",
   "id": "a5e736f1",
   "metadata": {},
   "source": [
    "Specifying default values is done using a second list, or a dictionary:"
   ]
  },
  {
   "cell_type": "code",
   "execution_count": 24,
   "id": "97af47c8",
   "metadata": {},
   "outputs": [
    {
     "name": "stdout",
     "output_type": "stream",
     "text": [
      "Address3(street='Square', number=31, city='city')\n",
      "Address3(street='Square', number=31, city='Groningen')\n"
     ]
    }
   ],
   "source": [
    "\n",
    "#Address3 = namedtuple('Address3', ['street', 'number', 'city'], defaults=[None, None, 'Groningen'])\n",
    "Address3 = namedtuple('Address3', ['street', 'number', 'city'], defaults={'city': 'Groningen'})\n",
    "address = Address3('Square', 31)\n",
    "print(address)\n",
    "address2 = Address3('Square', 31, 'Groningen')\n",
    "print(address2)\n",
    "#address3 = Address3('Square') #fails with dict, passes with list!\n",
    "#print(address3)"
   ]
  },
  {
   "cell_type": "markdown",
   "id": "65e6b3f0",
   "metadata": {
    "slideshow": {
     "slide_type": "slide"
    }
   },
   "source": [
    "## Option two: `dataclasses.dataclass`\n",
    "\n",
    "When I first encountered the `@dataclass` decorator I was really enthousiastic. Here is `Address` again, now as `@dataclass`:"
   ]
  },
  {
   "cell_type": "code",
   "execution_count": 27,
   "id": "669b7564",
   "metadata": {
    "slideshow": {
     "slide_type": "fragment"
    }
   },
   "outputs": [],
   "source": [
    "from dataclasses import dataclass\n",
    "\n",
    "@dataclass\n",
    "class Address4:\n",
    "    street: str\n",
    "    number: int\n",
    "    city: str"
   ]
  },
  {
   "cell_type": "markdown",
   "id": "25327ceb",
   "metadata": {
    "slideshow": {
     "slide_type": "slide"
    }
   },
   "source": [
    "Great, now we have a dataclass that represents an address. \n",
    "Let's inspect its behavior:"
   ]
  },
  {
   "cell_type": "code",
   "execution_count": 28,
   "id": "665fe09f",
   "metadata": {
    "slideshow": {
     "slide_type": "fragment"
    }
   },
   "outputs": [
    {
     "name": "stdout",
     "output_type": "stream",
     "text": [
      "Address4(street='Square', number=31, city='Krowing')\n",
      "True\n"
     ]
    }
   ],
   "source": [
    "address1 = Address4('Square', 31, 'Krowing')\n",
    "print(address1)\n",
    "\n",
    "address2 = Address4('Square', 31, 'Krowing')\n",
    "print(address1 == address2)"
   ]
  },
  {
   "cell_type": "markdown",
   "id": "f504b4a8",
   "metadata": {
    "slideshow": {
     "slide_type": "slide"
    }
   },
   "source": [
    "The `@dataclass` decorator takes quite some arguments:\n",
    "\n",
    "```python\n",
    "@dataclass(*, init=True, repr=True, eq=True, \n",
    "           order=False, unsafe_hash=False, frozen=False)\n",
    "```\n",
    "\n",
    "The first three default to True, the others to False."
   ]
  },
  {
   "cell_type": "markdown",
   "id": "9160842e",
   "metadata": {
    "slideshow": {
     "slide_type": "slide"
    }
   },
   "source": [
    "Defining defaults is simple - as long as they are not container (mutable) types:\n"
   ]
  },
  {
   "cell_type": "code",
   "execution_count": 29,
   "id": "38f27aef",
   "metadata": {
    "slideshow": {
     "slide_type": "fragment"
    }
   },
   "outputs": [
    {
     "data": {
      "text/plain": [
       "True"
      ]
     },
     "execution_count": 29,
     "metadata": {},
     "output_type": "execute_result"
    }
   ],
   "source": [
    "@dataclass\n",
    "class Address5:\n",
    "    street: str\n",
    "    number: int\n",
    "    city: str = 'Groningen'\n",
    "    \n",
    "address1 = Address5('Square', 31)\n",
    "address2 = Address5('Square', 31, 'Groningen')\n",
    "address1 == address2"
   ]
  },
  {
   "cell_type": "markdown",
   "id": "96a18b44",
   "metadata": {
    "slideshow": {
     "slide_type": "slide"
    }
   },
   "source": [
    "Note that arguments with defaults should come after the ones without, just like regular method definitions.  \n",
    "But how about the `User` class? Is it as simple?"
   ]
  },
  {
   "cell_type": "code",
   "execution_count": 30,
   "id": "1df34246",
   "metadata": {
    "slideshow": {
     "slide_type": "fragment"
    }
   },
   "outputs": [
    {
     "name": "stdout",
     "output_type": "stream",
     "text": [
      "User4(email='henk@example.com', roles=['scrum master', 'team leader'], address=Address4(street='Square', number=31, city='Krowing'))\n"
     ]
    }
   ],
   "source": [
    "@dataclass\n",
    "class User4:\n",
    "    email: str\n",
    "    roles: list\n",
    "    address: Address4\n",
    "\n",
    "user = User4('henk@example.com', ['scrum master', 'team leader'], Address4('Square', 31, 'Krowing'))\n",
    "print(user)"
   ]
  },
  {
   "cell_type": "markdown",
   "id": "be9e2133",
   "metadata": {
    "slideshow": {
     "slide_type": "slide"
    }
   },
   "source": [
    "It seems really simple, but when you want to define default values for mutable types it gets harder:\n",
    "\n",
    "```python\n",
    "@dataclass\n",
    "class User4:\n",
    "    email: str\n",
    "    address: Address4\n",
    "    roles: list = []\n",
    "\n",
    "user1 = User4('henk@exampple.com', ['scrum master', 'team leader'], Address4('Square', 31, 'Krowing'))\n",
    "print(user)\n",
    "```"
   ]
  },
  {
   "cell_type": "markdown",
   "id": "2ff3085c",
   "metadata": {
    "slideshow": {
     "slide_type": "fragment"
    }
   },
   "source": [
    "```\n",
    "ValueError                                Traceback (most recent call last)\n",
    "Cell In[14], line 2\n",
    "      1 @dataclass\n",
    "----> 2 class User5:\n",
    "##many lines of Traceback omitted\n",
    "ValueError: mutable default <class 'list'> for field roles is not allowed: use default_factory\n",
    "```"
   ]
  },
  {
   "cell_type": "markdown",
   "id": "df5ab442",
   "metadata": {
    "slideshow": {
     "slide_type": "slide"
    }
   },
   "source": [
    "You are not allowed to define collection (mutable) types as default values (which is a good idea, as I discovered recently 😅); we will see more on that later.  \n",
    "To specify collection defaults, you need to use a `default_factory` argument:"
   ]
  },
  {
   "cell_type": "code",
   "execution_count": 31,
   "id": "87a26fe4",
   "metadata": {
    "slideshow": {
     "slide_type": "fragment"
    }
   },
   "outputs": [
    {
     "name": "stdout",
     "output_type": "stream",
     "text": [
      "User5(email='henk@example.com', address=Address5(street='Square', number=31, city='Krowing'), roles=[])\n"
     ]
    }
   ],
   "source": [
    "from dataclasses import dataclass, field\n",
    "\n",
    "@dataclass\n",
    "class User5:\n",
    "    email: str\n",
    "    address: Address5\n",
    "    roles: list = field(default_factory=list)\n",
    "\n",
    "user = User5('henk@example.com', Address5('Square', 31, 'Krowing'))\n",
    "print(user)"
   ]
  },
  {
   "cell_type": "markdown",
   "id": "5d9afc0c",
   "metadata": {
    "slideshow": {
     "slide_type": "slide"
    }
   },
   "source": [
    "Of course, you can specify your own default factory:"
   ]
  },
  {
   "cell_type": "code",
   "execution_count": 33,
   "id": "53c2e1af",
   "metadata": {
    "slideshow": {
     "slide_type": "fragment"
    }
   },
   "outputs": [
    {
     "name": "stdout",
     "output_type": "stream",
     "text": [
      "User6(email='john_doe@example.com', address=Address5(street='UnderTheBridge', number=0, city='Knowhere'), roles=['bum'])\n"
     ]
    }
   ],
   "source": [
    "def homeless():\n",
    "    return Address5('UnderTheBridge', 0, 'Knowhere')\n",
    "\n",
    "@dataclass\n",
    "class User6:\n",
    "    email: str\n",
    "    address: Address5 = field(default_factory=homeless)\n",
    "    roles: list = field(default_factory=list)\n",
    "\n",
    "user = User6('john_doe@example.com', roles = ['bum'])\n",
    "print(user)"
   ]
  },
  {
   "cell_type": "markdown",
   "id": "9be77a14",
   "metadata": {
    "slideshow": {
     "slide_type": "slide"
    }
   },
   "source": [
    "Note that the `field()` function accepts many more arguments, just RTFM.  \n",
    "But what's really funny is that the type hints are here, just as with real type hints, merely hints..."
   ]
  },
  {
   "cell_type": "code",
   "execution_count": 34,
   "id": "4374da38",
   "metadata": {
    "slideshow": {
     "slide_type": "fragment"
    }
   },
   "outputs": [],
   "source": [
    "@dataclass\n",
    "class Address6:\n",
    "    street: str\n",
    "    number: int\n",
    "    city: str = 'Groningen'\n",
    "\n",
    "address = Address6(3.1415, ('a', 'b'), True)\n"
   ]
  },
  {
   "cell_type": "markdown",
   "id": "ee71b19b",
   "metadata": {},
   "source": [
    "Classes defined with `@dataclass` are no subclasses from tuple, so they don't inherit all the nice tuple functionality.  \n",
    "All they have are the methods defined in the `@dataclass` function definition."
   ]
  },
  {
   "cell_type": "markdown",
   "id": "b70f91c8",
   "metadata": {
    "slideshow": {
     "slide_type": "slide"
    }
   },
   "source": [
    "## Option 3: `typing.NamedTuple`\n",
    "\n",
    "This is my favourite. It is most like the Java `record` type, and well, I simply love Java."
   ]
  },
  {
   "cell_type": "code",
   "execution_count": 35,
   "id": "701e5fe5",
   "metadata": {
    "slideshow": {
     "slide_type": "slide"
    }
   },
   "outputs": [
    {
     "name": "stdout",
     "output_type": "stream",
     "text": [
      "Address7(street='Square', number=31, city='Krowing')\n"
     ]
    },
    {
     "data": {
      "text/plain": [
       "Address7(street=3.1415, number=('a', 'b'), city=True)"
      ]
     },
     "execution_count": 35,
     "metadata": {},
     "output_type": "execute_result"
    }
   ],
   "source": [
    "from typing import NamedTuple\n",
    "\n",
    "class Address7(NamedTuple):\n",
    "    street: str\n",
    "    number: int\n",
    "    city: str = 'Groningen'\n",
    "\n",
    "address = Address7('Square', 31, 'Krowing')\n",
    "print(address)\n",
    "#still no runtime type checking...\n",
    "address = Address7(3.1415, ('a', 'b'), True)\n",
    "address"
   ]
  },
  {
   "cell_type": "markdown",
   "id": "0ab4d2de",
   "metadata": {
    "slideshow": {
     "slide_type": "slide"
    }
   },
   "source": [
    "Although Address7 seems to extend from NamedTuple, it is not. \"`typing.NamedTuple` uses metaclass functionality to customize the creatinon of the user's class\":"
   ]
  },
  {
   "cell_type": "code",
   "execution_count": 36,
   "id": "ca37ea0b",
   "metadata": {
    "slideshow": {
     "slide_type": "fragment"
    }
   },
   "outputs": [
    {
     "name": "stdout",
     "output_type": "stream",
     "text": [
      "True\n"
     ]
    }
   ],
   "source": [
    "print(issubclass(Address7, tuple))"
   ]
  },
  {
   "cell_type": "markdown",
   "id": "5cee3335",
   "metadata": {
    "slideshow": {
     "slide_type": "slide"
    }
   },
   "source": [
    "Again, because it is a proper subclass of `tuple`, it has all functionality that `tuple` has."
   ]
  },
  {
   "cell_type": "code",
   "execution_count": 37,
   "id": "8b9d300a",
   "metadata": {
    "slideshow": {
     "slide_type": "fragment"
    }
   },
   "outputs": [
    {
     "name": "stdout",
     "output_type": "stream",
     "text": [
      "True\n",
      "Krowing\n"
     ]
    }
   ],
   "source": [
    "address = Address7('Square', 31, 'Krowing')\n",
    "print(31 in address)\n",
    "print(address[2])"
   ]
  },
  {
   "cell_type": "markdown",
   "id": "98aad360",
   "metadata": {
    "slideshow": {
     "slide_type": "slide"
    }
   },
   "source": [
    "Defining mutable type defaults is not possible however:"
   ]
  },
  {
   "cell_type": "code",
   "execution_count": 42,
   "id": "fcb9e583",
   "metadata": {
    "slideshow": {
     "slide_type": "fragment"
    }
   },
   "outputs": [
    {
     "name": "stdout",
     "output_type": "stream",
     "text": [
      "User7(email='henk@example.com', roles=['scrum master'], address=Address7(street='UnderTheBridge', number=0, city='Knowhere'))\n",
      "['scrum master']\n",
      "4394419600\n",
      "4394419600\n"
     ]
    }
   ],
   "source": [
    "def homeless():\n",
    "    return Address7('UnderTheBridge', 0, 'Knowhere')\n",
    "\n",
    "class User7(NamedTuple):\n",
    "    email: str\n",
    "    roles: list = list() ## default value will be a static property!\n",
    "    address: Address7 = homeless()\n",
    "\n",
    "user1 = User7('henk@example.com')\n",
    "user2 = User7('henk@example.com')\n",
    "\n",
    "user1.roles.append('scrum master')\n",
    "\n",
    "print(user1)\n",
    "print(user2.roles)\n",
    "print(id(user1.address))\n",
    "print(id(user2.address))"
   ]
  },
  {
   "cell_type": "markdown",
   "id": "aede5c3c",
   "metadata": {
    "slideshow": {
     "slide_type": "slide"
    }
   },
   "source": [
    "By the way, like tuples, these classes are immutable, as they should be. This will give an error:\n",
    "\n",
    "```python\n",
    "user1.address.city = Address7('Willow Str.', 3, 'Gneait')\n",
    "```\n",
    "```\n",
    "---------------------------------------------------------------------------\n",
    "AttributeError                            Traceback (most recent call last)\n",
    "Cell In[68], line 1\n",
    "----> 1 user1.address.city = Address7('Willow Str.', 3, 'Gneait')\n",
    "\n",
    "AttributeError: can't set attribute\n",
    "```"
   ]
  }
 ],
 "metadata": {
  "celltoolbar": "Diavoorstelling",
  "kernelspec": {
   "display_name": "datascience",
   "language": "python",
   "name": "python3"
  },
  "language_info": {
   "codemirror_mode": {
    "name": "ipython",
    "version": 3
   },
   "file_extension": ".py",
   "mimetype": "text/x-python",
   "name": "python",
   "nbconvert_exporter": "python",
   "pygments_lexer": "ipython3",
   "version": "3.11.0"
  }
 },
 "nbformat": 4,
 "nbformat_minor": 5
}
