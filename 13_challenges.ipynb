{
 "cells": [
  {
   "cell_type": "markdown",
   "metadata": {},
   "source": [
    "# Challenges"
   ]
  },
  {
   "cell_type": "markdown",
   "metadata": {},
   "source": [
    "## A number guessing game \n",
    "<p style=\"font-size:1.2em;font-weight:bold\"> Difficulty level: &#10034;</p>\n",
    "\n",
    "Write an application that asks the user to think of a number, and try to guess this number as efficiently as possible.\n",
    "\n",
    "For instance, program output could be:\n",
    "\n",
    "```\n",
    "Please think of a number between 0 and 10. Press enter when you are ready.\n",
    "\n",
    "Is the number above 3? [enter y for yes and n for no]\n",
    "n\n",
    "Is the number above 1? [enter y for yes and n for no]\n",
    "y\n",
    "Is the number 2?\n",
    "n\n",
    "The number must be 3!\n",
    "```\n",
    "\n",
    "Think before you start! What would be the most efficient \"algorithm\" to find the number?\n",
    "\n",
    "You can upgrade this assignment by making it a GUI application using the Panel library (see [the website](https://panel.holoviz.org/))"
   ]
  },
  {
   "cell_type": "markdown",
   "metadata": {},
   "source": [
    "## Anagram maker\n",
    "<p style=\"font-size:1.2em;font-weight:bold\"> Difficulty level: &#10034;</p>\n",
    "\n",
    "#### Difficulty level: &#10034; to &#10034;&#10034;\n",
    "\n",
    "An anagram is a word or phrase formed by rearranging the letters of a different word or phrase, typically using all the original letters exactly once. For example, the word _anagram_ itself can be rearranged into _nag a ram_. (source: Wikipedia)\n",
    "\n",
    "You should ask your user for a word (or word combination or phrase) and also (optionally) how many separate words the anagram may or must comprise.\n",
    "Next, present a list of anagrams. Preferable, these anagrams should be pronouncable by intelligently placing vowels and consonants.\n",
    "\n",
    "You can upgrade this assignment by making it a GUI application using the Panel library (see [the website](https://panel.holoviz.org/))"
   ]
  },
  {
   "cell_type": "markdown",
   "metadata": {},
   "source": [
    "## Finding palindromes\n",
    "<p style=\"font-size:1.2em;font-weight:bold\"> Difficulty level: &#10034; to &#10034;&#10034;&#10034;&#10034;</p>\n",
    "\n",
    "A palindrome is a word, phrase, or sequence that reads the same backwards as forwards, e.g. \"madam\" or \"nurses run\". In biological sequence analysis palindromes are often important protein-binding DNA elements. They are sometimes literal palindromes, as in \"GGATTAGG\", or _complementary_ palindromes, where the same sequence is present in the reverse complement strand of the double helix, as in GGAATTCC:\n",
    "\n",
    "```\n",
    "5'-GGAATTCC-3'\n",
    "3'-CCTTAAGG-5'\n",
    "```\n",
    "\n",
    "1. Start by writing a single function that determines whether a given input string is a palindrome.\n",
    "2. Next, write a function that looks for a palindrome with a minimal length within a given input string, where the rest of the string is not important. Apply this to \n",
    "3. Extend this to processing a word list passed through the command-line. There are two such lists to be found in the `data` folder of this repo: `dutch_words.txt` and `english_words.txt`\n",
    "4. Apply yourself to molecular biology: create a program that looks for palindromes in a given DNA sequence. The sequence below contains at least 2 palindromes of differing lengths. Challenges could be: Find all 6-nucleotide palindromes, or What is the longest palindrome in the human genome?\n",
    "\n",
    "```\n",
    "5'-AGAGGATCCCTCCCATATATGCGGCGATCGCCGCATATCC-3'\n",
    "```\n",
    "\n",
    "You can upgrade this assignment by making it a GUI application using the Panel library (see [the website](https://panel.holoviz.org/))"
   ]
  },
  {
   "cell_type": "markdown",
   "metadata": {},
   "source": [
    "## Hangman word guessing game\n",
    "<p style=\"font-size:1.2em;font-weight:bold\"> Difficulty level: &#10034;&#10034;</p>\n",
    "\n",
    "Hangman is a word-quessing game where one party (in this case the computerprogram you will write) chooses a word that the other party needs to guess. The number of letters in the word is indicated with dashes or underscores.  \n",
    "The guessing party takes turns guessing wich letter will be in the word. If the guessed letter is in the word the dashes are replaced at the correct position(s) with the letter. If the guessed letter is not in the word, a gallow is build piece by piece (one piece for each absent letter). In total, the gallow consists of nine parts, including the hanged. You can choose to visualize progress using another picture of course. The easiest way is using \"ASCII art\", as in this example:\n",
    "\n",
    "```python\n",
    "HANGMAN = [\n",
    "'''\n",
    "  +---+\n",
    "  |   |\n",
    "  O   |\n",
    " /|\\  |\n",
    " / \\  |\n",
    "      |\n",
    "=========''']\n",
    "```\n",
    "\n",
    "You can upgrade this assignment by making it a GUI application using the Panel library (see [the website](https://panel.holoviz.org/))"
   ]
  },
  {
   "cell_type": "markdown",
   "metadata": {},
   "source": [
    "## Sequence Profiler\n",
    "<p style=\"font-size:1.2em;font-weight:bold\"> Difficulty level: &#10034;&#10034; to &#10034;&#10034;&#10034;&#10034;</p>\n",
    "\n",
    "Given a multiple sequence alignment of DNA sequences, like the ones below:\n",
    "\n",
    "```\n",
    "A T T G C C A T T\n",
    "A T G G C C A T T\n",
    "A T C T C A A T T\n",
    "A T C T T C C T T\n",
    "A C T G A C C T C\n",
    "```\n",
    "\n",
    "\n",
    "Given such an (ungapped) aligned set of sequences, provided in an input file, it is your task to build a profile using the [IUPAC ambiguity codes](https://www.bioinformatics.org/sms/iupac.html) and report this to the user. In the above example, the profile would look something like this:  \n",
    "\n",
    "```\n",
    "A Y B K H M M T Y\n",
    "```\n",
    "\n",
    "Supercharge your challenge: using such a sequence profile, can you implement the functionality to search a sequence (set) for the presence of this, or any other given profile?\n",
    "\n",
    "You can also upgrade this assignment by making it a GUI application using the Panel library (see [the website](https://panel.holoviz.org/))"
   ]
  },
  {
   "cell_type": "markdown",
   "metadata": {},
   "source": [
    "## FastQ analyser\n",
    "<p style=\"font-size:1.2em;font-weight:bold\"> Difficulty level: &#10034;&#10034;&#10034; to &#10034;&#10034;&#10034;&#10034;</p>\n",
    "\n",
    "Below is an example of FastQ sequences, exactly as you would find them in a file generated by a high-throughput sequencer such as Illumina HiSeq:\n",
    "\n",
    "```\n",
    "@HWI-962:64:D0BNFACXX:7:1101:1227:2119 1:N:0:GATCAG\n",
    "GACATGTTAGATCACTCTTTGGGATGTGTTATCTTGGTGTGTGAAATGAATGTGGGAATTGTTGCACAATTTTTTTTGTTTGAATACTTAATTTGTTGAN\n",
    "+\n",
    "CCCFFFFFHHHHHJJJJJJJJJJHIJHHIJIJIJJJJGHDHHIIJIJJFIIJHIIJIJJJJJJEHJJIGIJJJJHDDDDDDDDDDEDDDECEDEDEDB@#\n",
    "@HWI-962:64:D0BNFACXX:7:1101:1176:2147 1:N:0:GATCAG\n",
    "CTTTGATGTTGACCGAAAAGATTCAGGAAAGAAGTCTGCCTGAATCTCGAACGAGAAGGACAGTATATCACCTCTATCATTCGATGAGTAATTGGAAAAN\n",
    "+\n",
    "CCCFFFFFHHHHHIJJJIJEIIJJGIIIIJJIJGIJIGHIIIJJJHHHIEGGIIGGHJHF@HFFFFEFBCCECEEDDCDDEDEDD@ACACC@DA@CDDD#\n",
    "```\n",
    "\n",
    "This format is described [here](https://en.wikipedia.org/wiki/FASTQ_format).\n",
    "\n",
    "It is your task to read the data in a FastQ file provided by the user, read and process the sequences therein, and report on various quality aspects of the sequences. These can be\n",
    "\n",
    "- number of sequences\n",
    "- length (distribution) of sequences\n",
    "- G/C content\n",
    "- number of 'N' nucleotides per position, per sequence\n",
    "- average quality\n",
    "- per-base quality\n",
    "- sliding-window quality\n",
    "- K-mer content\n",
    "\n",
    "Supercharge your challenge: add a \"trimming\" and \"filtering\" option to the app.\n",
    "\n",
    "You can upgrade this assignment by making it a GUI application using the Panel library (see [the website](https://panel.holoviz.org/))\n"
   ]
  },
  {
   "cell_type": "markdown",
   "metadata": {},
   "source": [
    "## Protein analysis tool\n",
    "<p style=\"font-size:1.2em;font-weight:bold\"> Difficulty level: &#10034;&#10034; to &#10034;&#10034;&#10034;&#10034;</p>\n",
    "\n",
    "Proteins consist of long chains of amino acids called polypeptides. These constituent amino acids define the structure and properties of the protein. Amino acids have several relevant properties:\n",
    "\n",
    "- size\n",
    "- molecular weight\n",
    "- polarity\n",
    "- charge\n",
    "- hydrophobicity\n",
    "\n",
    "Given a protein sequence file (in [Fasta](https://en.wikipedia.org/wiki/FASTA_format) format), read in all sequences within the file and generate\n",
    "\n",
    "1. A comma-separated values (csv format) file with for each protein some summary statistics:\n",
    "    - name  \n",
    "    - length (in amino acids)  \n",
    "    - molecular weight  \n",
    "    - average hydrophobicity  \n",
    "    - total charge  \n",
    "    - the frequencies of the 20 amino acids \n",
    "    \n",
    "2. For each sequence a separate file where, using a [sliding window technique](https://www.geeksforgeeks.org/window-sliding-technique/). The name of the protein is the file name plus `.csv` as extension. The file has, also in csv format, four columns of data:\n",
    "    - amino acid position\n",
    "    - average hydrophobicity for the current window\n",
    "    - average charge for the current window\n",
    "    - average polarity for the current window\n",
    "\n",
    "As a command-line arguments this tool should accept the input multifasta file, the sliding window size (with a default of 8) and an output folder to write all results to (default to same directory as input file).\n"
   ]
  },
  {
   "cell_type": "markdown",
   "metadata": {},
   "source": [
    "## Genbank query tool \n",
    "<p style=\"font-size:1.2em;font-weight:bold\"> Difficulty level: &#10034;&#10034;&#10034; to &#10034;&#10034;&#10034;&#10034;</p>\n",
    "\n",
    "Given the GenBank format (assume only one DNA sequence resides in a single file – if there are more, ignore these and report this to the user). Create a parser for files of this type, extracting of all Features only these fields:\n",
    "1.\tSource/organism\n",
    "2.\tCDS/coordinates\n",
    "3.\tCDS/product\n",
    "4.\tCDS/db_xref\n",
    "5.\tCDS/translation\n",
    "6.\tGene/coordinates\n",
    "7.\tGene/gene\n",
    "8.\tSequence\n",
    "\n",
    "Create an appropriate data model. Create an executable that can be used for these use cases:  \n",
    "\n",
    "1. `GenBankReader.py --help` shows informative help/usage information.  \n",
    "1. `GenBankReader.py --infile  <INFILE> --summary` -- Creates a textual summary of the parsed file: length of the sequence, number and types of features. Average lengths of the genes, number on forward strand, number on reverse strand. Maybe you can think of some more interesting features?  \n",
    "1. `GenBankReader.py --infile  <INFILE> --fetch_gene <GENE NAME (-PATTERN)>` -- Returns nucleotide sequences of the genes that match the gene name pattern, in Fasta format.  \n",
    "1. `GenBankReader.py --infile  <INFILE> --fetch_cds <PRODUCT NAME (-PATTERN)>` -- Returns the amino acid sequences of the CDSs that match the product name pattern, in Fasta format.  \n",
    "1. `GenBankReader.py --infile  <INFILE> --fetch_features <COORDINATES>` Returns all features between the given coordinates.  \n",
    "1. `GenBankReader.py --infile  <INFILE> --find_sites <DNA SEQ WITH IUPAC CODES>` -- Lists the locations of all the sites where the DNA pattern is found: position and actual sequence and (if relevant) the element in which it resides.  \n",
    "\n",
    "Genbank files can be downloaded from [https://www.ncbi.nlm.nih.gov/datasets/genome/](https://www.ncbi.nlm.nih.gov/datasets/genome/). Simply search something like `Bacillus subtilis` and click on an entry. You can then choose to download sequences in different formats. Choose \"Sequence and Annotation\" (gbff format)."
   ]
  },
  {
   "cell_type": "markdown",
   "metadata": {},
   "source": [
    "## GFF query tool \n",
    "<p style=\"font-size:1.2em;font-weight:bold\"> Difficulty level: &#10034;&#10034;&#10034; to &#10034;&#10034;&#10034;&#10034;</p>\n",
    "\n",
    "Given the GFF3 sequence format (with or without sequences appended in-file; if not appended, a separate sequence file may be provided). Create a parser for files of this type extracting all annotations. Create an appropriate data model. Create an executable that can be used for these use cases:  \n",
    "\n",
    "1. `GffQuery.py --help` -- shows informative help/usage information.  \n",
    "1. `GffQuery.py –infile <INFILE> --summary` -- Creates a textual summary of the parsed file: length of the sequence, number and types of annotations. Average lengths of the genes, number on forward strand, number on reverse strand. Maybe you can think of some more interesting features?  \n",
    "1. `GffQuery.py –infile <INFILE> --fetch_id <ID>` -- Returns the nucleotide sequence of the element with this ID, in Fasta format.  \n",
    "1. `GffQuery.py –infile <INFILE> --fetch_features <FEATURE_TYPE_>` -- Returns the nucleotide sequence of all the elements of this type, in Fasta format.  \n",
    "1. `GffQuery.py –infile <INFILE> --fetch_region <COORDINATES>` -- Returns all features between the given coordinates, in gff format.  \n",
    "1. `GffQuery.py –infile <INFILE> --find_sites <DNA SEQ WITH IUPAC CODES>` -- Lists the locations of all the sites where the DNA pattern is found: position and actual sequence and (if relevant) the element in which it resides.  \n",
    "\n",
    "\n",
    "GFF files can be downloaded from [https://www.ncbi.nlm.nih.gov/datasets/genome/](https://www.ncbi.nlm.nih.gov/datasets/genome/). Simply search something like `Bacillus subtilis` and click on an entry. You can then choose to download sequences in different formats. Choose \"Sequence and Annotation\" (gbff format)."
   ]
  },
  {
   "cell_type": "markdown",
   "metadata": {},
   "source": [
    "## Blackjack (Eenentwintigen)\n",
    "<p style=\"font-size:1.2em;font-weight:bold\"> Difficulty level: &#10034;&#10034; to &#10034;&#10034;&#10034;&#10034;</p>\n",
    "\n",
    "Implement the game Blackjack (Eenentwintigen in Dutch - [Wikipedia](https://nl.wikipedia.org/wiki/Eenentwintigen)) where the user can play against your app.  \n",
    "You can just make it a terminal app, or if you like, you can make a user interface using the Panel library (see [the website](https://panel.holoviz.org/)) or any other GUI toolkit, such as TKinter (see [here](https://docs.python.org/3/library/tkinter.html))."
   ]
  },
  {
   "cell_type": "markdown",
   "metadata": {},
   "source": [
    "## Wordle / Lingo game \n",
    "<p style=\"font-size:1.2em;font-weight:bold\"> Difficulty level: &#10034;&#10034;&#10034; to &#10034;&#10034;&#10034;&#10034;</p>\n",
    "\n",
    "Lingo was one of the longest-running tv game shows.\n",
    "In this game the player needs to guess a word of a fixed length (usually between 5 and 7 letters).\n",
    "It looks for instance like this:  \n",
    "\n",
    "![wordle](pics/wordle.png)\n",
    "\n",
    "It is you challenge to create such a game.  \n",
    "\n",
    "Configurable (through interface or command-line arguments) should at least be the word length (with default of 5), the language (use a default that suits you) and -optionally- the number of guesses a user can take, with a default of 6.  \n",
    "After a guess, the user receives information about the letters on correct positions, letters at wrong positions, and wrong letters.  \n",
    "\n",
    "There are word lists in the `data` folder of this repo that you can use to randomly pick words: `dutch_words.txt` and `english_words.txt`.  \n",
    "Many ways exist to make this challenge really challenging. For instance, you can create a GUI (there are several libraries for that purpose available in Python but I suggest you use TkInter - see [here](https://docs.python.org/3/library/tkinter.html)) or the Panel library (see [the website](https://panel.holoviz.org/))."
   ]
  },
  {
   "cell_type": "markdown",
   "metadata": {},
   "source": [
    "## Encryption using Caesar cipher \n",
    "<p style=\"font-size:1.2em;font-weight:bold\"> Difficulty level: &#10034;&#10034; to &#10034;&#10034;&#10034;</p>\n",
    "\n",
    "Caesar's cipher is one of the simplest and most widely known encryption techniques. Each letter in a text is replaced by a letter some fixed number of positions down (or iup) the alphabet.\n",
    "For example, with a left shift of 3, D would be replaced by A, E would become B, and so on. The method is named after Julius Caesar, who used it in his private correspondence (see [Wikipedia](https://en.wikipedia.org/wiki/Caesar_cipher)).\n",
    "\n",
    "It is your task to create such a cipher, where the program takes two command-line arguments. The first one is the shift (left being negative) and the second a filename or a literal text.  \n",
    "\n",
    "Using the `argparse` module is a good idea, but not required.\n",
    "\n",
    "You can upgrade this assignment by making it a GUI application using the Panel library (see [the website](https://panel.holoviz.org/))"
   ]
  },
  {
   "cell_type": "markdown",
   "metadata": {},
   "source": [
    "## Create a data dashboard \n",
    "<p style=\"font-size:1.2em;font-weight:bold\"> Difficulty level: &#10034;&#10034; to &#10034;&#10034;&#10034;&#10034;</p>\n",
    "\n",
    "Create an app that receives a file with structured data (columns) as input. The app then reads this file _in a streaming manner_ and reports statistics of the file contents. The first three of these are mandatory, the subsequent features are optional and increase the level of this challenge.\n",
    "\n",
    "1. Dimensions of the dataset (rows/comuns)\n",
    "2. Type of data in the columns\n",
    "3. Descriptive statistics of each column;\n",
    "    - if numeric: a [five-number summary](https://en.wikipedia.org/wiki/Five-number_summary) plus the mean\n",
    "    - if character: the number of unique values and a listing of frequencies of these if the number of unique values is below 10\n",
    "4. A pairwise correlation matrix of the numeric columns (if less than 6 or so). For this you will need to use something like numpy, see [here](https://machinelearningmastery.com/how-to-use-correlation-to-understand-the-relationship-between-variables/)\n",
    "5. Embed this in a GUI; there are several libraries for that purpose available in Python but I suggest you use the Panel library (see [the website](https://panel.holoviz.org/)). Or, if you prefer some extra supercharged challenge: TkInter, PyQt5 or PySimpleGUI - see [here](https://www.activestate.com/blog/top-10-python-gui-frameworks-compared/). \n",
    "6. Be creative; and impress yourself and your teacher."
   ]
  },
  {
   "cell_type": "markdown",
   "metadata": {},
   "source": [
    "## Implement k-Means clustering \n",
    "<p style=\"font-size:1.2em;font-weight:bold\"> Difficulty level: &#10034;&#10034;&#10034;&#10034;</p>\n",
    "\n",
    "The k-Means clustering algorithm is used much in data science to group data in an unsupervised manner. See [Wikipedia](https://en.wikipedia.org/wiki/K-means_clustering) for details.\n",
    "\n",
    "For this assignment you should implement this algorithm in a program that takes two command-line arguments. The first is a file with the input data and the second should be an optional argument for the `k-parameter` which defaults to 3. \n",
    "\n",
    "The output should be a file holding a copy of the input data, but with an extra column appended indicating the cluster number in which the example is put. For instance, given this input, a random sample from the famous \"Fisher's iris\" dataset:\n",
    "\n",
    "```\n",
    " Sepal.Length Sepal.Width Petal.Length Petal.Width    Species\n",
    "          6.2         3.4          5.4         2.3  virginica\n",
    "          6.7         3.1          4.7         1.5 versicolor\n",
    "          5.8         2.7          5.1         1.9  virginica\n",
    "          4.8         3.0          1.4         0.1     setosa\n",
    "          4.8         3.4          1.9         0.2     setosa\n",
    "          6.5         3.0          5.8         2.2  virginica\n",
    "          5.6         3.0          4.5         1.5 versicolor\n",
    "          4.9         3.1          1.5         0.1     setosa\n",
    "```\n",
    "\n",
    "could be clustered (using only the numerical columns!) as follows:\n",
    "\n",
    "```\n",
    " Sepal.Length Sepal.Width Petal.Length Petal.Width    Species   cluster\n",
    "          6.2         3.4          5.4         2.3  virginica         1\n",
    "          6.7         3.1          4.7         1.5 versicolor         2\n",
    "          5.8         2.7          5.1         1.9  virginica         1\n",
    "          4.8         3.0          1.4         0.1     setosa         3\n",
    "          4.8         3.4          1.9         0.2     setosa         3\n",
    "          6.5         3.0          5.8         2.2  virginica         2\n",
    "          5.6         3.0          4.5         1.5 versicolor         2\n",
    "          4.9         3.1          1.5         0.1     setosa         3\n",
    "```\n",
    "\n",
    "With only one mismatch between the `Species` and `cluster` columns.\n"
   ]
  },
  {
   "cell_type": "markdown",
   "metadata": {},
   "source": [
    "## Implement neighbor joining clustering\n",
    "<p style=\"font-size:1.2em;font-weight:bold\"> Difficulty level: &#10034;&#10034;&#10034;&#10034;</p>\n",
    "\n",
    "See [Wikipedia](https://en.wikipedia.org/wiki/Neighbor_joining) for details.\n",
    "You could employ several strategies. The first is classical joining where you end up with a structure with all nodes connected. You can also force the algorithm to stop when a set number of clusters has been formed. This makes it comparable to k-Means but without the random seeding (thus deterministic)."
   ]
  },
  {
   "cell_type": "markdown",
   "metadata": {},
   "source": [
    "## A puzzle game \n",
    "<p style=\"font-size:1.2em;font-weight:bold\"> Difficulty level: &#10034;&#10034;&#10034; to &#10034;&#10034;&#10034;&#10034;&#10034;</p>\n",
    "\n",
    "Especially older people will probably know the windows Minesweeper game. It looks like this:  \n",
    "```{image} pics/minesweeper.jpg\n",
    ":alt: mine sweeper\n",
    ":width: 250px\n",
    ":align: center\n",
    "```\n",
    "\n",
    "I have programmed a slightly different version of it using Python and a GUI framework called TKinter:  \n",
    "\n",
    "```{image} pics/mine_hunter.png\n",
    ":alt: mine hunter\n",
    ":width: 300px\n",
    ":align: center\n",
    "```\n",
    "\n",
    "The app code is in the repo of this book [here](https://github.com/MichielNoback/python_intro) (in folder `gui_demo`).  \n",
    "You can download that entire repository as zip archive (button `Code`).  \n",
    "\n",
    "Study the code, and read or watch some tutorials.  \n",
    "Next, head over to https://www.puzzle-tents.com/ and choose a game you would like to re-create. Implement that game using python and tkinter."
   ]
  },
  {
   "cell_type": "markdown",
   "metadata": {},
   "source": [
    "## Create a Game of Life simulation app \n",
    "<p style=\"font-size:1.2em;font-weight:bold\"> Difficulty level: &#10034;&#10034;&#10034;&#10034;&#10034;</p>\n",
    "\n",
    "The [Game of Life](https://en.wikipedia.org/wiki/Conway%27s_Game_of_Life) or Conway's Game of Life is a simulation of a simple growth experiment. It follows a few simple rules deciding whether a cell (an element in a 2D grid) will live or die. The challenge here is to visualize the simulation so you will need to work with a Graphical User Interface (GUI) toolkit. There are several libraries for that purpose available in Python but I suggest you use TkInter, PyQt5 or PySimpleGUI - see [here](https://www.activestate.com/blog/top-10-python-gui-frameworks-compared/). \n"
   ]
  }
 ],
 "metadata": {
  "kernelspec": {
   "display_name": "education",
   "language": "python",
   "name": "education"
  },
  "language_info": {
   "codemirror_mode": {
    "name": "ipython",
    "version": 3
   },
   "file_extension": ".py",
   "mimetype": "text/x-python",
   "name": "python",
   "nbconvert_exporter": "python",
   "pygments_lexer": "ipython3",
   "version": "3.9.16"
  },
  "vscode": {
   "interpreter": {
    "hash": "b0fa6594d8f4cbf19f97940f81e996739fb7646882a419484c72d19e05852a7e"
   }
  }
 },
 "nbformat": 4,
 "nbformat_minor": 2
}
