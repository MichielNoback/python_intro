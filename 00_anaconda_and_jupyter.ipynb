{
 "cells": [
  {
   "cell_type": "markdown",
   "id": "f56675c8",
   "metadata": {
    "slideshow": {
     "slide_type": "slide"
    }
   },
   "source": [
    "# Anaconda"
   ]
  },
  {
   "cell_type": "markdown",
   "id": "7d7191ca",
   "metadata": {
    "slideshow": {
     "slide_type": "fragment"
    }
   },
   "source": [
    "Anaconda is a distribution of Python containing Python, the \"conda\" package and environment manager, and many software packages for data analytics, data science, and scientific computing.\n",
    "\n",
    "Over 150 packages are automatically installed with Anaconda, including Python, NumPy, Pandas, Matplotlib, Jupyter, IPython, Spyder\n",
    "See [https://www.anaconda.com/products/distribution](https://www.anaconda.com/products/distribution)\n"
   ]
  },
  {
   "cell_type": "markdown",
   "id": "7c9e37e6",
   "metadata": {
    "slideshow": {
     "slide_type": "slide"
    }
   },
   "source": [
    "Its \"ecosystem\" consists of three main domains:\n",
    "\n",
    "1. **Anaconda Repository** Over 8,000 open-source data science and machine learning packages, Anaconda-built and compiled for all major operating systems and architectures.\n",
    "2. **Conda** is an open-source package and environment management system. Conda quickly installs, runs, and updates **_packages_** and their dependencies. It also easily creates, saves, loads, and switches between **_environments_** on your local computer. It was created for Python programs, but it can package and distribute software for any language.\n",
    "3. **Anaconda Navigator** A desktop application that lets you manage integrated applications, packages, and environments without using the command line.\n"
   ]
  },
  {
   "cell_type": "markdown",
   "id": "f9917720",
   "metadata": {
    "slideshow": {
     "slide_type": "slide"
    }
   },
   "source": [
    "## Package manager\n",
    "A package is a dedicated set of functions that is wrapped together and labeled with a package name. You load them using the `import` statement. The core Python library only contains a limited amount of packages: `sys`, `os` etc. Using a package manager you can install, delete and update packages that do not ship with the core of Python.\n"
   ]
  },
  {
   "cell_type": "markdown",
   "id": "10601c3f",
   "metadata": {
    "slideshow": {
     "slide_type": "slide"
    }
   },
   "source": [
    "## Environments\n",
    "When starting to work on bigger projects you will use multiple packages. Between projects, these differ and even sometimes cause some conflicts. That is where environments come in. They are isolated (virtual) spaces for working  with Pyton projects. When installing a package in an environment, it does not affect other environments.\n",
    "\n",
    "See [This video](https://www.youtube.com/watch?v=23aQdrS58e0) for an excellent explanation of environment management. It is demonstrated using miniconda which is Anaconda without the GUI (the GUI also gives all this functionality)."
   ]
  },
  {
   "cell_type": "markdown",
   "id": "6efbd3d7",
   "metadata": {
    "slideshow": {
     "slide_type": "slide"
    }
   },
   "source": [
    "## This course\n",
    "\n",
    "In this course we will be working with the tools provided by Anaconda Navigator: Jupyter Notebooks for _literate programming_ (also the majority of the course material), Qt Console for quick testing and experimenting and Spyder for writing _scripts_. These can all be launched from the Anaconda Navigator Home panel.  \n",
    "We will not be working with environments; there is no need because everything we do will be available from any Python 3 distribution."
   ]
  },
  {
   "cell_type": "markdown",
   "id": "965cd296",
   "metadata": {
    "slideshow": {
     "slide_type": "slide"
    }
   },
   "source": [
    "# Jupyter notebooks\n",
    "\n",
    "Jupyter (IPython) is a browser-based notebook with support for highlighted code, code execution and result embedding, text with markup (Markdown, MathJax Equations or HTML), inline plots and other media.\n"
   ]
  },
  {
   "cell_type": "markdown",
   "id": "c623c0c8",
   "metadata": {
    "slideshow": {
     "slide_type": "slide"
    }
   },
   "source": [
    "## Markdown\n",
    "\n",
    "Markdown is a lightweight markup language that you can use to add formatting elements to plaintext text documents. Created by John Gruber in 2004, Markdown is now one of the world’s most popular markup languages.  \n",
    "\n",
    "Using Markdown is different than using a WYSIWYG editor. In an application like Microsoft Word, you click buttons to format words and phrases, and the changes are visible immediately. Markdown isn’t like that. When you create a Markdown-formatted file, you add Markdown syntax to the text to indicate which words and phrases should look different.\n",
    "See [https://www.markdownguide.org/](https://www.markdownguide.org/)"
   ]
  },
  {
   "cell_type": "markdown",
   "id": "61eb0a29",
   "metadata": {
    "slideshow": {
     "slide_type": "slide"
    }
   },
   "source": [
    "An example illustrates best. To generate paragraph headers\n",
    "\n",
    "You use hash symbols like this:\n",
    "\n",
    "```\n",
    "# level one header\n",
    "## level three header\n",
    "##### level five header\n",
    "```\n",
    "\n",
    "Which will be _rendered_ in any app \"speaking\" markdown into something like this:\n",
    "\n",
    "# level one header\n",
    "## level three header\n",
    "##### level five header"
   ]
  },
  {
   "cell_type": "markdown",
   "id": "21f31c8a",
   "metadata": {
    "slideshow": {
     "slide_type": "slide"
    }
   },
   "source": [
    "Here are the most-used markup elements:  \n",
    "\n",
    "```markup\n",
    "# h1 Heading\n",
    "## h2 Heading\n",
    "...\n",
    "###### h6 Heading\n",
    "**bold**\n",
    "_italic_\n",
    "~~strikethrough~~\n",
    "```\n",
    "\n",
    "# h1 Heading\n",
    "## h2 Heading\n",
    "###### h6 Heading\n",
    "**bold**\n",
    "_italic_\n",
    "~~strikethrough~~\n"
   ]
  },
  {
   "cell_type": "raw",
   "id": "82f5074d",
   "metadata": {
    "slideshow": {
     "slide_type": "slide"
    }
   },
   "source": [
    "\n",
    "> blockquote\n",
    "\n",
    ">> nested quote\n",
    "\n",
    "* bullet list item (or +, -)\n",
    "\n",
    "1. A numbered list item\n",
    "\n",
    "[click here](http://www.example.com) a clickable link\n",
    "\n",
    "![image alt text](pics/64px-Simple_Information.png) adds an image\n"
   ]
  },
  {
   "cell_type": "markdown",
   "id": "8a9d49d5",
   "metadata": {
    "slideshow": {
     "slide_type": "subslide"
    }
   },
   "source": [
    "> blockquote\n",
    "\n",
    ">> nested quote\n",
    "\n",
    "* bullet list item (or +, -)\n",
    "<br>\n",
    "1. A numbered list item\n",
    "<br>\n",
    "\n",
    "[click here](http://www.example.com) a clickable link  \n",
    "\n",
    "<br>\n",
    "\n",
    "![image alt text](pics/64px-Simple_Information.png) adds an image  \n",
    "\n",
    "<br>\n"
   ]
  },
  {
   "cell_type": "markdown",
   "id": "b8c7d9a5",
   "metadata": {
    "slideshow": {
     "slide_type": "slide"
    }
   },
   "source": [
    "## Equations\n",
    "\n",
    "Most Markdown processors also support rendering of equations that are specified Latex-style.\n",
    "For instance, this syntax for the equation of the sample standard deviation\n",
    "```\n",
    "$$s = \\sqrt{\\frac{1}{N-1} \\sum_{i=1}^N (x_i - \\overline{x})^2}$$\n",
    "```\n",
    "\n",
    "renders as\n",
    "$$s = \\sqrt{\\frac{1}{N-1} \\sum_{i=1}^N (x_i - \\overline{x})^2}$$\n",
    "\n",
    "\n",
    "Use single dollar sign delimiters `$<equation>$` for inline equations and double dollar sign delimiters `$$<equation>$$` for paragraph equations.  \n",
    "See [this pdf](http://tug.ctan.org/info/undergradmath/undergradmath.pdf) or [this website](https://tilburgsciencehub.com/building-blocks/collaborate-and-share-your-work/write-your-paper/amsmath-latex-cheatsheet/) for a nice cheat sheets."
   ]
  },
  {
   "cell_type": "markdown",
   "id": "8685ee2b",
   "metadata": {
    "slideshow": {
     "slide_type": "slide"
    }
   },
   "source": [
    "### Jupyter keyboard shortcuts\n",
    "\n",
    "**`Enter`\tto enter \"Edit mode\"**\n",
    "\n",
    "```\n",
    "Cmd+A       Select all\n",
    "Cmd+C       Copy\n",
    "Cmd+X       Cut\n",
    "Cmd+V       Paste\n",
    "Cmd+Enter   Run/render cell\n",
    "Shft+Enter  Run+next\n",
    "Alt+Enter   Run+insert\n",
    "Shft+m      Merge\n",
    "```\n",
    "\n",
    "> Cmd is Mac-specific; on Linux or Windows use Ctr"
   ]
  },
  {
   "cell_type": "markdown",
   "id": "e33544f5",
   "metadata": {
    "slideshow": {
     "slide_type": "slide"
    }
   },
   "source": [
    "\n",
    "**`Esc` Enter Command mode**\n",
    "```\n",
    "d+d   Delete cell\n",
    "y     Change to code\n",
    "m     Change to markdown\n",
    "r     Change to raw (no rendering or evaluation)\n",
    "b     New cell below\n",
    "a     New cell above\n",
    "```"
   ]
  },
  {
   "cell_type": "markdown",
   "id": "f18044b8",
   "metadata": {},
   "source": [
    "### IPython/Jupyter magic commands\n",
    "There are many -simply run `%magic` to see them all- these are especially nice to know of.\n",
    "\n",
    "- **`%magic`**: reference on all magic commands\n",
    "- **`%conda`**: run conda terminal command, `%conda install [pkgs]`\n",
    "- **`%load `**: loads code from a source file and replaces the `%load` magic, `%load script.py`\n",
    "- **`%run`**: run a script, `%run script.py`\n",
    "- **`%time`**, **`%timeit`**:  report execution time of a statement\n",
    "- **`%who`**, **`%who_ls`**, **`%whos`**: display variables defined in interactive namespace with varying details/display styles.\n"
   ]
  }
 ],
 "metadata": {
  "celltoolbar": "Slideshow",
  "kernelspec": {
   "display_name": "Python 3 (ipykernel)",
   "language": "python",
   "name": "python3"
  },
  "language_info": {
   "codemirror_mode": {
    "name": "ipython",
    "version": 3
   },
   "file_extension": ".py",
   "mimetype": "text/x-python",
   "name": "python",
   "nbconvert_exporter": "python",
   "pygments_lexer": "ipython3",
   "version": "3.9.13"
  }
 },
 "nbformat": 4,
 "nbformat_minor": 5
}
