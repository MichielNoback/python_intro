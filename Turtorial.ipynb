{
 "cells": [
  {
   "cell_type": "markdown",
   "metadata": {},
   "source": [
    "# Turtorial\n",
    "\n",
    "The Python turtle module is a neat way to get started with programming. In essence, it is a pen on a canvas that is programmed to generate drawings. \n",
    "\n",
    "To get started with turtle, the module needs to be imported. A module is nothing other than a package with functionality (and/or data) to extend the possibilities of the session you're in.\n",
    "\n",
    "_NB: This notebook contains many code snippets. For every snippet, try to formulate (in thought or in writing) what the code means/does, what the data are, what the processes/operations, what the state of the world is at before running the code and how it has changed because of the execution._"
   ]
  },
  {
   "cell_type": "code",
   "execution_count": null,
   "metadata": {},
   "outputs": [],
   "source": [
    "import turtle"
   ]
  },
  {
   "cell_type": "markdown",
   "metadata": {},
   "source": [
    "To see what is available from the module, the Python built-in command `dir` can be used. **This is one of the most useful commands in Python (together with help), as it allows _introspection_ of objects, which means everything in Python!** So, never forget, repeat for memorization: dir, dir, dir, dir, dir! Without an argument, `dir` will show what is there in the active environment. With an argument, it will give a list with the names of the attributes (properties and methods)."
   ]
  },
  {
   "cell_type": "code",
   "execution_count": null,
   "metadata": {},
   "outputs": [],
   "source": [
    "print(dir(turtle))"
   ]
  },
  {
   "cell_type": "markdown",
   "metadata": {},
   "source": [
    "There are quite a few things to it. Let's just focus on the `Turtle` thing, and dive right into the help of that (from the turtle module the Turtle thing, so `turtle.Turtle`):"
   ]
  },
  {
   "cell_type": "code",
   "execution_count": null,
   "metadata": {},
   "outputs": [],
   "source": [
    "help(turtle.Turtle)"
   ]
  },
  {
   "cell_type": "markdown",
   "metadata": {},
   "source": [
    "The help says it is a `class`, and that's nothing more than a definition for a (complex) data type, with properties (data) and methods (functions). Classes are like blueprints or stamps: you can make real instances of them, which is done by calling them like a function. The class instance is an actual object, which we refer to using a variable name. Note that the object comes with a canvas for the drawing. That may not be immediately visible on your screen, but should pop up in your list of windows."
   ]
  },
  {
   "cell_type": "code",
   "execution_count": null,
   "metadata": {},
   "outputs": [],
   "source": [
    "don = turtle.Turtle(shape='turtle')"
   ]
  },
  {
   "cell_type": "markdown",
   "metadata": {},
   "source": [
    "The two main operations with turtles are typically going forward, and going left/right. These are available as turtle methods `forward`, `left` and `right`. The first takes as argument the number of pixels to move, while the other two take an argument in degrees. \n",
    "\n",
    "Now, the result of the following code blocks should be obvious. Note that some elements (methods) are introduced without mention, but their meaning should be obvious. For every code block, try to deduce and formulate explicitly what the code does and what the result will be. Don't forget to use `help()` to clarify things."
   ]
  },
  {
   "cell_type": "markdown",
   "metadata": {},
   "source": [
    "### 1. Line"
   ]
  },
  {
   "cell_type": "code",
   "execution_count": null,
   "metadata": {},
   "outputs": [],
   "source": [
    "don.forward(100)\n",
    "don.right(90)"
   ]
  },
  {
   "cell_type": "markdown",
   "metadata": {},
   "source": [
    "### 2. Reset"
   ]
  },
  {
   "cell_type": "code",
   "execution_count": null,
   "metadata": {},
   "outputs": [],
   "source": [
    "don.reset()"
   ]
  },
  {
   "cell_type": "markdown",
   "metadata": {},
   "source": [
    "### 3. Square (1)"
   ]
  },
  {
   "cell_type": "code",
   "execution_count": null,
   "metadata": {},
   "outputs": [],
   "source": [
    "don.forward(100)\n",
    "don.right(90)\n",
    "don.forward(100)\n",
    "don.right(90)\n",
    "don.forward(100)\n",
    "don.right(90)\n",
    "don.forward(100)\n",
    "don.right(90)"
   ]
  },
  {
   "cell_type": "markdown",
   "metadata": {},
   "source": [
    "### 4. Square (2)"
   ]
  },
  {
   "cell_type": "code",
   "execution_count": null,
   "metadata": {},
   "outputs": [],
   "source": [
    "don.reset()\n",
    "\n",
    "for line in range(4):\n",
    "    print(\"Line\", line)\n",
    "    don.forward(100)\n",
    "    don.right(90)"
   ]
  },
  {
   "cell_type": "markdown",
   "metadata": {},
   "source": [
    "### 5. Heptagon"
   ]
  },
  {
   "cell_type": "code",
   "execution_count": null,
   "metadata": {},
   "outputs": [],
   "source": [
    "don.reset()\n",
    "\n",
    "for line in range(7):\n",
    "    don.forward(100)\n",
    "    don.right(360 / 7)"
   ]
  },
  {
   "cell_type": "markdown",
   "metadata": {},
   "source": [
    "### 6. Anygon"
   ]
  },
  {
   "cell_type": "code",
   "execution_count": null,
   "metadata": {},
   "outputs": [],
   "source": [
    "def polygon(sides):\n",
    "    for side in range(sides):\n",
    "        don.forward(100)\n",
    "        don.right(360 / sides)\n",
    "        \n",
    "don.reset()\n",
    "polygon(7)"
   ]
  },
  {
   "cell_type": "markdown",
   "metadata": {},
   "source": [
    "### 7. Flower"
   ]
  },
  {
   "cell_type": "code",
   "execution_count": null,
   "metadata": {},
   "outputs": [],
   "source": [
    "don.reset()\n",
    "don.speed(0)\n",
    "\n",
    "number = 100\n",
    "for shape in range(number):\n",
    "    polygon(11)\n",
    "    don.left(360 / number)"
   ]
  },
  {
   "cell_type": "markdown",
   "metadata": {},
   "source": [
    "### 8. Color (1)"
   ]
  },
  {
   "cell_type": "code",
   "execution_count": null,
   "metadata": {},
   "outputs": [],
   "source": [
    "rainbow = [\"red\", \"orange\", \"yellow\", \"green\", \"cyan\", \"blue\", \"purple\"]\n",
    "\n",
    "don.reset()\n",
    "don.speed(0)\n",
    "\n",
    "number = 98\n",
    "for shape in range(number):\n",
    "    index = shape % len(rainbow)\n",
    "    don.color(rainbow[index])\n",
    "    polygon(7)\n",
    "    don.right(360 / number)"
   ]
  },
  {
   "cell_type": "markdown",
   "metadata": {},
   "source": [
    "### 9. Color (2)"
   ]
  },
  {
   "cell_type": "code",
   "execution_count": null,
   "metadata": {},
   "outputs": [],
   "source": [
    "don.reset()\n",
    "don.speed(0)\n",
    "\n",
    "number = 98\n",
    "for shape in range(number):\n",
    "    index = int(len(rainbow) * shape / number)\n",
    "    don.color(rainbow[index])\n",
    "    polygon(7)\n",
    "    don.right(360 / number)"
   ]
  },
  {
   "cell_type": "markdown",
   "metadata": {},
   "source": [
    "### 10. Color (3)"
   ]
  },
  {
   "cell_type": "code",
   "execution_count": null,
   "metadata": {},
   "outputs": [],
   "source": [
    "don.reset()\n",
    "don.speed(0)\n",
    "\n",
    "\n",
    "def gradient(start, end, length):\n",
    "    '''Generate a smooth color gradient with a given length'''\n",
    "    length = length - 1 # To account for the end, right?\n",
    "    r1, g1, b1 = start\n",
    "    r2, g2, b2 = end\n",
    "    dr = (r2 - r1) / length\n",
    "    dg = (g2 - g1) / length\n",
    "    db = (b2 - b1) / length\n",
    "    colors = []\n",
    "    for step in range(length):\n",
    "        colors.append((r1 + step * dr, g1 + step * dg, b1 + step * db))\n",
    "    colors.append(end)\n",
    "    return colors\n",
    "\n",
    "\n",
    "number = 100\n",
    "smooth = gradient((1,1,0), (1, 0, 0.5), number)\n",
    "for idx in range(number):\n",
    "    don.color(smooth[idx])\n",
    "    polygon(4)\n",
    "    don.right(360 / number)"
   ]
  },
  {
   "cell_type": "markdown",
   "metadata": {},
   "source": [
    "### 11. Color (4)"
   ]
  },
  {
   "cell_type": "code",
   "execution_count": null,
   "metadata": {},
   "outputs": [],
   "source": [
    "don.reset()\n",
    "don.speed(0)\n",
    "\n",
    "rainbow = [(1,0,0), (1,1,0), (0,1,0), (0,1,1), (0,0,1), (1,0,1)]\n",
    "number = 15\n",
    "\n",
    "smooth = []\n",
    "for idx in range(len(rainbow)):\n",
    "    part = gradient(rainbow[idx], rainbow[(idx + 1) % len(rainbow)], number)\n",
    "    smooth = smooth + part[1:]\n",
    "\n",
    "total = len(smooth)\n",
    "for idx in range(total):\n",
    "    don.color(smooth[idx])\n",
    "    polygon(5)\n",
    "    don.right(360 / total)"
   ]
  },
  {
   "cell_type": "markdown",
   "metadata": {},
   "source": [
    "### 12. Star using more turtles"
   ]
  },
  {
   "cell_type": "code",
   "execution_count": null,
   "metadata": {},
   "outputs": [],
   "source": [
    "turtle.clearscreen()\n",
    "\n",
    "turtles = []\n",
    "for idx in range(total):\n",
    "    turtles.append(turtle.Turtle(shape=\"turtle\"))\n",
    "    turtles[-1].color(smooth[idx])\n",
    "    turtles[-1].speed(9)\n",
    "    turtles[-1].right(idx * 360 / total)\n",
    "    turtles[-1].forward(200)"
   ]
  },
  {
   "cell_type": "markdown",
   "metadata": {},
   "source": [
    "### 13. A flower using more turtles\n",
    "\n",
    "The difference is that the 'perspective' is correct (the first drawn lines are all in the back)."
   ]
  },
  {
   "cell_type": "code",
   "execution_count": null,
   "metadata": {},
   "outputs": [],
   "source": [
    "turtle.clearscreen()\n",
    "\n",
    "turtles = []\n",
    "for idx in range(total):\n",
    "    turtles.append(turtle.Turtle(shape=\"turtle\"))\n",
    "    turtles[-1].color(smooth[idx])\n",
    "    turtles[-1].speed(9)\n",
    "    turtles[-1].right(idx * 360 / total)\n",
    "    turtles[-1].forward(200)\n",
    "    \n",
    "for line in range(4):\n",
    "    for turt in turtles:\n",
    "        turt.right(72)\n",
    "        turt.forward(50)"
   ]
  },
  {
   "cell_type": "markdown",
   "metadata": {},
   "source": [
    "### 14. Time to get creative... "
   ]
  },
  {
   "cell_type": "code",
   "execution_count": null,
   "metadata": {},
   "outputs": [],
   "source": []
  },
  {
   "cell_type": "markdown",
   "metadata": {},
   "source": [
    "# A spirograph"
   ]
  },
  {
   "cell_type": "markdown",
   "metadata": {},
   "source": [
    "A spirograph consists of two gears, where one is fixed and the other moves over it (or on the inside of a gear wheel). The moving gear has a penhole somewhere, such that the pen will circle around the gear's center, while it rolls over (in) the fixed gear, tracing a spiral.\n",
    "\n",
    "To work towards the turtle spirograph, we first sketch the problem using a drawing with gears. That means we first have to draw gears:"
   ]
  },
  {
   "cell_type": "code",
   "execution_count": null,
   "metadata": {},
   "outputs": [],
   "source": [
    "import numpy as np\n",
    "import matplotlib.pyplot as plt\n",
    "\n",
    "# A simple gear is a circle in which the radius moves inward and outward\n",
    "# Let's first draw a gear with 50 spikes and one with 20\n",
    "\n",
    "# The base circle\n",
    "u = np.linspace(0, 2 * np.pi, num=1000)\n",
    "\n",
    "# Setting up the plot space\n",
    "ax = plt.subplot(111)\n",
    "\n",
    "# Draw the first gear: It has a radius of 20 with a sine wave over it.\n",
    "amplitude1 = 20 + np.sin(50 * u)\n",
    "x1 = amplitude1 * np.cos(u)\n",
    "y1 = amplitude1 * np.sin(u)\n",
    "plt.plot(x1, y1)\n",
    "\n",
    "# Draw the second gear: It has a radius of 8 with a sine wave over it.\n",
    "# This one is positioned on the side of the large one. \n",
    "# Note that the radii and the number of teeth both have a ratio of 10:4\n",
    "# but the wave amplitude is the same size in both\n",
    "amplitude2 =  8 + np.sin(20 * u)\n",
    "x2 = 29 + amplitude2 * np.cos(u)\n",
    "y2 = amplitude2 * np.sin(u)\n",
    "plt.plot(x2, y2, c='red')\n",
    "\n",
    "# This is the center of the moving gear\n",
    "plt.plot(29, 0, 'o', c='black')\n",
    "\n",
    "# This is the pen hole\n",
    "plt.plot(33, 0, 'o', c='white')\n",
    "\n",
    "# This is the path the center of the second gear follows\n",
    "# The zorder=0 argument makes that the path is plotted behind the gear\n",
    "plt.plot(29*np.cos(u), 29*np.sin(u), '--', c=\"gray\", zorder=0)\n",
    "\n",
    "# Prettify the drawing by filling the shapes\n",
    "ax.fill(x1, y1, 'b', x2, y2, 'r', alpha=0.5)\n",
    "\n",
    "# Make sure the aspect is fixed (x and y have the same size per unit)\n",
    "ax.set_aspect('equal', 'datalim')\n",
    "\n",
    "# Now draw the plot\n",
    "plt.show()"
   ]
  },
  {
   "cell_type": "markdown",
   "metadata": {},
   "source": [
    "With this illustration, we can understand and formulate the problem at hand. The center of the red gear rolls over the circle drawn with a dashed grey line around the blue one. If the blue gear has radius B, then it has a circumference of $2 \\pi B$. If the red gear has radius R, then it has a circumference of $2 \\pi R$, which means it will make $B / R$ rolls over the surface of the blue gear. \n",
    "\n",
    "For now we assume that the gears have nice sizes, such that the red circle makes an integer number of rolls. In that case, the position of the center is only relevant on the interval from $0$ to $2 \\pi$, because at each point the position of the penhole is uniquely defined. This makes nice drawings. And it's simple to implement.\n",
    "\n",
    "The implementation is in the form of a function that takes a turtle object as first argument, the radius of the fixed gear and the number of turns the mobile gear makes. In addition, the distance of the pen from the center of the mobile gear is provided and the number of steps/points to use for drawing, which gets a default value of 1000. \n",
    "\n",
    "The first step is determining the radius $r$ of the mobile gear, by dividing the radius by the turns. Then for each step, the position of the mobile gear and of the penhole are calculated. \n",
    "\n",
    "The position of the mobile (red) gear is set as the angle $t$, which follows from the step number, knowing that all steps is equal to a full circle. \n",
    "\n",
    "At the angle t, the position of the center of the mobile gear is $( x, y ) = ( (B + R)\\cos t, (B + R)\\sin t )$. To this we need to add the relative position of the penhole with respect to that center.\n",
    "\n",
    "The distance traveled over the circumference of the fixed gear is $\\left(t / ( 2 \\pi ) \\right) \\left(2 \\pi B\\right) = tB$. The total distance over the circumference of the red gear must be equal, with phase (angle) $p$ following from $ p R = t B $, such that $p = t B / R$.\n",
    "\n",
    "The position of the pen at distance $h$ of the mobile gear center, relative to that center is then $(x, y) = (h \\cos p, h \\sin p)$. These coordinates are added to those of the center itself, marking the $x$ and $y$ coordinates for the next point to be drawn."
   ]
  },
  {
   "cell_type": "code",
   "execution_count": null,
   "metadata": {},
   "outputs": [],
   "source": [
    "def spiro(tortoise, radius, turns, pen, steps=1000):\n",
    "    B = radius\n",
    "    R = radius / turns\n",
    "    tortoise.penup() # Pen is up during first cycle\n",
    "    for step in range(steps):\n",
    "        t = step * 2 * np.pi / (steps - 1)\n",
    "        p = B * t / R\n",
    "        x = (R + B) * np.cos(t) + pen * np.cos(p)\n",
    "        y = (R + B) * np.sin(t) + pen * np.sin(p)\n",
    "        tortoise.goto(x, y)\n",
    "        tortoise.pendown()\n",
    "    return"
   ]
  },
  {
   "cell_type": "code",
   "execution_count": null,
   "metadata": {},
   "outputs": [],
   "source": [
    "don = turtle.Turtle(shape=\"turtle\")\n",
    "don.color('red')\n",
    "don.pensize(10)\n",
    "spiro(don, 100, 50, 50, 2000)"
   ]
  },
  {
   "cell_type": "markdown",
   "metadata": {},
   "source": [
    "## Fractals - Lindenmayer System"
   ]
  },
  {
   "cell_type": "markdown",
   "metadata": {},
   "source": [
    "_ ... a fractal is a detailed, recursive, and infinitely self-similar mathematical set (Wikipedia) _\n",
    "\n",
    "Fractals are typically known as line or pixel drawings, where you can zoom in to find that every small piece, at every level of magnification, shows the same pattern as the whole thing on the large scale. They are generated from mathematical rules, which are applied recursively. A simple example is the replacement of a single line by two lines under an angle, then replacing the two lines so obtained each by two lines under an angle, and continue this process up to infinity, the point where boredom sets in, or the point where the change is not noticeable anymore anyway.\n",
    "\n",
    "Many line-based fractals, replacing each part with the same pattern, can be easily described as a recursive series of steps (forward and turn), where certain steps are replaced with the same pattern. These types of fractals are known as [Lindenmayer systems](https://en.wikipedia.org/wiki/L-system). As it's moves and turns, these can be nicely drawn with turtle graphics (providing a nice/typical showcase for recursive functions.\n",
    "\n",
    "One of the simplest of such patterns is the Hilbert function, of which the basis is formed by three lines, drawn as: right, forward, left, forward, left, forward, right. This can be abbreviated as the movement string *'+F-F-F+'*, noting that the right and left turns have a fixed angle (90 degrees) and the length of a step is also fixed. The 'mirror image' of this pattern is *'-F+F+F-'*. This is the same pattern, but with reversal of the turns. We call these two the *'A'* and *'B'* sequences, and we change the sequences to include self-references, so we get replacement rules\n",
    "\n",
    "* A -> '-BF+AFA+FB-'\n",
    "* B -> '+AF-BFB-FA+'\n",
    "\n",
    "We set up turtle to respond to such strings. This is what needs to be done:\n",
    "\n",
    "For each character in the string, we select the corresponding move: if the character is an 'R', turn 90 degrees right, otherwise if it's an 'L', go left. If it's an 'F', go forward, and if it's something else (an 'A' or 'B'), ignore it.\n",
    "\n",
    "...\n",
    "\n",
    "Let's restructure the foregoing paragraph:\n",
    "\n",
    "```\n",
    "For each character in the string:\n",
    "  # we select the corresponding move\n",
    "  if the character is an 'R':\n",
    "    turn 90 degrees right, \n",
    "  otherwise if it's an 'L':\n",
    "    go left. \n",
    "  If it's an 'F':\n",
    "    go forward \n",
    "  if it's something else (an 'A' or 'B'):\n",
    "    ignore it.\n",
    "```\n",
    "\n",
    "Funny thing here, only reformatting the text already gives a feel for the code. This is not real code yet, but something half between regular language and a programming language: **pseudocode**. From here, it's quite easy to translate for real.\n",
    "\n",
    "Now try to implement a Lindenmayer System (e.g., a Dragon Curve) in Python using turtle, using a string to encode the movement."
   ]
  },
  {
   "cell_type": "code",
   "execution_count": null,
   "metadata": {},
   "outputs": [],
   "source": []
  }
 ],
 "metadata": {
  "kernelspec": {
   "display_name": "Python 3 (ipykernel)",
   "language": "python",
   "name": "python3"
  },
  "language_info": {
   "codemirror_mode": {
    "name": "ipython",
    "version": 3
   },
   "file_extension": ".py",
   "mimetype": "text/x-python",
   "name": "python",
   "nbconvert_exporter": "python",
   "pygments_lexer": "ipython3",
   "version": "3.9.12"
  }
 },
 "nbformat": 4,
 "nbformat_minor": 2
}
