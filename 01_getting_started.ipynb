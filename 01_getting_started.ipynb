{
 "cells": [
  {
   "cell_type": "markdown",
   "metadata": {
    "slideshow": {
     "slide_type": "skip"
    }
   },
   "source": [
    "# A quick overview\n",
    "\n",
    "In this course you will get to know the programming language **Python**. You will get to know the language up to a level where you will be able to write basic scripts and custom modules and classes. You will know how to run Python code as an executable program, in an interactive loop (e.g. QTconsole), or in a notebook environment such as Jupyter.\n",
    "\n",
    "Since this is the preferred way for a majority of data scientists, and a convenient form for educational purposes, we will mainly focus on the notebook environment. The document you are currently reading is a **Jupyter** notebook rendered into an e-Book ([Jupyterbook](https://jupyterbook.org/))."
   ]
  },
  {
   "cell_type": "markdown",
   "metadata": {
    "slideshow": {
     "slide_type": "slide"
    }
   },
   "source": [
    "## Calculating the surface area of triangles\n",
    "In this chapter we will walk through an entire coding case to create a standalone program that can be executed in a terminal environment (MacOS & Linux: terminal, Windows: Command Prompt).  \n",
    "The case is a trivial example: calculating the surface area of triangles."
   ]
  },
  {
   "cell_type": "markdown",
   "metadata": {
    "slideshow": {
     "slide_type": "slide"
    }
   },
   "source": [
    "### Variables\n",
    "\n",
    "Suppose I want to calculate the surface of three different equilateral triangles, with sides 3, 4 and 2.21 respectively.\n",
    "First I define a **variable** representing the length of all equal sides and assign an initial value to it. To inspect the value of a variable at any given time you can `print()` it."
   ]
  },
  {
   "cell_type": "code",
   "execution_count": 1,
   "metadata": {
    "slideshow": {
     "slide_type": "fragment"
    }
   },
   "outputs": [
    {
     "name": "stdout",
     "output_type": "stream",
     "text": [
      "3\n"
     ]
    }
   ],
   "source": [
    "side = 3\n",
    "print(side) # print the side"
   ]
  },
  {
   "cell_type": "markdown",
   "metadata": {
    "slideshow": {
     "slide_type": "slide"
    }
   },
   "source": [
    "### Comments\n",
    "Note the use of `#text` to add human-readable comments to the code. In all Python code (notebook code cell, script and repl console), everything on a line after `#` will be ignored when evaluating the cell. When using an editor with syntax highlighting this will be shown clearly with a grey or other light color, as in the cell above."
   ]
  },
  {
   "cell_type": "markdown",
   "metadata": {
    "slideshow": {
     "slide_type": "skip"
    }
   },
   "source": [
    "```{admonition} Code comments\n",
    ":class: note\n",
    "Any text occurring on a line after a hash symbol `#` will be ignored by the python interpreter.  \n",
    "Text after a hash is called code comment.\n",
    "```"
   ]
  },
  {
   "cell_type": "markdown",
   "metadata": {
    "slideshow": {
     "slide_type": "skip"
    }
   },
   "source": [
    "### Functions\n",
    "The phrase `print` is the name of a **function**. This particular function can be used to display text on the console (or as output from a code cell). Arguments to a function are passed between a pair of parentheses `()`. \n",
    "\n",
    "A function is a re-usable piece of code, accessible by its name. It can receive input data (arguments) specified by its parameters, passed into the function between a pair of parentheses `()`.  \n",
    "Even if there are no arguments to be passed, the parentheses are mandatory.  \n"
   ]
  },
  {
   "cell_type": "markdown",
   "metadata": {},
   "source": [
    "```{admonition} Displaying results of a cell\n",
    ":class: note\n",
    "The result of the last expression in a notebook cell will be displayed even if it is not `print()`-ed explicitly.\n",
    "```"
   ]
  },
  {
   "cell_type": "markdown",
   "metadata": {
    "slideshow": {
     "slide_type": "slide"
    }
   },
   "source": [
    "### Operators\n",
    "Next, I use the `side` variable to calculate the surface of a 3 - 3 - 3 triangle:\n",
    "\n",
    "The formula to calculate the surface area of a triangle is \n",
    "$$\\frac{1}{2} * width * height$$\n",
    "but since it is equilateral we can simply use\n",
    "$$\\frac{1}{2} * side^2$$\n",
    "\n",
    "To calculate this, you will need to combine data in a mathematical ways such as addition, subtraction, multiplication, division etc. We call the symbols that signal these mathematical operations _operators_.  \n",
    "Below you see two of these: `*` and `**`."
   ]
  },
  {
   "cell_type": "code",
   "execution_count": 8,
   "metadata": {
    "slideshow": {
     "slide_type": "fragment"
    }
   },
   "outputs": [
    {
     "data": {
      "text/plain": [
       "'The area of an equilateral triangle with side 3 is 4.5'"
      ]
     },
     "execution_count": 8,
     "metadata": {},
     "output_type": "execute_result"
    }
   ],
   "source": [
    "side = 3\n",
    "area =  0.5 * side**2\n",
    "\n",
    "f'The area of an equilateral triangle with side {side} is {area}'\n"
   ]
  },
  {
   "cell_type": "markdown",
   "metadata": {
    "slideshow": {
     "slide_type": "skip"
    }
   },
   "source": [
    "```{admonition} Operators\n",
    ":class: note\n",
    "Operators such as `*` and `**` are (combinations of) symbols within Python code that _operate_ on (usually) the two values on either side of it (named _operands_), and that will generate a new value from these two input values. \n",
    "We call this combination an _expression_.  \n",
    "```"
   ]
  },
  {
   "cell_type": "markdown",
   "metadata": {
    "slideshow": {
     "slide_type": "skip"
    }
   },
   "source": [
    "The mathematical operators in Python are not a big surprise: `+` is the addition operator that takes the values on either side and returns the sum of the two.\n",
    "Other mathematical operators are minus (`-`), plus (`+`), division (`/`).  \n",
    "\n",
    "There are many more operators, classified as _mathematical_ (like the above), _assignment_ (like the `=` symbol in the above cells), _comparison_ operators (such as `<`), and some more categories.  \n",
    "\n",
    "A complete listing of operators can be found [here](https://www.w3schools.com/python/python_operators.asp) or \n",
    "[here](https://www.tutorialspoint.com/python/python_basic_operators.htm)"
   ]
  },
  {
   "cell_type": "markdown",
   "metadata": {
    "slideshow": {
     "slide_type": "slide"
    }
   },
   "source": [
    "### Format strings\n",
    "In the code cell above you may have noticed the use of this:\n",
    "\n",
    "```python\n",
    "f'The area of an equilateral triangle with side {side} is {area}'\n",
    "```\n",
    "\n",
    "The structure `f'Some text with {variable}'` is a _format string_. A format string is character sequence in which we can insert values from python variables or expressions at the location of the curly braces to produce this:  \n",
    "  \n",
    "`'The area of an equilateral triangle with side 3 is 4.5'`\n"
   ]
  },
  {
   "cell_type": "markdown",
   "metadata": {
    "slideshow": {
     "slide_type": "skip"
    }
   },
   "source": [
    "Until a few Python versions ago we could not use format strings and needed to write this:\n",
    "\n",
    "`print(\"The area of an equilateral triangle with side \", side, \" is \", area)'`\n",
    "\n",
    "instead of this:\n",
    "\n",
    "`f'The area of an equilateral triangle with side {side} is {area}'`\n",
    "\n",
    "A big improvement!"
   ]
  },
  {
   "cell_type": "markdown",
   "metadata": {
    "slideshow": {
     "slide_type": "slide"
    }
   },
   "source": [
    "### Custom functions\n",
    "\n",
    "Now I want to do the same calculation and reporting for triangles with other side lengths. I could just copy-and-paste all code, as in the cell below:"
   ]
  },
  {
   "cell_type": "code",
   "execution_count": 7,
   "metadata": {
    "slideshow": {
     "slide_type": "fragment"
    }
   },
   "outputs": [
    {
     "name": "stdout",
     "output_type": "stream",
     "text": [
      "The area of an equilateral triangle with side 4 is 8.0\n",
      "The area of an equilateral triangle with side 2.21 is 2.44\n"
     ]
    }
   ],
   "source": [
    "side = 4\n",
    "area =  0.5 * side**2\n",
    "\n",
    "print(f'The area of an equilateral triangle with side {side} is {area}') \n",
    "\n",
    "side = 2.21\n",
    "area =  0.5 * side**2\n",
    "\n",
    "#note the use of round() in the statement below\n",
    "print(f'The area of an equilateral triangle with side {side} is {round(area, 2)}') "
   ]
  },
  {
   "cell_type": "markdown",
   "metadata": {
    "slideshow": {
     "slide_type": "slide"
    }
   },
   "source": [
    "This is awful!   \n",
    "\n",
    "Copy-and-paste activities are a real no-no in programming. Whenever you catch yourself using Ctrl+C & Ctrl+V, stop and think of a better way to do it.  \n",
    "\n",
    "In many cases this will result in extracting the copied code into a custom **function**.  "
   ]
  },
  {
   "cell_type": "markdown",
   "metadata": {
    "slideshow": {
     "slide_type": "slide"
    }
   },
   "source": [
    "Below, the re-used piece of code is embedded in the function named `triangle_area`. It takes a single argument named `side` which is implicitly assumed to be a number."
   ]
  },
  {
   "cell_type": "code",
   "execution_count": 2,
   "metadata": {
    "slideshow": {
     "slide_type": "fragment"
    }
   },
   "outputs": [],
   "source": [
    "def print_triangle_area(side):\n",
    "    area =  0.5 * side**2\n",
    "    print(f'The area of an equilateral triangle with side {side} is {round(area, 2)}')\n"
   ]
  },
  {
   "cell_type": "markdown",
   "metadata": {
    "slideshow": {
     "slide_type": "slide"
    }
   },
   "source": [
    "With this function defined (and loaded) it is easy to repeat the operation for a whole series of values:"
   ]
  },
  {
   "cell_type": "code",
   "execution_count": 8,
   "metadata": {
    "slideshow": {
     "slide_type": "fragment"
    }
   },
   "outputs": [
    {
     "name": "stdout",
     "output_type": "stream",
     "text": [
      "The area of an equilateral triangle with side 3 is 4.5\n",
      "The area of an equilateral triangle with side 4 is 8.0\n",
      "The area of an equilateral triangle with side 2.21 is 2.44\n"
     ]
    }
   ],
   "source": [
    "print_triangle_area(3)\n",
    "print_triangle_area(4)\n",
    "print_triangle_area(2.21)"
   ]
  },
  {
   "cell_type": "markdown",
   "metadata": {
    "slideshow": {
     "slide_type": "slide"
    }
   },
   "source": [
    "### Flow control: a \"loop\"\n",
    "But wait! There is still copied code. We now take a leap forward in Python programming concepts. We use the `for` loop to _iterate_ over a collection of values and a `list`, which is an ordered collection of values maintained as a single unit. Here is a solution that does not use copied code at all."
   ]
  },
  {
   "cell_type": "code",
   "execution_count": 8,
   "metadata": {
    "slideshow": {
     "slide_type": "fragment"
    }
   },
   "outputs": [
    {
     "name": "stdout",
     "output_type": "stream",
     "text": [
      "The area of an equilateral triangle with side 3 is 4.5\n",
      "The area of an equilateral triangle with side 4 is 8.0\n",
      "The area of an equilateral triangle with side 2.21 is 2.44\n"
     ]
    }
   ],
   "source": [
    "sides = [3, 4, 2.21]        # a list of values\n",
    "for n in sides:             # iterate using for\n",
    "    print_triangle_area(n)  # the iterated block"
   ]
  },
  {
   "cell_type": "markdown",
   "metadata": {
    "slideshow": {
     "slide_type": "fragment"
    }
   },
   "source": [
    "The `for` loop _iterates_ an iterable (a collection of values) and executes the given block for each of the values. We call this type of construct a **flow control** element because it controls the flow of the program.  "
   ]
  },
  {
   "cell_type": "markdown",
   "metadata": {
    "slideshow": {
     "slide_type": "slide"
    }
   },
   "source": [
    "## Bring it together in a program\n",
    "\n",
    "By now you may be thinking that this does not look like programming at all. Where is the program?\n",
    "Actually, there is there is programming code but no standalone program here.\n",
    "\n",
    "A program is usually a piece of functionality on a computer or other device that receives some input (keyboard, mouse, touchscreen, sensor, etc.) and generates some output (screen, terminal, file, database)."
   ]
  },
  {
   "cell_type": "markdown",
   "metadata": {
    "slideshow": {
     "slide_type": "slide"
    }
   },
   "source": [
    "Given the triangle example above, a standalone terminal program for calculating and reporting triangle surface area would look like the cell below.  "
   ]
  },
  {
   "cell_type": "markdown",
   "metadata": {
    "slideshow": {
     "slide_type": "fragment"
    }
   },
   "source": [
    "```python\n",
    "'''This program calculates the surface of equilateral triangles with sides given on the command line.'''\n",
    "\n",
    "import sys                            # non-core language functionality needs to be imported\n",
    "\n",
    "def print_triangle_area(side):\n",
    "    '''Calculates the area of a triangle with given side.'''\n",
    "    area =  0.5 * side**2\n",
    "    print(f'The area of an equilateral triangle with side {side} is {round(area, 2)}')\n",
    "\n",
    "for arg in sys.argv[1:]:              # loop the command-line arguments\n",
    "    side = float(arg)                 # convert to number (command line args are always character data)\n",
    "    print_triangle_area(side)\n",
    "```"
   ]
  },
  {
   "cell_type": "markdown",
   "metadata": {
    "slideshow": {
     "slide_type": "slide"
    }
   },
   "source": [
    "\n",
    "Suppose this code is stored in a text file (e.g. 'triangle_surface.py') on your computer it could be run from a terminal (Linux or MacOS) or command prompt (Windows) using the command \n",
    "\n",
    "```\n",
    "> python3 triangle_surface.py 3 4 2.21\n",
    "The area of an equilateral triangle with side 3 is 4.5\n",
    "The area of an equilateral triangle with side 4 is 8.0\n",
    "The area of an equilateral triangle with side 2.21 is 2.44\n",
    "```\n",
    "\n",
    "The code for this program, which we usually call a **script**, can be found [here](./scripts/triangle_surface.py).  "
   ]
  },
  {
   "cell_type": "markdown",
   "metadata": {
    "slideshow": {
     "slide_type": "slide"
    }
   },
   "source": [
    "There are some elements that you may not understand yet. For those who cannot proceed without a little premature explanation:  \n",
    "\n",
    "- `import sys` says \"load the functionality located in module `sys` and make it available here\". The functionality that is available by default in any Python program is rather limited to keep it lean. Any additional functionality must be loaded from modules using an **import statement**.\n",
    "- `sys.argv` is the list of arguments entered on the command line, in this case `[\"triangle_surface.py\", \"3\", \"4\", \"2.21\"]`. We'll get to lists in the next chapter. \n",
    "- `for arg in sys.argv[1:]:` this says: \"iterate the command-line arguments but skip the first\". Again, subject of a later chapter."
   ]
  },
  {
   "cell_type": "markdown",
   "metadata": {},
   "source": [
    "## Key Concepts"
   ]
  },
  {
   "cell_type": "markdown",
   "metadata": {
    "slideshow": {
     "slide_type": "skip"
    }
   },
   "source": [
    ":::{important} \n",
    "\n",
    "- **(computer) program**: a computer program is a sequence or set of instructions in a programming language that a computer (or other device) can execute or interpret.\n",
    "- **flow control**: programming elements that control the flow of a program. Flow control elements are used for iteration and conditional execution.\n",
    "- **function**: A function is a chunk of code (usually named) that you can re-use, rather than copying it multiple times. Functions enable programmers to break down a problem into smaller pieces, each of which performs a particular task.\n",
    "- **import**: A statement making functionality available that is not loaded by default.\n",
    "- **Jupyter**: a Notebook platform in which you do interactive _literate programming_. It supports Julia, Python and R.  \n",
    "- **Markdown**: Markdown is a lightweight markup language that you can use to add formatting elements to plaintext text documents. It is used in a wide range of settings: Jupyter Notebooks, R Markdown, eBook authoring etcetera.\n",
    "- **operator**: a symbol that operates on operands, usually on both sides, together forming an expression.\n",
    "- **Python**: a very popular _programming language_, praised for its ease of learning and use and applicability in a wide range of programming challenges.  \n",
    "- **script**: a text file with computer code that can be executed as a program, usually by the _interpreter_ for the programming lanuage used.\n",
    "- **variable**: a program element that couples a name to a memory location with some contents.\n",
    ":::"
   ]
  }
 ],
 "metadata": {
  "celltoolbar": "Slideshow",
  "kernelspec": {
   "display_name": "Python 3 (ipykernel)",
   "language": "python",
   "name": "python3"
  },
  "language_info": {
   "codemirror_mode": {
    "name": "ipython",
    "version": 3
   },
   "file_extension": ".py",
   "mimetype": "text/x-python",
   "name": "python",
   "nbconvert_exporter": "python",
   "pygments_lexer": "ipython3",
   "version": "3.9.12"
  },
  "vscode": {
   "interpreter": {
    "hash": "b0fa6594d8f4cbf19f97940f81e996739fb7646882a419484c72d19e05852a7e"
   }
  }
 },
 "nbformat": 4,
 "nbformat_minor": 2
}
