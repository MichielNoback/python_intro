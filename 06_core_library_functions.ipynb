{
 "cells": [
  {
   "cell_type": "markdown",
   "id": "29ff7b0b",
   "metadata": {
    "slideshow": {
     "slide_type": "slide"
    }
   },
   "source": [
    "# The core library functions\n",
    "\n",
    "Python ships with a wealth of built-in functions at your disposal.\n",
    "Some are readily available but many should be \"activated\" using an `import` statement.\n",
    "\n",
    "This chapter only deals with a very cursory inspection; your should really bookmark the [docs](https://docs.python.org/3/library/index.html).\n"
   ]
  },
  {
   "cell_type": "markdown",
   "id": "16e2b399",
   "metadata": {
    "slideshow": {
     "slide_type": "slide"
    }
   },
   "source": [
    "## Built-in functions\n",
    "These are the functions you have always at your disposal, without `import` statement. The list is not very long because this keeps the core of Python lean.\n",
    "The complete list can be found in the [doc page on built-ins](https://docs.python.org/3/library/functions.html)\n",
    "\n",
    "The core contains \"constructor functions\" for all built-in datatypes - which we have already seen: `bool()`, `dict()`, `float()`, `int()`, `list()`, `set()`, `str()`, `tuple()` (some were not discussed and will neither be listed here)\n",
    "\n",
    "Also already discussed or demonstrated were `help()`, `input()`, `len()`, `max()`, `min()`, `range()`, `type()`\n",
    "\n",
    "There are some functions related to object-oriented programming (OOP): `getattr()`, `setattr()`, `hasattr()`, `isinstance()`, `issubclass()`, `iter()`, `next()`, `staticmethod()` that will be deiscussed in the chapter on OOP.\n"
   ]
  },
  {
   "cell_type": "markdown",
   "id": "b1925aaa",
   "metadata": {
    "slideshow": {
     "slide_type": "slide"
    }
   },
   "source": [
    "In the listing below only a very short description is given. For a few others a more detailed discussion is provided in the following sections.  \n",
    "\n",
    "- `abs()` gives the absolute value of a number (i.e. removes the minus sign if present).\n",
    "- `dir()` and `vars()` help you inspect the attributes available on a class, object or the current environment.\n",
    "- `sum()` gives the sum of a numeric iterable.\n",
    "- `pow(a, b)` calculates power of a to b (a^4)\n",
    "- `round()` rounds a number to the given number decimal digits (or to the nearest integer of none provided)\n",
    "- `reversed()` gives a reversed _iterator_ of a sequence object. Can be inserted in a list or tuple constructor, or in a iteration control structure.\n",
    "- `zip()` yields n-length tuples, where n is the number of iterables passed as positional arguments to zip().  The i-th element in every tuple comes from the i-th iterable argument to zip().\n"
   ]
  },
  {
   "cell_type": "markdown",
   "id": "92e7fd7e",
   "metadata": {
    "slideshow": {
     "slide_type": "slide"
    }
   },
   "source": [
    "### Get an iteration counter with `enumerate()`\n",
    "\n",
    "Used primarily in `for` loops to get hold of an iteration counter. It is a solution for the `for(int i, i < length(seq), i++){}` structure in other languages. The enumeration is wrapped around an iterable object such as string, list or other collection."
   ]
  },
  {
   "cell_type": "code",
   "execution_count": 6,
   "id": "ca6edbdd",
   "metadata": {
    "slideshow": {
     "slide_type": "fragment"
    }
   },
   "outputs": [
    {
     "name": "stdout",
     "output_type": "stream",
     "text": [
      "the number 1 letter of the alphabet is a\n",
      "the number 2 letter of the alphabet is b\n",
      "the number 3 letter of the alphabet is c\n",
      "the number 4 letter of the alphabet is d\n"
     ]
    }
   ],
   "source": [
    "for (i, c) in enumerate(\"abcd\"):\n",
    "    print(f'the number {i+1} letter of the alphabet is {c}')\n"
   ]
  },
  {
   "cell_type": "markdown",
   "id": "afbb8246",
   "metadata": {
    "slideshow": {
     "slide_type": "slide"
    }
   },
   "source": [
    "### Read and write files with `open()`\n",
    "\n",
    "The `open()` function gives an iterator of file contents when used in a read-only context. It is often used in conjunction with the `for` loop."
   ]
  },
  {
   "cell_type": "code",
   "execution_count": 7,
   "id": "e295c8d2",
   "metadata": {
    "slideshow": {
     "slide_type": "fragment"
    }
   },
   "outputs": [
    {
     "name": "stdout",
     "output_type": "stream",
     "text": [
      "employee_id;last_name;role\n",
      "1;Jacobs;ict architect\n",
      "2;Howard;programmer\n",
      "3;Pierson;data scientist\n"
     ]
    }
   ],
   "source": [
    "for line in open(\"data/employees.txt\"):\n",
    "    print(line.strip())\n"
   ]
  },
  {
   "cell_type": "markdown",
   "id": "1d380f99",
   "metadata": {
    "slideshow": {
     "slide_type": "slide"
    }
   },
   "source": [
    "The `open()` function comes with a few more parameters, of which only the mode is inetersting right now. It takes a string inidcating how the file should be opened. The default is `\"rt\"` which means the file is opened in read-only, text mode.\n",
    "When you want to **write to file** these are the options at your disposal:\n",
    "\n",
    "- **`\"x\"`**: **Create** - creates the file but returns an error if the file exists\n",
    "- **`\"a\"`**: **Append** - creates the file if the specified file does not exist and appends to the end\n",
    "- **`\"w\"`**: **Write** - creates the file if the specified file does not exist and overwrites if it does exist\n"
   ]
  },
  {
   "cell_type": "code",
   "execution_count": 8,
   "id": "35f5d0cc",
   "metadata": {
    "slideshow": {
     "slide_type": "slide"
    }
   },
   "outputs": [],
   "source": [
    "fruits = [\"kiwi\", \"apple\", \"guava\"]\n",
    "fruits_file = open(\"data/fruits.txt\", \"w\") # overwrite mode!\n",
    "for fruit in fruits:\n",
    "    fruits_file.write(f'this is a fruit: {fruit}\\n') # the \\n adds a newline\n",
    "    \n",
    "fruits_file.close()\n"
   ]
  },
  {
   "cell_type": "markdown",
   "id": "9f33f10d",
   "metadata": {
    "slideshow": {
     "slide_type": "fragment"
    }
   },
   "source": [
    "The file fruits.txt now has this contents, no matter how often the snippet is run:\n",
    "\n",
    "```\n",
    "this is a fruit: kiwi\n",
    "this is a fruit: apple\n",
    "this is a fruit: guava\n",
    "```\n"
   ]
  },
  {
   "cell_type": "markdown",
   "id": "27111671",
   "metadata": {
    "slideshow": {
     "slide_type": "slide"
    }
   },
   "source": [
    "### Converting between characters and ASCII/unicode\n",
    "\n",
    "Below the surface, characters are just numbers. Originally there were only 128 characters that could be encoded using a byte: the ASCII characters:\n",
    "\n",
    "![ASCII codes](pics/ASCII_table.png)"
   ]
  },
  {
   "cell_type": "markdown",
   "id": "0ae6a70c",
   "metadata": {
    "slideshow": {
     "slide_type": "slide"
    }
   },
   "source": [
    "\n",
    "The pair of functions **`chr()`** and **`ord()`** can be used to convert characters to their numeric counterpart and vice versa. For instance,\n",
    "\n",
    "```python\n",
    "print(chr(7))\n",
    "```\n",
    "\n",
    "will sound a 'bell' (but not in Jupyter unfortunately - give it a try in ipython).\n",
    "\n",
    "The distinction between `chr()` and `str()` is: `str()` will give the _string representation_ of a number (or any object for that matter) whereas `chr()` will give the character belonging to a numeric code."
   ]
  },
  {
   "cell_type": "code",
   "execution_count": 1,
   "id": "4e6527ce",
   "metadata": {
    "slideshow": {
     "slide_type": "fragment"
    }
   },
   "outputs": [
    {
     "name": "stdout",
     "output_type": "stream",
     "text": [
      "S   is encoded by 83 \n",
      "o   is encoded by 111\n",
      "m   is encoded by 109\n",
      "e   is encoded by 101\n",
      "    is encoded by 32 \n",
      "T   is encoded by 84 \n",
      "e   is encoded by 101\n",
      "x   is encoded by 120\n",
      "t   is encoded by 116\n"
     ]
    }
   ],
   "source": [
    "test = \"Some Text\"\n",
    "ords = []\n",
    "letters = []\n",
    "for letter in test:\n",
    "    print('{:<3} is encoded by {:<3}'.format(letter, ord(letter)))"
   ]
  },
  {
   "cell_type": "markdown",
   "id": "430a963f",
   "metadata": {
    "slideshow": {
     "slide_type": "slide"
    }
   },
   "source": [
    "### Sorting with `sorted()` and `list.sort()`\n",
    "\n",
    "Sorting is quite ubiquitous in programming: give top-5 performing employees, sort countries on average income, sort members on last name, etc.\n",
    "\n",
    "There are two functions available. \n",
    "\n",
    "- The built-in function `sorted()` returns a sorted **_copy of_** the original list \n",
    "- The list method `sort()` performs an in-place sort that modifies the original list\n",
    "\n",
    "Both use _natural ordering_ of text data (alphabetically) and numeric data (ascending) and both provide two customizing parameters: `reverse` and `key`. \n"
   ]
  },
  {
   "cell_type": "code",
   "execution_count": 2,
   "id": "2f5be15c",
   "metadata": {
    "slideshow": {
     "slide_type": "slide"
    }
   },
   "outputs": [
    {
     "name": "stdout",
     "output_type": "stream",
     "text": [
      "['apple', 'guava', 'kiwi']\n",
      "['kiwi', 'apple', 'guava']\n"
     ]
    }
   ],
   "source": [
    "fruits = [\"kiwi\", \"apple\", \"guava\"]\n",
    "print(sorted(fruits))\n",
    "print(fruits)        # unchanged!"
   ]
  },
  {
   "cell_type": "code",
   "execution_count": 3,
   "id": "aca1e38e",
   "metadata": {
    "slideshow": {
     "slide_type": "fragment"
    }
   },
   "outputs": [
    {
     "name": "stdout",
     "output_type": "stream",
     "text": [
      "['apple', 'guava', 'kiwi']\n"
     ]
    }
   ],
   "source": [
    "fruits = [\"kiwi\", \"apple\", \"guava\"]\n",
    "fruits.sort()\n",
    "print(fruits)        # modified in-place"
   ]
  },
  {
   "cell_type": "markdown",
   "id": "52a62d2f",
   "metadata": {
    "slideshow": {
     "slide_type": "slide"
    }
   },
   "source": [
    "**Reversed sorting** can be done using the function argument `reverse=True|False`"
   ]
  },
  {
   "cell_type": "code",
   "execution_count": 9,
   "id": "d458696e",
   "metadata": {
    "slideshow": {
     "slide_type": "fragment"
    }
   },
   "outputs": [
    {
     "name": "stdout",
     "output_type": "stream",
     "text": [
      "[1, 2, 3, 4]\n",
      "[4, 3, 2, 1]\n"
     ]
    }
   ],
   "source": [
    "print(sorted([3, 2, 4, 1])) # default is reverse=False\n",
    "print(sorted([3, 2, 4, 1], reverse=True))"
   ]
  },
  {
   "cell_type": "code",
   "execution_count": 10,
   "id": "8f9467f3",
   "metadata": {
    "slideshow": {
     "slide_type": "fragment"
    }
   },
   "outputs": [
    {
     "data": {
      "text/plain": [
       "[4, 3, 2, 1]"
      ]
     },
     "execution_count": 10,
     "metadata": {},
     "output_type": "execute_result"
    }
   ],
   "source": [
    "numbers = [3, 2, 4, 1]\n",
    "numbers.sort(reverse=True)\n",
    "numbers"
   ]
  },
  {
   "cell_type": "markdown",
   "id": "174c9655",
   "metadata": {
    "slideshow": {
     "slide_type": "slide"
    }
   },
   "source": [
    "#### The `key` parameter\n",
    "\n",
    "This parameter makes it possible to define custom sorting of collection types and objects. It takes as value a function that will return some property of each element to sort on.\n",
    "\n",
    "For instance, suppose you want to sort a list of words on the second character:"
   ]
  },
  {
   "cell_type": "code",
   "execution_count": 11,
   "id": "a764939c",
   "metadata": {
    "slideshow": {
     "slide_type": "fragment"
    }
   },
   "outputs": [
    {
     "data": {
      "text/plain": [
       "['kiwi', 'apple', 'guava']"
      ]
     },
     "execution_count": 11,
     "metadata": {},
     "output_type": "execute_result"
    }
   ],
   "source": [
    "def second_character_sorter(word):\n",
    "    return word[1]\n",
    "\n",
    "sorted(fruits, key=second_character_sorter)\n"
   ]
  },
  {
   "cell_type": "markdown",
   "id": "234a0880",
   "metadata": {
    "slideshow": {
     "slide_type": "slide"
    }
   },
   "source": [
    "#### Lambdas  (advanced topic)\n",
    "The `sorted()` parameter `key` is most often used in conjunction with an anonymous type of function called a **lambda**. They are usually defined at the location where they are needed and have the form of\n",
    "\n",
    "```\n",
    "lambda <data>: <return property of data>\n",
    "```\n",
    "\n",
    "The above function could have been written as this lambda:\n",
    "\n",
    "```python\n",
    "key=lambda fruit: fruit[1]\n",
    "```"
   ]
  },
  {
   "cell_type": "code",
   "execution_count": 4,
   "id": "22a1c25b",
   "metadata": {
    "slideshow": {
     "slide_type": "fragment"
    }
   },
   "outputs": [
    {
     "data": {
      "text/plain": [
       "['kiwi', 'apple', 'guava']"
      ]
     },
     "execution_count": 4,
     "metadata": {},
     "output_type": "execute_result"
    }
   ],
   "source": [
    "fruits = [\"kiwi\", \"apple\", \"guava\"]\n",
    "\n",
    "sorted(fruits, key=lambda fruit: fruit[1])"
   ]
  },
  {
   "cell_type": "markdown",
   "id": "6aa2a9ad",
   "metadata": {
    "slideshow": {
     "slide_type": "slide"
    }
   },
   "source": [
    "Here is another example, involving a list of dictionaries."
   ]
  },
  {
   "cell_type": "code",
   "execution_count": 12,
   "id": "2841bd87",
   "metadata": {
    "slideshow": {
     "slide_type": "fragment"
    }
   },
   "outputs": [
    {
     "data": {
      "text/plain": [
       "[{'name': 'banana', 'color': 'yellow', 'origin': 'Africa'},\n",
       " {'name': 'apple', 'color': 'green/red', 'origin': 'Europe'},\n",
       " {'name': 'orange', 'color': 'orange', 'origin': 'Europe'},\n",
       " {'name': 'kiwi', 'color': 'green', 'origin': 'New Zealand'}]"
      ]
     },
     "execution_count": 12,
     "metadata": {},
     "output_type": "execute_result"
    }
   ],
   "source": [
    "fruits = [\n",
    "    {'name': 'apple', 'color': 'green/red', 'origin': 'Europe'},\n",
    "    {'name': 'kiwi', 'color': 'green', 'origin': 'New Zealand'},\n",
    "    {'name': 'orange', 'color': 'orange', 'origin': 'Europe'},\n",
    "    {'name': 'banana', 'color': 'yellow', 'origin': 'Africa'}]\n",
    "\n",
    "sorted(fruits, key = lambda fruit: fruit['origin'])"
   ]
  },
  {
   "cell_type": "markdown",
   "id": "cf5eb41f",
   "metadata": {
    "slideshow": {
     "slide_type": "slide"
    }
   },
   "source": [
    "#### Multi-key sorting\n",
    "\n",
    "Whenever you need sorting based on multiple properties - e.g. sorting first on family name and then on given name - you can employ the trick of tuple sorting:"
   ]
  },
  {
   "cell_type": "code",
   "execution_count": 5,
   "id": "f0313fe8",
   "metadata": {
    "slideshow": {
     "slide_type": "fragment"
    }
   },
   "outputs": [
    {
     "data": {
      "text/plain": [
       "[{'first': 'Julia', 'last': 'Adams', 'age': 28},\n",
       " {'first': 'Mark', 'last': 'Adams', 'age': 35},\n",
       " {'first': 'Rose', 'last': 'Berg', 'age': 51},\n",
       " {'first': 'Brad', 'last': 'Young', 'age': 64}]"
      ]
     },
     "execution_count": 5,
     "metadata": {},
     "output_type": "execute_result"
    }
   ],
   "source": [
    "persons = [{'first': 'Mark', 'last': 'Adams', 'age': 35},\n",
    "           {'first': 'Brad', 'last': 'Young', 'age': 64}, \n",
    "           {'first': 'Rose', 'last': 'Berg', 'age': 51},\n",
    "           {'first': 'Julia', 'last': 'Adams', 'age': 28}]\n",
    "\n",
    "def last_first_sort(person):\n",
    "    return (person['last'], person['first'])  # returns a tuple with last and first name\n",
    "\n",
    "sorted(persons, key = last_first_sort)\n"
   ]
  },
  {
   "cell_type": "markdown",
   "id": "d1d68d66",
   "metadata": {
    "slideshow": {
     "slide_type": "slide"
    }
   },
   "source": [
    "## Using `filter()` and `map()` (optional)\n",
    "\n",
    "These functions are used on collections, to filter the elements in them on some property, or to change each element or to swap them for something else.  \n",
    "\n",
    "Fot example, imagine a cupcake production line. There will be a machine taking in a plate of cupcakes and applying frosting to all of them: it **maps** a cupcake to a frosted cupcake. There will also be a machine taking in a plate of cupcakes, removing the badly formed ones: it **filters** the cupcakes, only letting the good ones pass."
   ]
  },
  {
   "cell_type": "markdown",
   "id": "52dd94a5",
   "metadata": {
    "slideshow": {
     "slide_type": "slide"
    }
   },
   "source": [
    "- **map()** applies a function (e.g. frosting) to all members of a collection, and returns the resulting collection, which is of course the same size as the original\n",
    "- **filter()** applies a function (e.g. scanning bad cupcakes) to all members of a collection, only keeping those members that pass the function (return True)\n",
    "\n",
    "![Map vs Filter](pics/map_filter.png)\n",
    "Here follows an example of a map/filter chain. Note that both map and filter produce iterator objects that you usually need to embed in a collection constructor."
   ]
  },
  {
   "cell_type": "code",
   "execution_count": null,
   "id": "9c256a2b",
   "metadata": {
    "slideshow": {
     "slide_type": "slide"
    }
   },
   "outputs": [],
   "source": [
    "fruits = [\"kiwi\", \"orange\", \"apple\", \"guava\", \"banana\"]\n",
    "\n",
    "def capitalize_name(fruit):\n",
    "    return fruit.capitalize()\n",
    "    \n",
    "list(map(capitalize_name, fruits))\n"
   ]
  },
  {
   "cell_type": "code",
   "execution_count": null,
   "id": "e7bacd72",
   "metadata": {
    "slideshow": {
     "slide_type": "slide"
    }
   },
   "outputs": [],
   "source": [
    "fruits = [\"kiwi\", \"orange\", \"apple\", \"guava\", \"banana\"]\n",
    "\n",
    "def filter_with_an(fruit):\n",
    "    return \"an\" in fruit\n",
    "    \n",
    "list(filter(filter_with_an, fruits))\n"
   ]
  },
  {
   "cell_type": "markdown",
   "id": "65516922",
   "metadata": {
    "slideshow": {
     "slide_type": "fragment"
    }
   },
   "source": [
    "Note that working with these functions is superceded by the use of comprehensions. These are outlined in the next chapter."
   ]
  },
  {
   "cell_type": "markdown",
   "id": "72c7e3d9",
   "metadata": {
    "slideshow": {
     "slide_type": "slide"
    }
   },
   "source": [
    "## Working with modules\n",
    "\n",
    "The core functionality of Python that is available to you once you start coding is rather small. That is because the deveolpers of the language wanted to keep the memory footprint as small as possible. \n",
    "Why load functionality if there is a significant possibility it will not be used? \n",
    "\n",
    "To solve the footprint problem, most functionality in Python is put inside **_modules_**."
   ]
  },
  {
   "cell_type": "markdown",
   "id": "0d3fc120",
   "metadata": {
    "slideshow": {
     "slide_type": "slide"
    }
   },
   "source": [
    "To make use of functionality (or data) within modules you need to **_import_** these. Here is a small example to illustrate.  "
   ]
  },
  {
   "cell_type": "code",
   "execution_count": 8,
   "id": "855ece6d",
   "metadata": {
    "slideshow": {
     "slide_type": "fragment"
    }
   },
   "outputs": [
    {
     "data": {
      "text/plain": [
       "4.0"
      ]
     },
     "execution_count": 8,
     "metadata": {},
     "output_type": "execute_result"
    }
   ],
   "source": [
    "import math\n",
    "math.sqrt(16)"
   ]
  },
  {
   "cell_type": "markdown",
   "id": "d91ee10d",
   "metadata": {
    "slideshow": {
     "slide_type": "fragment"
    }
   },
   "source": [
    "When you want to access data or functions within a module you need to use the module name, followed by the dot operator and then the function or data attribute name, as in `math.sqrt()`"
   ]
  },
  {
   "cell_type": "markdown",
   "id": "c33d9e8d",
   "metadata": {
    "slideshow": {
     "slide_type": "slide"
    }
   },
   "source": [
    "To prevent having to type the module name all the time you can also specify which attributes of a module you want to import using the `from <module> import <attr>` syntax:"
   ]
  },
  {
   "cell_type": "code",
   "execution_count": 2,
   "id": "40f2c2c9",
   "metadata": {
    "slideshow": {
     "slide_type": "fragment"
    }
   },
   "outputs": [
    {
     "name": "stdout",
     "output_type": "stream",
     "text": [
      "4\n",
      "3\n"
     ]
    }
   ],
   "source": [
    "from math import ceil, floor \n",
    "print(ceil(3.1222))\n",
    "print(floor(3.567))"
   ]
  },
  {
   "cell_type": "markdown",
   "id": "c985b65b",
   "metadata": {
    "slideshow": {
     "slide_type": "fragment"
    }
   },
   "source": [
    "Or, alternatively, use `from <module> import <attr> as <name>` to use a different name than the one specified for/in the module itself:"
   ]
  },
  {
   "cell_type": "code",
   "execution_count": 11,
   "id": "fd3acfc1",
   "metadata": {
    "slideshow": {
     "slide_type": "fragment"
    }
   },
   "outputs": [
    {
     "data": {
      "text/plain": [
       "3"
      ]
     },
     "execution_count": 11,
     "metadata": {},
     "output_type": "execute_result"
    }
   ],
   "source": [
    "from math import floor as fl\n",
    "fl(3.9999)"
   ]
  },
  {
   "cell_type": "markdown",
   "id": "6db8dddc",
   "metadata": {
    "slideshow": {
     "slide_type": "slide"
    }
   },
   "source": [
    "To import everything from a module you use the asterisk:\n",
    "\n",
    "```python\n",
    "from math import *\n",
    "```\n",
    "\n",
    "Be hesitant to do this because it clutters your global namespace.  \n",
    "Besides this, using the `math.ceil()` syntax makes it clear in which module the function was defined."
   ]
  },
  {
   "cell_type": "markdown",
   "id": "8ff15b6e",
   "metadata": {
    "slideshow": {
     "slide_type": "slide"
    }
   },
   "source": [
    "### Using your own modules\n",
    "\n",
    "Whenever you create functionality that you want to reuse between scripts you can put those functions within a script and put this in the **Python search path**. This concept is out of scope for the course. The simplest way is to put it somewhere in a subfolder of your current project.  \n",
    "\n",
    "See [RealPython](https://realpython.com/lessons/module-search-path/) for a discussion of this topic."
   ]
  },
  {
   "cell_type": "markdown",
   "id": "9d00cf9d",
   "metadata": {
    "slideshow": {
     "slide_type": "slide"
    }
   },
   "source": [
    "In the example below, the module is defined by file `my_module.py` located in folder `./scripts`, the contents of which are:\n",
    "\n",
    "```python\n",
    "'''\n",
    "a simple module\n",
    "'''\n",
    "message = \"Programming is for everyone\"\n",
    "\n",
    "def say_hello(name):\n",
    "    print(f\"Hello {name}!\")\n",
    "```"
   ]
  },
  {
   "cell_type": "code",
   "execution_count": 6,
   "id": "7d1f0a67",
   "metadata": {
    "slideshow": {
     "slide_type": "fragment"
    }
   },
   "outputs": [
    {
     "name": "stdout",
     "output_type": "stream",
     "text": [
      "Hello Rob!\n",
      "Help on module scripts.my_module in scripts:\n",
      "\n",
      "NAME\n",
      "    scripts.my_module - a simple module\n",
      "\n",
      "FUNCTIONS\n",
      "    say_hello(name)\n",
      "\n",
      "DATA\n",
      "    message = 'Programming is for everyone'\n",
      "\n",
      "FILE\n",
      "    /Users/michielnoback/git_projects/python_intro/scripts/my_module.py\n",
      "\n",
      "\n",
      "None\n"
     ]
    }
   ],
   "source": [
    "from scripts import my_module\n",
    "my_module.say_hello(\"Rob\")\n",
    "\n",
    "#or\n",
    "# from scripts.my_module import say_hello\n",
    "# say_hello(\"Mike\")\n",
    "\n",
    "print(help(my_module)) # use help to get info"
   ]
  },
  {
   "cell_type": "markdown",
   "id": "1f523a6d",
   "metadata": {
    "slideshow": {
     "slide_type": "slide"
    }
   },
   "source": [
    "### Core modules\n",
    "\n",
    "Besides the math module we have seen before Python ships with a wealth of other modles, each with their specific purpose and application domain. Here are just a few, and even less examples; have a look at [The Python docs](https://docs.python.org/3/library/) for a complete listing.  \n",
    "\n",
    "For all modules, importing them and typing `help(module)` is the best way to get detailed information."
   ]
  },
  {
   "cell_type": "markdown",
   "id": "ac8b96e5",
   "metadata": {
    "slideshow": {
     "slide_type": "slide"
    }
   },
   "source": [
    "| **module**          | **purpose**                                         |\n",
    "|---------------------|-----------------------------------------------------|\n",
    "| **time & datetime** | time and date manipulations                         |\n",
    "| **math**            | math data and functions                             |\n",
    "| **os & os.path**    | operating system interface                          |\n",
    "| **sys**             | interpreter acces                                   |\n",
    "| **itertools**       | functions creating iterators for efficient looping  |\n",
    "| **csv**             | cvs file reading and parsing                        |\n",
    "| **pickle**          | storing objects on disk                             |\n",
    "| **shelve**          | storing objects in a \"dict on disk\"                 |\n"
   ]
  },
  {
   "cell_type": "markdown",
   "id": "06dfbff2",
   "metadata": {
    "slideshow": {
     "slide_type": "slide"
    }
   },
   "source": [
    "#### Module `sys`\n",
    "This module is used for interacting with the interpreter, the _Python system_, not with the Operating System (see module `os`). Here are the main attributes and functions (copied from help):\n",
    "\n",
    "Objects:  \n",
    "\n",
    "- argv -- command line arguments; argv[0] is the script pathname if known\n",
    "- stdin -- standard input file object; used by input()\n",
    "- stdout -- standard output file object; used by print()\n",
    "- stderr -- standard error object; used for error messages\n",
    "\n",
    "By assigning other file objects (or objects that behave like files)\n",
    "to these, it is possible to redirect all of the interpreter's I/O.\n",
    "\n",
    "Functions:  \n",
    "- exit() -- exit the interpreter by raising SystemExit      \n"
   ]
  },
  {
   "cell_type": "markdown",
   "id": "4159f3be",
   "metadata": {
    "slideshow": {
     "slide_type": "slide"
    }
   },
   "source": [
    "Example: using redirection of output stream. By providing a `write()` method you can redirect messages sent to the output stream, as in `print()`. First we need an interceptor:"
   ]
  },
  {
   "cell_type": "code",
   "execution_count": 10,
   "id": "0f2ae764",
   "metadata": {
    "slideshow": {
     "slide_type": "fragment"
    }
   },
   "outputs": [],
   "source": [
    "class MyLogger:\n",
    "    def __init__(self):\n",
    "        self.log = ['My Logger\\n']\n",
    "        self.msgCount = 0\n",
    "    def write(self, message):\n",
    "        if message == '\\n':\n",
    "            return  \n",
    "        self.msgCount += 1\n",
    "        self.log.append('[{}: {}]\\n'.format(self.msgCount, message) )\n"
   ]
  },
  {
   "cell_type": "markdown",
   "id": "bb6bcda8",
   "metadata": {
    "slideshow": {
     "slide_type": "slide"
    }
   },
   "source": [
    "Next we can use this to intercept, store and adjust print messages"
   ]
  },
  {
   "cell_type": "code",
   "execution_count": 11,
   "id": "91117c2f",
   "metadata": {
    "slideshow": {
     "slide_type": "fragment"
    }
   },
   "outputs": [
    {
     "name": "stdout",
     "output_type": "stream",
     "text": [
      "start log test\n",
      "\n",
      "My Logger\n",
      "[1: a first message]\n",
      "[2: a second message]\n",
      "\n",
      "end log test\n"
     ]
    }
   ],
   "source": [
    "import sys\n",
    "print('start log test\\n') ## to regular std out\n",
    "myLog = MyLogger()\n",
    "_out = sys.stdout         ## store for later usage\n",
    "sys.stdout = myLog        ## redirect stdout to myLogger\n",
    "print('a first message')  ## print to myLogger\n",
    "print('a second message')\n",
    "sys.stdout = _out         ## restore print to std out\n",
    "print(''.join(myLog.log)) ## print myLog to std out\n",
    "print('end log test')\n"
   ]
  },
  {
   "cell_type": "markdown",
   "id": "b925b3fc",
   "metadata": {
    "slideshow": {
     "slide_type": "slide"
    }
   },
   "source": [
    "#### Modules `os` & `os.path`\n",
    "\n",
    "As stated, the `os` module is used to interact with the operating system, especially the file system. Here are some common use cases."
   ]
  },
  {
   "cell_type": "code",
   "execution_count": 1,
   "id": "32c42ade",
   "metadata": {
    "slideshow": {
     "slide_type": "fragment"
    }
   },
   "outputs": [
    {
     "name": "stdout",
     "output_type": "stream",
     "text": [
      "/Users/michielnoback/git_projects/python_intro\n",
      "/Users/michielnoback/Desktop\n"
     ]
    },
    {
     "data": {
      "text/plain": [
       "['sets.png', 'eBooks']"
      ]
     },
     "execution_count": 1,
     "metadata": {},
     "output_type": "execute_result"
    }
   ],
   "source": [
    "import os\n",
    "print(os.getcwd())                          #working dir - defaults to where the script lives\n",
    "#os.chdir(\"~/Desktop\")                      #relative paths from user home don't work\n",
    "os.chdir(os.path.expanduser(\"~/Desktop\"))   #this workaround needed, or an absolute path\n",
    "print(os.getcwd())\n",
    "os.listdir()[:2]        # list contents (only first two items)"
   ]
  },
  {
   "cell_type": "markdown",
   "id": "7f2b40a4",
   "metadata": {
    "slideshow": {
     "slide_type": "slide"
    }
   },
   "source": [
    "Other `os` functions that are often used:\n",
    "\n",
    "- **`os.mkdir(path[, mode])`**: Create a directory named path (with unix mode). You can also create temporary directories; see tempfile module\n",
    "- **`os.remove(path)`**: Remove (delete) the file path. If path is a directory, an OSError is raised; see rmdir() below to remove a directory.\n",
    "- **`os.rename(src,dst)`**: Rename the file or directory src to dst\n",
    "- **`os.system(command)`**: Execute the command (a string) in a subshell\n"
   ]
  },
  {
   "cell_type": "markdown",
   "id": "26da33da",
   "metadata": {
    "slideshow": {
     "slide_type": "slide"
    }
   },
   "source": [
    "Some `os.path` goodies\n",
    "\n",
    "- **`os.path.sep`**: The character used by the OS to separate pathname components: '/' (Linux) or '\\\\' (Windows)\n",
    "- **`os.path.exists(path)`**: True if path refers to an existing path\n",
    "- **`os.path.isfile(path)`**: True if path is an existing regular file\n",
    "- **`os.path.isdir(path)`**: True if path is an existing directory\n",
    "- **`os.path.split(path)`**: a split pathname into a pair (head, tail) where tail is the last pathname component and head is everything leading up to it\n",
    "- **`os.path.join(path1[, path2[, ...]])`**: an intelligently joined set of components\n"
   ]
  },
  {
   "cell_type": "code",
   "execution_count": 12,
   "id": "d790a34f",
   "metadata": {
    "slideshow": {
     "slide_type": "fragment"
    }
   },
   "outputs": [
    {
     "name": "stdout",
     "output_type": "stream",
     "text": [
      "('/Users/michielnoback', 'Desktop')\n",
      "Downloads/data/project1\n"
     ]
    }
   ],
   "source": [
    "import os.path as path\n",
    "print(path.split(os.getcwd()))\n",
    "print(path.join(\"Downloads\", \"data\", \"project1\"))"
   ]
  },
  {
   "cell_type": "markdown",
   "id": "e7de1c44",
   "metadata": {
    "slideshow": {
     "slide_type": "slide"
    }
   },
   "source": [
    "#### The `itertools` module\n",
    "\n",
    "Module `itertools` provides functions that create iterators for efficient looping. Here are a few:\n"
   ]
  },
  {
   "cell_type": "code",
   "execution_count": 23,
   "id": "a8f47a6c",
   "metadata": {
    "slideshow": {
     "slide_type": "fragment"
    }
   },
   "outputs": [
    {
     "name": "stdout",
     "output_type": "stream",
     "text": [
      "repeat(42, 5)\n",
      "[42, 42, 42, 42, 42]\n",
      "[(1, 'a'), (1, 'b'), (2, 'a'), (2, 'b'), (3, 'a'), (3, 'b')]\n",
      "[2, 6, 12]\n"
     ]
    }
   ],
   "source": [
    "import itertools as it\n",
    "print(it.repeat(42, 5))         # prints the type and properties, not the data\n",
    "print(list(it.repeat(42, 5)))   # need to wrap it in collection type or loop it\n",
    "print(list(it.product([1,2,3],['a', 'b'])))\n",
    "print(list(it.accumulate([2, 4, 6])))"
   ]
  },
  {
   "cell_type": "markdown",
   "id": "4e332894",
   "metadata": {
    "slideshow": {
     "slide_type": "slide"
    }
   },
   "source": [
    "#### Module `csv`\n",
    "\n",
    "Text files with the csv format are quite ubiquitous in data science.  \n",
    "\n",
    "Of course, you can write your own parser for every file type, which is not difficult of course, but you can make it even easier for yourself. Just use module csv!  \n",
    "\n",
    "Here, I present some examples for reading csv files. Remember that writing is just as easy!\n"
   ]
  },
  {
   "cell_type": "markdown",
   "id": "f9357f2f",
   "metadata": {
    "slideshow": {
     "slide_type": "slide"
    }
   },
   "source": [
    "As example, see the input file `data/exp_data.csv`:\n",
    "\n",
    "```\n",
    "exp,value,message\n",
    "1,0.567,OK\n",
    "2,0.334,OK\n",
    "3,0.325,ND\n",
    "4,0.766,OK\n",
    "5,0.455,OK\n",
    "6,0.421,ERR\n",
    "7,0.876,OK\n",
    "```\n",
    "\n",
    "Let's look at how to process this."
   ]
  },
  {
   "cell_type": "code",
   "execution_count": 4,
   "id": "fb541ed1",
   "metadata": {
    "slideshow": {
     "slide_type": "slide"
    }
   },
   "outputs": [
    {
     "name": "stdout",
     "output_type": "stream",
     "text": [
      "['exp', 'value', 'message']\n",
      "['1', '0.567', 'OK']\n",
      "['2', '0.334', 'OK']\n",
      "['3', '0.325', 'ND']\n",
      "['4', '0.766', 'OK']\n",
      "['5', '0.455', 'OK']\n",
      "['6', '0.421', 'ERR']\n",
      "['7', '0.876', 'OK']\n"
     ]
    }
   ],
   "source": [
    "import csv\n",
    "\n",
    "csv_reader = csv.reader(open('data/exp_data.csv')) # parameter delimiter defaults to ','\n",
    "for row in csv_reader:\n",
    "    print(row)"
   ]
  },
  {
   "cell_type": "markdown",
   "id": "37d9351f",
   "metadata": {
    "slideshow": {
     "slide_type": "slide"
    }
   },
   "source": [
    "Alternatively, you can get an iterator of dictionaries where the first line in the file is assumed to be a header line"
   ]
  },
  {
   "cell_type": "code",
   "execution_count": 5,
   "id": "207c63af",
   "metadata": {
    "slideshow": {
     "slide_type": "fragment"
    }
   },
   "outputs": [
    {
     "name": "stdout",
     "output_type": "stream",
     "text": [
      "{'exp': '1', 'value': '0.567', 'message': 'OK'}\n",
      "{'exp': '2', 'value': '0.334', 'message': 'OK'}\n",
      "{'exp': '3', 'value': '0.325', 'message': 'ND'}\n",
      "{'exp': '4', 'value': '0.766', 'message': 'OK'}\n",
      "{'exp': '5', 'value': '0.455', 'message': 'OK'}\n",
      "{'exp': '6', 'value': '0.421', 'message': 'ERR'}\n",
      "{'exp': '7', 'value': '0.876', 'message': 'OK'}\n"
     ]
    }
   ],
   "source": [
    "csv_dict_reader = csv.DictReader(open('data/exp_data.csv'))\n",
    "for row in csv_dict_reader:\n",
    "    print(row)\n"
   ]
  },
  {
   "cell_type": "markdown",
   "id": "14228240",
   "metadata": {
    "slideshow": {
     "slide_type": "slide"
    }
   },
   "source": [
    "#### The `pickle` module\n",
    "\n",
    "Python can write any data structure and objects into a file and read it again out of that file.\n",
    "This is done using the pickle module.  \n",
    "\n",
    "This is a very useful feature if -for example- you want to store program state for a next run.\n",
    "Here is a simple example.  \n"
   ]
  },
  {
   "cell_type": "code",
   "execution_count": 18,
   "id": "500dc2d1",
   "metadata": {
    "slideshow": {
     "slide_type": "slide"
    }
   },
   "outputs": [
    {
     "name": "stdout",
     "output_type": "stream",
     "text": [
      "{'linewidth': 60, 'verbosity': 'HIGH'}\n"
     ]
    }
   ],
   "source": [
    "import pickle\n",
    "\n",
    "my_preferences = {'linewidth': 60, 'verbosity': 'HIGH'}\n",
    "\n",
    "with open('data/preferences', mode='bw') as dmp:  #write to bniary mode\n",
    "    pickle.dump(my_preferences, dmp)\n",
    "    \n",
    "# don't try to read the file - it is binary\n",
    "\n",
    "with open('data/preferences', mode='rb') as dmp:  #read from binary mode\n",
    "    loaded_prefs = pickle.load(dmp)\n",
    "\n",
    "print(loaded_prefs)"
   ]
  },
  {
   "cell_type": "markdown",
   "id": "73488b59",
   "metadata": {
    "slideshow": {
     "slide_type": "slide"
    }
   },
   "source": [
    "#### The `shelve` module\n",
    "\n",
    "Related to the pickle module is the shelve module.  \n",
    "It is generally used to store data in a database-like structure.  \n",
    "The difference is you do NOT have to load the entire data structure every time you want to access a single item of it.\n"
   ]
  },
  {
   "cell_type": "markdown",
   "id": "16df27fd",
   "metadata": {
    "slideshow": {
     "slide_type": "slide"
    }
   },
   "source": [
    "Here is a first run of the script: it stores three users. \n",
    "When you call open() on a non-existing shelve, one is automatically created.\n",
    "With the example below, a binary filed named `users.db` is created.\n"
   ]
  },
  {
   "cell_type": "code",
   "execution_count": 22,
   "id": "768d91ed",
   "metadata": {
    "slideshow": {
     "slide_type": "fragment"
    }
   },
   "outputs": [
    {
     "name": "stdout",
     "output_type": "stream",
     "text": [
      "{'name': 'Michiel', 'access': 'ALL'}\n"
     ]
    }
   ],
   "source": [
    "import shelve\n",
    "users = shelve.open(\"data/users\")\n",
    "users['Mich'] = dict(name='Michiel', access='ALL')\n",
    "users['Piet'] = dict(name='Piet', access='EDIT')\n",
    "users['Sven'] = dict(name='Sven', access='NONE')\n",
    "\n",
    "print(users['Mich'])\n",
    "users.close()\n"
   ]
  },
  {
   "cell_type": "markdown",
   "id": "53a27fc5",
   "metadata": {
    "slideshow": {
     "slide_type": "slide"
    }
   },
   "source": [
    "Now do an update, and a read operation; imagine this is in another shell or script:"
   ]
  },
  {
   "cell_type": "code",
   "execution_count": 27,
   "id": "50bd391e",
   "metadata": {
    "slideshow": {
     "slide_type": "fragment"
    }
   },
   "outputs": [
    {
     "name": "stdout",
     "output_type": "stream",
     "text": [
      "{'name': 'Michiel', 'access': 'ALL'}\n",
      "4\n"
     ]
    }
   ],
   "source": [
    "new_users = shelve.open(\"data/users\")\n",
    "new_users['Arne'] = dict(name='Arne Poortinga', access='MIN')\n",
    "print(new_users['Mich'])\n",
    "print(len(new_users))    # 4 users in the database now"
   ]
  },
  {
   "cell_type": "markdown",
   "id": "81bc1cf3",
   "metadata": {
    "slideshow": {
     "slide_type": "slide"
    }
   },
   "source": [
    "#### JSON\n",
    "Although pickle and shelve are convenient, With serious applications JSON is the way to go. There are many libraries and programming languages with integrated support for json, and stored files are human-readable as well."
   ]
  }
 ],
 "metadata": {
  "celltoolbar": "Slideshow",
  "kernelspec": {
   "display_name": "Python 3 (ipykernel)",
   "language": "python",
   "name": "python3"
  },
  "language_info": {
   "codemirror_mode": {
    "name": "ipython",
    "version": 3
   },
   "file_extension": ".py",
   "mimetype": "text/x-python",
   "name": "python",
   "nbconvert_exporter": "python",
   "pygments_lexer": "ipython3",
   "version": "3.9.12"
  }
 },
 "nbformat": 4,
 "nbformat_minor": 5
}
