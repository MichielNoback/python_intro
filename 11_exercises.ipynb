{
 "cells": [
  {
   "cell_type": "markdown",
   "metadata": {},
   "source": [
    "# Exercises\n",
    "\n",
    "## Introduction \n",
    "These exercises are meant for you to practice your skills. The sections are numbered according to the chapter numbering so you know where to look for the exercises belonging to a particular chapter.  \n",
    "\n",
    "You can deal with the exercises in several ways. The most convenient is to clone or download this notebook by clicking on the download icon at the top of this page, and work on the notebook on your own machine. You can also clone or download the entire repository by clicking on the github icon (the little cat). The exercises notebook is in the `_sources` folder. That has the advantage that all data files are included (the `data` folder).  \n",
    "\n",
    "Hints and/or solutions are often included; they can be displayed where it says <span style = \"color:OrangeRed;cursor:pointer;\">\"&#10149; Click to see the solution\"</span> or <span style = \"color:OrangeRed;cursor:pointer;\">\"&#10149; Give me a hint\"</span>. Unfortunately, rendering of these hints is not flawless: they only get displayed correctly in a hosted notebook environment (not in a static viewer such as nbviewer or github).  \n",
    "Give it a try:"
   ]
  },
  {
   "cell_type": "markdown",
   "metadata": {},
   "source": [
    "<details>\n",
    "<summary style = \"color:OrangeRed;cursor:pointer;\">&#10149; Click to see solution!</summary>\n",
    "\n",
    "```python\n",
    "first_name = \"John\"\n",
    "surname = \"Doe\"\n",
    "print(f'good morning, {first_name} {surname}!')\n",
    "```\n",
    "\n",
    "<br>\n",
    "Of course, you should always really try to solve it yourself before going to the easy-peasy zone\n",
    "</details>\n"
   ]
  },
  {
   "cell_type": "markdown",
   "metadata": {},
   "source": [
    "Alternatively, solutions can be loaded from file by uncommenting and running the commented line of code that looks like this: \n",
    "\n",
    "```python\n",
    "# Uncomment the following line to see the solution or code hint\n",
    "# %load ./exercise_solutions/exercise_1_1.py\n",
    "```\n",
    "\n",
    "Give it a try in the cell below."
   ]
  },
  {
   "cell_type": "code",
   "execution_count": null,
   "metadata": {},
   "outputs": [],
   "source": [
    "# Uncomment the following line to see the solution or code hint\n",
    "#%load ./exercise_solutions/exercise_0_0.py"
   ]
  },
  {
   "cell_type": "markdown",
   "metadata": {},
   "source": [
    "## Getting started"
   ]
  },
  {
   "cell_type": "markdown",
   "metadata": {},
   "source": [
    "### Simple math\n",
    "\n",
    "1. First enter `import math` and press enter to load the math module. \n",
    "2. Inspect the value of `math.pi` and try out the function `math.sqrt()`.\n",
    "3. Calculate the following (using `math.pi` and `math.sqrt()` where relevant).  \n",
    "\n",
    "    - $\\frac{4.6 + 1.2}{2.09}$ \n",
    "    - $3\\times4^\\frac{7}{12}$\n",
    "    - $r = 6$ <br />\n",
    "      $\\frac{2}{3}\\times \\pi r^3$  \n",
    "    - $5 \\times (\\frac{4 + 2}{\\sqrt{7} \\times 9})$\n"
   ]
  },
  {
   "cell_type": "code",
   "execution_count": 1,
   "metadata": {},
   "outputs": [],
   "source": [
    "# Your code"
   ]
  },
  {
   "cell_type": "markdown",
   "metadata": {},
   "source": [
    "### Run and edit a script\n",
    "\n",
    "On your computer, create a folder that will hold the exercises of this course. In it, put a copy of the script [triangle_surface.py](./scripts/triangle_surface.py) from the scripts folder. Run the script as demonstrated above. Try out some other command-line arguments.\n",
    "\n",
    "Change the script at some points and investigate the effect:\n",
    "    - comment-out (e.g. put a hash symbol `#` in front of it) the `import sys` statement\n",
    "    - change `float(side)` to `int(side)`\n",
    "    - change `sys.argv[1:]` to `sys.argv[2]` and to `sys.argv[2:]`\n",
    "    - use your imagination and experiment further"
   ]
  },
  {
   "cell_type": "markdown",
   "metadata": {},
   "source": [
    "### Operator precedence (1)\n",
    "\n",
    "In the code cell below, it was attempted to calculate the surface area of a circle. However, because of [operator precedence](https://www.tutorialspoint.com/python/operators_precedence_example.htm) the outcome is wrong! It should be 12.57. Can you correct this by using parentheses in the calculation? While you are at it, also add some spaces to make the code more readable."
   ]
  },
  {
   "cell_type": "code",
   "execution_count": 1,
   "metadata": {},
   "outputs": [
    {
     "data": {
      "text/plain": [
       "12.566370614359172"
      ]
     },
     "execution_count": 1,
     "metadata": {},
     "output_type": "execute_result"
    }
   ],
   "source": [
    "import math\n",
    "def circle_area(diameter):\n",
    "    return math.pi*1/2*diameter**2\n",
    "\n",
    "circle_area(4)\n"
   ]
  },
  {
   "cell_type": "markdown",
   "metadata": {},
   "source": [
    "<details>\n",
    "  <summary style = \"color:OrangeRed;cursor:pointer;\">&#10149; Click to see solution!</summary>\n",
    "  \n",
    "```python\n",
    "return math.pi * (1/2 * diameter)**2\n",
    "```\n",
    "    \n",
    "</details>"
   ]
  },
  {
   "cell_type": "markdown",
   "metadata": {},
   "source": [
    "### Operator precedence (2)\n",
    "\n",
    "Correct the calculations below by making use of grouping parentheses.\n",
    "\n",
    "```\n",
    "10 - 7 // 2 * 3 + 1 = -2\n",
    "45 % 10 / 2 = 0\n",
    "27 * 2 + 46 ** 0.5 = 10\n",
    "5 * 2 // 3 = 0\n",
    "6 + 4 * 2 - 10 // 2 - 4 * 2 = -3\n",
    "2 ** 3 ** 2 = 64\n",
    "5 + 3 * 2 ** 2 = 32\n",
    "```\n",
    "\n",
    "<details>\n",
    "  <summary style = \"color:OrangeRed;cursor:pointer;\">&#10149; Give me a hint!</summary>\n",
    "  \n",
    "```python\n",
    "10 - 7 // 2 * (3 + 1)\n",
    "```\n",
    "\n",
    "    is the solution for the first\n",
    "</details>\n",
    "\n",
    "<details>\n",
    "  <summary style = \"color:OrangeRed;cursor:pointer;\">&#10149; Give me the solution</summary>\n",
    "  \n",
    "```python\n",
    "10 - 7 // 2 * (3 + 1)\n",
    "45 % (10 / 2)\n",
    "(27 * 2 + 46) ** 0.5\n",
    "5 * (2 // 3)\n",
    "6 + (4 * 2 - 10) // 2 - 4 * 2\n",
    "(2 ** 3) ** 2\n",
    "(5 + 3) * 2 ** 2\n",
    "```\n",
    "</details>"
   ]
  },
  {
   "cell_type": "markdown",
   "metadata": {},
   "source": [
    "### Assignment shortcut operators\n",
    "The code cell below is not wrong, but it can be expressed more efficiently by using dedicated [assignment operators](https://www.tutorialspoint.com/python/assignment_operators_example.htm).\n",
    "Can you improve by using these? Although flow control was not dealt with explicitly the code should be pretty obvious (this is one of the strengths of Python)."
   ]
  },
  {
   "cell_type": "code",
   "execution_count": 12,
   "metadata": {},
   "outputs": [
    {
     "name": "stdout",
     "output_type": "stream",
     "text": [
      "i is now 3; the cumulative sum is 4 and the cumulative \"fraction\" is 0.3333333333333333\n",
      "i is now 6; the cumulative sum is 10 and the cumulative \"fraction\" is 0.05555555555555555\n",
      "i is now 10; the cumulative sum is 20 and the cumulative \"fraction\" is 0.005555555555555555\n",
      "i is now 15; the cumulative sum is 35 and the cumulative \"fraction\" is 0.00037037037037037035\n"
     ]
    }
   ],
   "source": [
    "total = 1\n",
    "fraction = 1\n",
    "i = 1\n",
    "for n in range(2, 6):\n",
    "    i = i + n\n",
    "    total = total + i\n",
    "    fraction = fraction / i\n",
    "    print(f'i is now {i}; the cumulative sum is {total} and the cumulative \"fraction\" is {fraction}')\n"
   ]
  },
  {
   "cell_type": "markdown",
   "metadata": {},
   "source": [
    "<details>\n",
    "  <summary style = \"color:OrangeRed;cursor:pointer;\">&#10149; Click to see solution!</summary>\n",
    "  \n",
    "```python\n",
    "i += n\n",
    "total += i\n",
    "fraction /= i\n",
    "```\n",
    "</details>\n"
   ]
  },
  {
   "cell_type": "markdown",
   "metadata": {},
   "source": [
    "### The Floor division and Modulo operators\n",
    "\n",
    "The floor division and modulo operators are handy tools if you want to work with currency, weight and distance units.\n",
    "\n",
    "The **modulo operator** `%` gives the _remainder_ of a division: "
   ]
  },
  {
   "cell_type": "code",
   "execution_count": 14,
   "metadata": {},
   "outputs": [
    {
     "name": "stdout",
     "output_type": "stream",
     "text": [
      "1 modulo 3 is 1\n",
      "2 modulo 3 is 2\n",
      "3 modulo 3 is 0\n",
      "4 modulo 3 is 1\n",
      "5 modulo 3 is 2\n"
     ]
    }
   ],
   "source": [
    "for n in range(1,6):\n",
    "    print(f'{n} modulo 3 is {n % 3}')"
   ]
  },
  {
   "cell_type": "markdown",
   "metadata": {},
   "source": [
    "The **floor division** operator `//` gives the integer part of a division:"
   ]
  },
  {
   "cell_type": "code",
   "execution_count": 15,
   "metadata": {},
   "outputs": [
    {
     "name": "stdout",
     "output_type": "stream",
     "text": [
      "1 floor divided by 3 is 0\n",
      "2 floor divided by 3 is 0\n",
      "3 floor divided by 3 is 1\n",
      "4 floor divided by 3 is 1\n",
      "5 floor divided by 3 is 1\n"
     ]
    }
   ],
   "source": [
    "for n in range(1,6):\n",
    "    print(f'{n} floor divided by 3 is {n // 3}')"
   ]
  },
  {
   "cell_type": "markdown",
   "metadata": {},
   "source": [
    "Now, suppose you want to create a tool converting from meters to imperial length units:  \n",
    "\n",
    "- a yard is 0.9144 meters\n",
    "- a foot is 0.3048 meters\n",
    "- an inch is 2.54 centimeters\n",
    "\n",
    "Using the above explained two operators, can you solve this problem? Use the correct _assignment operator_ to store intermediate results."
   ]
  },
  {
   "cell_type": "code",
   "execution_count": 24,
   "metadata": {},
   "outputs": [
    {
     "name": "stdout",
     "output_type": "stream",
     "text": [
      "234 metric meters is equivalent to 255.0 yards, 2.0 feet and 8.598425196850487 inches\n"
     ]
    }
   ],
   "source": [
    "meters = 234\n",
    "yards = 0\n",
    "feet = 0\n",
    "inches = 0\n",
    "\n",
    "# Your code \n",
    "\n",
    "\n",
    "print(f'{meters} metric meters is equivalent to {yards} yards, {feet} feet and {inches} inches')"
   ]
  },
  {
   "cell_type": "markdown",
   "metadata": {},
   "source": [
    "<details>\n",
    "  <summary style = \"color:OrangeRed;cursor:pointer;\">&#10149; Give me a hint!</summary>\n",
    "  \n",
    "```python\n",
    "yards = meters // yard\n",
    "```\n",
    "\n",
    "will calculate the yards from meters\n",
    "</details>\n",
    "\n",
    "<br />\n",
    "\n",
    "<details>\n",
    "  <summary style = \"color:OrangeRed;cursor:pointer;\">&#10149; Give me another hint!</summary>\n",
    "  \n",
    "```python\n",
    "remainder = meters % yard\n",
    "```\n",
    "\n",
    "will calculate what is left after getting the yards.\n",
    "</details>\n",
    "\n",
    "<br />\n",
    "\n",
    "<details>\n",
    "  <summary style = \"color:OrangeRed;cursor:pointer;\">&#10149; Give me the complete solution!</summary>\n",
    "  \n",
    "```python\n",
    "meters = 234\n",
    "yards = 0\n",
    "feet = 0\n",
    "inches = 0\n",
    "\n",
    "# Your code \n",
    "yard = 0.9144\n",
    "foot = 0.3048\n",
    "inch = 2.54/100\n",
    "\n",
    "yards = meters // yard\n",
    "remainder = meters % yard\n",
    "\n",
    "feet = remainder // foot\n",
    "remainder %= foot \n",
    "\n",
    "inches = remainder / inch  # no need to floor here!\n",
    "\n",
    "print(f'{meters} metric meters is equivalent to {yards} yards, {feet} feet and {inches} inches')\n",
    "```\n",
    "</details>\n"
   ]
  },
  {
   "cell_type": "markdown",
   "metadata": {},
   "source": []
  },
  {
   "cell_type": "markdown",
   "metadata": {},
   "source": [
    "## Data types\n",
    "\n"
   ]
  },
  {
   "cell_type": "markdown",
   "metadata": {},
   "source": [
    "### String methods\n",
    "\n",
    "From the string below, use methods from `str` to capitalize the words and remove all whitespaces.\n",
    "So, this string `\"The quick brown fox jumps over the lazy dog\"` should become `\"TheQuickBrownFoxJumpsOverTheLazyDog\"`.\n",
    "Have a look at the `str` help documentation to find out which functions you should use.\n",
    "\n",
    "<details>\n",
    "  <summary style = \"color:OrangeRed;cursor:pointer;\">&#10149; Give me the solution</summary>\n",
    "  \n",
    "```python\n",
    "sentence = \"The quick brown fox jumps over the lazy dog\"\n",
    "sentence = sentence.title()\n",
    "sentence.replace(' ', '')\n",
    "# or, in one chained statement:\n",
    "#sentence.title().replace(' ', '')\n",
    "```\n",
    "</details>"
   ]
  },
  {
   "cell_type": "code",
   "execution_count": 14,
   "metadata": {},
   "outputs": [],
   "source": [
    "sentence = \"The quick brown fox jumps over the lazy dog\""
   ]
  },
  {
   "cell_type": "markdown",
   "metadata": {},
   "source": [
    "### String formatting \n",
    "\n",
    "Study this short [string formatting tutorial](https://docs.python.org/3/library/string.html#formatspec) and find out\n",
    "\n",
    "- how, given the variable `name = 'Bert'`, you can print `Hello, Bert, bye Bert'` in four different ways using 4 different string formattng techniques\n",
    "\n",
    "<details>\n",
    "  <summary style = \"color:OrangeRed;cursor:pointer;\">&#10149; Give me the solution</summary>\n",
    "  \n",
    "```python\n",
    "name = 'Bert'\n",
    "print(\"Hello, {}, bye {}\".format(name, name))\n",
    "print(\"Hello, {name1}, bye {name2}\".format(name1 = name, name2 = name))\n",
    "print(\"Hello, {0}, bye {0}\".format(name))\n",
    "print(f\"Hello, {name}, bye {name}\")\n",
    "```\n",
    "</details>\n",
    "\n",
    "- how to center a variable within a fixed 100-character wide field of spaces\n",
    "\n",
    "<details>\n",
    "  <summary style = \"color:OrangeRed;cursor:pointer;\">&#10149; Give me the solution</summary>\n",
    "  \n",
    "```python\n",
    "print(\"XX{:^100}XX\".format(name))\n",
    "```\n",
    "</details>\n",
    "\n",
    "- how to center a variable within a fixed 100-character wide field, filled up with asterisks\n",
    "\n",
    "<details>\n",
    "  <summary style = \"color:OrangeRed;cursor:pointer;\">&#10149; Give me the solution</summary>\n",
    "  \n",
    "```python\n",
    "print(\"XX{:*^100}XX\".format(name))\n",
    "```\n",
    "</details>\n",
    "\n",
    "\n",
    "- how to print the variable `number = 3124855.667698` with thousand separators and rounded at 2 decimals, right aligned in a field of 20 characters.\n",
    "\n",
    "\n",
    "<details>\n",
    "  <summary style = \"color:OrangeRed;cursor:pointer;\">&#10149; Give me the solution</summary>\n",
    "  \n",
    "```python\n",
    "number = 3124855.667698\n",
    "print(\"XX{:>20,.2f}XX\".format(number))\n",
    "```\n",
    "</details>\n"
   ]
  },
  {
   "cell_type": "code",
   "execution_count": 48,
   "metadata": {},
   "outputs": [],
   "source": [
    "name = 'Bert'\n",
    "#YOUR CODE"
   ]
  },
  {
   "cell_type": "markdown",
   "metadata": {},
   "source": [
    "### String slicing\n",
    "\n",
    "Given this string:\n",
    "\n",
    "```python\n",
    "letters = 'Een Aap Die Ijs Eet!'\n",
    "```\n",
    "\n",
    "write a slice that\n",
    "\n",
    "a) prints `'Aap'`\n",
    "\n",
    "<details>\n",
    "  <summary style = \"color:OrangeRed;cursor:pointer;\">&#10149; Give me the solution</summary>\n",
    "  \n",
    "```python\n",
    "letters = 'Een Aap Die Ijs Eet!'\n",
    "print(f'{letters[4:7]}')\n",
    "```\n",
    "</details>\n",
    "\n",
    "b) prints `'EAD'`\n",
    "\n",
    "<details>\n",
    "  <summary style = \"color:OrangeRed;cursor:pointer;\">&#10149; Give me the solution</summary>\n",
    "  \n",
    "```python\n",
    "print(f'{letters[:9:4]}')\n",
    "```\n",
    "</details>\n",
    "\n",
    "c) prints `'!Eje Ae'`\n",
    "\n",
    "<details>\n",
    "  <summary style = \"color:OrangeRed;cursor:pointer;\">&#10149; Give me the solution</summary>\n",
    "  \n",
    "```python\n",
    "print(f'{letters[::-3]}')\n",
    "```\n",
    "</details>\n",
    "\n",
    "d) prints `'    !'`\n",
    "\n",
    "<details>\n",
    "  <summary style = \"color:OrangeRed;cursor:pointer;\">&#10149; Give me the solution</summary>\n",
    "  \n",
    "```python\n",
    "print(f'{letters[3::4]}')\n",
    "```\n",
    "</details>\n",
    "\n"
   ]
  },
  {
   "cell_type": "code",
   "execution_count": 49,
   "metadata": {},
   "outputs": [],
   "source": [
    "letters = 'Een Aap Die Ijs Eet!'\n",
    "#YOUR CODE"
   ]
  },
  {
   "cell_type": "markdown",
   "metadata": {},
   "source": [
    "### Working with lists\n",
    "\n",
    "Given the starting list below, implement the required series of single-statement steps to go to each consecutive modification.\n",
    "\n",
    "```python\n",
    "#feeding an iterable to the list constructor will give a list of individual elements, in this case the letters\n",
    "letters = list('ABCDEFGHIJK')\n",
    "```\n",
    "\n",
    "a) `['A', 'B', 'C', 'D', 'E', 'F', 'G', 'H', 'I', 'J', 'K', 'L', 'M']`\n",
    "\n",
    "<details>\n",
    "  <summary style = \"color:OrangeRed;cursor:pointer;\">&#10149; Give me the solution</summary>\n",
    "  \n",
    "```python\n",
    "letters += list('LM')\n",
    "# or letters += ['L', 'M']\n",
    "# or letters.extend(['L', 'M'])\n",
    "```\n",
    "</details>\n",
    "\n",
    "b) `['A', 'B', 'C', 'H', 'I', 'J', 'K', 'L', 'M']`\n",
    "\n",
    "<details>\n",
    "  <summary style = \"color:OrangeRed;cursor:pointer;\">&#10149; Give me the solution</summary>\n",
    "  \n",
    "```python\n",
    "letters[3:7] = []\n",
    "```\n",
    "</details>\n",
    "\n",
    "c) `['A', 'B', 'C', 'X', 'Y', 'Z', 'L', 'M']`\n",
    "\n",
    "<details>\n",
    "  <summary style = \"color:OrangeRed;cursor:pointer;\">&#10149; Give me the solution</summary>\n",
    "  \n",
    "```python\n",
    "letters[3:7] = list('XYZ')\n",
    "```\n",
    "</details>\n",
    "\n",
    "\n",
    "d) `['A', 'B', 'C', 'X', 'Y', 'Z', 'L', 'M', 'A', 'B', 'C', 'X', 'Y', 'Z', 'L', 'M']`\n",
    "\n",
    "<details>\n",
    "  <summary style = \"color:OrangeRed;cursor:pointer;\">&#10149; Give me the solution</summary>\n",
    "  \n",
    "```python\n",
    "letters = letters * 2\n",
    "# or letters *= 2\n",
    "```\n",
    "</details>\n"
   ]
  },
  {
   "cell_type": "code",
   "execution_count": 86,
   "metadata": {},
   "outputs": [],
   "source": [
    "letters = list('ABCDEFGHIJK')\n",
    "# YOUR CODE"
   ]
  },
  {
   "cell_type": "markdown",
   "metadata": {},
   "source": [
    "### Choosing lists or tuples\n",
    "\n",
    "In essence, a tuple is a list that cannot be changed after it has been created. For the following use cases, choose the most appropriate of these two and implement the case.\n",
    "\n",
    "a) Create a collection with the different roles that users of a web application can have: 'GUEST', 'USER', and 'ADMIN'.\n",
    "\n",
    "<details>\n",
    "  <summary style = \"color:OrangeRed;cursor:pointer;\">&#10149; Give me the solution</summary>\n",
    "  \n",
    "```python\n",
    "#a tuple because no other roles should be defined, or removed (accidentally).\n",
    "roles = ('GUEST', 'USER', 'ADMIN')\n",
    "```\n",
    "</details>\n",
    "\n",
    "<br>\n"
   ]
  },
  {
   "cell_type": "markdown",
   "metadata": {},
   "source": [
    "b) A chess board has 64 fields, indicated by letters for the 8 columns (a-h) and numbers for the rows (1-8). See below.  \n",
    "![chess board](pics/chess_board.png)  \n",
    "\n",
    "So 'a1' is the lowerleft field and 'h8' the upper right one. A chess move consists of a piece (e.g. pawn, knight, queen etc) going from a field of origin (e.g. b2) to a field of destination (e.g. b4). The chess pieces are shown below.    \n",
    "![Chess pieces](pics/chess_pieces.jpeg)  \n",
    "\n",
    "Create a collection storing moves of a chess game. \n",
    "Demonstrate its use by creating and storing a few moves.\n",
    "\n",
    "<details>\n",
    "  <summary style = \"color:OrangeRed;cursor:pointer;\">&#10149; Give me the solution</summary>\n",
    "  \n",
    "```python\n",
    "#moves must be a list because the should be added during the game!\n",
    "moves = list()\n",
    "# tuple is best for a single move; it always has the same three elements.\n",
    "move = ('pawn', 'e2', 'e4')\n",
    "moves.append(move)\n",
    "move = ('pawn', 'e7', 'e5')\n",
    "moves.append(move)\n",
    "move = ('pawn', 'f2', 'f4')\n",
    "moves.append(move)\n",
    "move = ('pawn', 'e5', 'f4')\n",
    "moves.append(move)\n",
    "move = ('bishop', 'f1', 'c4')\n",
    "moves.append(move)\n",
    "\n",
    "print(moves)\n",
    "```\n",
    "</details>\n",
    "\n",
    "<br>"
   ]
  },
  {
   "cell_type": "markdown",
   "metadata": {},
   "source": [
    "\n",
    "\n",
    "c) Create a collection representing the board of the game 'tic tac toe' (Dutch: boter kaas en eieren) in which each 'cell' can (1) be empty - a space ' ' (2) have a cross 'X' or (3) a circle 'O'. Remember, collections can be nested!\n",
    "\n",
    "<details>\n",
    "  <summary style = \"color:OrangeRed;cursor:pointer;\">&#10149; Give me the solution</summary>\n",
    "  \n",
    "```python\n",
    "# using module pprint to get a nice 2D printed representation\n",
    "import pprint\n",
    "pp = pprint.PrettyPrinter(width = 20)\n",
    "# top level should be tuple, \"rows\" should be lists\n",
    "tic_tac_toe = ([' ', 'X', 'O'],\n",
    "               ['X', 'O', ' '],\n",
    "               ['O', 'X', ' '])\n",
    "pp.pprint(tic_tac_toe)\n",
    "```\n",
    "</details>\n",
    "\n",
    "<br>"
   ]
  },
  {
   "cell_type": "markdown",
   "metadata": {},
   "source": [
    "### Tuples and lists\n",
    "\n",
    "Tuples are supposed to be immutable. Let's explore the extend of this rule, and also some other behaviour of tuples and lists.\n",
    "\n",
    "Given this tuple that is the top level collection of this datastructure:\n",
    "\n",
    "```python\n",
    "ZP11 = ({'street': 'Zernikeplein',\n",
    "         'number': 11}, \n",
    "        [\"Life Sciences\", \"Building\", \"ICT\"],\n",
    "        ('Wing A', 'Wing B', 'Wing C', 'Wing H'))\n",
    "```\n",
    "\n",
    "First think and deduce, then try and/or demonstrate these:\n",
    "\n",
    "a) Add an element to ZP11; a single number (e.g. 1500)\n",
    "<details>\n",
    "  <summary style = \"color:OrangeRed;cursor:pointer;\">&#10149; Give me the solution</summary>\n",
    "This is not possible. If ZP11 were a list, this would have been the way:  \n",
    "\n",
    "```python\n",
    "ZP11 += [1500]\n",
    "```\n",
    "</details>\n",
    "\n",
    "b) Add an element, `zipcode`, to the address dict (containing `street` and `number`)\n",
    "<details>\n",
    "  <summary style = \"color:OrangeRed;cursor:pointer;\">&#10149; Give me the solution</summary>\n",
    "  \n",
    "```python\n",
    "ZP11[0]['zipcode'] = \"9747AS\"\n",
    "```\n",
    "</details>\n",
    "\n",
    "c) Remove 'ICT' from the institutes\n",
    "<details>\n",
    "  <summary style = \"color:OrangeRed;cursor:pointer;\">&#10149; Give me the solution</summary>\n",
    "  \n",
    "```python\n",
    "ZP11[1][2:3] = []\n",
    "```\n",
    "</details>\n",
    "\n",
    "\n",
    "d) Add 'Wing D' to the wings of the building\n",
    "<details>\n",
    "  <summary style = \"color:OrangeRed;cursor:pointer;\">&#10149; Give me the solution</summary>\n",
    "Again this is not possible because it is a tuple\n",
    "</details>\n",
    "\n",
    "e) Swap the list `[\"Life Sciences\", \"Building env\", \"ICT\", \"Engineering\"]` for `[\"Economics]`\n",
    "<details>\n",
    "  <summary style = \"color:OrangeRed;cursor:pointer;\">&#10149; Give me the solution</summary>\n",
    "Again this is not possible because it is a tuple. This fails:\n",
    "\n",
    "```python\n",
    "    ZP11[1] = [\"Economics\"]\n",
    "```\n",
    "\n",
    "but there is a workaround!\n",
    "```python\n",
    "    ZP11[1][:] = [\"Economics\"]\n",
    "```\n",
    "\n",
    "This works because you can swap the <i>contents</i> of the entire list!\n",
    "</details>\n"
   ]
  },
  {
   "cell_type": "code",
   "execution_count": 39,
   "metadata": {},
   "outputs": [],
   "source": [
    "ZP11 = ({'street': 'Zernikeplein',\n",
    "         'number': 11}, \n",
    "         [\"Life Sciences\", \"Building env\", \"ICT\", \"Engineering\"],\n",
    "         ('Wing A', 'Wing B', 'Wing C', 'Wing H'))\n",
    "# YOUR CODE\n"
   ]
  },
  {
   "cell_type": "markdown",
   "metadata": {},
   "source": [
    "### sets\n",
    "\n",
    "\n",
    "Create a set named \"fruits_a\" that has the values 'apple', 'pear' and 'banana'. Create a second set, \"fruits_b\", that holds the values 'banana', 'guava' and 'orange'. Find the union, intersection and difference (both ways) between these sets.\n",
    "\n",
    "<details>\n",
    "  <summary style = \"color:OrangeRed;cursor:pointer;\">&#10149; Give me a hint!</summary>\n",
    "  \n",
    "```python\n",
    "help(set)\n",
    "```\n",
    "\n",
    "</details>\n",
    "\n",
    "Next, study the docs and find out  \n",
    "\n",
    "- how to empty a set\n",
    "- what the difference is between `discard()` and `remove()`\n",
    "- how to find out whether one set is present within another set.\n",
    "\n",
    "Demonstrate all these with code examples.\n"
   ]
  },
  {
   "cell_type": "markdown",
   "metadata": {},
   "source": [
    "### dict\n",
    "\n",
    "There are (at least) three ways to create and fill a dict. Use the suggested resources of chapter 1 to find them. Demonstrate these techniques to create a variable named `inventory` holding this dict:  \n",
    "\n",
    "```python  \n",
    "{513: 'hammer', 322: 'screwdriver', 462: 'nailgun'}\n",
    "```\n",
    "\n",
    "<br>\n",
    "\n",
    "<details>\n",
    "  <summary style = \"color:OrangeRed;cursor:pointer;\">&#10149; Give me a hint!</summary>\n",
    "  Use a literal with the format `inventory = {key1: value1, key2: value2}`.\n",
    "    \n",
    "</details>\n",
    "\n",
    "<br>\n",
    "\n",
    "<details>\n",
    "  <summary style = \"color:OrangeRed;cursor:pointer;\">&#10149; Give me another hint!</summary>\n",
    "Create an empty dict, `inventory = dict()` and add individual items like this `inventory[513] = 'hammer'`.\n",
    "</details>\n",
    "\n",
    "<br />\n",
    "\n",
    "<details>\n",
    "  <summary style = \"color:OrangeRed;cursor:pointer;\">&#10149; Give me the complete solution!</summary>\n",
    "  \n",
    "<pre><code>\n",
    "inventory = {513: 'hammer', 322: 'screwdriver', 462: 'nailgun'}\n",
    "print(inventory)\n",
    "\n",
    "inventory = dict()\n",
    "inventory[513] = 'hammer'\n",
    "inventory[322] = 'screwdriver'\n",
    "inventory[462] = 'nailgun'\n",
    "print(inventory)\n",
    "\n",
    "inventory = dict([[513, 'hammer'], [322, 'screwdriver'], [462, 'nailgun']])\n",
    "print(inventory)\n",
    "</code></pre>\n",
    "    \n",
    "This technique uses a list of 2-element-lists passed as argument to the `dict()` function..\n",
    "</details>\n"
   ]
  },
  {
   "cell_type": "markdown",
   "metadata": {},
   "source": [
    "## Flow control"
   ]
  },
  {
   "cell_type": "markdown",
   "metadata": {},
   "source": [
    "### if/else (1)\n",
    "Using the `input()` function, ask the user their full name. Check the number of separate names. For instance, my full name is Michiel Andries Noback (don't tell anybody)! So the count is 3. If the count is higher than 3, ask the user whether they are catholic. If the answer is \"no\", you must conclude they are royalty. If the count is 2 or 3, conclude they are a commoner. With a count of 1, they must be a popstar!\n",
    "\n",
    "<details>\n",
    "  <summary style = \"color:OrangeRed;cursor:pointer;\">&#10149; Give me a hint!</summary>\n",
    "  <pre><code>\n",
    "name = input('Please give your full name: ')\n",
    "if len(name.split(\" \")) > 3:\n",
    "    pass\n",
    "  </code></pre>\n",
    "</details>"
   ]
  },
  {
   "cell_type": "markdown",
   "metadata": {},
   "source": [
    "### if/else (2)\n",
    "Using the `input()` function, ask the user whether they like fish. Convert the input to lowercase so \"Yes\", \"yes\" and \"YES\" are all correct. Check the resulting answer (it should be yes or no, nothing else).  \n",
    "Next, ask the user whether they like meat. With these two inputs, give a pizza suggestion (e.g. vegetariana for people who said \"no\" to both questions). Look up a pizza menu from your favourite restaurant.  \n",
    "Feel free to adjust or expand to your liking!\n",
    "\n",
    "<details>\n",
    "  <summary style = \"color:OrangeRed;cursor:pointer;\">&#10149; Give me a hint!</summary>\n",
    "  <pre><code>\n",
    "correct_answers = {'yes', 'no'}\n",
    "fish = input('do you like fish on your pizza [y/n]?')\n",
    "\n",
    "if not fish.lower() in correct_answers: #or if fish.lower() != 'yes' or fish.lower() != 'no':\n",
    "    fish = input('Only \"yes\" or \"no\" allowed! Do you like fish on your pizza [y/n]?')\n",
    "  </code></pre>\n",
    "</details>"
   ]
  },
  {
   "cell_type": "markdown",
   "metadata": {},
   "source": [
    "### Looping with `for` (1)\n",
    "\n",
    "From this list, `[3, 6, 8, 2, 7, 5, 1, 4]`, create a list holding tuples of each consecutive pair of numbers, like this: `[(3, 6), (8, 2), (7, 5), (1, 4)]`\n",
    "\n",
    "<details>\n",
    "  <summary style = \"color:OrangeRed;cursor:pointer;\">&#10149; Give me the solution</summary>\n",
    "Many solutions possible; here are a few.\n",
    "    \n",
    "```python\n",
    "result = list()\n",
    "for i in range(0, len(l), 2):\n",
    "    result.append((l[i], l[i+1]))\n",
    "result\n",
    "```\n",
    "\n",
    "or\n",
    "    \n",
    "```python\n",
    "l = [3, 6, 8, 2, 7, 5, 1, 4]\n",
    "result = list()\n",
    "for i in range(len(l)):\n",
    "    if i % 2 == 0:\n",
    "        result.append((l[i], l[i+1]))\n",
    "result\n",
    "```\n",
    "\n",
    "or\n",
    "    \n",
    "```python\n",
    "result = list()\n",
    "index = 0 # enumerate() is better but not dealt with\n",
    "for n in l:\n",
    "    if index % 2 == 0:\n",
    "        result.append((l[index], l[index+1]))\n",
    "    index += 1\n",
    "result\n",
    "```\n",
    "</details>\n",
    "\n"
   ]
  },
  {
   "cell_type": "code",
   "execution_count": 12,
   "metadata": {},
   "outputs": [
    {
     "name": "stdout",
     "output_type": "stream",
     "text": [
      "[(3, 6), (8, 2), (7, 5), (1, 4)]\n"
     ]
    }
   ],
   "source": [
    "l = [3, 6, 8, 2, 7, 5, 1, 4]\n",
    "# YOUR CODE\n"
   ]
  },
  {
   "cell_type": "markdown",
   "metadata": {},
   "source": [
    "### Looping with `for` (2)\n",
    "\n",
    "Given the text presented below, report \n",
    "1. the number of sentences\n",
    "1. the number of words in each sentence\n",
    "2. the words that are repeated at least once\n",
    "3. the count of each letter (challenge: only _alphabet_ characters)\n",
    "There are several looping scenarios to address both word count and letter count: nested or after each other.\n",
    "\n",
    "<details>\n",
    "  <summary style = \"color:OrangeRed;cursor:pointer;\">&#10149; Give me a hint!</summary>\n",
    "    Besides some <code>split()</code>ting and looping, this assignment requires the use of sets and/or dictionaries. \n",
    "</details>\n",
    "\n",
    "<details>\n",
    "  <summary style = \"color:OrangeRed;cursor:pointer;\">&#10149; Give me another hint!</summary>\n",
    "  <pre><code>\n",
    "letters = dict()\n",
    "sentences = text.split(\".\")\n",
    "for sentence_count, sentence in enumerate(sentences):\n",
    "    pass\n",
    "  </code></pre>\n",
    "</details>\n",
    "\n",
    "<details>\n",
    "  <summary style = \"color:OrangeRed;cursor:pointer;\">&#10149; How do I count frequencies?</summary>\n",
    "  <pre><code>\n",
    "letter_freq = dict()\n",
    "for char in text:\n",
    "    letter_freq.setdefault(char, 0)\n",
    "    # better than \n",
    "    #if char not in letter_freq:\n",
    "    #    letter_freq[char] = 0\n",
    "    letter_freq[char] += 1\n",
    "  </code></pre>\n",
    "    This is out of scope for this course, but too nice to leave unmentioned. See alse \n",
    "    <a href=\"https://realpython.com/python-counter/#:~:text=Counter%20is%20a%20subclass%20of,argument%20to%20the%20class's%20constructor.\" target=\"_blank\">here</a>\n",
    "  <pre><code>\n",
    "from collections import Counter\n",
    "Counter(text)\n",
    "  </code></pre>    \n",
    "</details>"
   ]
  },
  {
   "cell_type": "code",
   "execution_count": 21,
   "metadata": {},
   "outputs": [],
   "source": [
    "text = \"\"\"Python is a high-level, general-purpose programming language. \n",
    "Its design philosophy emphasizes code readability with the use of significant indentation.\n",
    "Python is dynamically-typed and garbage-collected. \n",
    "It supports multiple programming paradigms, including structured (particularly procedural), \n",
    "object-oriented and functional programming.\"\"\"\n",
    "\n",
    "# YOUR CODE"
   ]
  },
  {
   "cell_type": "markdown",
   "metadata": {},
   "source": [
    "### Looping with `while`\n",
    "\n",
    "Ask the user a for username of at least 6 characters long, consisting of only alphabet characters or number. Repeat the question as long as there is no correct username provided. If the input is correct, print \"You are registered as &lt;USERNAME&gt;!\" and exit the loop. If the input is empty, print \"Registration cancelled.\" and exit as well.  \n",
    "(NB this is not nice to do in Visual Studio Code)\n",
    "\n",
    "<details>\n",
    "  <summary style = \"color:OrangeRed;cursor:pointer;\">&#10149; Give me a hint</summary>\n",
    "  This is a typical use case for `while True:`.  \n",
    "\n",
    "</details>  \n",
    "  <br>\n",
    "<details>\n",
    "  <summary style = \"color:OrangeRed;cursor:pointer;\">&#10149; Give me the solution</summary>\n",
    "\n",
    "```python\n",
    "while True:\n",
    "    username = input(\"Please enter a username\")\n",
    "    print(f'You entered \"{username}\"')\n",
    "    if len(username) == 0:\n",
    "        print(\"Registration cancelled\")\n",
    "        break\n",
    "    if len(username) > 6 and username.isalnum():\n",
    "        print(f'You are registered as \"{username}\"')\n",
    "        break\n",
    "    else:\n",
    "        print(f'Username incorrect: \"{username}\"; should be at least 6 characters of only letters and digits')\n",
    "```\n",
    "\n",
    "</details>\n"
   ]
  },
  {
   "cell_type": "markdown",
   "metadata": {},
   "source": [
    "## Functions"
   ]
  },
  {
   "cell_type": "markdown",
   "metadata": {},
   "source": [
    "### Refactor to use functions\n",
    "\n",
    "Refactor the assignment \"Looping with `for` (2)\" to use functions for each sub-assignment. You will end up with at least 4 functions, something like this:\n",
    "- `count_sentences(text)`: counts the number of sentences\n",
    "- `count_words(sentence)`: counts the words in a sentence \n",
    "- `process_words(sentence, word_dict)`: Counts the different words in a sentence. If `word_dict` is `None`, create a new one, else use the given dict!\n",
    "- `get_letter_frequency(sentence, letter_dict)`: Determines the letter frequencies in the sentence. If `letter_dict` is `None`, create a new one, else use the given dict!\n",
    "\n",
    "You can ignore the fact that this may not be the most efficient way to get all statistics in a single analysis. \n",
    "Feel free to be creative in your refactoring."
   ]
  },
  {
   "cell_type": "markdown",
   "metadata": {},
   "source": [
    "### Unit conversions\n",
    "\n",
    "Write a function that can be used to convert units in different temperature scales between each other.  \n",
    "For instance, temperature in degrees Fahrenheit to Celsius is `°F = (°C * 9/5) + 32`.  \n",
    "Conversely, `°C = (°F - 32) * 5/9`. And Kelvin to Celsius: `K = C + 273.15`.  \n",
    "\n",
    "Your function should take three arguments: the input temp, the origin scale and the destination scale.  \n",
    "It should print the converted value as well as the input and output types.  \n"
   ]
  },
  {
   "cell_type": "markdown",
   "metadata": {},
   "source": [
    "### DNA translations\n",
    "\n",
    "In its most basic form, DNA can be seen as a sequence of 3-letter words (called _codons_), each of which encodes a single amino acid or a stop signal.  \n",
    "So, this short DNA sequence `ATGCCGGGCTAA` can be translated into Met-Pro-Gly-Stop. Or, in single-letter encoding `MPG*`. For details on this central dogma of molecular biology, see [here](https://atdbio.com/nucleic-acids-book/Transcription-Translation-and-Replication).  \n",
    "The snippet below generates the DNA codon translation table that can be used to translate DNA into protein.  "
   ]
  },
  {
   "cell_type": "code",
   "execution_count": 13,
   "metadata": {},
   "outputs": [],
   "source": [
    "bases = \"tcag\"\n",
    "codons = [a + b + c for a in bases for b in bases for c in bases]\n",
    "amino_acids = 'FFLLSSSSYY**CC*WLLLLPPPPHHQQRRRRIIIMTTTTNNKKSSRRVVVVAAAADDEEGGGG'\n",
    "codon_table = dict(zip(codons, amino_acids))"
   ]
  },
  {
   "cell_type": "markdown",
   "metadata": {},
   "source": [
    "It is your task to create a function that can translate DNA into protein. The function should receive two arguments: the DNA sequence (`seq`) and the position to start translation at, `start`. This last argument should default to 0 (the first nucleotide).  \n",
    "Here is a test sequence you can use (parts of):  \n",
    "```\n",
    "CATCATGAAATCGCTTGTCGCACTACTGCTGCTTTTAGTCGCTACTTCTGCCTTTGCTGACCAGTATGTAAATGGCTACA\n",
    "CTAGAAAAGACGGAACTTATGTCAACGGCTATAC\n",
    "```\n",
    "\n",
    "As an optional extra argument you could implement that the function exits and returns the protein sequence when a stop (`*`) is encountered, defaulting on `False`."
   ]
  },
  {
   "cell_type": "markdown",
   "metadata": {},
   "source": [
    "<details>\n",
    "  <summary style = \"color:OrangeRed;cursor:pointer;\">&#10149; Give me a hint</summary>\n",
    "  To get hold of a codon, you will need something like `codon = seq[i: i+3]`\n",
    "\n",
    "</details>  \n",
    "  <br>\n",
    "<details>\n",
    "  <summary style = \"color:OrangeRed;cursor:pointer;\">&#10149; Give me the solution</summary>\n",
    "\n",
    "```python\n",
    "def translate(seq, start=0, exit_on_stop=False):\n",
    "    seq = seq.lower().replace('\\n', '')\n",
    "    peptide = ''\n",
    "    for i in range(start, len(seq), 3):\n",
    "        codon = seq[i: i+3]\n",
    "        amino_acid = codon_table.get(codon, '*') # Default return value when the codon is not three letters\n",
    "        peptide += amino_acid\n",
    "\n",
    "        if amino_acid == '*' and exit_on_stop:\n",
    "            break\n",
    "    return peptide\n",
    "\n",
    "dna = \"CATCATGAAATCGCTTGTCGCACTACTGCTGCTTTTAGTCGCTACTTCTGCCTTTGCTGACCAGTATGTAAATGGCTACACTAGAAAAGACGGAACTTATGTCAACGGCTATAC\"\n",
    "translate(dna, start = 2, exit_on_stop=False)\n",
    "```\n",
    "</details>\n"
   ]
  },
  {
   "cell_type": "markdown",
   "metadata": {},
   "source": [
    "## Reading and Writing files"
   ]
  },
  {
   "cell_type": "markdown",
   "metadata": {},
   "source": [
    "### Patient before & after treatment data\n",
    "In the `data` folder of this repo there is a file named [patients_before_after.csv](./data/patients_before_after.csv). If this assignment is viewed within a browser window wou can click on the link to access it. \n",
    "Write a function named `process_patient_data()` that \n",
    "\n",
    "1. Reads in the data\n",
    "2. Calculates the difference between \"Before\" and \"After\"\n",
    "3. Writes the result to a file named `patient_data_processed.csv` with this format:\n",
    "```\n",
    "Patient,Difference\n",
    "1,23\n",
    "2,40\n",
    "3,57\n",
    "...\n",
    "```\n",
    "\n",
    "Hint: writing a new line to file is done with `\"\\n\"`.\n",
    "\n",
    "<details>\n",
    "  <summary style = \"color:OrangeRed;cursor:pointer;\">&#10149; Give me the solution!</summary>\n",
    "    \n",
    "```python\n",
    "input_file = \"./data/patients_before_after.csv\"\n",
    "output_file = \"./data/patients_diff.csv\"\n",
    "\n",
    "in_handle = open(input_file, \"r\")\n",
    "out_handle = open(output_file, \"w\")\n",
    "out_handle.write(\"Patient,Difference\\n\")\n",
    "#without enumerate()\n",
    "count = 0\n",
    "for line in in_handle:\n",
    "    count += 1\n",
    "    if (count == 1): continue\n",
    "    line = line.strip()\n",
    "    #automatic unpacking\n",
    "    (patient, before, after) = line.split(\",\")\n",
    "    before = int(before)\n",
    "    after = int(after)\n",
    "    diff = before - after\n",
    "    out_handle.write(f'{patient},{diff}\\n')\n",
    "    print(patient, before, after, diff)\n",
    "\n",
    "in_handle.close()\n",
    "out_handle.close()\n",
    "```\n",
    "</details>\n"
   ]
  },
  {
   "cell_type": "code",
   "execution_count": 15,
   "metadata": {},
   "outputs": [],
   "source": [
    "# YOUR CODE"
   ]
  },
  {
   "cell_type": "markdown",
   "metadata": {},
   "source": [
    "### Drug trial data\n",
    "In the `data` folder of this repo there is a file named [placebo_drug_test.csv](./data/placebo_drug_test.csv). If  this assignment is viewed within a browser window wou can click on the link to access it. \n",
    "Write a function named `analyse_drug_data()` that reads in the file and returns - as a dict data structure - the following information:\n",
    "\n",
    "1. The number of subjects in the data\n",
    "2. The mean, minimum and maximum of the Placebo treatment\n",
    "3. The mean, minimum and maximum of the Valproate treatment\n"
   ]
  },
  {
   "cell_type": "code",
   "execution_count": null,
   "metadata": {},
   "outputs": [],
   "source": [
    "# YOUR CODE"
   ]
  },
  {
   "cell_type": "markdown",
   "metadata": {},
   "source": [
    "## Core library functions"
   ]
  },
  {
   "cell_type": "markdown",
   "metadata": {},
   "source": [
    "### `enumerate()`\n",
    "Look at the solution for exercise 05.1 and refactor it so that the enumerate function is used instead of this construct:\n",
    "\n",
    "```python\n",
    "count = 0\n",
    "for line in in_handle:\n",
    "    count += 1\n",
    "    #more code\n",
    "```\n"
   ]
  },
  {
   "cell_type": "markdown",
   "metadata": {},
   "source": [
    "### `chr()` \n",
    "Below is a secret message encoded in numbers. Each number represents a letter.\n",
    "Can you crack it with the `chr()` function?\n",
    "Note, you will also need to use `int()`\n",
    "\n",
    "<details>\n",
    "  <summary style = \"color:OrangeRed;cursor:pointer;\">&#10149; Give me the solution</summary>\n",
    "    \n",
    "```python\n",
    "encrypted = '73|32|104|111|112|101|32|71|111|111|103|108|101|32|105|115|32|109|111|114|101|32|99|97|114|101|102|117|108|108|32|119|105|116|104|32|109|121|32|100|97|116|97|33'\n",
    "decrypted = \"\"\n",
    "for c in encrypted.split(\"|\"):\n",
    "    decrypted += chr(int(c))    \n",
    "decrypted\n",
    "```\n",
    "</details>"
   ]
  },
  {
   "cell_type": "code",
   "execution_count": 37,
   "metadata": {},
   "outputs": [],
   "source": [
    "# The encoded message:\n",
    "encrypted = '73|32|104|111|112|101|32|71|111|111|103|108|101|32|105|115|32|109|111|114|101|32|99|97|114|101|102|117|108|108|32|119|105|116|104|32|109|121|32|100|97|116|97|33'\n"
   ]
  },
  {
   "cell_type": "markdown",
   "metadata": {},
   "source": [
    "### `ord()`\n",
    "Do the reverse of the above exercise: create an encrypted message from the given text.\n",
    "Write a function for this task that accepts as arguments the message to encryp and the separator to use. The separator should default to `'|'`. Note, you will also need to use `str()`.\n",
    "\n",
    "<details>\n",
    "  <summary style = \"color:OrangeRed;cursor:pointer;\">&#10149; Give me the solution</summary>\n",
    "    \n",
    "```python\n",
    "def encrypt(message, separator = '|'):\n",
    "    result = list()\n",
    "    for c in message:\n",
    "        result.append(str(ord(c)))\n",
    "    #the join method is more efficient than \"text += text\" concatenation\n",
    "    return separator.join(result)\n",
    "    \n",
    "message = \"Keep it secret, keep is safe!\"\n",
    "print(encrypt(message))\n",
    "```\n",
    "</details>\n"
   ]
  },
  {
   "cell_type": "code",
   "execution_count": 41,
   "metadata": {},
   "outputs": [],
   "source": [
    "message = \"Keep it secret, keep is safe!\"\n",
    "# YOUR CODE"
   ]
  },
  {
   "cell_type": "markdown",
   "metadata": {},
   "source": [
    "### Sorting\n",
    "\n",
    "Given the list of tuples below, holding first names, last names, ages, lengths and weights of persons, sort it according to\n",
    "\n",
    "a) First name\n",
    "\n",
    "<details>\n",
    "  <summary style = \"color:OrangeRed;cursor:pointer;\">&#10149; Give me the solution</summary>\n",
    "    \n",
    "```python\n",
    "# default behaviour is already correct!\n",
    "sorted(persons)\n",
    "\n",
    "```\n",
    "</details>\n",
    "\n",
    "b) Age (from high to low)\n",
    "\n",
    "<details>\n",
    "  <summary style = \"color:OrangeRed;cursor:pointer;\">&#10149; Give me the solution</summary>\n",
    "    \n",
    "```python\n",
    "sorted(persons, key = lambda person: person[2], reverse=True)\n",
    "```\n",
    "</details>\n",
    "\n",
    "\n",
    "c) Last name and first name\n",
    "\n",
    "<details>\n",
    "  <summary style = \"color:OrangeRed;cursor:pointer;\">&#10149; Give me the solution</summary>\n",
    "    \n",
    "```python\n",
    "# create a key of two person elements: last and then first name\n",
    "sorted(persons, key = lambda person: (person[1], person[0]))\n",
    "\n",
    "```\n",
    "</details>\n",
    "\n",
    "d) The person's BMI\n",
    "\n",
    "<details>\n",
    "  <summary style = \"color:OrangeRed;cursor:pointer;\">&#10149; Give me the solution</summary>\n",
    "    \n",
    "```python\n",
    "# publish a key representing a filed that is not actually present\n",
    "sorted(persons, key = lambda person: person[4]/(person[3]**2) )\n",
    "\n",
    "```\n",
    "</details>\n",
    "\n",
    "\n"
   ]
  },
  {
   "cell_type": "code",
   "execution_count": 23,
   "metadata": {},
   "outputs": [],
   "source": [
    "persons = [('John', 'Doe', 57, 180, 80),\n",
    "          ('Anna', 'Doe', 62, 190, 97),\n",
    "          ('Allie', 'Zandt', 42, 176, 78),\n",
    "          ('Roger', 'Marre', 35, 181, 72),\n",
    "          (\"Z'duru\", 'Ambarda', 39, 166, 70)]\n",
    "# YOUR CODE\n"
   ]
  },
  {
   "cell_type": "markdown",
   "metadata": {},
   "source": [
    "### The `sys` module\n",
    "\n",
    "Using the correct output streams, print messages to get output that looks like this:\n",
    "![pics/output_streams_example.png](./pics/output_streams_example.png)\n",
    "\n",
    "<details>\n",
    "  <summary style = \"color:OrangeRed;cursor:pointer;\">&#10149; Give me the solution</summary>\n",
    "    \n",
    "```python\n",
    "import sys\n",
    "print(\"Welcome to flight 464 to Amsterdam\")\n",
    "print(\"Uhm, I think we just lost an engine\", file=sys.stderr)\n",
    "print(\"Oh my God we are all going to die!\", file=sys.stderr)\n",
    "\n",
    "```\n",
    "</details>\n"
   ]
  },
  {
   "cell_type": "code",
   "execution_count": 68,
   "metadata": {
    "slideshow": {
     "slide_type": "slide"
    }
   },
   "outputs": [],
   "source": [
    "# YOUR CODE\n"
   ]
  },
  {
   "cell_type": "markdown",
   "metadata": {},
   "source": [
    "### What happens if...\n",
    "You type `sys.exit()` below and run the cell?"
   ]
  },
  {
   "cell_type": "code",
   "execution_count": 70,
   "metadata": {},
   "outputs": [],
   "source": [
    "# YOUR CODE\n"
   ]
  },
  {
   "cell_type": "markdown",
   "metadata": {},
   "source": [
    "### The `csv` module\n",
    "Repeat exercise 05.2 but this time use the csv module.\n"
   ]
  },
  {
   "cell_type": "markdown",
   "metadata": {},
   "source": [
    "## Comprehensions\n"
   ]
  },
  {
   "cell_type": "markdown",
   "metadata": {},
   "source": [
    "### Starting simple\n",
    "Using comprehensions and the `range(8)` function call as basic iterator, generate the following lists:\n",
    "\n",
    "a) `[2, 2, 2, 2, 2, 2, 2, 2]`\n",
    "\n",
    "<details>\n",
    "  <summary style = \"color:OrangeRed;cursor:pointer;\">&#10149; Give me the solution</summary>\n",
    "    \n",
    "```python\n",
    "[2 for x in range(8)]\n",
    "```\n",
    "</details>\n",
    "\n"
   ]
  },
  {
   "cell_type": "markdown",
   "metadata": {},
   "source": [
    "b) `[0, 1, 4, 9, 16, 25, 36, 49]`\n",
    "\n",
    "<details>\n",
    "  <summary style = \"color:OrangeRed;cursor:pointer;\">&#10149; Give me the solution</summary>\n",
    "    \n",
    "```python\n",
    "[x**2 for x in range(8)]\n",
    "```\n",
    "</details>"
   ]
  },
  {
   "cell_type": "markdown",
   "metadata": {},
   "source": [
    "c) `[0, 1, 2, 3, 4]`\n",
    "\n",
    "<details>\n",
    "  <summary style = \"color:OrangeRed;cursor:pointer;\">&#10149; Give me the solution</summary>\n",
    "    \n",
    "```python\n",
    "[x for x in range(8) if x < 5]\n",
    "```\n",
    "</details>\n"
   ]
  },
  {
   "cell_type": "markdown",
   "metadata": {},
   "source": [
    "d) `[1, 3, 5, 7]`\n",
    "\n",
    "<details>\n",
    "  <summary style = \"color:OrangeRed;cursor:pointer;\">&#10149; Give me the solution</summary>\n",
    "    \n",
    "```python\n",
    "[x for x in range(10) if x % 2 == 1]\n",
    "```\n",
    "</details>\n"
   ]
  },
  {
   "cell_type": "markdown",
   "metadata": {},
   "source": [
    "e) `[10, 12, 14, 16]`\n",
    "\n",
    "<details>\n",
    "  <summary style = \"color:OrangeRed;cursor:pointer;\">&#10149; Give me the solution</summary>\n",
    "    \n",
    "```python\n",
    "[x+10 for x in range(8) if x%2==0]\n",
    "```\n",
    "</details>\n"
   ]
  },
  {
   "cell_type": "code",
   "execution_count": 79,
   "metadata": {},
   "outputs": [],
   "source": [
    "#YOUR CODE\n"
   ]
  },
  {
   "cell_type": "markdown",
   "metadata": {},
   "source": [
    "### Some more basic listcomps\n"
   ]
  },
  {
   "cell_type": "markdown",
   "metadata": {},
   "source": [
    "a) Go from this `[1, 3, \"H\", 4, \"K\"]` to this `[1, 9, \"hh\", 16, \"kk\"]`\n",
    "\n",
    "<details>\n",
    "  <summary style = \"color:OrangeRed;cursor:pointer;\">&#10149; Give me the solution</summary>\n",
    "    \n",
    "```python\n",
    "my_data = [1, 3, \"H\", 4, \"K\"]\n",
    "[e.lower()*2 if type(e) == str else e**2 for e in my_data]\n",
    "```\n",
    "</details>\n"
   ]
  },
  {
   "cell_type": "code",
   "execution_count": 1,
   "metadata": {},
   "outputs": [],
   "source": [
    "my_data = [1, 3, \"H\", 4, \"K\"]\n",
    "# YOUR CODE"
   ]
  },
  {
   "cell_type": "markdown",
   "metadata": {},
   "source": [
    "b) Go from this `xy_coords = [(3, 4), (1, 5), (6, 4), (5, 1)]` to this `[1, 4, 2]`; i.e. calculate the absolute difference between x and y of each coordinate.\n",
    "\n",
    "<details>\n",
    "  <summary style = \"color:OrangeRed;cursor:pointer;\">&#10149; Give me the solution</summary>\n",
    "    \n",
    "```python\n",
    "[abs(x - y) for x, y in xy_coords if x > 1 and y > 1]\n",
    "# or, alternatively\n",
    "[abs(t[0] - t[1]) for t in xy_coords if t[0] > 1 and t[1] > 1]\n",
    "```\n",
    "</details>\n"
   ]
  },
  {
   "cell_type": "code",
   "execution_count": 2,
   "metadata": {},
   "outputs": [],
   "source": [
    "xy_coords = [(3, 4), (1, 5), (6, 4), (5, 1)]\n",
    "# YOUR CODE"
   ]
  },
  {
   "cell_type": "markdown",
   "metadata": {},
   "source": [
    "### Some more juice in comprehensions\n",
    "These exercises should all be solved using comprehensions.\n",
    "\n",
    "a) from this list, `[3, 1, 6, 5, 2]` create the list `[[0, 1, 2], [0], [0, 1, 2, 3, 4, 5], [0, 1, 2, 3, 4], [0, 1]]`\n",
    "\n",
    "<details>\n",
    "  <summary style = \"color:OrangeRed;cursor:pointer;\">&#10149; Give me the solution</summary>\n",
    "    \n",
    "```python\n",
    "l = [3, 1, 6, 5, 2]\n",
    "[[x for x in range(n)] for n in l]\n",
    "```\n",
    "</details>\n",
    "\n"
   ]
  },
  {
   "cell_type": "markdown",
   "metadata": {},
   "source": [
    "b) from this list, `[3, 1, 6, 5, 2]` create the list `[[2, 1, 0], [0], [5, 4, 3, 2, 1, 0], [4, 3, 2, 1, 0], [1, 0]]`\n",
    "\n",
    "<details>\n",
    "  <summary style = \"color:OrangeRed;cursor:pointer;\">&#10149; Give me the solution</summary>\n",
    "    \n",
    "```python\n",
    "l = [3, 1, 6, 5, 2]\n",
    "[[x for x in reversed(range(n))] for n in l]\n",
    "```\n",
    "</details>\n"
   ]
  },
  {
   "cell_type": "markdown",
   "metadata": {},
   "source": [
    "c) from this list, `[3, 1, 6, 5, 2]` create the dict `{3: 3, 1: 0, 6: 15, 5: 10, 2: 1}`. This is the sum of 0 (or 1) to the corresponding number.\n",
    "\n",
    "<details>\n",
    "  <summary style = \"color:OrangeRed;cursor:pointer;\">&#10149; Give me the solution</summary>\n",
    "    \n",
    "```python\n",
    "l = [3, 1, 6, 5, 2]\n",
    "{n:[x for x in reversed(range(n))] for n in l}\n",
    "```\n",
    "</details>\n"
   ]
  },
  {
   "cell_type": "code",
   "execution_count": 21,
   "metadata": {},
   "outputs": [],
   "source": [
    "l = [3, 1, 6, 5, 2]\n",
    "\n",
    "# YOUR CODE"
   ]
  },
  {
   "cell_type": "markdown",
   "metadata": {},
   "source": [
    "## The exception mechanism"
   ]
  },
  {
   "cell_type": "markdown",
   "metadata": {},
   "source": [
    "### From output to implementation\n",
    "Given the output below, which is the result from running a cell, implement the code that will generate exactly this output.\n",
    "![](pics/stack_to_implementation.png)"
   ]
  },
  {
   "cell_type": "markdown",
   "metadata": {},
   "source": [
    "### Add error handling\n",
    "\n",
    "In the `data` folder you will find a file, [dirty_data.csv](data/dirty_data.csv). This serves as input to the Python script [add_error_handling.py](scripts/add_error_handling.py) that is present in the `scripts` folder. This is the script:\n",
    "\n",
    "```python\n",
    "\n",
    "def read_file(file):\n",
    "    '''Reads in the given data and returns a list of tuples,\n",
    "    where each tuple contains exactly 3 numbers'''\n",
    "    result = list()\n",
    "    with open(file) as f:\n",
    "        for line in f:\n",
    "            print(f)\n",
    "    return result\n",
    "\n",
    "def process_numbers(numbers):\n",
    "    '''Receives a list of tuples of 3 numbers each.\n",
    "    Then calculates the first number divided by the second number, \n",
    "    and this times third number for each tuple.\n",
    "    Returns a List of results.'''\n",
    "    for t in numbers:\n",
    "        pass\n",
    "\n",
    "def main(args):\n",
    "    '''Receives the command-line argument with file and \n",
    "    processes this with the two functions.\n",
    "    Then reports the average of all processed cases.'''\n",
    "    numbers = read_file(args[1])\n",
    "    processed = process_numbers(numbers)\n",
    "\n",
    "\n",
    "if __name__ == \"__main__\":\n",
    "    '''main entry point'''\n",
    "    import sys\n",
    "    main(sys.argv)\n",
    "```\n",
    "\n",
    "It is your task to add all types of error handling that will make this a robust piece of functionality.\n",
    "This involves catching and dealing with exceptions/errors, but also verifying user input and dealing with erroneous input in a correct and friendly manner.\n"
   ]
  },
  {
   "cell_type": "markdown",
   "metadata": {},
   "source": [
    "## Regular Expressions"
   ]
  },
  {
   "cell_type": "markdown",
   "metadata": {},
   "source": [
    "### TBD"
   ]
  },
  {
   "cell_type": "markdown",
   "metadata": {},
   "source": [
    "## Object-oriented Programming"
   ]
  },
  {
   "cell_type": "markdown",
   "metadata": {},
   "source": [
    "### A Zoo class\n",
    "\n",
    "a). Study the docs of `defaultdict` from module `collections` [here](https://docs.python.org/3/library/collections.html#collections.defaultdict). You should use this container in this exercise. Create a Zoo class that can be used to hold a collection of zoo animals. Initialize it with a `defaultdict` to hold animals that will be retrievable by species name.\n",
    "\n",
    "<br>\n",
    "\n",
    "<details>\n",
    "  <summary style = \"color:OrangeRed;cursor:pointer;\">&#10149; Give me the solution</summary>\n",
    "\n",
    "```python\n",
    "from collections import defaultdict\n",
    "class Zoo:\n",
    "    def __init__(self):\n",
    "        self.animals = defaultdict()\n",
    "```\n",
    "\n",
    "</details>\n"
   ]
  },
  {
   "cell_type": "code",
   "execution_count": 29,
   "metadata": {},
   "outputs": [],
   "source": [
    "# YOUR CODE\n"
   ]
  },
  {
   "cell_type": "markdown",
   "metadata": {},
   "source": [
    "b). Implement a method within class Zoo that can be used to add animals with a species name and animal name. It should have this signature:\n",
    "\n",
    "```python\n",
    "def add_animal(self, species, name):\n",
    "```\n",
    "\n",
    "To demonstrate correctness, implement a method that can be used to fetch all names of animals of a given species, defaulting to an empty list if no such animal species is in the Zoo:\n",
    "\n",
    "```python\n",
    "def get_animals(self, species):\n",
    "```\n",
    "\n",
    "Demonstrate: Create and fill the Zoo with some animals and fetch some existing and non-existing animals.\n",
    "\n",
    "\n",
    "<br>\n",
    "<details>\n",
    "  <summary style = \"color:OrangeRed;cursor:pointer;\">&#10149; Give me the solution</summary>\n",
    "\n",
    "```python\n",
    "from collections import defaultdict\n",
    "class Zoo:\n",
    "    def __init__(self):\n",
    "        self.animals = defaultdict()\n",
    "    \n",
    "    def add_animal(self, species, name):\n",
    "        self.animals.setdefault(species, []).append(name)\n",
    "    \n",
    "    def get_animals(self, species):\n",
    "        return self.animals.get(species, [])\n",
    "    \n",
    "z = Zoo()\n",
    "z.add_animal(\"bear\", \"Jonas\")\n",
    "z.add_animal(\"bear\", \"Boris\")\n",
    "z.add_animal(\"parrot\", \"Tweety\")\n",
    "\n",
    "print(z.get_animals(\"bear\"))\n",
    "print(z.get_animals(\"lion\"))\n",
    "```\n",
    "</details>\n"
   ]
  },
  {
   "cell_type": "code",
   "execution_count": 31,
   "metadata": {},
   "outputs": [],
   "source": [
    "# YOUR CODE\n"
   ]
  },
  {
   "cell_type": "markdown",
   "metadata": {},
   "source": [
    "c). Implement a string representation function (using the correct hook) that will display the following information when an instance of the class is printed:\n",
    "\n",
    "> Zoo {bear: Jonas & Boris; lemming: Peter & Roger & Anne; parrot: Tweety}\n",
    "\n",
    "Note the animals are sorted by species name and animal name!\n",
    "\n",
    "<br>\n",
    "<details>\n",
    "  <summary style = \"color:OrangeRed;cursor:pointer;\">&#10149; Give me a hint</summary>\n",
    "\n",
    "The function to be implemented is `__str__()`.<br>\n",
    "Use `\"str\".join(list)` to combine elements.  <br>  <br>\n",
    "\n",
    "</details>\n",
    "\n",
    "<details>\n",
    "  <summary style = \"color:OrangeRed;cursor:pointer;\">&#10149; Give me the solution</summary>\n",
    "\n",
    "```python\n",
    "from collections import defaultdict\n",
    "class Zoo:\n",
    "    ## rest of code omitted!\n",
    "    def __str__(self):\n",
    "        str_repr = []\n",
    "        for a in sorted(self.animals.keys()):\n",
    "            sp = a + \": \" + \" & \".join(self.animals.get(a))\n",
    "            str_repr.append(sp)\n",
    "        return \"Zoo {\" + \"; \".join(str_repr) + \"}\"\n",
    "```\n",
    "</details>\n"
   ]
  },
  {
   "cell_type": "code",
   "execution_count": 52,
   "metadata": {},
   "outputs": [],
   "source": [
    "# YOUR CODE\n"
   ]
  },
  {
   "cell_type": "markdown",
   "metadata": {},
   "source": [
    "d). Make the Zoo class iterable. When used in a for loop or other iteration context, instances should sequentially serve animals as a tuple. in this tuple, the first element should be a species name and the second the animal name. Extra credits to do this with comprehensions.\n",
    "\n",
    "<br>\n",
    "\n",
    "<details>\n",
    "  <summary style = \"color:OrangeRed;cursor:pointer;\">&#10149; Give me a hint</summary>\n",
    "    \n",
    "You should use the `__iter__()` hook to serve a new data representation of the Zoo animals.\n",
    "This needs a nested looping to create the requested datastructure - or a nested comprehension.  <br>  <br>\n",
    "\n",
    "</details>\n",
    "\n",
    "<details>\n",
    "  <summary style = \"color:OrangeRed;cursor:pointer;\">&#10149; Give me the solution</summary>\n",
    "\n",
    "```python\n",
    "from collections import defaultdict\n",
    "class Zoo:\n",
    "    def __init__(self):\n",
    "        self.animals = defaultdict()\n",
    "    \n",
    "    def add_animal(self, species, name):\n",
    "        self.animals.setdefault(species, []).append(name)\n",
    "    \n",
    "    def get_animals(self, species):\n",
    "        return self.animals.get(species, [])\n",
    "    \n",
    "    def __str__(self):\n",
    "        str_repr = []\n",
    "        for a in sorted(self.animals.keys()):\n",
    "            sp = a + \": \" + \" & \".join(self.animals.get(a))\n",
    "            str_repr.append(sp)\n",
    "        return \"Zoo {\" + \"; \".join(str_repr) + \"}\"\n",
    "    \n",
    "    def __iter__(self):\n",
    "        ## best but hard to read\n",
    "        iterator = [(species, animal) for species in self.animals for animal in self.animals[species]]\n",
    "    \n",
    "        ## more code but easy to read\n",
    "        #iterator = list()\n",
    "        #for species in self.animals:\n",
    "        #    for animal in self.animals[species]:\n",
    "        #        iterator.append((species, animal))\n",
    "        #\n",
    "        ## delegate!\n",
    "        return iterator.__iter__()\n",
    "    \n",
    "zoo = Zoo()\n",
    "zoo.add_animal(\"lemming\", \"Peter\")\n",
    "zoo.add_animal(\"lemming\", \"Roger\")\n",
    "zoo.add_animal(\"lemming\", \"Anne\")\n",
    "zoo.add_animal(\"bear\", \"Jonas\")\n",
    "zoo.add_animal(\"bear\", \"Boris\")\n",
    "zoo.add_animal(\"parrot\", \"Tweety\")\n",
    "\n",
    "for a in zoo:\n",
    "    print(a)\n",
    "```\n",
    "\n",
    "</details>\n"
   ]
  },
  {
   "cell_type": "code",
   "execution_count": null,
   "metadata": {},
   "outputs": [],
   "source": [
    "# YOUR CODE\n"
   ]
  },
  {
   "cell_type": "markdown",
   "metadata": {},
   "source": [
    "## Programming challenges\n",
    "All these challenges require you to use several to many of the learned concepts of this course. They are star-coded to indicate the difficulty level, ranging from one <strong>&#10034;</strong> to five <strong>&#10034;&#10034;&#10034;&#10034;&#10034;</strong>. Some challenges start out with one star, but represent more stars when finished completely.\n",
    "\n",
    "You are encouraged to create real programs in dedicated scripts, with a `main()` method that is called from within this construct:\n",
    "\n",
    "```python\n",
    "if __name__ == \"__main__\":\n",
    "   #Start application here\n",
    "```\n",
    "\n",
    "Write functions that are small, well-documented, and serve only a single well-defined purpose.\n",
    "To become a real-world programmer you could also start making use of the [argparse module](https://docs.python.org/3/library/argparse.html) to process command-line arguments."
   ]
  },
  {
   "cell_type": "markdown",
   "metadata": {},
   "source": [
    "### A number guessing game (&#10034;)\n",
    "\n",
    "Write an application that asks the user to think of a number, and try to guess this number as efficiently as possible.\n",
    "\n",
    "For instance, program output could be:\n",
    "\n",
    "```\n",
    "Please think of a number between 0 and 10. Press enter when you are ready.\n",
    "\n",
    "Is the number above 3? [enter y for yes and n for no]\n",
    "n\n",
    "Is the number above 1? [enter y for yes and n for no]\n",
    "y\n",
    "Is the number 2?\n",
    "n\n",
    "The number must be 3!\n",
    "```\n",
    "\n",
    "Think before you start! What would be the most efficient \"algorithm\" to find the number?"
   ]
  },
  {
   "cell_type": "markdown",
   "metadata": {},
   "source": [
    "### Anagram maker (&#10034; to &#10034;&#10034;)\n",
    "\n",
    "An anagram is a word or phrase formed by rearranging the letters of a different word or phrase, typically using all the original letters exactly once. For example, the word _anagram_ itself can be rearranged into _nag a ram_. (source: Wikipedia)\n",
    "\n",
    "You should ask your user for a word (or word combination or phrase) and also (optionally) how many separate words the anagram may or must comprise.\n",
    "Next, present a list of anagrams. Preferable, these anagrams should be pronouncable by intelligently placing vowels and consonants."
   ]
  },
  {
   "cell_type": "markdown",
   "metadata": {},
   "source": [
    "### Finding palindromes (&#10034; to &#10034;&#10034;&#10034;&#10034;)\n",
    "\n",
    "A palindrome is a word, phrase, or sequence that reads the same backwards as forwards, e.g. \"madam\" or \"nurses run\". In biological sequence analysis palindromes are often important protein-binding DNA elements. They are sometimes literal palindromes, as in \"GGATTAGG\", or _complementary_ palindromes, where the same sequence is present in the reverse complement strand of the double helix, as in GGAATTCC:\n",
    "\n",
    "```\n",
    "5'-GGAATTCC-3'\n",
    "3'-CCTTAAGG-5'\n",
    "```\n",
    "\n",
    "1. Start by writing a single function that determines whether a given input string is a palindrome.\n",
    "2. Next, write a function that looks for a palindrome with a minimal length within a given input string, where the rest of the string is not important. Apply this to \n",
    "3. Extend this to processing a word list passed through the command-line. There are two such lists to be found in the `data` folder of this repo: `dutch_words.txt` and `english_words.txt`\n",
    "4. Apply yourself to molecular biology: create a program that looks for palindromes in a given DNA sequence. The sequence below contains at least 2 palindromes of differing lengths. Challenges could be: Find all 6-nucleotide palindromes, or What is the longest palindrome in the human genome?\n",
    "\n",
    "```\n",
    "5'-AGAGGATCCCTCCCATATATGCGGCGATCGCCGCATATCC-3'\n",
    "```\n",
    "\n"
   ]
  },
  {
   "cell_type": "markdown",
   "metadata": {},
   "source": [
    "### Hangman word guessing game (&#10034;&#10034;)\n",
    "\n",
    "Hangman is a word-quessing game where one party (in this case the computerprogram you will write) chooses a word that the other party needs to guess. The number of letters in the word is indicated with dashes or underscores.  \n",
    "The guessing party takes turns guessing wich letter will be in the word. If the guessed letter is in the word the dashes are replaced at the correct position(s) with the letter. If the guessed letter is not in the word, a gallow is build piece by piece (one piece for each absent letter). In total, the gallow consists of nine parts, including the hanged. You can choose to visualize progress using another picture of course. The easiest way is using \"ASCII art\", as in this example:\n",
    "\n",
    "```python\n",
    "HANGMAN = [\n",
    "'''\n",
    "  +---+\n",
    "  |   |\n",
    "  O   |\n",
    " /|\\  |\n",
    " / \\  |\n",
    "      |\n",
    "=========''']\n",
    "```\n"
   ]
  },
  {
   "cell_type": "markdown",
   "metadata": {},
   "source": [
    "### Wordle / Lingo game (&#10034;&#10034; to &#10034;&#10034;&#10034;&#10034;&#10034;)\n",
    "Lingo was one of the longest-running tv game shows.\n",
    "In this game the player needs to guess a word of a fixed length (usually between 5 and 7 letters).\n",
    "It looks for instance like this:  \n",
    "\n",
    "![wordle](pics/wordle.png)\n",
    "\n",
    "It is you challenge to create such a game.  \n",
    "\n",
    "Configurable (through interface or command-line arguments) should at least be the word length (with default of 5), the language (use a default that suits you) and -optionally- the number of guesses a user can take, with a default of 6.  \n",
    "After a guess, the user receives information about the letters on correct positions, letters at wrong positions, and wrong letters.  \n",
    "\n",
    "There are word lists in the `data` folder of this repo that you can use to randomly pick words: `dutch_words.txt` and `english_words.txt`.  \n",
    "Many ways exist to make this challenge really challenging. For instance, you can create a GUI (there are several libraries for that purpose available in Python but I suggest you use TkInter - see [here](https://docs.python.org/3/library/tkinter.html))."
   ]
  },
  {
   "cell_type": "markdown",
   "metadata": {},
   "source": [
    "### Encrypt and decrypt messages using Caesar cipher (&#10034;&#10034; to &#10034;&#10034;&#10034;)\n",
    "\n",
    "Caesar's cipher is one of the simplest and most widely known encryption techniques. Each letter in a text is replaced by a letter some fixed number of positions down (or iup) the alphabet.\n",
    "For example, with a left shift of 3, D would be replaced by A, E would become B, and so on. The method is named after Julius Caesar, who used it in his private correspondence (see [Wikipedia](https://en.wikipedia.org/wiki/Caesar_cipher)).\n",
    "\n",
    "It is your task to create such a cipher, where the program takes two command-line arguments. The first one is the shift (left being negative) and the second a filename or a literal text.  \n",
    "\n",
    "Using the `argparse` module is a good idea, but not required."
   ]
  },
  {
   "cell_type": "markdown",
   "metadata": {},
   "source": [
    "### Create a data dashboard (&#10034;&#10034; to &#10034;&#10034;&#10034;&#10034;)\n",
    "Create an app that receives a file with structured data (columns) as input. The app then reads this file _in a streaming manner_ and reports statistics of the file contents. The first three of these are mandatory, the subsequent features are optional and increase the level of this challenge.\n",
    "\n",
    "1. Dimensions of the dataset (rows/comuns)\n",
    "2. Type of data in the columns\n",
    "3. Descriptive statistics of each column;\n",
    "    - if numeric: a [five-number summary](https://en.wikipedia.org/wiki/Five-number_summary) plus the mean\n",
    "    - if character: the number of unique values and a listing of frequencies of these if the number of unique values is below 10\n",
    "4. A pairwise correlation matrix of the numeric columns (if less than 6 or so). For this you will need to use something like numpy, see [here](https://machinelearningmastery.com/how-to-use-correlation-to-understand-the-relationship-between-variables/)\n",
    "5. Embed this in a GUI; there are several libraries for that purpose available in Python but I suggest you use TkInter, PyQt5 or PySimpleGUI - see [here](https://www.activestate.com/blog/top-10-python-gui-frameworks-compared/). \n",
    "6. Be creative; and impress yourself and your teacher."
   ]
  },
  {
   "cell_type": "markdown",
   "metadata": {},
   "source": [
    "### Implement k-Means clustering (&#10034;&#10034;&#10034;&#10034;)\n",
    "\n",
    "The k-Means clustering algorithm is used much in data science to group data in an unsupervised manner. See [Wikipedia](https://en.wikipedia.org/wiki/K-means_clustering) for details.\n",
    "\n",
    "For this assignment you should implement this algorithm in a program that takes two command-line arguments. The first is a file with the input data and the second should be an optional argument for the `k-parameter` which defaults to 3. \n",
    "\n",
    "The output should be a file holding a copy of the input data, but with an extra column appended indicating the cluster number in which the example is put. For instance, given this input, a random sample from the famous \"Fisher's iris\" dataset:\n",
    "\n",
    "```\n",
    " Sepal.Length Sepal.Width Petal.Length Petal.Width    Species\n",
    "          6.2         3.4          5.4         2.3  virginica\n",
    "          6.7         3.1          4.7         1.5 versicolor\n",
    "          5.8         2.7          5.1         1.9  virginica\n",
    "          4.8         3.0          1.4         0.1     setosa\n",
    "          4.8         3.4          1.9         0.2     setosa\n",
    "          6.5         3.0          5.8         2.2  virginica\n",
    "          5.6         3.0          4.5         1.5 versicolor\n",
    "          4.9         3.1          1.5         0.1     setosa\n",
    "```\n",
    "\n",
    "could be clustered (using only the numerical columns!) as follows:\n",
    "\n",
    "```\n",
    " Sepal.Length Sepal.Width Petal.Length Petal.Width    Species   cluster\n",
    "          6.2         3.4          5.4         2.3  virginica         1\n",
    "          6.7         3.1          4.7         1.5 versicolor         2\n",
    "          5.8         2.7          5.1         1.9  virginica         1\n",
    "          4.8         3.0          1.4         0.1     setosa         3\n",
    "          4.8         3.4          1.9         0.2     setosa         3\n",
    "          6.5         3.0          5.8         2.2  virginica         2\n",
    "          5.6         3.0          4.5         1.5 versicolor         2\n",
    "          4.9         3.1          1.5         0.1     setosa         3\n",
    "```\n",
    "\n",
    "With only one mismatch between the `Species` and `cluster` columns.\n"
   ]
  },
  {
   "cell_type": "markdown",
   "metadata": {},
   "source": [
    "### Implement neighbor joining clustering(&#10034;&#10034;&#10034;&#10034;)\n",
    "\n",
    "See [Wikipedia](https://en.wikipedia.org/wiki/Neighbor_joining) for details.\n",
    "You could employ several strategies. The first is classical joining where you end up with a structure with all nodes connected. You can also force the algorithm to stop when a set number of clusters has been formed. This makes it comparable to k-Means but without the random seeding (thus deterministic)."
   ]
  },
  {
   "cell_type": "markdown",
   "metadata": {},
   "source": [
    "### A puzzle game (&#10034;&#10034;&#10034; - &#10034;&#10034;&#10034;&#10034;&#10034;)\n",
    "\n",
    "Especially older people will probably know the windows Minesweeper game. It looks like this:  \n",
    "```{image} pics/minesweeper.jpg\n",
    ":alt: mine sweeper\n",
    ":width: 250px\n",
    ":align: center\n",
    "```\n",
    "\n",
    "I have programmed a slightly different version of it using Python and a GUI framework called TKinter:  \n",
    "\n",
    "```{image} pics/mine_hunter.png\n",
    ":alt: mine hunter\n",
    ":width: 300px\n",
    ":align: center\n",
    "```\n",
    "\n",
    "The app code is in the repo of this book [here](https://github.com/MichielNoback/python_intro) (in folder `gui_demo`).  \n",
    "You can download that entire repository as zip archive (button `Code`).  \n",
    "\n",
    "Study the code, and read or watch some tutorials.  \n",
    "Next, head over to https://www.puzzle-tents.com/ and choose a game you would like to re-create. Implement that game using python and tkinter."
   ]
  },
  {
   "cell_type": "markdown",
   "metadata": {},
   "source": [
    "### Create a Game of Life simulation app (&#10034;&#10034;&#10034;&#10034;&#10034;)\n",
    "\n",
    "The [Game of Life](https://en.wikipedia.org/wiki/Conway%27s_Game_of_Life) or Conway's Game of Life is a simulation of a simple growth experiment. It follows a few simple rules deciding whether a cell (an element in a 2D grid) will live or die. The challenge here is to visualize the simulation so you will need to work with a Graphical User Interface (GUI) toolkit. There are several libraries for that purpose available in Python but I suggest you use TkInter, PyQt5 or PySimpleGUI - see [here](https://www.activestate.com/blog/top-10-python-gui-frameworks-compared/). \n"
   ]
  }
 ],
 "metadata": {
  "kernelspec": {
   "display_name": "education",
   "language": "python",
   "name": "education"
  },
  "language_info": {
   "codemirror_mode": {
    "name": "ipython",
    "version": 3
   },
   "file_extension": ".py",
   "mimetype": "text/x-python",
   "name": "python",
   "nbconvert_exporter": "python",
   "pygments_lexer": "ipython3",
   "version": "3.9.16"
  },
  "vscode": {
   "interpreter": {
    "hash": "b0fa6594d8f4cbf19f97940f81e996739fb7646882a419484c72d19e05852a7e"
   }
  }
 },
 "nbformat": 4,
 "nbformat_minor": 2
}
