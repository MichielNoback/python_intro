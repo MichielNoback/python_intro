{
 "cells": [
  {
   "cell_type": "markdown",
   "id": "c4180b6b",
   "metadata": {},
   "source": [
    "# Comprehensions and Structural pattern matching\n"
   ]
  },
  {
   "cell_type": "markdown",
   "id": "6411dda2",
   "metadata": {},
   "source": [
    "## What are comprehensions?\n",
    "\n",
    "In the previous chapter there was a section on `filter()` and `map()`. These functions represent processes that are present in a majority of data processing activities.\n",
    "\n",
    "For convenience, the concepts are repeated here:  \n",
    "\n",
    "- A **mapping** applies a function (e.g. frosting) to all members of an input collection, and returns the resulting collection, which is of course the same size as the original\n",
    "\n",
    "- A **filter** applies a test (e.g. scanning bad cupcakes) to all members of an input collection, only keeping those members that pass the test (return True)\n",
    "\n",
    "![Map vs Filter](pics/map_filter.png)"
   ]
  },
  {
   "cell_type": "markdown",
   "id": "77aa6668",
   "metadata": {},
   "source": [
    "\n",
    "All examples in the above section can also be implemented using **comprehensions**. However, since these fall outside the scope of this course only a few optional examples of these will be presented here. \n"
   ]
  },
  {
   "cell_type": "code",
   "execution_count": 1,
   "id": "e6f6aca2",
   "metadata": {},
   "outputs": [
    {
     "name": "stdout",
     "output_type": "stream",
     "text": [
      "['Kiwi', 'Orange', 'Apple', 'Guava', 'Banana']\n",
      "['orange', 'banana']\n"
     ]
    }
   ],
   "source": [
    "fruits = [\"kiwi\", \"orange\", \"apple\", \"guava\", \"banana\"]\n",
    "\n",
    "# mapping\n",
    "print([fruit.capitalize() for fruit in fruits])\n",
    "\n",
    "# filtering\n",
    "print([fruit for fruit in fruits if \"an\" in fruit])\n"
   ]
  }
 ],
 "metadata": {
  "kernelspec": {
   "display_name": "Python 3 (ipykernel)",
   "language": "python",
   "name": "python3"
  },
  "language_info": {
   "codemirror_mode": {
    "name": "ipython",
    "version": 3
   },
   "file_extension": ".py",
   "mimetype": "text/x-python",
   "name": "python",
   "nbconvert_exporter": "python",
   "pygments_lexer": "ipython3",
   "version": "3.9.13"
  }
 },
 "nbformat": 4,
 "nbformat_minor": 5
}
