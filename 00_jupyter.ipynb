{
 "cells": [
  {
   "cell_type": "markdown",
   "id": "965cd296",
   "metadata": {
    "slideshow": {
     "slide_type": "slide"
    }
   },
   "source": [
    "# Jupyter notebooks and Markdown\n",
    "\n",
    "A notebook is an electronic  document used for **literate programming**. In literate programming, text (usually in the form of **Markdown**), code, and code output (both textual and graphical) are combined in a single document which can often also be exported to html, pdf or Word format.\n",
    "\n",
    "Jupyter (IPython) is a browser-based notebook with support for highlighted code, code execution and result embedding, text with markup (Markdown, MathJax Equations or HTML), inline plots and other media.\n",
    "\n",
    "Notebooks such as Jupyter (or RMarkdown with R programming) make it possible to combine your analyses, the analysis outputs in both textual and graphic form, and thoughts and comments in one place. This makes your work both readable and reproducible, two very important aspects of data science."
   ]
  },
  {
   "cell_type": "markdown",
   "id": "c623c0c8",
   "metadata": {
    "slideshow": {
     "slide_type": "slide"
    }
   },
   "source": [
    "## Markdown\n",
    "\n",
    "Markdown is a lightweight markup language that you can use to add formatting elements to plain text documents. Created by John Gruber in 2004, Markdown is now one of the world’s most popular markup languages with many non-standard extensions and dialects.  \n",
    "\n",
    "Using Markdown is different than using a WYSIWYG (What You See Is What You Get) editor such as Microsoft Word. In such an application you click buttons to format words and phrases, and the changes are visible immediately.  \n",
    "Markdown isn’t like that. When you create a Markdown-formatted file, you add Markdown syntax to the text to indicate which words and phrases should look different.  \n",
    "\n",
    "See [https://www.markdownguide.org](https://www.markdownguide.org/) for complete documentation."
   ]
  },
  {
   "cell_type": "markdown",
   "id": "61eb0a29",
   "metadata": {
    "slideshow": {
     "slide_type": "slide"
    }
   },
   "source": [
    "An example illustrates best. To generate paragraph headers you use hash symbols like this:\n",
    "\n",
    "```\n",
    "### level three header\n",
    "##### level five header\n",
    "```\n",
    "\n",
    "Which will be _rendered_ in any application \"speaking\" markdown into something like this:\n",
    "\n",
    "### level three header\n",
    "##### level five header\n",
    "\n",
    "Note that the numbering you will see in a the Jupyterbook form of this document is added by Jupyterbook and will normally be absent after rendering."
   ]
  },
  {
   "cell_type": "markdown",
   "id": "21f31c8a",
   "metadata": {
    "slideshow": {
     "slide_type": "slide"
    }
   },
   "source": [
    "### Inline markup elements\n",
    "Here are some more often-used inline markup elements:  \n",
    "\n",
    "```markdown\n",
    "If you want **bold text** you surround that part with double asterisks.  \n",
    "If you want _some italic words_ you surround them with single underscores.  \n",
    "You can combine this into ***bold and italic*** of course!  \n",
    "This is some Python code: `print(\"hello, world\")`\n",
    "```\n",
    "And thes will render as shown below:  \n",
    "\n",
    "If you want **bold text** you surround that part with double asterisks.  \n",
    "If you want _some italic words_ you surround them with single underscores.  \n",
    "You can combine this into ***bold and italic*** of course!\n",
    "This is some Python code: `print(\"hello, world\")`\n"
   ]
  },
  {
   "cell_type": "markdown",
   "id": "1db39f2f",
   "metadata": {
    "slideshow": {
     "slide_type": "slide"
    }
   },
   "source": [
    "Below are a few of the block-level markup elements:\n",
    "\n",
    "```markdown\n",
    "> This is a blockquote. It can span multiple lines. \n",
    "\n",
    "* bullet list item one (or `+`, or `-`)\n",
    "* bullet list item two\n",
    "* bullet list item three\n",
    "\n",
    "1. A numbered list item. Note it does not matter which number you use.\n",
    "1. Another numbered list item\n",
    "1. A last numbered list item\n",
    "```\n",
    "which, when processed, render into"
   ]
  },
  {
   "cell_type": "markdown",
   "id": "51b6cee3",
   "metadata": {
    "slideshow": {
     "slide_type": "slide"
    }
   },
   "source": [
    "> This is a blockquote. It can span multiple lines. \n",
    "\n",
    "* bullet list item one (or `+`, or `-`)\n",
    "* bullet list item two\n",
    "* bullet list item three\n",
    "\n",
    "1. A numbered list item. Note it does not matter which number you use.\n",
    "1. Another numbered list item\n",
    "1. A last numbered list item"
   ]
  },
  {
   "cell_type": "markdown",
   "id": "a12f7591",
   "metadata": {
    "slideshow": {
     "slide_type": "slide"
    }
   },
   "source": [
    "### Images and hyperlinks\n",
    "\n",
    "If you want to add a clickable link you need to use this structure:  \n",
    "`[link text](URL)`,  \n",
    "for instance \n",
    "```markdown\n",
    "[click here](http://www.example.com)`\n",
    "```\n",
    "renders into this link: [click here](http://www.example.com) \n",
    "\n",
    "To add an image you use this structure:  \n",
    "`![image alt text](image/location/on/disk)`,  \n",
    "for instance  \n",
    "```markdown\n",
    "![image alt text](pics/64px-Simple_Information.png) \n",
    "```\n",
    "renders into:  \n",
    "![image alt text](pics/64px-Simple_Information.png) "
   ]
  },
  {
   "cell_type": "markdown",
   "id": "b115c94b",
   "metadata": {
    "slideshow": {
     "slide_type": "slide"
    }
   },
   "source": [
    "### Markdown code blocks\n",
    "If you want to include code blocks for communication purposes only, not for execution, you can use this syntax:\n"
   ]
  },
  {
   "cell_type": "markdown",
   "id": "9b8edfe1",
   "metadata": {
    "slideshow": {
     "slide_type": "fragment"
    }
   },
   "source": [
    "<pre>\n",
    "```python  \n",
    "total = 1  \n",
    "fraction = 1  \n",
    "i = 1  \n",
    "for n in range(2, 6):  \n",
    "    i = i + n  \n",
    "    total = total + i  \n",
    "    fraction = fraction / i  \n",
    "    print(f'i is now {i}; the cumulative sum is {total} and the cumulative \"fraction\" is {fraction}')  \n",
    "```\n",
    "</pre>"
   ]
  },
  {
   "cell_type": "markdown",
   "id": "d96299af",
   "metadata": {
    "slideshow": {
     "slide_type": "slide"
    }
   },
   "source": [
    "wich will render into this nice colorfull representation we call *syntax highlighting*.:\n",
    "\n",
    "```python\n",
    "total = 1\n",
    "fraction = 1\n",
    "i = 1\n",
    "for n in range(2, 6):\n",
    "    i = i + n\n",
    "    total = total + i\n",
    "    fraction = fraction / i\n",
    "    print(f'i is now {i}; the cumulative sum is {total} and the cumulative \"fraction\" is {fraction}')\n",
    "```"
   ]
  },
  {
   "cell_type": "markdown",
   "id": "b8c7d9a5",
   "metadata": {
    "slideshow": {
     "slide_type": "slide"
    }
   },
   "source": [
    "### Equations\n",
    "\n",
    "Most Markdown processors also support rendering of equations that are specified Latex-style.\n",
    "For instance, this syntax for the equation of the sample standard deviation\n",
    "```\n",
    "$$s = \\sqrt{\\frac{1}{N-1} \\sum_{i=1}^N (x_i - \\overline{x})^2}$$\n",
    "```\n",
    "\n",
    "renders as\n",
    "$$s = \\sqrt{\\frac{1}{N-1} \\sum_{i=1}^N (x_i - \\overline{x})^2}$$\n",
    "\n",
    "\n",
    "Use single dollar sign delimiters `$<equation>$` for inline equations and double dollar sign delimiters `$$<equation>$$` for paragraph equations.  \n",
    "See [this pdf](http://tug.ctan.org/info/undergradmath/undergradmath.pdf) or [this website](https://tilburgsciencehub.com/building-blocks/collaborate-and-share-your-work/write-your-paper/amsmath-latex-cheatsheet/) for a nice cheat sheets."
   ]
  },
  {
   "cell_type": "markdown",
   "id": "8685ee2b",
   "metadata": {
    "slideshow": {
     "slide_type": "slide"
    }
   },
   "source": [
    "## Jupyter \n",
    "\n",
    "A notebook is an ordered series of cells that are either *markdown*, *code* or *raw text*. You can move these cells up or down, and evaluate/execute them individually or all in one. You toggle between two \"states\": *edit mode* or *command mode*. When in edit mode you can edit cells but not delete, change, create or move them. WFor that you need to be in command mode.\n",
    "When in edit mode, use `esc` key to go to command mode. When in command mode, use `enter` key to edit the current selected cell.\n",
    "\n",
    "\n",
    "### Keyboard shortcuts in edit mode\n",
    "\n",
    "**`Enter`\tto enter \"Edit mode\"**\n",
    "\n",
    "```\n",
    "Cmd+A       Select all\n",
    "Cmd+C       Copy\n",
    "Cmd+X       Cut\n",
    "Cmd+V       Paste\n",
    "Cmd+Enter   Run/render cell\n",
    "Shft+Enter  Run+next\n",
    "Alt+Enter   Run+insert\n",
    "Shft+m      Merge\n",
    "```\n",
    "\n",
    "> **Cmd is Mac-specific; on Linux or Windows use Ctrl**"
   ]
  },
  {
   "cell_type": "markdown",
   "id": "e33544f5",
   "metadata": {
    "slideshow": {
     "slide_type": "slide"
    }
   },
   "source": [
    "\n",
    "### Keyboard shortcuts in command mode\n",
    "\n",
    "**`Esc` Enter Command mode**\n",
    "```\n",
    "d+d   Delete cell\n",
    "y     Change to code\n",
    "m     Change to markdown\n",
    "r     Change to raw (no rendering or evaluation)\n",
    "b     New cell below\n",
    "a     New cell above\n",
    "```"
   ]
  },
  {
   "cell_type": "markdown",
   "id": "f18044b8",
   "metadata": {},
   "source": [
    "### IPython/Jupyter magic commands\n",
    "This is a special type of code in code cells; they are not Python code but executed by the Jupyter engine.\n",
    "\n",
    "\n",
    "There are many -simply run `%magic` to see them all- these are especially nice to know of.\n",
    "\n",
    "- **`%magic`**: reference on all magic commands\n",
    "- **`%conda`**: run conda terminal command, `%conda install [pkgs]`\n",
    "- **`%load `**: loads code from a source file and replaces the `%load` magic, `%load script.py`\n",
    "- **`%run`**: run a script, `%run script.py`\n",
    "- **`%time`**, **`%timeit`**:  report execution time of a statement\n",
    "- **`%who`**, **`%who_ls`**, **`%whos`**: display variables defined in interactive namespace with varying details/display styles.\n"
   ]
  }
 ],
 "metadata": {
  "celltoolbar": "Slideshow",
  "kernelspec": {
   "display_name": "base",
   "language": "python",
   "name": "base"
  },
  "language_info": {
   "codemirror_mode": {
    "name": "ipython",
    "version": 3
   },
   "file_extension": ".py",
   "mimetype": "text/x-python",
   "name": "python",
   "nbconvert_exporter": "python",
   "pygments_lexer": "ipython3",
   "version": "3.9.12"
  }
 },
 "nbformat": 4,
 "nbformat_minor": 5
}
