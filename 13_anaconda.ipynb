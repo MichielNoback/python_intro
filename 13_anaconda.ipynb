{
 "cells": [
  {
   "attachments": {},
   "cell_type": "markdown",
   "id": "f56675c8",
   "metadata": {
    "slideshow": {
     "slide_type": "slide"
    }
   },
   "source": [
    "# (Ana)conda"
   ]
  },
  {
   "cell_type": "markdown",
   "id": "7d7191ca",
   "metadata": {
    "slideshow": {
     "slide_type": "fragment"
    }
   },
   "source": [
    "Anaconda is a distribution of Python containing Python, the \"conda\" package and environment manager, and many software packages for data analytics, data science, and scientific computing.\n",
    "\n",
    "Over 150 packages are automatically installed with Anaconda, including Python, NumPy, Pandas, Matplotlib, Jupyter, IPython, Spyder\n",
    "See [https://www.anaconda.com/products/distribution](https://www.anaconda.com/products/distribution)\n"
   ]
  },
  {
   "cell_type": "markdown",
   "id": "7c9e37e6",
   "metadata": {
    "slideshow": {
     "slide_type": "slide"
    }
   },
   "source": [
    "Its \"ecosystem\" consists of three main domains:\n",
    "\n",
    "1. **Anaconda Repository** Over 8,000 open-source data science and machine learning packages, Anaconda-built and compiled for all major operating systems and architectures.\n",
    "2. **Conda** is an open-source package and environment management system. Conda quickly installs, runs, and updates **_packages_** and their dependencies. It also easily creates, saves, loads, and switches between **_environments_** on your local computer. It was created for Python programs, but it can package and distribute software for any language.\n",
    "3. **Anaconda Navigator** A desktop application that lets you manage integrated applications, packages, and environments without using the command line.\n"
   ]
  },
  {
   "cell_type": "markdown",
   "id": "f9917720",
   "metadata": {
    "slideshow": {
     "slide_type": "slide"
    }
   },
   "source": [
    "## Package manager\n",
    "A package is a dedicated set of functions that is wrapped together and labeled with a package name. You load them using the `import` statement. The core Python library only contains a limited amount of packages: `sys`, `os` etc. Using a package manager you can install, delete and update packages that do not ship with the core of Python.\n"
   ]
  },
  {
   "cell_type": "markdown",
   "id": "10601c3f",
   "metadata": {
    "slideshow": {
     "slide_type": "slide"
    }
   },
   "source": [
    "## Environments\n",
    "When starting to work on bigger projects you will use multiple packages. Between projects, these differ and even sometimes cause some conflicts. That is where environments come in. They are isolated (virtual) spaces for working  with Pyton projects. When installing a package in an environment, it does not affect other environments.\n",
    "\n",
    "See [This video](https://www.youtube.com/watch?v=23aQdrS58e0) for an excellent explanation of environment management. It is demonstrated using miniconda which is Anaconda without the GUI (the GUI also gives all this functionality)."
   ]
  },
  {
   "cell_type": "markdown",
   "id": "6efbd3d7",
   "metadata": {
    "slideshow": {
     "slide_type": "slide"
    }
   },
   "source": [
    "## This course\n",
    "\n",
    "In this course we will be working with the tools provided by Anaconda Navigator: Jupyter Notebooks for _literate programming_ (also the majority of the course material), Qt Console for quick testing and experimenting and Spyder for writing _scripts_. These can all be launched from the Anaconda Navigator Home panel.  \n",
    "We will not be working with environments; there is no need because everything we do will be available from any Python 3 distribution."
   ]
  }
 ],
 "metadata": {
  "celltoolbar": "Slideshow",
  "kernelspec": {
   "display_name": "base",
   "language": "python",
   "name": "base"
  },
  "language_info": {
   "codemirror_mode": {
    "name": "ipython",
    "version": 3
   },
   "file_extension": ".py",
   "mimetype": "text/x-python",
   "name": "python",
   "nbconvert_exporter": "python",
   "pygments_lexer": "ipython3",
   "version": "3.9.12"
  }
 },
 "nbformat": 4,
 "nbformat_minor": 5
}
