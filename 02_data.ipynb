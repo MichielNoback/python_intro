{
 "cells": [
  {
   "cell_type": "markdown",
   "metadata": {
    "slideshow": {
     "slide_type": "slide"
    }
   },
   "source": [
    "# Programming is: operations on data\n",
    "Without data there is not much computing to be done. All programs take data as input and most of them also generate data as output. In between, the data is processed, transformed and summarized.  \n",
    "Input can come from a variety of sources: from file, a database, keyboard, a GUI, web socket and output can go to different destinations as well.  \n",
    "This chapter deals with both the operators that work on data and the different basic data types Python knows about."
   ]
  },
  {
   "cell_type": "markdown",
   "metadata": {
    "slideshow": {
     "slide_type": "slide"
    }
   },
   "source": [
    "There are only a few basic types of data: text and numbers (and booleans). \n",
    "However, data can be aggregated into more complex structures such as collections and objects.\n",
    "\n",
    "In this chapter we'll explore the different core data types of Python, both **scalar** and **collection**. But first the operators are covered.  "
   ]
  },
  {
   "cell_type": "markdown",
   "metadata": {
    "slideshow": {
     "slide_type": "slide"
    }
   },
   "source": [
    "## Operators"
   ]
  },
  {
   "cell_type": "markdown",
   "metadata": {
    "slideshow": {
     "slide_type": "slide"
    }
   },
   "source": [
    "Operators come in several flavors. Their purpose is either arithmetic, assignment or comparative. Most operators are binary: they have a left and a right operand on which they operate to produce a result: `left_operand OPERATOR right_operand`. Below, the left operand will be designated L and the right one R."
   ]
  },
  {
   "cell_type": "markdown",
   "metadata": {
    "slideshow": {
     "slide_type": "slide"
    }
   },
   "source": [
    "### Arithmetic\n",
    "\n",
    "They all form expressions in this form: `L OPERAND R`.\n",
    "\n",
    "- `+` to add R to L\n",
    "- `-` to subtract R from L\n",
    "- `*` to multiply R and L\n",
    "- `/` to divide L by R\n",
    "- `**` to get L to the power R\n",
    "- `//` to floor divide L by R: any decimal part will be chopped off\n",
    "- `%` to get the remainder: what is left after R has been subtracted a maximum number of times from L\n"
   ]
  },
  {
   "cell_type": "markdown",
   "metadata": {
    "slideshow": {
     "slide_type": "skip"
    }
   },
   "source": [
    "Here are some examples for the last three."
   ]
  },
  {
   "cell_type": "code",
   "execution_count": 5,
   "metadata": {
    "slideshow": {
     "slide_type": "slide"
    }
   },
   "outputs": [
    {
     "name": "stdout",
     "output_type": "stream",
     "text": [
      "4 to the power 3:    64\n",
      "4 to the power 0.5:  2.0\n",
      "\n",
      "Floor divide 7 by 3: 2\n",
      "Floor divide 8 by 3: 2\n"
     ]
    }
   ],
   "source": [
    "print(f'4 to the power 3:    {4**3}')\n",
    "print(f'4 to the power 0.5:  {4**0.5}')\n",
    "print('')\n",
    "print(f'Floor divide 7 by 3: {7 // 3}')\n",
    "print(f'Floor divide 8 by 3: {8 // 3}')"
   ]
  },
  {
   "cell_type": "code",
   "execution_count": 7,
   "metadata": {
    "slideshow": {
     "slide_type": "slide"
    }
   },
   "outputs": [
    {
     "name": "stdout",
     "output_type": "stream",
     "text": [
      "Remainder of 7 divided by 3: 1\n",
      "Remainder of 8 divided by 3: 2\n",
      "Remainder of 9 divided by 3: 0\n"
     ]
    }
   ],
   "source": [
    "print(f'Remainder of 7 divided by 3: {7 % 3}')\n",
    "print(f'Remainder of 8 divided by 3: {8 % 3}')\n",
    "print(f'Remainder of 9 divided by 3: {9 % 3}')"
   ]
  },
  {
   "cell_type": "markdown",
   "metadata": {
    "slideshow": {
     "slide_type": "slide"
    }
   },
   "source": [
    "### Assignment\n",
    "Assignment also have this form: `L OPERAND R`. In all cases, L, which must be a variable name, gets assigned a value from what is on the Right/ Besides the regular `=` assignment there are some handy shortcut operators:\n",
    "\n",
    "- `=` L gets the value of R\n",
    "- `+=` L gets the value of itself plus R (only numeric!)\n",
    "- `-=` L gets the value of itself minus R (only numeric!)\n",
    "- `*=` L gets the value of itself times R (only numeric!)\n",
    "\n",
    "There is one for every arithmetic operator, but these don't do well for code readability."
   ]
  },
  {
   "cell_type": "code",
   "execution_count": 11,
   "metadata": {
    "slideshow": {
     "slide_type": "slide"
    }
   },
   "outputs": [
    {
     "name": "stdout",
     "output_type": "stream",
     "text": [
      "x=20 and y=20\n",
      "q=40 and t=40\n"
     ]
    }
   ],
   "source": [
    "x = 20      # a literal\n",
    "y = x       # another variable\n",
    "q = t = 40  # multiple assignment\n",
    "print(f'x={x} and y={y}')\n",
    "print(f'q={q} and t={t}')"
   ]
  },
  {
   "cell_type": "code",
   "execution_count": 13,
   "metadata": {
    "slideshow": {
     "slide_type": "slide"
    }
   },
   "outputs": [
    {
     "name": "stdout",
     "output_type": "stream",
     "text": [
      "x = 30\n",
      "y = 100\n"
     ]
    }
   ],
   "source": [
    "x = 20\n",
    "x += 10    # same as x = x + 10\n",
    "print(f'x = {x}')\n",
    "\n",
    "y = 20\n",
    "y *= 5     # same as y = y * 5\n",
    "print(f'y = {y}')"
   ]
  },
  {
   "cell_type": "markdown",
   "metadata": {
    "slideshow": {
     "slide_type": "slide"
    }
   },
   "source": [
    "### Comparisons\n",
    "\n",
    "All comparison operators produce **_boolean_** values. They have this form: `L OPERAND R`.\n",
    "\n",
    "- `==` True if R equals L\n",
    "- `!=` True if R does not equal L\n",
    "- `>`  True if L is greater than R\n",
    "- `>=` True if L is greater than or equal to R\n",
    "- `<`  True if L is smaller than R\n",
    "- `<=` True if L is smaller than  or equal to R\n",
    "\n"
   ]
  },
  {
   "cell_type": "code",
   "execution_count": 15,
   "metadata": {
    "slideshow": {
     "slide_type": "slide"
    }
   },
   "outputs": [
    {
     "name": "stdout",
     "output_type": "stream",
     "text": [
      "x == y: False\n",
      "x < y:  True\n",
      "x >= y: False\n"
     ]
    }
   ],
   "source": [
    "x = 4\n",
    "y = 7\n",
    "print(f'x == y: {x == y}')\n",
    "print(f'x < y:  {x < y}')\n",
    "print(f'x >= y: {x >= y}')\n"
   ]
  },
  {
   "cell_type": "markdown",
   "metadata": {
    "slideshow": {
     "slide_type": "slide"
    }
   },
   "source": [
    "### Logical operators\n",
    "\n",
    "The final three are used to combine the comparison operators int more complex expressions, or to negate the result of a comparison. Again they have this form: `L OPERAND R`, except for the only _**unary**_ operator in the field: `not`, which is used as `not <boolean>`. \n",
    "\n",
    "- `and` yields True only if both L and R are True \n",
    "- `or` yields True if either L or R is True\n",
    "- `not` negates the subsequent boolean"
   ]
  },
  {
   "cell_type": "code",
   "execution_count": 17,
   "metadata": {
    "slideshow": {
     "slide_type": "slide"
    }
   },
   "outputs": [
    {
     "name": "stdout",
     "output_type": "stream",
     "text": [
      "a and b: False\n",
      "a or b:  True\n",
      "not a:   False\n"
     ]
    }
   ],
   "source": [
    "a = True\n",
    "b = False\n",
    "print(f'a and b: {a and b}')\n",
    "print(f'a or b:  {a or b}')\n",
    "print(f'not a:   {not a}')"
   ]
  },
  {
   "cell_type": "markdown",
   "metadata": {
    "slideshow": {
     "slide_type": "slide"
    }
   },
   "source": [
    "Finally, the are some more keywords the also produce boolean values. They check for identity (a special case of equality) and membership.  \n",
    "\n",
    "This is the identity check:  \n",
    "\n",
    "- `is` yields True only if both L and R are the _same_ object.\n",
    "\n",
    "Note that strings and low numbers are cached, so they sometimes give unexpected behavior."
   ]
  },
  {
   "cell_type": "code",
   "execution_count": 28,
   "metadata": {
    "slideshow": {
     "slide_type": "slide"
    }
   },
   "outputs": [
    {
     "name": "stdout",
     "output_type": "stream",
     "text": [
      "True\n",
      "False\n"
     ]
    }
   ],
   "source": [
    "x = 20\n",
    "y = 20\n",
    "print(x is y)\n",
    "\n",
    "x = 20_000\n",
    "y = 20_000\n",
    "print(x is y)"
   ]
  },
  {
   "cell_type": "markdown",
   "metadata": {
    "slideshow": {
     "slide_type": "slide"
    }
   },
   "source": [
    "The keyword `in` checks for membership. The right part of the expression needs to be a collection or iterable (see below):  \n",
    "\n",
    "- `in` yields True if L is a member of R."
   ]
  },
  {
   "cell_type": "code",
   "execution_count": 29,
   "metadata": {
    "slideshow": {
     "slide_type": "slide"
    }
   },
   "outputs": [
    {
     "name": "stdout",
     "output_type": "stream",
     "text": [
      "True\n",
      "False\n",
      "False\n"
     ]
    }
   ],
   "source": [
    "s1 = 'Roses are red'\n",
    "s2 = 'red'\n",
    "\n",
    "print(s2 in s1)\n",
    "print(s2 not in s1)\n",
    "print(s1 in s2)"
   ]
  },
  {
   "cell_type": "markdown",
   "metadata": {
    "slideshow": {
     "slide_type": "slide"
    }
   },
   "source": [
    "### Precedence\n",
    "\n",
    "Consider this calculation:  "
   ]
  },
  {
   "cell_type": "code",
   "execution_count": 25,
   "metadata": {
    "slideshow": {
     "slide_type": "fragment"
    }
   },
   "outputs": [
    {
     "data": {
      "text/plain": [
       "8.0"
      ]
     },
     "execution_count": 25,
     "metadata": {},
     "output_type": "execute_result"
    }
   ],
   "source": [
    "4 + 3 * 2 - 10 / 5"
   ]
  },
  {
   "cell_type": "markdown",
   "metadata": {
    "slideshow": {
     "slide_type": "slide"
    }
   },
   "source": [
    "The outcome is 8 because some operators get their turn before others. If their were all simply evaluated left to right, the outcome would have been 0.8. The reason for the result being 8 is **_operator precedence_**: the fact that some operators are evaluated before others.  \n",
    "The table below gives the precedence for the most used operators in Python (I omitted bitwise):  \n"
   ]
  },
  {
   "cell_type": "markdown",
   "metadata": {
    "slideshow": {
     "slide_type": "slide"
    }
   },
   "source": [
    "| Operators | Meaning |\n",
    "|-----------|--------------|\n",
    "| `()` | Parentheses |\n",
    "| `**` | Exponent |\n",
    "| `*`, `/`, `//`, `%` | Multiplication, Division, Floor division, Modulus |\n",
    "| `+`, `-` | Addition, Subtraction |\n",
    "| `==`, `!=`, `>`, `>=`, `<`, `<=`, `is`, `is not`, `in`, `not in` | Comparisons, Identity, Membership operators |\n",
    "| `not` | Logical NOT |\n",
    "| `and` | Logical AND |\n",
    "| `or` | Logical OR |"
   ]
  },
  {
   "cell_type": "markdown",
   "metadata": {
    "slideshow": {
     "slide_type": "slide"
    }
   },
   "source": [
    "So to get back to the example, you can always force evaluation using perentheses (note one of these pairs is superfluous):"
   ]
  },
  {
   "cell_type": "code",
   "execution_count": 24,
   "metadata": {
    "slideshow": {
     "slide_type": "fragment"
    }
   },
   "outputs": [
    {
     "data": {
      "text/plain": [
       "0.8"
      ]
     },
     "execution_count": 24,
     "metadata": {},
     "output_type": "execute_result"
    }
   ],
   "source": [
    "(((4 + 3) * 2) - 10) / 5"
   ]
  },
  {
   "cell_type": "markdown",
   "metadata": {
    "slideshow": {
     "slide_type": "slide"
    }
   },
   "source": [
    "## Data: Base types"
   ]
  },
  {
   "cell_type": "markdown",
   "metadata": {
    "slideshow": {
     "slide_type": "skip"
    }
   },
   "source": [
    "A scalar data type, or just **scalar**, is any non-collection value. Put differently, a scalar is a singular value. There are just a few different scalar values in basic Python, and they are the same or at least similar across the vast majority of programming languages."
   ]
  },
  {
   "cell_type": "markdown",
   "metadata": {
    "slideshow": {
     "slide_type": "slide"
    }
   },
   "source": [
    "\n",
    "- **Numeric types** represent numbers and they come in two flavours. \n",
    "    - integers have no decimal part (`int`) e.g. `2`, `3`, `140000000198`\n",
    "    - floating point numbers do have a decimal part (`float`) e.g. `3.211`, `2.0`, `5E-5`\n",
    "- **Text**: string data (`str`) e.g. `\"It's a wonderful world\"` or `'What a challenge!'`\n",
    "- **Logical**: boolean values (`bool`) with only two possible values: `True` and `False`\n",
    "\n",
    "(I skipped binary and complex types for conciseness)"
   ]
  },
  {
   "cell_type": "markdown",
   "metadata": {
    "slideshow": {
     "slide_type": "slide"
    }
   },
   "source": [
    "### Strings are delimited sequences of characters\n",
    "\n",
    "The `str` type holds text data. When you create a string literal in your code, you will need to indicate where it starts and ends. You do that with quotes, either single (`'`) or double (`\"`). They have to be the same at both ends.  \n",
    "That you have two options is convenient when you have literal quotes in your variable, as in these examples."
   ]
  },
  {
   "cell_type": "code",
   "execution_count": 1,
   "metadata": {
    "slideshow": {
     "slide_type": "slide"
    }
   },
   "outputs": [
    {
     "name": "stdout",
     "output_type": "stream",
     "text": [
      "The boy said \"No man is an island\" and the man replied \"I am bloody Ibiza!\"\n",
      "The lady's bracelet was lost at sea.\n"
     ]
    }
   ],
   "source": [
    "text1 = 'The boy said \"No man is an island\" and the man replied \"I am bloody Ibiza!\"'\n",
    "print(text1)\n",
    "text2 = \"The lady's bracelet was lost at sea.\"\n",
    "print(text2)"
   ]
  },
  {
   "cell_type": "markdown",
   "metadata": {
    "slideshow": {
     "slide_type": "slide"
    }
   },
   "source": [
    "### Types and conversions\n",
    "\n",
    "Since Python is a **dynamically typed language** you do not need to specify its type when creating a variable. However, you can inspect the type by using the `type()` function on any literal or variable. "
   ]
  },
  {
   "cell_type": "code",
   "execution_count": null,
   "metadata": {
    "slideshow": {
     "slide_type": "fragment"
    }
   },
   "outputs": [],
   "source": [
    "print(type(True))\n",
    "\n",
    "m = \"It's a wonderful world\" # You can use single quotes in a double-quoted string, but not double quotes (unless escaped)\n",
    "\n",
    "print(type(m))\n",
    "\n",
    "print(type(5E5)) #exponents are always floats"
   ]
  },
  {
   "cell_type": "markdown",
   "metadata": {
    "slideshow": {
     "slide_type": "slide"
    }
   },
   "source": [
    "Variables can change type when their value changes:"
   ]
  },
  {
   "cell_type": "code",
   "execution_count": null,
   "metadata": {
    "slideshow": {
     "slide_type": "fragment"
    }
   },
   "outputs": [],
   "source": [
    "x = 42\n",
    "\n",
    "print(f'x is of type {type(x)} and has value {x}')\n",
    "\n",
    "x = True\n",
    "\n",
    "print(f'x is of type {type(x)} and has value {x}')"
   ]
  },
  {
   "cell_type": "markdown",
   "metadata": {
    "slideshow": {
     "slide_type": "slide"
    }
   },
   "source": [
    "You can also explicitly change between types, as long as it is a legal conversion."
   ]
  },
  {
   "cell_type": "code",
   "execution_count": 4,
   "metadata": {
    "slideshow": {
     "slide_type": "fragment"
    }
   },
   "outputs": [
    {
     "name": "stdout",
     "output_type": "stream",
     "text": [
      "42.0\n",
      "42\n",
      "True\n",
      "False\n"
     ]
    }
   ],
   "source": [
    "print(float(\"42.0\"))  # OK\n",
    "#print(int(\"42.0\"))   # fails\n",
    "print(int(\"42\"))      # OK\n",
    "print(bool(\"42.0\"))   # OK - any non-empty string is considered True\n",
    "print(bool(\"\"))       # OK - an empty string is False\n",
    "# print(int(\"\"))      # fails"
   ]
  },
  {
   "cell_type": "markdown",
   "metadata": {
    "slideshow": {
     "slide_type": "skip"
    }
   },
   "source": [
    "```{admonition} Data from outside is always string!\n",
    ":class: important\n",
    "\n",
    "When reading from the command-line (terminal) or from file, your data will always be character data, even though they are numeric. You always need to do the conversion yourself, unless you use dedicated libraries for reading from file. \n",
    "```"
   ]
  },
  {
   "cell_type": "markdown",
   "metadata": {
    "slideshow": {
     "slide_type": "slide"
    }
   },
   "source": [
    "```{admonition} Exercise\n",
    ":class: tip\n",
    "\n",
    "Try some conversions yourself.  \n",
    "Figure out why some fail and some do not (sometimes where you expected it), \n",
    "what the result is and what the logic behind the conversion is.  \n",
    "Especially conversions to `bool` are interesting and very relevant in \n",
    "`if <condition>:` blocks. \n",
    "```"
   ]
  },
  {
   "cell_type": "markdown",
   "metadata": {
    "slideshow": {
     "slide_type": "slide"
    }
   },
   "source": [
    "### Mathematical operators with strings?\n",
    "\n",
    "Yes, some math operators work with strings as well, but not all:"
   ]
  },
  {
   "cell_type": "code",
   "execution_count": 5,
   "metadata": {
    "slideshow": {
     "slide_type": "fragment"
    },
    "tags": [
     "raises-exception"
    ]
   },
   "outputs": [
    {
     "name": "stdout",
     "output_type": "stream",
     "text": [
      "Hello, world!\n",
      "Hello, Hello, \n"
     ]
    },
    {
     "ename": "TypeError",
     "evalue": "can only concatenate str (not \"int\") to str",
     "output_type": "error",
     "traceback": [
      "\u001b[0;31m---------------------------------------------------------------------------\u001b[0m",
      "\u001b[0;31mTypeError\u001b[0m                                 Traceback (most recent call last)",
      "Cell \u001b[0;32mIn[5], line 3\u001b[0m\n\u001b[1;32m      1\u001b[0m \u001b[38;5;28mprint\u001b[39m(\u001b[38;5;124m'\u001b[39m\u001b[38;5;124mHello, \u001b[39m\u001b[38;5;124m'\u001b[39m \u001b[38;5;241m+\u001b[39m \u001b[38;5;124m'\u001b[39m\u001b[38;5;124mworld!\u001b[39m\u001b[38;5;124m'\u001b[39m)\n\u001b[1;32m      2\u001b[0m \u001b[38;5;28mprint\u001b[39m(\u001b[38;5;124m'\u001b[39m\u001b[38;5;124mHello, \u001b[39m\u001b[38;5;124m'\u001b[39m \u001b[38;5;241m*\u001b[39m \u001b[38;5;241m2\u001b[39m)\n\u001b[0;32m----> 3\u001b[0m \u001b[38;5;28mprint\u001b[39m(\u001b[38;5;124;43m'\u001b[39;49m\u001b[38;5;124;43mHello\u001b[39;49m\u001b[38;5;124;43m'\u001b[39;49m\u001b[43m \u001b[49m\u001b[38;5;241;43m+\u001b[39;49m\u001b[43m \u001b[49m\u001b[38;5;241;43m2\u001b[39;49m) \u001b[38;5;66;03m# One of the most common Python errors\u001b[39;00m\n",
      "\u001b[0;31mTypeError\u001b[0m: can only concatenate str (not \"int\") to str"
     ]
    }
   ],
   "source": [
    "print('Hello, ' + 'world!')\n",
    "print('Hello, ' * 2)\n",
    "print('Hello' + 2) # One of the most common Python errors"
   ]
  },
  {
   "cell_type": "markdown",
   "metadata": {
    "slideshow": {
     "slide_type": "slide"
    }
   },
   "source": [
    "## Data: Collections"
   ]
  },
  {
   "cell_type": "markdown",
   "metadata": {
    "slideshow": {
     "slide_type": "skip"
    }
   },
   "source": [
    "Collection types, also named Container types, are exactly what their name implies; they are collections of other types (scalar or collection). The number of collection types in the base language is limited, and there are only a few that are used in the majority of cases; these are listed here. A very important aspect of collections is that they are **iterable**: they can be traversed to inspect or access all individual elements.\n"
   ]
  },
  {
   "cell_type": "markdown",
   "metadata": {
    "slideshow": {
     "slide_type": "slide"
    }
   },
   "source": [
    "\n",
    "- **Sequence types** These all have elements in a specific order and these can be addressed using the position of the element - its **index**.\n",
    "    - **list** In a list, order matters, and that is why you can fetch elements by their position, starting at zero. Lists can change: you can add and delete elements.\n",
    "    - **tuple** The tuple is much like a list, but with a very important distinction: they are **immutable**. Once created they can't change.\n",
    "    - **range** A range is a series of numbers that can be used for iteration of for creating lists or tuples.\n",
    "    - (**str**) Strings behave A LOT like other sequence types!\n",
    "- **set** A set is a collection of unique elements; no duplicates are allowed.\n",
    "- **dict** In a dictionary (in other languages map)there are **entries** where a (**key**) is coupled to a corresponding **value**. So that can be retreived by its key.\n"
   ]
  },
  {
   "cell_type": "markdown",
   "metadata": {
    "slideshow": {
     "slide_type": "skip"
    }
   },
   "source": [
    "\n",
    "Below, common aspects of collections are discussed first. These are **slicing** and accessing methods via the **dot operator** (`object.method()`). Some details of individual collection types are discussed in later sections."
   ]
  },
  {
   "cell_type": "markdown",
   "metadata": {
    "slideshow": {
     "slide_type": "slide"
    }
   },
   "source": [
    "### Slicing\n",
    "A any sequence type can be considered as a street with houses. The house number identifies a house within the street. In Python these addresses start at zero, but unlike house numbers you can also start from the end, with -1:   \n",
    "\n",
    "<pre style=\"font-size: x-large; font-weight: bold; color: darkred;\">\n",
    " 0  1  2  3  4  5  6  7 \n",
    " A  B  C  D  E  F  G  H  \n",
    "-8 -7 -6 -5 -4 -3 -2 -1  \n",
    "</pre>\n",
    "\n",
    "You can access a single house, a range of houses or in a pattern. All this is done using **slicing**. Its general syntax is `[start:stop:step]`.  \n"
   ]
  },
  {
   "cell_type": "markdown",
   "metadata": {
    "slideshow": {
     "slide_type": "slide"
    }
   },
   "source": [
    "The `step` is 1 by default and it is not mandatory, and if `start` or `stop` is omitted this means \"from the beginning (0)\" or \"to the end\".  \n",
    "Note that `stop` is NOT inclusive!  \n",
    "Below the different concepts of slicing are demonstrated.\n"
   ]
  },
  {
   "cell_type": "markdown",
   "metadata": {
    "slideshow": {
     "slide_type": "slide"
    }
   },
   "source": [
    "![indexing_examples.png](pics/indexing_examples.png)"
   ]
  },
  {
   "cell_type": "markdown",
   "metadata": {},
   "source": [
    "If you try to access an element (character) that does not exist you will get an `IndexError`.    \n",
    "Here are some code examples using strings. They work the same in lists and tuples as you will discover."
   ]
  },
  {
   "cell_type": "markdown",
   "metadata": {
    "slideshow": {
     "slide_type": "skip"
    }
   },
   "source": [
    "```{admonition} indexing quirks\n",
    ":class: important\n",
    "\n",
    "Python is zero-based which means 'addresses' always start at 0.  \n",
    "In series indexing such as in `[,]` and `range()`, the 'to'-part is always _exclusive_.  \n",
    "So, `[1, 3]` will select the second and third element!\n",
    "```"
   ]
  },
  {
   "cell_type": "markdown",
   "metadata": {
    "slideshow": {
     "slide_type": "skip"
    }
   },
   "source": [
    "Here are some indexing examples."
   ]
  },
  {
   "cell_type": "code",
   "execution_count": 6,
   "metadata": {
    "slideshow": {
     "slide_type": "slide"
    }
   },
   "outputs": [
    {
     "name": "stdout",
     "output_type": "stream",
     "text": [
      "The character(s) selected by letters[0] are A\n",
      "The character(s) selected by letters[3] are D\n",
      "The character(s) selected by letters[-3] are I\n",
      "The character(s) selected by letters[2:6] are CDEF\n"
     ]
    }
   ],
   "source": [
    "letters = 'ABCDEFGHIJK'\n",
    "\n",
    "print(f'The character(s) selected by letters[0] are {letters[0]}')\n",
    "print(f'The character(s) selected by letters[3] are {letters[3]}')\n",
    "print(f'The character(s) selected by letters[-3] are {letters[-3]}')\n",
    "print(f'The character(s) selected by letters[2:6] are {letters[2:6]}')\n"
   ]
  },
  {
   "cell_type": "markdown",
   "metadata": {
    "slideshow": {
     "slide_type": "skip"
    }
   },
   "source": [
    "And here some slicing examples."
   ]
  },
  {
   "cell_type": "code",
   "execution_count": 7,
   "metadata": {
    "slideshow": {
     "slide_type": "slide"
    }
   },
   "outputs": [
    {
     "name": "stdout",
     "output_type": "stream",
     "text": [
      "The character(s) selected by letters[::2] are ACEGIK\n",
      "The character(s) selected by letters[:] are ABCDEFGHIJK\n",
      "The character(s) selected by letters[::-2] are KIGECA\n",
      "The character(s) selected by letters[:-5:-2] are KI\n"
     ]
    }
   ],
   "source": [
    "letters = 'ABCDEFGHIJK'\n",
    "\n",
    "print(f'The character(s) selected by letters[::2] are {letters[::2]}')\n",
    "print(f'The character(s) selected by letters[:] are {letters[:]}')\n",
    "print(f'The character(s) selected by letters[::-2] are {letters[::-2]}')\n",
    "print(f'The character(s) selected by letters[:-5:-2] are {letters[:-5:-2]}')\n"
   ]
  },
  {
   "cell_type": "markdown",
   "metadata": {
    "slideshow": {
     "slide_type": "fragment"
    }
   },
   "source": [
    "As you can see, when the step is negative (last 2 examples), start and stop will be \"reversed\".  \n",
    "I personally don't understand this design decision."
   ]
  },
  {
   "cell_type": "markdown",
   "metadata": {
    "slideshow": {
     "slide_type": "slide"
    }
   },
   "source": [
    "```{admonition} Exercise\n",
    ":class: tip\n",
    "\n",
    "Given the string `txt = 'aA.bB.cC.dD.eE.fF.gG.hH.zZ'`, write code using \n",
    "string slicing to print to screen  \n",
    " \n",
    "- `\"abcdefgz\"`\n",
    "- `\"........\"` \n",
    "- `\"BCDEFGH\"` \n",
    "- `'bC.fG.'`\n",
    "```\n"
   ]
  },
  {
   "cell_type": "code",
   "execution_count": 8,
   "metadata": {
    "slideshow": {
     "slide_type": "skip"
    }
   },
   "outputs": [],
   "source": [
    "txt = 'aA.bB.cC.dD.eE.fF.gG.hH.zZ'\n",
    "# YOUR CODE"
   ]
  },
  {
   "cell_type": "markdown",
   "metadata": {
    "slideshow": {
     "slide_type": "slide"
    }
   },
   "source": [
    "### The dot operator works on _objects_\n",
    "\n",
    "So far I have skipped the point that Python is an **Object-Oriented** programming language.  \n",
    "Being object-oriented means that everything is being modeled as an entity with data and behaviour (e.g. methods) where the objects' **class** holds the _blueprint_ for creating objects (instances) according to that blueprint.  \n"
   ]
  },
  {
   "cell_type": "markdown",
   "metadata": {
    "slideshow": {
     "slide_type": "slide"
    }
   },
   "source": [
    "Let's explore this concept with the string type. In Python, strings have only a single property - their character sequence. They do, however, have many methods.  \n",
    "Properties and methods can both be accessed on an object using the **dot operator**.  \n",
    "The difference lies in the fact that -unlike properties- methods have parentheses after their name that (optionally) define method arguments.  \n"
   ]
  },
  {
   "cell_type": "markdown",
   "metadata": {
    "slideshow": {
     "slide_type": "skip"
    }
   },
   "source": [
    "\n",
    "Here are some examples of methods on string objects."
   ]
  },
  {
   "cell_type": "code",
   "execution_count": 9,
   "metadata": {
    "slideshow": {
     "slide_type": "slide"
    }
   },
   "outputs": [
    {
     "name": "stdout",
     "output_type": "stream",
     "text": [
      "HELLO\n",
      "2\n",
      "['Hi', 'I', 'am', 'a', 'programmer']\n",
      "A+B+C\n",
      "     Hello\n",
      "Foo Bar Baz\n"
     ]
    }
   ],
   "source": [
    "s1 = \"Hello\"\n",
    "print(s1.upper())      # every character to uppercase\n",
    "print(s1.find(\"ll\"))   # find('str') gives the index where a given substring occurs (or -1 if not present)\n",
    "print(\"Hi I am a programmer\".split(\" \"))    # split on space to get a list of words\n",
    "print('+'.join(\"ABC\")) # combine individual characters with a separator\n",
    "print(s1.rjust(10))    # right jusitify at 10 characters\n",
    "print(\"foo bar baz\".title())  # make all first letters of words uppercase. Alternatively, call on the class itself: str.title(\"foo bar baz\")"
   ]
  },
  {
   "cell_type": "markdown",
   "metadata": {
    "slideshow": {
     "slide_type": "slide"
    }
   },
   "source": [
    ":::{admonition} Exercise\n",
    ":class: tip\n",
    "\n",
    "Given this variable (use your own name!)\n",
    "\n",
    "```python\n",
    "name = 'Michiel Noback'\n",
    "```\n",
    "\n",
    "use any combination of find() and slicing to print only your first name.\n",
    ":::"
   ]
  },
  {
   "cell_type": "code",
   "execution_count": 10,
   "metadata": {
    "slideshow": {
     "slide_type": "skip"
    }
   },
   "outputs": [],
   "source": [
    "name = 'Your Name'\n",
    "# your code"
   ]
  },
  {
   "cell_type": "markdown",
   "metadata": {
    "slideshow": {
     "slide_type": "slide"
    }
   },
   "source": [
    "The dot operator works on **all objects** in Python. Of course, the set of available methods differs from type to type. For instance, a list does not have `upper()` and string does not have `append()`.   \n",
    "\n",
    "You may be wondering how you can recognize what is an object and what is not?  \n",
    "Well, that one is simple: **_everything in Python is an object_**.  "
   ]
  },
  {
   "cell_type": "markdown",
   "metadata": {
    "slideshow": {
     "slide_type": "skip"
    }
   },
   "source": [
    "Use the function `type()` to get the object type of any variable or type. There are (of course) a few exceptions: the reserved **keywords** of the language do not have a type: `and`, `if`, `not`, `for`, etc; type `help(\"keywords\")` or see [Python keywords](https://realpython.com/python-keywords/). Here are some built-in and custom types.   "
   ]
  },
  {
   "cell_type": "code",
   "execution_count": 11,
   "metadata": {
    "slideshow": {
     "slide_type": "subslide"
    }
   },
   "outputs": [
    {
     "name": "stdout",
     "output_type": "stream",
     "text": [
      "<class 'int'>\n",
      "<class 'builtin_function_or_method'>\n",
      "<class 'type'>\n",
      "<class '__main__.Foo'>\n"
     ]
    }
   ],
   "source": [
    "print(type(42))\n",
    "print(type(print))\n",
    "print(type(type))\n",
    "\n",
    "#define a custom type\n",
    "class Foo:\n",
    "    pass\n",
    "\n",
    "print(type(Foo()))\n"
   ]
  },
  {
   "cell_type": "markdown",
   "metadata": {
    "slideshow": {
     "slide_type": "slide"
    }
   },
   "source": [
    "### Collection type `list`: []\n",
    "\n",
    "A list is an **ordered mutable sequence of elements**.  \n",
    "\n",
    "**Ordered** means that individual elements can be accessed using their index.  \n",
    "**Mutable** means that lists can be extended, shortened, end elements can be changed (swapped).  \n",
    "\n",
    "As with string objects, slicing is a very important technique for working with them. Accessing elements is done using square brackets `[]`.\n",
    "Here are a few basic operations with lists."
   ]
  },
  {
   "cell_type": "code",
   "execution_count": 12,
   "metadata": {
    "slideshow": {
     "slide_type": "subslide"
    }
   },
   "outputs": [
    {
     "name": "stdout",
     "output_type": "stream",
     "text": [
      "['apple', 'orange', 'kiwi', 'pear', 'banana', 'plum']\n",
      "['apple', 'orange', 'plum']\n",
      "['apple', 'grapefruit', 'strawberry', 'orange', 'plum']\n"
     ]
    }
   ],
   "source": [
    "fruits = [\"apple\", \"orange\", \"kiwi\", \"pear\"]\n",
    "fruits += [\"banana\", \"plum\"]       # extend and overwrite\n",
    "print(fruits)\n",
    "fruits[2:5] = [] # delete elements 3 - 5\n",
    "print(fruits)\n",
    "fruits[1:1] = [\"grapefruit\", \"strawberry\"]  # insert new elements\n",
    "print(fruits)\n",
    "# fruits[1] = [\"grapefruit\", \"strawberry\"] gives an embedded list!\n"
   ]
  },
  {
   "cell_type": "markdown",
   "metadata": {
    "slideshow": {
     "slide_type": "slide"
    }
   },
   "source": [
    "```{admonition} Exercise\n",
    ":class: tip\n",
    "\n",
    "Given the list below, investigate whether list slicing behaves the same \n",
    "as with strings.\n",
    "```"
   ]
  },
  {
   "cell_type": "code",
   "execution_count": 13,
   "metadata": {
    "slideshow": {
     "slide_type": "fragment"
    }
   },
   "outputs": [],
   "source": [
    "fruits = [\"apple\", \"orange\", \"kiwi\", \"pear\", \"banana\", \"plum\"]\n",
    "#your code"
   ]
  },
  {
   "cell_type": "markdown",
   "metadata": {
    "slideshow": {
     "slide_type": "slide"
    }
   },
   "source": [
    "#### Multidimensional lists\n",
    "\n",
    "Since you can put any Python data type in a list, it is possible to create a multidimensional list. When it has two dimensions we also call thiis a matrix. \n",
    "\n",
    "```python\n",
    "numbers = [[1, 2], [3, 4], [5, 6]]\n",
    "numbers[1]    # gives [3, 4]\n",
    "numbers[2][1] # gives [6]\n",
    "```\n",
    "\n",
    "Note that Python has dedicated libraries for working with datastructures of this type: Numpy (number crunching) and Pandas (spreadsheet type data), so if you find yourself really getting into this domain you should really check these out."
   ]
  },
  {
   "cell_type": "markdown",
   "metadata": {
    "slideshow": {
     "slide_type": "slide"
    }
   },
   "source": [
    "#### Methods of type list\n",
    "\n",
    "Class `list` als has an extensive collection of methods to apply to lists. Here are just a few. Also, there is the Python builtin `len()` that will give you the length of any iterable. Again, this is only a glimpse of what is available. *Any* operation you can think of with lists is probably already implemented, if not in the core data types then for sure in Numpy of Pandas.\n"
   ]
  },
  {
   "cell_type": "code",
   "execution_count": 14,
   "metadata": {
    "slideshow": {
     "slide_type": "subslide"
    }
   },
   "outputs": [
    {
     "name": "stdout",
     "output_type": "stream",
     "text": [
      "['apple', 'orange', 'kiwi', ['banana', 'plum'], 'guava', 'cherry']\n",
      "cherry\n",
      "5\n",
      "['guava', ['banana', 'plum'], 'kiwi', 'orange', 'apple']\n"
     ]
    }
   ],
   "source": [
    "fruits = [\"apple\", \"orange\", \"kiwi\"] # note the square brackets\n",
    "fruits.append([\"banana\", \"plum\"])    # adds an embedded list\n",
    "fruits.extend([\"guava\", \"cherry\"])   # adds each element separately\n",
    "print(fruits)\n",
    "print(fruits.pop()) # removes and returns last element\n",
    "print(len(fruits))  # len() is one of the built-in functions. See chapter on functions for more info\n",
    "fruits.reverse()\n",
    "print(fruits)"
   ]
  },
  {
   "cell_type": "markdown",
   "metadata": {
    "slideshow": {
     "slide_type": "slide"
    }
   },
   "source": [
    "### Collection type `tuple`: ()\n",
    "\n",
    "A tuple is an **ordered immutable sequence of elements**. \n",
    "\n",
    "**Ordered** means that individual elements can be accessed using their index.  \n",
    "**Immutable** means that tuples cannot be changes once they are created.  "
   ]
  },
  {
   "cell_type": "markdown",
   "metadata": {
    "slideshow": {
     "slide_type": "skip"
    }
   },
   "source": [
    "As with string and list objects, slicing is a very important technique for working with them as long as they are not mutating operations. Accessing elements is done using square brackets `[]`. \n",
    "Tuples are often encountered as return value of a method.\n",
    "Here are a few basic operations with tuples."
   ]
  },
  {
   "cell_type": "code",
   "execution_count": 2,
   "metadata": {
    "slideshow": {
     "slide_type": "slide"
    }
   },
   "outputs": [
    {
     "name": "stdout",
     "output_type": "stream",
     "text": [
      "('bear', 'horse')\n",
      "('bear', 'horse', 'ant', 'platypus')\n"
     ]
    }
   ],
   "source": [
    "animals = (\"bear\", \"horse\", \"ant\")  # note the parentheses ()\n",
    "print(animals[:2])                  # OK\n",
    "animals += (\"platypus\", )           # surprisingly, OK \n",
    "#animals += (\"platypus\")            # Gives a TypeError because this is a string surrounded by parentheses\n",
    "#animals[1:2] = ()                  # TypeError because tuples are immutable\n",
    "print(animals)"
   ]
  },
  {
   "cell_type": "markdown",
   "metadata": {
    "slideshow": {
     "slide_type": "slide"
    }
   },
   "source": [
    "You may be puzzled by the above snippet. This is allowed:\n",
    "\n",
    "```python\n",
    "animals += (\"platypus\", )\n",
    "```\n",
    "\n",
    "whereas this is not:\n",
    "\n",
    "```python\n",
    "animals[1:2] = () \n",
    "```\n",
    "\n",
    "Type tuple is immutable, but you _can_ create a _modified copy_, which is exactly what happens in the first example. The second line attempts to delete an element which is not allowed.\n",
    "\n",
    "It is very informative to visualize this kind of stuff in https://pythontutor.com/"
   ]
  },
  {
   "cell_type": "markdown",
   "metadata": {
    "slideshow": {
     "slide_type": "slide"
    }
   },
   "source": [
    "### Collection type `set`: {}\n",
    "\n",
    "A set is a collection type that can only hold unique values.  \n",
    "If a value is added that is already present this will have no effect (the value will be ignored).  \n",
    "If you attempt to add a mutable type (an unhashable element) you get a `TypeError`.  "
   ]
  },
  {
   "cell_type": "markdown",
   "metadata": {
    "slideshow": {
     "slide_type": "skip"
    }
   },
   "source": [
    "They are quite limited in functionality when comppared to other collection types: they are not sliceable or indexable (using brackets `[index]` or `[from:to]`).\n",
    "\n",
    "Below you see the most-used usage scenarios."
   ]
  },
  {
   "cell_type": "code",
   "execution_count": 4,
   "metadata": {
    "slideshow": {
     "slide_type": "subslide"
    }
   },
   "outputs": [
    {
     "name": "stdout",
     "output_type": "stream",
     "text": [
      "{'deer', 'beetle'}\n"
     ]
    }
   ],
   "source": [
    "animals = set()\n",
    "animals.add(\"deer\") \n",
    "\n",
    "## could also have been created as a literal: \n",
    "# animals = {'deer'}\n",
    "animals.add(\"deer\")\n",
    "animals.add(\"beetle\")\n",
    "\n",
    "print(animals)"
   ]
  },
  {
   "cell_type": "code",
   "execution_count": 17,
   "metadata": {
    "slideshow": {
     "slide_type": "subslide"
    }
   },
   "outputs": [
    {
     "name": "stdout",
     "output_type": "stream",
     "text": [
      "{'deer', 'beetle', ('zebra', 'armadillo')}\n",
      "{'beetle', ('zebra', 'armadillo')}\n"
     ]
    }
   ],
   "source": [
    "\n",
    "#animals.add([\"gorilla\", \"horse\"]) # TypeError, not immutable/hashable\n",
    "animals.add((\"zebra\", \"armadillo\")) # OK\n",
    "\n",
    "print(animals)\n",
    "\n",
    "animals.remove(\"deer\") # remove an element\n",
    "print(animals)"
   ]
  },
  {
   "cell_type": "markdown",
   "metadata": {
    "slideshow": {
     "slide_type": "slide"
    }
   },
   "source": [
    "#### Why sets (and dicts)?\n",
    "Although any collection in Python supports membership tests, like `element in collection`, sets have several properties that make them extremely useful.\n",
    "\n",
    "- Sets are guaranteed to have unique elements\n",
    "- Element lookup is extremely efficient: O(1) for sets (and dicts) instead of O(n) for lists\n",
    "- Sets support all operations of set theory (see below)\n"
   ]
  },
  {
   "cell_type": "markdown",
   "metadata": {
    "slideshow": {
     "slide_type": "slide"
    }
   },
   "source": [
    "### Set theory operations\n",
    "\n",
    "Given the sets depicted here; set A and B:\n",
    "\n",
    "![sets](./pics/sets.png)\n"
   ]
  },
  {
   "cell_type": "markdown",
   "metadata": {
    "slideshow": {
     "slide_type": "fragment"
    }
   },
   "source": [
    "Where set A contains the elements `{'apple', 'banana', 'kiwi'}` and  \n",
    "set B contains the elements `{'kiwi', 'orange', 'pear'}`\n"
   ]
  },
  {
   "cell_type": "markdown",
   "metadata": {
    "slideshow": {
     "slide_type": "slide"
    }
   },
   "source": [
    "- the **union** of two sets is the set of elements that are in A or in B (`A ∪ B`)\n",
    "- the **intersections** of two sets is the set of elements that are in A and in B (`A ∩ B`)\n",
    "- set A and set B are **disjoint** if they have no elements in common.\n",
    "- set B is a **proper subset** of A if all elements of B are also in B but `B ≠ A`\n",
    "- the **symmetric difference** is the complement of the intersection"
   ]
  },
  {
   "cell_type": "code",
   "execution_count": 18,
   "metadata": {
    "slideshow": {
     "slide_type": "subslide"
    }
   },
   "outputs": [
    {
     "name": "stdout",
     "output_type": "stream",
     "text": [
      "{'orange', 'pear', 'apple', 'kiwi', 'banana'}\n",
      "{'kiwi'}\n",
      "False\n",
      "False\n",
      "{'pear', 'banana', 'apple', 'orange'}\n"
     ]
    }
   ],
   "source": [
    "A = {'apple', 'banana', 'kiwi'}\n",
    "B = {'kiwi', 'orange', 'pear'}\n",
    "\n",
    "print(A | B)  # union, same as A.union(B)\n",
    "print(A & B)  # intersection, same as A.intersection(B)\n",
    "print(A.isdisjoint(B))\n",
    "print(A in B) # subset\n",
    "print(A ^ B)  # symmetric difference, same as A.symmetric_difference(B)"
   ]
  },
  {
   "cell_type": "markdown",
   "metadata": {
    "slideshow": {
     "slide_type": "slide"
    }
   },
   "source": [
    "### Collection type `dict`: {}\n",
    "\n",
    "The last collection type discussed here is the dict, which is an abbreviation of _dictionary_.  \n",
    "It is used to hold mappings between _keys_ and _values_, much like real dictionaries. \n",
    "\n",
    "A dict can be created as a literal as follows:\n",
    "\n",
    "```python\n",
    "fruit_supply = {'apple': 5, 'pear': 2, 'orange': 4}\n",
    "```\n",
    "\n",
    "This says \"for key apple the corresponding value is 5, the value belonging to pear is 2 and the value of orange is 4\"."
   ]
  },
  {
   "cell_type": "markdown",
   "metadata": {
    "slideshow": {
     "slide_type": "slide"
    }
   },
   "source": [
    "Like sets, the keys of a dict must be immutable types. There are no restrictions for the values. Also like sets, the keys are always unique. The values, however, may contain duplicates.  \n",
    "Values can be of any data type: numbers, strings, lists, other dicts, dedicated objects.  \n",
    "\n",
    "Dicts cannot be sliced. Finding values is done using `dictionary[key]`."
   ]
  },
  {
   "cell_type": "code",
   "execution_count": 6,
   "metadata": {
    "slideshow": {
     "slide_type": "subslide"
    }
   },
   "outputs": [
    {
     "name": "stdout",
     "output_type": "stream",
     "text": [
      "['Sue', 'Lilith']\n",
      "we have lions!\n",
      "we have lions!\n",
      "Bobolin\n",
      "None\n"
     ]
    }
   ],
   "source": [
    "zoo = {'lion' : 'Carl',\n",
    "      'leopard' : ['Sue', \"Lilith\"],\n",
    "      'rhino' : 'Bobolin'}\n",
    "\n",
    "print(zoo.get(\"leopard\"))\n",
    "\n",
    "if (zoo.get('lion')):       # works because get() returns None when key is absent, and None evaulates to False\n",
    "    print('we have lions!')\n",
    "\n",
    "# better solution \n",
    "if ('lion' in zoo):\n",
    "    print('we have lions!')\n",
    "\n",
    "print(zoo['rhino'])\n",
    "\n",
    "#print(zoo['giraffe'])     # gives a KeyError\n",
    "print(zoo.get('giraffe'))  # returns None \n"
   ]
  },
  {
   "cell_type": "markdown",
   "metadata": {
    "slideshow": {
     "slide_type": "slide"
    }
   },
   "source": [
    "```{admonition} Exercise\n",
    ":class: tip\n",
    "\n",
    "Now take some time to figure out what the `dict` methods `update()` and `pop()` are \n",
    "intended for and how they are used. Try them out!  \n",
    "Feel free to try some other methods. \n",
    "Remember, `help(dict)` gives you almost all the information you need.\n",
    "```"
   ]
  },
  {
   "cell_type": "markdown",
   "metadata": {},
   "source": [
    "#### Default vales\n",
    "\n",
    "A use case often encountered with dicts is collecting elements by a key. Suppose for instance we have a file containing these lines (file reading is discussed in a later chapter):"
   ]
  },
  {
   "cell_type": "code",
   "execution_count": 3,
   "metadata": {},
   "outputs": [
    {
     "data": {
      "text/plain": [
       "['jonagold, apple',\n",
       " 'elstar, apple',\n",
       " 'conference, pear',\n",
       " 'junami, apple',\n",
       " 'doyenne, pear',\n",
       " 'opal, plum']"
      ]
     },
     "execution_count": 3,
     "metadata": {},
     "output_type": "execute_result"
    }
   ],
   "source": [
    "fruits = '''jonagold, apple\n",
    "elstar, apple\n",
    "conference, pear\n",
    "junami, apple\n",
    "doyenne, pear\n",
    "opal, plum'''\n",
    "\n",
    "fruits = fruits.split('\\n')\n",
    "fruits"
   ]
  },
  {
   "cell_type": "markdown",
   "metadata": {},
   "source": [
    "Now, if we want to collect the different varieties of the fruit species in a dict, we could do something like this."
   ]
  },
  {
   "cell_type": "code",
   "execution_count": 6,
   "metadata": {},
   "outputs": [
    {
     "data": {
      "text/plain": [
       "{'apple': ['jonagold', 'elstar', 'junami'],\n",
       " 'pear': ['conference', 'doyenne'],\n",
       " 'plum': ['opal']}"
      ]
     },
     "execution_count": 6,
     "metadata": {},
     "output_type": "execute_result"
    }
   ],
   "source": [
    "fruit_summary = dict()\n",
    "for line in fruits:\n",
    "    variety, species = line.split(', ')\n",
    "    if species in fruit_summary:\n",
    "        fruit_summary[species].append(variety)\n",
    "    else:\n",
    "        fruit_summary[species] = list()\n",
    "        fruit_summary[species].append(variety)\n",
    "fruit_summary"
   ]
  },
  {
   "cell_type": "markdown",
   "metadata": {},
   "source": [
    "Although correct, this is not very efficient. For each line, there are 2 or three key lookups: `fruit_summary[species]`; the keyword `in` also performs a lookup.  \n",
    "Enter default values!"
   ]
  },
  {
   "cell_type": "code",
   "execution_count": 8,
   "metadata": {},
   "outputs": [
    {
     "data": {
      "text/plain": [
       "{'apple': ['jonagold', 'elstar', 'junami'],\n",
       " 'pear': ['conference', 'doyenne'],\n",
       " 'plum': ['opal']}"
      ]
     },
     "execution_count": 8,
     "metadata": {},
     "output_type": "execute_result"
    }
   ],
   "source": [
    "fruit_summary = dict()\n",
    "for line in fruits:\n",
    "    variety, species = line.split(', ')\n",
    "    fruit_summary.setdefault(species, []).append(variety)\n",
    "fruit_summary"
   ]
  },
  {
   "cell_type": "markdown",
   "metadata": {},
   "source": [
    "Note that if you are only interested in counts, using only the base library you would do this:"
   ]
  },
  {
   "cell_type": "code",
   "execution_count": 10,
   "metadata": {},
   "outputs": [
    {
     "data": {
      "text/plain": [
       "{'apple': 3, 'pear': 2, 'plum': 1}"
      ]
     },
     "execution_count": 10,
     "metadata": {},
     "output_type": "execute_result"
    }
   ],
   "source": [
    "fruit_summary = dict()\n",
    "for line in fruits:\n",
    "    variety, species = line.split(', ')\n",
    "    fruit_summary.setdefault(species, 0)\n",
    "    fruit_summary[species] += 1\n",
    "fruit_summary"
   ]
  },
  {
   "cell_type": "markdown",
   "metadata": {},
   "source": [
    "Again, we have two lookups. Two more advanced dict implementations can be of help here. The first is `defaultdict`. It needs a so-called factory method that will provide a value for a key that is not present yet:"
   ]
  },
  {
   "cell_type": "code",
   "execution_count": 11,
   "metadata": {},
   "outputs": [
    {
     "data": {
      "text/plain": [
       "defaultdict(int, {'apple': 3, 'pear': 2, 'plum': 1})"
      ]
     },
     "execution_count": 11,
     "metadata": {},
     "output_type": "execute_result"
    }
   ],
   "source": [
    "from collections import defaultdict\n",
    "fruit_summary = defaultdict(int) # int factory\n",
    "for line in fruits:\n",
    "    variety, species = line.split(', ')\n",
    "    fruit_summary[species] += 1\n",
    "fruit_summary"
   ]
  },
  {
   "cell_type": "markdown",
   "metadata": {},
   "source": [
    "But since counting is done so often, there is even a more specialized type for this: `Counter`."
   ]
  },
  {
   "cell_type": "code",
   "execution_count": 13,
   "metadata": {},
   "outputs": [
    {
     "data": {
      "text/plain": [
       "Counter({'apple': 3, 'pear': 2, 'plum': 1})"
      ]
     },
     "execution_count": 13,
     "metadata": {},
     "output_type": "execute_result"
    }
   ],
   "source": [
    "from collections import Counter\n",
    "fruit_summary = Counter()\n",
    "for line in fruits:\n",
    "    variety, species = line.split(', ')\n",
    "    fruit_summary.update([species])\n",
    "fruit_summary"
   ]
  },
  {
   "cell_type": "markdown",
   "metadata": {},
   "source": [
    "Note that the fruit has to be wrapped in a list, otherwise the string is processed as an iterable of individual letters."
   ]
  },
  {
   "cell_type": "markdown",
   "metadata": {
    "slideshow": {
     "slide_type": "slide"
    }
   },
   "source": [
    "### Shared operations of collection types\n",
    "\n",
    "Many operations (operators and methods) are applicable to all or a subset of collection types. Slicing only works on sequence types (list, tuple, string), but not on dict or set. Here are some of the most-used collection operations.\n"
   ]
  },
  {
   "cell_type": "markdown",
   "metadata": {
    "slideshow": {
     "slide_type": "subslide"
    }
   },
   "source": [
    "\n",
    "\n",
    "Operation    | Meaning\n",
    "-------------|---------------------------------\n",
    "x in s       |True if x is an item in or member of s, False otherwise\n",
    "x not in s   | idem, reversed\n",
    "s + t        | the concatenation of s and t\n",
    "s * n, n * s | n shallow copies of s concatenated\n",
    "s\\[i\\]       | i‘th item of s, origin 0\n",
    "s\\[i:j\\]     | slice of s from i to j\n",
    "s\\[i:j:k\\]   | slice of s from i to j with step k\n",
    "len(s)       | length of s\n",
    "min(s)       | smallest item of s\n",
    "max(s)       | largest item of s\n",
    "s.index(i)   | index of the first occurence of i in s\n",
    "s.count(i)   | total number of occurences of i in s\n"
   ]
  },
  {
   "cell_type": "markdown",
   "metadata": {
    "slideshow": {
     "slide_type": "slide"
    }
   },
   "source": [
    "### What do I need to memorize?\n",
    "\n",
    "Do you need to know all these string methods, and methods from other datatypes?  \n",
    "\n",
    "&nbsp;&nbsp;&nbsp;&nbsp;&nbsp;&nbsp;**NO!**\n",
    "\n",
    "You will simply remember the ones you use most without any problem.  \n",
    "For the most part you will need to learn how to quickly find answers to your problems. Here are the resources that are most relevant (in logical order of usage):\n",
    "\n",
    "1. Use the dot operator within your editor. This usually suggests possible methods on an object (or class).\n",
    "2. use `help()` in Jupyter or the Python console, e.g. help(str)\n",
    "3. Use [the python docs](https://docs.python.org/3/), in particular [The Python Standard lLibrary](https://docs.python.org/3/library/index.html)\n",
    "4. ChatGPT or other LLM (note on next slide)\n",
    "5. GIYF (Google Is Your Friend)\n",
    "6. Ask a colleague/friend/random tech wizard on the street. Possibly preceeded by asking the [debug duck](https://rubberduckdebugging.com/)\n",
    "\n",
    "Also, it may be worth your while to have some cheat sheets copied to your Desktop (fysical or virtual)."
   ]
  },
  {
   "cell_type": "markdown",
   "metadata": {
    "slideshow": {
     "slide_type": "slide"
    }
   },
   "source": [
    "```{admonition} Exercise\n",
    ":class: tip\n",
    "\n",
    "Use the above (sequence of) resources to find out how to ...\n",
    "- print three string variables as one, with a `+` between each string\n",
    "- split a sentence in a list of separate words\n",
    "- get a random number between 1 and 100\n",
    "- round a number to 2 decimals\n",
    "```\n"
   ]
  },
  {
   "cell_type": "markdown",
   "metadata": {
    "slideshow": {
     "slide_type": "slide"
    }
   },
   "source": [
    "### Note on ChatGPT\n",
    "\n",
    "ChatGPT is a (real) game changer in programming.\n",
    "However, it is **_never unsure_**: it does make mistakes, and will serve utter nonsense with utter conviction. \n",
    "Given this snippet and output,\n"
   ]
  },
  {
   "cell_type": "code",
   "execution_count": 20,
   "metadata": {
    "slideshow": {
     "slide_type": "fragment"
    }
   },
   "outputs": [
    {
     "name": "stdout",
     "output_type": "stream",
     "text": [
      "{0, True, 2, 'a', 4, 6, 'c'}\n"
     ]
    }
   ],
   "source": [
    "data = [4, 2, 'a', 'c', 6, True, 1, 0, False]\n",
    "result = {x for x in data}\n",
    "print(result)"
   ]
  },
  {
   "cell_type": "markdown",
   "metadata": {
    "slideshow": {
     "slide_type": "fragment"
    }
   },
   "source": [
    "and the question \"why do the values 1 and False not appear in this result, it answered this:"
   ]
  },
  {
   "cell_type": "markdown",
   "metadata": {
    "slideshow": {
     "slide_type": "slide"
    }
   },
   "source": [
    "![chatGPT_nonsense.png](pics/chatGPT_nonsense.png)"
   ]
  },
  {
   "cell_type": "markdown",
   "metadata": {
    "slideshow": {
     "slide_type": "skip"
    }
   },
   "source": [
    "## Key concepts"
   ]
  },
  {
   "cell_type": "markdown",
   "metadata": {
    "slideshow": {
     "slide_type": "skip"
    }
   },
   "source": [
    ":::{important} \n",
    "\n",
    "- **collection**: variable that is composed of multiple values i.e. `list`, `set` etc.\n",
    "- **class**: A blueprint for creating objects of that type. Classes define data and -mainly- behaviour in the form of methods. These methods may be blueprint-scoped (class methods) or instance-scoped (object methods).\n",
    "- **immutable**: Means that the collection or variable can not change.\n",
    "- **keywords**: The reserved words of the programming language. These include words like `for`, `in`, `not` etc.\n",
    "- **scalar** variable consisting of a single value.\n",
    ":::\n"
   ]
  }
 ],
 "metadata": {
  "celltoolbar": "Diavoorstelling",
  "kernelspec": {
   "display_name": "education",
   "language": "python",
   "name": "education"
  },
  "language_info": {
   "codemirror_mode": {
    "name": "ipython",
    "version": 3
   },
   "file_extension": ".py",
   "mimetype": "text/x-python",
   "name": "python",
   "nbconvert_exporter": "python",
   "pygments_lexer": "ipython3",
   "version": "3.9.16"
  },
  "vscode": {
   "interpreter": {
    "hash": "b0fa6594d8f4cbf19f97940f81e996739fb7646882a419484c72d19e05852a7e"
   }
  }
 },
 "nbformat": 4,
 "nbformat_minor": 2
}
