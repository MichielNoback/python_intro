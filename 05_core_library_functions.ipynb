{
 "cells": [
  {
   "cell_type": "markdown",
   "id": "29ff7b0b",
   "metadata": {
    "slideshow": {
     "slide_type": "slide"
    }
   },
   "source": [
    "# The core library functions\n",
    "\n",
    "Python ships with a wealth of built-in functions at your disposal.\n",
    "Some are readily available but many should be \"activated\" using an `import` statement.\n",
    "\n",
    "This chapter only deals with a very cursory inspection; your should really bookmark the [docs](https://docs.python.org/3/library/index.html).\n"
   ]
  },
  {
   "cell_type": "markdown",
   "id": "16e2b399",
   "metadata": {
    "slideshow": {
     "slide_type": "slide"
    }
   },
   "source": [
    "## Built-in functions\n",
    "These are the functions you have always at your disposal, without `import` statement. The list is not very long because this keeps the core of Python lean.\n",
    "The complete list can be found in the [doc page on built-ins](https://docs.python.org/3/library/functions.html)\n",
    "\n",
    "The core contains \"constructor functions\" for all built-in datatypes - which we have already seen: `bool()`, `dict()`, `float()`, `int()`, `list()`, `set()`, `str()`, `tuple()` (some were not discussed and will neither be listed here)\n",
    "\n",
    "Also already discussed or demonstrated were `help()`, `input()`, `len()`, `max()`, `min()`, `range()`, `type()`\n",
    "\n",
    "There are some functions related to object-oriented programming (OOP): `getattr()`, `setattr()`, `hasattr()`, `isinstance()`, `issubclass()`, `iter()`, `next()`, `staticmethod()` that will be deiscussed in the chapter on OOP.\n"
   ]
  },
  {
   "cell_type": "markdown",
   "id": "b1925aaa",
   "metadata": {
    "slideshow": {
     "slide_type": "slide"
    }
   },
   "source": [
    "In the listing below only a very short description is given. For a few others a more detailed discussion is provided in the following sections.  \n",
    "\n",
    "- `abs()` gives the absolute value of a number (i.e. removes the minus sign if present).\n",
    "- `dir()` and `vars()` help you inspect the attributes available on a class, object or the current environment.\n",
    "- `sum()` gives the sum of a numeric iterable.\n",
    "- `pow(a, b)` calculates power of a to b (a^4)\n",
    "- `round()` rounds a number to the given number decimal digits (or to the nearest integer of none provided)\n",
    "- `reversed()` gives a reversed _iterator_ of a sequence object. Can be inserted in a list or tuple constructor, or in a iteration control structure.\n",
    "- `zip()` yields n-length tuples, where n is the number of iterables passed as positional arguments to zip().  The i-th element in every tuple comes from the i-th iterable argument to zip().\n"
   ]
  },
  {
   "cell_type": "markdown",
   "id": "92e7fd7e",
   "metadata": {
    "slideshow": {
     "slide_type": "slide"
    }
   },
   "source": [
    "### Get an iteration counter with `enumerate()`\n",
    "\n",
    "Used primarily in `for` loops to get hold of an iteration counter. It is a solution for the `for(int i, i < length(seq), i++){}` structure in other languages. The enumeration is wrapped around an iterable object such as string, list or other collection."
   ]
  },
  {
   "cell_type": "code",
   "execution_count": 25,
   "id": "ca6edbdd",
   "metadata": {
    "slideshow": {
     "slide_type": "fragment"
    }
   },
   "outputs": [
    {
     "name": "stdout",
     "output_type": "stream",
     "text": [
      "the number 1 letter of the alphabet is a\n",
      "the number 2 letter of the alphabet is b\n",
      "the number 3 letter of the alphabet is c\n",
      "the number 4 letter of the alphabet is d\n"
     ]
    }
   ],
   "source": [
    "for (i, c) in enumerate(\"abcd\"):\n",
    "    print(f'the number {i+1} letter of the alphabet is {c}')\n",
    "\n"
   ]
  },
  {
   "cell_type": "markdown",
   "id": "afbb8246",
   "metadata": {
    "slideshow": {
     "slide_type": "slide"
    }
   },
   "source": [
    "### Read and write files with `open()`\n",
    "\n",
    "The `open()` function gives an iterator of file contents when used in a read-only context. It is often used in conjunction with the `for` loop."
   ]
  },
  {
   "cell_type": "code",
   "execution_count": 27,
   "id": "e295c8d2",
   "metadata": {
    "slideshow": {
     "slide_type": "fragment"
    }
   },
   "outputs": [
    {
     "name": "stdout",
     "output_type": "stream",
     "text": [
      "employee_id;last_name;role\n",
      "1;Jacobs;ict architect\n",
      "2;Howard;programmer\n",
      "3;Pierson;data scientist\n"
     ]
    }
   ],
   "source": [
    "for line in open(\"data/employees.txt\"):\n",
    "    print(line.strip())\n"
   ]
  },
  {
   "cell_type": "markdown",
   "id": "1d380f99",
   "metadata": {
    "slideshow": {
     "slide_type": "slide"
    }
   },
   "source": [
    "The `open()` function comes with a few more parameters, of which only the mode is inetersting right now. It takes a string inidcating how the file should be opened. The default is `\"rt\"` which means the file is opened in read-only, text mode.\n",
    "When you want to **write to file** these are the options at your disposal:\n",
    "\n",
    "- **`\"x\"`**: **Create** - creates the file but returns an error if the file exists\n",
    "- **`\"a\"`**: **Append** - creates the file if the specified file does not exist and appends to the end\n",
    "- **`\"w\"`**: **Write** - creates the file if the specified file does not exist and overwrites if it does exist\n"
   ]
  },
  {
   "cell_type": "code",
   "execution_count": 7,
   "id": "35f5d0cc",
   "metadata": {
    "slideshow": {
     "slide_type": "slide"
    }
   },
   "outputs": [],
   "source": [
    "fruits = [\"kiwi\", \"apple\", \"guava\"]\n",
    "fruits_file = open(\"data/fruits.txt\", \"w\") # overwrite mode!\n",
    "for fruit in fruits:\n",
    "    fruits_file.write(f'this is a fruit: {fruit}\\n') # the \\n adds a newline\n",
    "    \n",
    "fruits_file.close()\n"
   ]
  },
  {
   "cell_type": "markdown",
   "id": "9f33f10d",
   "metadata": {
    "slideshow": {
     "slide_type": "fragment"
    }
   },
   "source": [
    "The file fruits.txt now has this contents, no matter how often the snippet is run:\n",
    "\n",
    "```\n",
    "this is a fruit: kiwi\n",
    "this is a fruit: apple\n",
    "this is a fruit: guava\n",
    "```\n"
   ]
  },
  {
   "cell_type": "markdown",
   "id": "27111671",
   "metadata": {
    "slideshow": {
     "slide_type": "slide"
    }
   },
   "source": [
    "### Converting between characters and ASCII/unicode\n",
    "\n",
    "Below the surface, characters are just numbers. Originally there were only 128 characters that could be encoded using a byte: the ASCII characters:\n",
    "\n",
    "![ASCII codes](pics/ASCII_table.png)"
   ]
  },
  {
   "cell_type": "markdown",
   "id": "0ae6a70c",
   "metadata": {
    "slideshow": {
     "slide_type": "slide"
    }
   },
   "source": [
    "\n",
    "The pair of functions **`chr()`** and **`ord()`** can be used to convert characters to their numeric counterpart and vice versa. For instance,\n",
    "\n",
    "```python\n",
    "print(chr(7))\n",
    "```\n",
    "\n",
    "will sound a 'bell' (but not in Jupyter unfortunately - give it a try in ipython).\n",
    "\n",
    "The distinction between `chr()` and `str()` is: `str()` will give the _string representation_ of a number (or any object for that matter) whereas `chr()` will give the character belonging to a numeric code."
   ]
  },
  {
   "cell_type": "code",
   "execution_count": 47,
   "id": "4e6527ce",
   "metadata": {
    "slideshow": {
     "slide_type": "fragment"
    }
   },
   "outputs": [
    {
     "name": "stdout",
     "output_type": "stream",
     "text": [
      "S   is encoded by 83 \n",
      "o   is encoded by 111\n",
      "m   is encoded by 109\n",
      "e   is encoded by 101\n",
      "    is encoded by 32 \n",
      "T   is encoded by 84 \n",
      "e   is encoded by 101\n",
      "x   is encoded by 120\n",
      "t   is encoded by 116\n"
     ]
    }
   ],
   "source": [
    "test = \"Some Text\"\n",
    "ords = []\n",
    "letters = []\n",
    "for letter in test:\n",
    "    print('{:<3} is encoded by {:<3}'.format(letter, ord(letter)))"
   ]
  },
  {
   "cell_type": "markdown",
   "id": "430a963f",
   "metadata": {
    "slideshow": {
     "slide_type": "slide"
    }
   },
   "source": [
    "### Sorting with `sorted()` and `list.sort()`\n",
    "\n",
    "Sorting is quite ubiquitous in programming: give top-5 performing employees, sort countries on average income, sort members on last name, etc.\n",
    "\n",
    "There are two functions available. \n",
    "\n",
    "- The built-in function `sorted()` returns a sorted **_copy of_** the original list \n",
    "- The list method `sort()` performs an in-place sort that modifies the original list\n",
    "\n",
    "Both use _natural ordering_ of text data (alphabetically) and numeric data (ascending) and both provide two customizing parameters: `reverse` and `key`. \n"
   ]
  },
  {
   "cell_type": "code",
   "execution_count": 17,
   "id": "2f5be15c",
   "metadata": {
    "slideshow": {
     "slide_type": "slide"
    }
   },
   "outputs": [
    {
     "name": "stdout",
     "output_type": "stream",
     "text": [
      "['apple', 'guava', 'kiwi']\n",
      "['kiwi', 'apple', 'guava']\n"
     ]
    }
   ],
   "source": [
    "fruits = [\"kiwi\", \"apple\", \"guava\"]\n",
    "print(sorted(fruits))\n",
    "print(fruits)        # unchanged!"
   ]
  },
  {
   "cell_type": "code",
   "execution_count": 10,
   "id": "aca1e38e",
   "metadata": {
    "slideshow": {
     "slide_type": "fragment"
    }
   },
   "outputs": [
    {
     "name": "stdout",
     "output_type": "stream",
     "text": [
      "['apple', 'guava', 'kiwi']\n"
     ]
    }
   ],
   "source": [
    "fruits = [\"kiwi\", \"apple\", \"guava\"]\n",
    "fruits.sort()\n",
    "print(fruits)        # modified in-place"
   ]
  },
  {
   "cell_type": "markdown",
   "id": "52a62d2f",
   "metadata": {
    "slideshow": {
     "slide_type": "slide"
    }
   },
   "source": [
    "**Reversed sorting** can be done using the function argument `reverse=True|False`"
   ]
  },
  {
   "cell_type": "code",
   "execution_count": 19,
   "id": "d458696e",
   "metadata": {
    "slideshow": {
     "slide_type": "fragment"
    }
   },
   "outputs": [
    {
     "name": "stdout",
     "output_type": "stream",
     "text": [
      "[1, 2, 3, 4]\n",
      "[4, 3, 2, 1]\n"
     ]
    }
   ],
   "source": [
    "print(sorted([3, 2, 4, 1])) # default is reverse=False\n",
    "print(sorted([3, 2, 4, 1], reverse=True))"
   ]
  },
  {
   "cell_type": "code",
   "execution_count": 16,
   "id": "8f9467f3",
   "metadata": {
    "slideshow": {
     "slide_type": "fragment"
    }
   },
   "outputs": [
    {
     "data": {
      "text/plain": [
       "[4, 3, 2, 1]"
      ]
     },
     "execution_count": 16,
     "metadata": {},
     "output_type": "execute_result"
    }
   ],
   "source": [
    "numbers = [3, 2, 4, 1]\n",
    "numbers.sort(reverse=True)\n",
    "numbers"
   ]
  },
  {
   "cell_type": "markdown",
   "id": "174c9655",
   "metadata": {
    "slideshow": {
     "slide_type": "slide"
    }
   },
   "source": [
    "#### The `key` parameter\n",
    "\n",
    "This parameter makes it possible to define custom sorting of collection types and objects. It takes as value a function that will return some property of each element to sort on.\n",
    "\n",
    "For instance, suppose you want to sort a list of words on the second character:"
   ]
  },
  {
   "cell_type": "code",
   "execution_count": 23,
   "id": "a764939c",
   "metadata": {
    "slideshow": {
     "slide_type": "fragment"
    }
   },
   "outputs": [
    {
     "data": {
      "text/plain": [
       "['kiwi', 'apple', 'guava']"
      ]
     },
     "execution_count": 23,
     "metadata": {},
     "output_type": "execute_result"
    }
   ],
   "source": [
    "def second_character_sorter(word):\n",
    "    return word[1]\n",
    "\n",
    "sorted(fruits, key=second_character_sorter)\n"
   ]
  },
  {
   "cell_type": "markdown",
   "id": "234a0880",
   "metadata": {
    "slideshow": {
     "slide_type": "slide"
    }
   },
   "source": [
    "#### Lambdas  (advanced topic)\n",
    "The `sorted()` parameter `key` is most often used in conjunction with an anonymous type of function called a **lambda**. They are usually defined at the location where they are needed and have the form of\n",
    "\n",
    "```\n",
    "lambda <data>: <return property of data>\n",
    "```\n",
    "\n",
    "The above function could have been written as this lambda:\n",
    "\n",
    "```python\n",
    "key=lambda fruit: fruit[1]\n",
    "```"
   ]
  },
  {
   "cell_type": "code",
   "execution_count": 22,
   "id": "22a1c25b",
   "metadata": {
    "slideshow": {
     "slide_type": "fragment"
    }
   },
   "outputs": [
    {
     "data": {
      "text/plain": [
       "['kiwi', 'apple', 'guava']"
      ]
     },
     "execution_count": 22,
     "metadata": {},
     "output_type": "execute_result"
    }
   ],
   "source": [
    "fruits = [\"kiwi\", \"apple\", \"guava\"]\n",
    "\n",
    "sorted(fruits, key=lambda fruit: fruit[1])"
   ]
  },
  {
   "cell_type": "markdown",
   "id": "6aa2a9ad",
   "metadata": {
    "slideshow": {
     "slide_type": "slide"
    }
   },
   "source": [
    "Here is another example, involving a list of dictionaries."
   ]
  },
  {
   "cell_type": "code",
   "execution_count": 30,
   "id": "2841bd87",
   "metadata": {
    "slideshow": {
     "slide_type": "fragment"
    }
   },
   "outputs": [
    {
     "data": {
      "text/plain": [
       "[{'name': 'banana', 'color': 'yellow', 'origin': 'Africa'},\n",
       " {'name': 'apple', 'color': 'green/red', 'origin': 'Europe'},\n",
       " {'name': 'orange', 'color': 'orange', 'origin': 'Europe'},\n",
       " {'name': 'kiwi', 'color': 'green', 'origin': 'New Zealand'}]"
      ]
     },
     "execution_count": 30,
     "metadata": {},
     "output_type": "execute_result"
    }
   ],
   "source": [
    "fruits = [\n",
    "    {'name': 'apple', 'color': 'green/red', 'origin': 'Europe'},\n",
    "    {'name': 'kiwi', 'color': 'green', 'origin': 'New Zealand'},\n",
    "    {'name': 'orange', 'color': 'orange', 'origin': 'Europe'},\n",
    "    {'name': 'banana', 'color': 'yellow', 'origin': 'Africa'}]\n",
    "\n",
    "sorted(fruits, key = lambda fruit: fruit['origin'])"
   ]
  },
  {
   "cell_type": "markdown",
   "id": "cf5eb41f",
   "metadata": {
    "slideshow": {
     "slide_type": "slide"
    }
   },
   "source": [
    "#### Multi-key sorting\n",
    "\n",
    "Whenever you need sorting based on multiple properties - e.g. sorting first on family name and then on given name - you can employ the trick of tuple sorting:"
   ]
  },
  {
   "cell_type": "code",
   "execution_count": 64,
   "id": "f0313fe8",
   "metadata": {
    "slideshow": {
     "slide_type": "fragment"
    }
   },
   "outputs": [
    {
     "data": {
      "text/plain": [
       "[{'first': 'Julia', 'last': 'Adams', 'age': 28},\n",
       " {'first': 'Mark', 'last': 'Adams', 'age': 35},\n",
       " {'first': 'Rose', 'last': 'Berg', 'age': 51},\n",
       " {'first': 'Brad', 'last': 'Young', 'age': 64}]"
      ]
     },
     "execution_count": 64,
     "metadata": {},
     "output_type": "execute_result"
    }
   ],
   "source": [
    "persons = [{'first': 'Mark', 'last': 'Adams', 'age': 35},\n",
    "           {'first': 'Brad', 'last': 'Young', 'age': 64}, \n",
    "           {'first': 'Rose', 'last': 'Berg', 'age': 51},\n",
    "           {'first': 'Julia', 'last': 'Adams', 'age': 28}]\n",
    "\n",
    "def last_first_sort(person):\n",
    "    return (person['last'], person['first'])  # returns a tuple with last and first name\n",
    "\n",
    "sorted(persons, key = last_first_sort)\n"
   ]
  },
  {
   "cell_type": "markdown",
   "id": "d1d68d66",
   "metadata": {
    "slideshow": {
     "slide_type": "slide"
    }
   },
   "source": [
    "## Using `filter()` and `map()`\n",
    "\n",
    "These functions are used on collections, to filter the elements in them on some property, or to change each element or to swap them for something else.  \n",
    "\n",
    "Fot example, imagine a cupcake production line. There will be a machine taking in a plate of cupcakes and applying frosting to all of them: it **maps** a cupcake to a frosted cupcake. There will also be a machine taking in a plate of cupcakes, removing the badly formed ones: it **filters** the cupcakes, only letting the good ones pass."
   ]
  },
  {
   "cell_type": "markdown",
   "id": "52dd94a5",
   "metadata": {
    "slideshow": {
     "slide_type": "slide"
    }
   },
   "source": [
    "- **map()** applies a function (e.g. frosting) to all members of a collection, and returns the resulting collection, which is of course the same size as the original\n",
    "- **filter()** applies a function (e.g. scanning bad cupcakes) to all members of a collection, only keeping those members that pass the function (return True)\n",
    "\n",
    "![Map vs Filter](pics/map_filter.png)\n",
    "Here follows an example of a map/filter chain. Note that both map and filter produce iterator objects that you usually need to embed in a collection constructor."
   ]
  },
  {
   "cell_type": "code",
   "execution_count": 56,
   "id": "9c256a2b",
   "metadata": {
    "slideshow": {
     "slide_type": "slide"
    }
   },
   "outputs": [
    {
     "data": {
      "text/plain": [
       "['Kiwi', 'Orange', 'Apple', 'Guava', 'Banana']"
      ]
     },
     "execution_count": 56,
     "metadata": {},
     "output_type": "execute_result"
    }
   ],
   "source": [
    "fruits = [\"kiwi\", \"orange\", \"apple\", \"guava\", \"banana\"]\n",
    "\n",
    "def capitalize_name(fruit):\n",
    "    return fruit.capitalize()\n",
    "    \n",
    "list(map(capitalize_name, fruits))\n"
   ]
  },
  {
   "cell_type": "code",
   "execution_count": 58,
   "id": "e7bacd72",
   "metadata": {
    "slideshow": {
     "slide_type": "slide"
    }
   },
   "outputs": [
    {
     "data": {
      "text/plain": [
       "['orange', 'banana']"
      ]
     },
     "execution_count": 58,
     "metadata": {},
     "output_type": "execute_result"
    }
   ],
   "source": [
    "fruits = [\"kiwi\", \"orange\", \"apple\", \"guava\", \"banana\"]\n",
    "\n",
    "def filter_with_an(fruit):\n",
    "    return \"an\" in fruit\n",
    "    \n",
    "list(filter(filter_with_an, fruits))\n"
   ]
  },
  {
   "cell_type": "markdown",
   "id": "16fd8589",
   "metadata": {
    "slideshow": {
     "slide_type": "slide"
    }
   },
   "source": [
    "### Using comprehensions as alternative (optional)\n",
    "All examples in the above section can also be implemented using **comprehensions**. However, since these fall outside the scope of this course only a few optional examples of these will be presented here. \n"
   ]
  },
  {
   "cell_type": "code",
   "execution_count": 62,
   "id": "0593907d",
   "metadata": {
    "slideshow": {
     "slide_type": "fragment"
    }
   },
   "outputs": [
    {
     "name": "stdout",
     "output_type": "stream",
     "text": [
      "['Kiwi', 'Orange', 'Apple', 'Guava', 'Banana']\n",
      "['orange', 'banana']\n"
     ]
    }
   ],
   "source": [
    "fruits = [\"kiwi\", \"orange\", \"apple\", \"guava\", \"banana\"]\n",
    "\n",
    "# mapping\n",
    "print([fruit.capitalize() for fruit in fruits])\n",
    "\n",
    "# filtering\n",
    "print([fruit for fruit in fruits if \"an\" in fruit])"
   ]
  },
  {
   "cell_type": "markdown",
   "id": "72c7e3d9",
   "metadata": {
    "slideshow": {
     "slide_type": "slide"
    }
   },
   "source": [
    "## Working with modules\n",
    "\n"
   ]
  }
 ],
 "metadata": {
  "celltoolbar": "Slideshow",
  "kernelspec": {
   "display_name": "Python 3 (ipykernel)",
   "language": "python",
   "name": "python3"
  },
  "language_info": {
   "codemirror_mode": {
    "name": "ipython",
    "version": 3
   },
   "file_extension": ".py",
   "mimetype": "text/x-python",
   "name": "python",
   "nbconvert_exporter": "python",
   "pygments_lexer": "ipython3",
   "version": "3.9.12"
  }
 },
 "nbformat": 4,
 "nbformat_minor": 5
}
