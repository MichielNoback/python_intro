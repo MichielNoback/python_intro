{
 "cells": [
  {
   "cell_type": "markdown",
   "id": "bcc28f3f",
   "metadata": {
    "slideshow": {
     "slide_type": "slide"
    }
   },
   "source": [
    "# Object-oriented programming\n",
    "\n",
    "You already know that Python is an _object-oriented_ programming language and have seen some aspects of it.\n",
    "\n",
    "For instance, the dot operator that lets you access methods on objects, like in this fragment:\n",
    "\n",
    "```python\n",
    "message = 'Howdy, Mike'\n",
    "message2 = 'Howdy, Rose'\n",
    "message.replace('Howdy', 'Bye')\n",
    "```\n"
   ]
  },
  {
   "cell_type": "markdown",
   "id": "e2c01121",
   "metadata": {
    "slideshow": {
     "slide_type": "skip"
    }
   },
   "source": [
    "\n",
    "Here, the **_string instances_** named `message` and `message2` are defined. In the third line, the dot operator is applied to the instance named `message` to call its method `replace()`. Since `replace()` is called on this particular instance, the replacement is applied to the data stored in the string instance `message`, not in the data of `message2`.\n",
    "So, although the method is defined in the blueprint of all string objects, class `str`, when the method is called it will work on the actual data of the current instance on which the method is called.  \n",
    "\n",
    "This is the essence of object-oriented programming."
   ]
  },
  {
   "cell_type": "markdown",
   "id": "31d1adfc",
   "metadata": {
    "slideshow": {
     "slide_type": "slide"
    }
   },
   "source": [
    "## Classes and Objects"
   ]
  },
  {
   "cell_type": "markdown",
   "id": "6974b799",
   "metadata": {
    "slideshow": {
     "slide_type": "slide"
    }
   },
   "source": [
    "In this programming paradigm **classes** form the blueprint for creating **objects** (also called instances).\n",
    "\n",
    "\n",
    "![Class vs Objects](pics/class_vs_objects.png)"
   ]
  },
  {
   "cell_type": "markdown",
   "id": "0c369ca8",
   "metadata": {
    "slideshow": {
     "slide_type": "slide"
    }
   },
   "source": [
    "Although Python provides a wealth of classes - and you have already seen quite a few: `str`, `int`, `set`, `dict`, `list`, etc.-  there are many occasions where the need for custom classes arise.  \n",
    "\n",
    "The key point of using classes is to combine data and related functionality (methods) into a single entity.\n",
    "Before embarking on a little (slightly) realistic example let's have a look at a minimal class and build some data and functionality into it.  \n",
    "\n",
    "Here is a Duck class that does absolutely nothing:"
   ]
  },
  {
   "cell_type": "code",
   "execution_count": 1,
   "id": "44ca1beb",
   "metadata": {
    "slideshow": {
     "slide_type": "fragment"
    }
   },
   "outputs": [],
   "source": [
    "class Duck:\n",
    "    pass"
   ]
  },
  {
   "cell_type": "markdown",
   "id": "031241f8",
   "metadata": {
    "slideshow": {
     "slide_type": "slide"
    }
   },
   "source": [
    "However, there is something you can do _with_ it: you can create a Duck _**instance**_:"
   ]
  },
  {
   "cell_type": "code",
   "execution_count": 2,
   "id": "d9bae859",
   "metadata": {
    "slideshow": {
     "slide_type": "fragment"
    }
   },
   "outputs": [],
   "source": [
    "mallard = Duck()"
   ]
  },
  {
   "cell_type": "markdown",
   "id": "e6d24c73",
   "metadata": {
    "slideshow": {
     "slide_type": "fragment"
    }
   },
   "source": [
    "The duck instance named mallard is a single \"materialization\" of the Duck blueprint. Although you might think there is no functionality attached to the class, actually there is. You can `print()` it for instance."
   ]
  },
  {
   "cell_type": "code",
   "execution_count": 3,
   "id": "950956d1",
   "metadata": {
    "slideshow": {
     "slide_type": "fragment"
    }
   },
   "outputs": [
    {
     "name": "stdout",
     "output_type": "stream",
     "text": [
      "<__main__.Duck object at 0x1110043d0>\n"
     ]
    }
   ],
   "source": [
    "print(mallard)"
   ]
  },
  {
   "cell_type": "markdown",
   "id": "091fcf48",
   "metadata": {
    "slideshow": {
     "slide_type": "slide"
    }
   },
   "source": [
    "By printing it, you get to see the name of the objects' class, where it was defined, en where this instance lives in memory. When a new instance is created, it will only have a different memory address:"
   ]
  },
  {
   "cell_type": "code",
   "execution_count": 4,
   "id": "a3bc66f0",
   "metadata": {
    "slideshow": {
     "slide_type": "fragment"
    }
   },
   "outputs": [
    {
     "name": "stdout",
     "output_type": "stream",
     "text": [
      "<__main__.Duck object at 0x1110043d0>\n",
      "<__main__.Duck object at 0x111004f40>\n"
     ]
    }
   ],
   "source": [
    "print(mallard)\n",
    "shellduck = Duck()\n",
    "print(shellduck)"
   ]
  },
  {
   "cell_type": "markdown",
   "id": "0febc2a3",
   "metadata": {
    "slideshow": {
     "slide_type": "slide"
    }
   },
   "source": [
    "## Class `object`, the mother of all classes"
   ]
  },
  {
   "cell_type": "markdown",
   "id": "a3d26982",
   "metadata": {
    "slideshow": {
     "slide_type": "fragment"
    }
   },
   "source": [
    "Any object is printable because there is a base class named `object` that already specifies some behaviour that is usefull for all data types you can think of: printing, testing for equality, that sort of thing\n",
    "\n",
    "So, although you say this:\n",
    "\n",
    "```python\n",
    "class Duck:\n",
    "    pass\n",
    "```\n",
    "\n",
    "you actually get this \n",
    "\n",
    "```python\n",
    "class Duck(object):\n",
    "    pass\n",
    "```\n",
    "\n",
    "Which says: \"Duck **_inherits_** (is a subtype of) from class object\""
   ]
  },
  {
   "cell_type": "markdown",
   "id": "592bea8b",
   "metadata": {
    "slideshow": {
     "slide_type": "slide"
    }
   },
   "source": [
    "When you inherit from class `object`, you get all the functionality defined in that class, and that is quite a collection. In the console, when you Define a Duck class, create an instance (`d = Duck()`) and type `d._` followed by a tab (completion) or `dir(d)`, you see something like this listing:\n",
    "\n",
    "```\n",
    "__class__, __delattr__, __dict__, __dir__, __doc__, __eq__, __format__,\n",
    "__ge__, __getattribute__, __gt__, __hash__, __init__, __init_subclass__,\n",
    "__le__, __lt__, __module__, __ne__, __new__, __reduce__, __reduce_ex__,\n",
    "__repr__, __setattr__, __sizeof__, __str__, __subclasshook__, __weakref__'\n",
    "```\n",
    "\n",
    "These are the main **_hooks_** used by the Python language that have a default implementation (and therefore defined in class `object`). Some are properties, some are methods. For instance, the __hash__() method makes it possible to get a hash code from any object using the `hash()` method. Here are some examples."
   ]
  },
  {
   "cell_type": "code",
   "execution_count": 5,
   "id": "bcea54b8",
   "metadata": {
    "slideshow": {
     "slide_type": "slide"
    }
   },
   "outputs": [
    {
     "name": "stdout",
     "output_type": "stream",
     "text": [
      "The hash code is 286262450\n",
      "The class is <class '__main__.Duck'>\n",
      "The class attribute is <class '__main__.Duck'>\n",
      "mallard equals pintail:  False\n"
     ]
    }
   ],
   "source": [
    "pintail = Duck()\n",
    "print('The hash code is', hash(pintail))              # calls __hash__()\n",
    "print('The class is', type(pintail))                  # calls __class__()\n",
    "print('The class attribute is', pintail.__class__)    # direct access to attribute\n",
    "print(\"mallard equals pintail: \", mallard == pintail) # calls __eq__()"
   ]
  },
  {
   "cell_type": "markdown",
   "id": "cdbc7d55",
   "metadata": {
    "slideshow": {
     "slide_type": "skip"
    }
   },
   "source": [
    "### Inheritance\n",
    "Inheritance is one of the key concepts of the object-oriented programming paradigm. Classes can be defined to be **_subclasses_** of other classes. In the example above, class Duck is said to be a subclass of class object. By being a subclass, a class inherits all data and -especially- functionality from its **_superclass_**. \n",
    "It is a very interesting topic, extremely relevant to designing applications, but also very much out of scope for this course."
   ]
  },
  {
   "cell_type": "markdown",
   "id": "b47d0f72",
   "metadata": {
    "slideshow": {
     "slide_type": "slide"
    }
   },
   "source": [
    "## Adding behaviour"
   ]
  },
  {
   "cell_type": "markdown",
   "id": "a36f7d43",
   "metadata": {
    "slideshow": {
     "slide_type": "fragment"
    }
   },
   "source": [
    "#### Learn to swim\n",
    "If we want to have a use for this duck we could give it something to do: swimming for instance."
   ]
  },
  {
   "cell_type": "code",
   "execution_count": 6,
   "id": "a0425807",
   "metadata": {
    "slideshow": {
     "slide_type": "fragment"
    }
   },
   "outputs": [
    {
     "name": "stdout",
     "output_type": "stream",
     "text": [
      "quack quack\n"
     ]
    }
   ],
   "source": [
    "class Duck:\n",
    "    def swim(self):\n",
    "        print('quack quack')\n",
    "        \n",
    "eider = Duck()\n",
    "eider.swim()"
   ]
  },
  {
   "cell_type": "markdown",
   "id": "bca2b847",
   "metadata": {
    "slideshow": {
     "slide_type": "slide"
    }
   },
   "source": [
    "Here is a class specifying behaviour (a method) but one single property (data / variables). Don't worry about the `self` and `__init__()` just yet - it will be addressed in the next section."
   ]
  },
  {
   "cell_type": "code",
   "execution_count": 7,
   "id": "e7e30da9",
   "metadata": {
    "slideshow": {
     "slide_type": "fragment"
    }
   },
   "outputs": [
    {
     "name": "stdout",
     "output_type": "stream",
     "text": [
      "quack quack I am a Ruddy Duck\n"
     ]
    }
   ],
   "source": [
    "class Duck:\n",
    "    def __init__(self, name):\n",
    "        self.name = name\n",
    "        \n",
    "    def swim(self):\n",
    "        print(f'quack quack I am a {self.name}')\n",
    "        \n",
    "\n",
    "ruddy_duck = Duck(\"Ruddy Duck\")\n",
    "ruddy_duck.swim()"
   ]
  },
  {
   "cell_type": "markdown",
   "id": "71ef216a",
   "metadata": {
    "slideshow": {
     "slide_type": "slide"
    }
   },
   "source": [
    "## A more realistic example"
   ]
  },
  {
   "cell_type": "markdown",
   "id": "b972ed85",
   "metadata": {
    "slideshow": {
     "slide_type": "fragment"
    }
   },
   "source": [
    "Suppose you have a small theater and want to have a system for managing your reservations. Since you are a beginning Python enthousiast you decide to program it yourself.\n",
    "\n",
    "The first thing any good (OO-)programmer would do is to _model_ the entities and their relations within the application."
   ]
  },
  {
   "cell_type": "markdown",
   "id": "9eb748b8",
   "metadata": {
    "slideshow": {
     "slide_type": "slide"
    }
   },
   "source": [
    "![reservation system](pics/reservation_system.png)"
   ]
  },
  {
   "cell_type": "markdown",
   "id": "199e04af",
   "metadata": {
    "slideshow": {
     "slide_type": "fragment"
    }
   },
   "source": [
    "Yes! This looks an awful lot like a database diagram (ERD), except for the missing id fields."
   ]
  },
  {
   "cell_type": "markdown",
   "id": "f0c2b384",
   "metadata": {
    "slideshow": {
     "slide_type": "skip"
    }
   },
   "source": [
    ":::{admonition} Naming conventions\n",
    ":class: note\n",
    "\n",
    "You may have noticed the use of uppercase characters as first letter of the classes. This is one of the [PEP 8 style guide](https://peps.python.org/pep-0008/) conventions. It states that  \n",
    "\n",
    "* Class names should normally use the CapWords convention. \n",
    "* Function names should be lowercase, with words separated by underscores as necessary to improve readability.\n",
    ":::\n"
   ]
  },
  {
   "cell_type": "markdown",
   "id": "2dcd9105",
   "metadata": {
    "slideshow": {
     "slide_type": "slide"
    }
   },
   "source": [
    "The next step is of course implementing these classes. You usually start at the simplest classes, without any reference to classes that have not been created yet.  \n",
    "Therefore we'll start with the Customer class.\n"
   ]
  },
  {
   "cell_type": "code",
   "execution_count": 8,
   "id": "91b1fe81",
   "metadata": {
    "slideshow": {
     "slide_type": "fragment"
    }
   },
   "outputs": [
    {
     "name": "stdout",
     "output_type": "stream",
     "text": [
      "A Customer! Pete is coming. His email is p.walsh@example.com\n"
     ]
    }
   ],
   "source": [
    "class Customer:\n",
    "    def __init__(self, first_name, last_name, email):\n",
    "        self.first = first_name\n",
    "        self.last = last_name\n",
    "        self.email = email\n",
    "\n",
    "cust1 = Customer(\"Pete\", \"Walsh\", \"p.walsh@example.com\")\n",
    "print(f'A Customer! {cust1.first} is coming. His email is {cust1.email}')"
   ]
  },
  {
   "cell_type": "markdown",
   "id": "005c6f40",
   "metadata": {
    "slideshow": {
     "slide_type": "slide"
    }
   },
   "source": [
    "### The constructor: `__init__()`\n",
    "As seen before, the keyword `class` is used to communicate there is a class definition - an object blueprint. The `__init__()` method is called the **_constructor_** method because it is used to _construct_ an object: an instance of the class. A constructor can receive arguments that are required to have a cvorrect, functional instance of the class."
   ]
  },
  {
   "cell_type": "markdown",
   "id": "ef1efa2d",
   "metadata": {
    "slideshow": {
     "slide_type": "slide"
    }
   },
   "source": [
    "You never call the `__init__()` method directly! \n",
    "The `Customer(...)` expression is where a new Customer instance is created. The `__init__()` method is invoked by the Python interpreter and the `self` reference is injected and a reference to the object in memory is returned (and bound to `cust1`.  "
   ]
  },
  {
   "cell_type": "markdown",
   "id": "49b692e6",
   "metadata": {
    "slideshow": {
     "slide_type": "slide"
    }
   },
   "source": [
    "### The injected `self` argument\n",
    "\n",
    "There is something special going on in there: the `self` method argument. In OO-Python, all methods invoked on an instance will receive as first argument -inserted by the Python interpreter- a reference to the **current executing object** and convention states that you name it `self`.  \n",
    "\n",
    "Because you have a reference to the current executing object you can attach, access and modify its data using this reference."
   ]
  },
  {
   "cell_type": "markdown",
   "id": "d77c8b5b",
   "metadata": {
    "slideshow": {
     "slide_type": "slide"
    }
   },
   "source": [
    "## Object and interpreter hooks\n",
    "The `__init__()` method is one of the many object and interpreter hooks that exist in Python. They are called \"dunder\" methods because of the \"double underscores\". When you implement these, *they let you interact with operators and built-in functions*. "
   ]
  },
  {
   "cell_type": "markdown",
   "id": "56b90658",
   "metadata": {
    "slideshow": {
     "slide_type": "slide"
    }
   },
   "source": [
    "The `__init__()` hook makes it possible to hook into the `()` construction process by defining an argument list. In the listing in a previous paragraph some hoks are specified in class `object`. We will see a few more hooks later in this chapter.  \n",
    "See for instance [here](https://towardsdatascience.com/a-guide-to-pythons-dunder-methods-3b8104fce335) for more details.\n"
   ]
  },
  {
   "cell_type": "markdown",
   "id": "6be30d38",
   "metadata": {
    "slideshow": {
     "slide_type": "slide"
    }
   },
   "source": [
    "### Implement some hooks\n",
    "\n",
    "When you print the object reference itself you get something like this:"
   ]
  },
  {
   "cell_type": "markdown",
   "id": "ada0f862",
   "metadata": {
    "slideshow": {
     "slide_type": "fragment"
    }
   },
   "source": [
    "The `__str__()` method is a hook for interacting with the `print()` built-in. When print receives an object to print it will look for the `__str__()` method and call it."
   ]
  },
  {
   "cell_type": "code",
   "execution_count": 9,
   "id": "4235192b",
   "metadata": {
    "slideshow": {
     "slide_type": "fragment"
    }
   },
   "outputs": [
    {
     "name": "stdout",
     "output_type": "stream",
     "text": [
      "<__main__.Customer object at 0x111042af0>\n"
     ]
    }
   ],
   "source": [
    "print(cust1)"
   ]
  },
  {
   "cell_type": "markdown",
   "id": "515a0350",
   "metadata": {
    "slideshow": {
     "slide_type": "skip"
    }
   },
   "source": [
    ":::{admonition} Hooks __str__() and __repr__()\n",
    ":class: note\n",
    "\n",
    "Hooks `__str__()` and `__repr__()`, targeting the built-in functions `str()` and `repr()` respectively, are both used to get a string representation of an object. However, their intent is different:  \n",
    "\n",
    "* `str()` is used for generating human-readable output while `repr()` is mainly used for debugging and development. \n",
    "* repr’s goal is to be unambiguous and str’s is to be readable\n",
    "* `repr()` fetches the “formal” string representation of an object (a representation that has all information about the object) and `str()` is used to fetch the “informal” string representation of an object.\n",
    "* The `print()` and `str()` built-in function use `__str__()` to display the string representation of the object while the `repr()` built-in function uses `__repr__()` to display the object.\n",
    ":::\n"
   ]
  },
  {
   "cell_type": "markdown",
   "id": "7daf2635",
   "metadata": {
    "slideshow": {
     "slide_type": "fragment"
    }
   },
   "source": [
    "This output says it is an instance of the Customer class that is defined in the `__main__` scope and that it can be found at memory \"location\" `0x7fbe709e8fa0` - not very informative.  \n",
    "\n",
    "Time to implement `__str__()`."
   ]
  },
  {
   "cell_type": "markdown",
   "id": "6be47a9b",
   "metadata": {
    "slideshow": {
     "slide_type": "slide"
    }
   },
   "source": [
    "### The `Performance` class\n",
    "Similar to the Customer class we can now implement the Performance class. The properties listed above are \"title\", \"datetime\", \"seat_price\", \"max_seats\" and \"reserved_seats\". All properties except the last one (which will simply default to 0) are useful to specify at construction time. Here is a first version."
   ]
  },
  {
   "cell_type": "code",
   "execution_count": 10,
   "id": "3ac6e7b9",
   "metadata": {
    "slideshow": {
     "slide_type": "slide"
    }
   },
   "outputs": [
    {
     "name": "stdout",
     "output_type": "stream",
     "text": [
      "Julia Marsh [j.marsh@example.com]\n"
     ]
    }
   ],
   "source": [
    "class Customer:\n",
    "    def __init__(self, first_name, last_name, email):\n",
    "        self.first = first_name\n",
    "        self.last = last_name\n",
    "        self.email = email\n",
    "    def __str__(self):\n",
    "        return f'{self.first} {self.last} [{self.email}]'\n",
    "\n",
    "cust2 = Customer(\"Julia\", \"Marsh\", \"j.marsh@example.com\")\n",
    "print(cust2)"
   ]
  },
  {
   "cell_type": "code",
   "execution_count": 11,
   "id": "ea9b53e9",
   "metadata": {
    "slideshow": {
     "slide_type": "slide"
    }
   },
   "outputs": [
    {
     "name": "stdout",
     "output_type": "stream",
     "text": [
      "The Tempest (2022/12/20 20:00H - €12); reserved 0 out of 50\n"
     ]
    }
   ],
   "source": [
    "class Performance:\n",
    "    def __init__(self, title, datetime, seat_price, max_seats):\n",
    "        self.title = title\n",
    "        self.datetime = datetime\n",
    "        self.seat_price = seat_price\n",
    "        self.max_seats = max_seats\n",
    "        self.reserved = 0\n",
    "    def __str__(self):\n",
    "        return f'{self.title} ({self.datetime} - €{self.seat_price}); reserved {self.reserved} out of {self.max_seats}'\n",
    "\n",
    "perf1 = Performance(\"The Tempest\", \"2022/12/20 20:00H\", 12, 50)\n",
    "print(perf1)\n"
   ]
  },
  {
   "cell_type": "markdown",
   "id": "cf52fd6b",
   "metadata": {
    "slideshow": {
     "slide_type": "slide"
    }
   },
   "source": [
    "The coding pattern here is similar to the Customer class. One thing warrants some attention: The use of a string to specify datetime. Working with actual date/time data is a very important topic of course but out of scope in this course.\n",
    "In a more realist setting we would have done something like this:\n",
    "\n",
    "```python\n",
    "from datetime import datetime\n",
    "dt = datetime.strptime(\"2022/12/20 20:00H\", \"%Y/%m/%d %H:%MH\")\n",
    "perf1 = Performance(\"The Tempest\", dt, 12, 50)\n",
    "```"
   ]
  },
  {
   "cell_type": "markdown",
   "id": "98506eb8",
   "metadata": {
    "slideshow": {
     "slide_type": "slide"
    }
   },
   "source": [
    "### The `Reservation` class\n",
    "The Performace class is not ready - we will need to implement some means to process reservations. To do that we need a Reservation class first:"
   ]
  },
  {
   "cell_type": "code",
   "execution_count": 12,
   "id": "3d38bcd5",
   "metadata": {
    "slideshow": {
     "slide_type": "fragment"
    }
   },
   "outputs": [
    {
     "name": "stdout",
     "output_type": "stream",
     "text": [
      "Reservation by Pete for The Tempest: 4 tickets\n"
     ]
    }
   ],
   "source": [
    "class Reservation:\n",
    "    def __init__(self, customer, performance, num_tickets):\n",
    "        self.customer = customer\n",
    "        self.performance = performance\n",
    "        self.num_tickets = num_tickets\n",
    "    def __str__(self):\n",
    "        return f'Reservation by {self.customer.first} for {self.performance.title}: {self.num_tickets} tickets'\n",
    "    def __repr__(self): # needed for printing when in container\n",
    "        return f'name={self.customer.first} {self.customer.last}, tickets={self.num_tickets}'\n",
    "\n",
    "\n",
    "res1 = Reservation(cust1, perf1, 4)\n",
    "print(res1)"
   ]
  },
  {
   "cell_type": "markdown",
   "id": "2b1d432e",
   "metadata": {
    "slideshow": {
     "slide_type": "slide"
    }
   },
   "source": [
    "### Finish `Performance`\n",
    "\n",
    "Next, an `add_reservation()` and `tickets_sold()` method are added, and a check on each reservation to assure we are not sold out yet:\n",
    "\n",
    "```python\n",
    "def add_reservation(self, reservation):\n",
    "    '''Add a reservation to this performance.\n",
    "    Raises a valueError when sold out'''\n",
    "    if self.tickets_sold() + reservation.num_tickets > self.max_seats:\n",
    "        raise ValueError(f'only {self.max_seats - self.tickets_sold()} seats available')\n",
    "    self.reservations.append(reservation)\n",
    "\n",
    "def tickets_sold(self):\n",
    "    '''Get the number of tickets sold'''\n",
    "    total = 0\n",
    "    for res in self.reservations:\n",
    "        total += res.num_tickets\n",
    "    return total\n",
    "```"
   ]
  },
  {
   "cell_type": "markdown",
   "id": "e95c19a2",
   "metadata": {
    "slideshow": {
     "slide_type": "slide"
    }
   },
   "source": [
    "### Bring it all together\n",
    "Below is the finished `Performance` class, and some example use."
   ]
  },
  {
   "cell_type": "code",
   "execution_count": 13,
   "id": "a8911aed",
   "metadata": {
    "slideshow": {
     "slide_type": "slide"
    }
   },
   "outputs": [],
   "source": [
    "class Performance:\n",
    "    def __init__(self, title, datetime, seat_price, max_seats):\n",
    "        self.title = title\n",
    "        self.datetime = datetime\n",
    "        self.seat_price = seat_price\n",
    "        self.max_seats = max_seats\n",
    "        #self.reserved = 0            # not used anymore\n",
    "        self.reservations = list()    # a list to store reservations\n",
    "        \n",
    "    def __str__(self):\n",
    "        return f'{self.title} ({self.datetime} - €{self.seat_price}); reserved {self.tickets_sold()} out of {self.max_seats}'\n",
    "    \n",
    "    def add_reservation(self, reservation):\n",
    "        '''Add a reservation to this performance.\n",
    "        Raises a valueError when the reservation size exceeds the available seats.'''\n",
    "        if self.tickets_sold() + reservation.num_tickets > self.max_seats:\n",
    "            raise ValueError(f'only {self.max_seats - self.tickets_sold()} seats available')\n",
    "        self.reservations.append(reservation)\n",
    "\n",
    "    def tickets_sold(self):\n",
    "        '''Get the number of tickets sold'''\n",
    "        total = 0\n",
    "        for res in self.reservations:\n",
    "            total += res.num_tickets\n",
    "        return total\n"
   ]
  },
  {
   "cell_type": "code",
   "execution_count": 14,
   "id": "a85a0e3a",
   "metadata": {
    "slideshow": {
     "slide_type": "slide"
    }
   },
   "outputs": [
    {
     "name": "stdout",
     "output_type": "stream",
     "text": [
      "Hamlet (2023/01/18 20:00H - €15); reserved 0 out of 50\n",
      "Reservation by Pete for Hamlet: 4 tickets\n",
      "Hamlet (2023/01/18 20:00H - €15); reserved 4 out of 50\n"
     ]
    }
   ],
   "source": [
    "perf2 = Performance(\"Hamlet\", \"2023/01/18 20:00H\", 15, 50)\n",
    "print(perf2)\n",
    "res2 = Reservation(cust1, perf2, 4)\n",
    "print(res2)\n",
    "perf2.add_reservation(res2)\n",
    "print(perf2)\n",
    "\n",
    "## How do you test sold out? Try it!"
   ]
  },
  {
   "cell_type": "markdown",
   "id": "b80bc38c",
   "metadata": {
    "slideshow": {
     "slide_type": "slide"
    }
   },
   "source": [
    "### Implementing an iteration hook\n",
    "It would be very nice to be able to iterate the `Performance` class on its reservations. All you need to do is implement the `__iter__()` and `__next__()` hooks:\n",
    "\n",
    "```python\n",
    "# should return an object responsible for iteration. Here: the object itself.\n",
    "def __iter__(self):  \n",
    "    self.index = 0\n",
    "    return self\n",
    "\n",
    "# is responsible for the actual iteration process. \n",
    "def __next__(self):  \n",
    "    if self.index < len(self.reservations):\n",
    "        res = self.reservations[self.index]\n",
    "        self.index += 1\n",
    "        return res\n",
    "    else:\n",
    "        raise StopIteration # required to end the iteration.\n",
    "```"
   ]
  },
  {
   "cell_type": "markdown",
   "id": "7b5c131d",
   "metadata": {
    "slideshow": {
     "slide_type": "skip"
    }
   },
   "source": [
    "The `__iter__()` method is called when an instance of your class is used in an iteration context such as a `for` loop or collection constructors. It is expected to return an object that will actually do the iteration. Usually this is the object itself, but you can delegate to instance variables that are iterable objects themselves as shown below."
   ]
  },
  {
   "cell_type": "code",
   "execution_count": 15,
   "id": "5485186c",
   "metadata": {
    "slideshow": {
     "slide_type": "skip"
    }
   },
   "outputs": [
    {
     "name": "stdout",
     "output_type": "stream",
     "text": [
      "2 - 4 - 1 - 6 - 3 - "
     ]
    }
   ],
   "source": [
    "class ListWrapper:\n",
    "    def __init__(self, seed_elements):\n",
    "        self.elements = list()\n",
    "        if seed_elements: # non-empty\n",
    "            self.elements.extend(seed_elements)\n",
    "            \n",
    "    def addElements(self, elements):\n",
    "        self.elements.extend(elements)\n",
    "        \n",
    "    def __iter__(self):\n",
    "        return self.elements.__iter__()\n",
    "    \n",
    "lw = ListWrapper([2, 4, 1])\n",
    "lw.addElements([6, 3])\n",
    "for e in lw:\n",
    "    print(e, end= \" - \")"
   ]
  },
  {
   "cell_type": "markdown",
   "id": "fa87635e",
   "metadata": {
    "slideshow": {
     "slide_type": "skip"
    }
   },
   "source": [
    "Below is the complete finsihed `Performance` class."
   ]
  },
  {
   "cell_type": "code",
   "execution_count": 16,
   "id": "79d444e4",
   "metadata": {
    "slideshow": {
     "slide_type": "skip"
    }
   },
   "outputs": [],
   "source": [
    "class Performance:\n",
    "    def __init__(self, title, datetime, seat_price, max_seats):\n",
    "        self.title = title\n",
    "        self.datetime = datetime\n",
    "        self.seat_price = seat_price\n",
    "        self.max_seats = max_seats\n",
    "        self.reservations = list()    # a list to store reservations\n",
    "        \n",
    "    def __str__(self):\n",
    "        return f'{self.title} ({self.datetime} - €{self.seat_price}); reserved {self.tickets_sold()} out of {self.max_seats}'\n",
    "    \n",
    "    def add_reservation(self, reservation):\n",
    "        '''Add a reservation to this performance.\n",
    "        Raises a valueError when the reservation size exceeds the available seats.'''\n",
    "        if self.tickets_sold() + reservation.num_tickets > self.max_seats:\n",
    "            raise ValueError(f'only {self.max_seats - self.tickets_sold()} seats available')\n",
    "        self.reservations.append(reservation)\n",
    "\n",
    "    def tickets_sold(self):\n",
    "        '''Get the number of tickets sold'''\n",
    "        total = 0\n",
    "        for res in self.reservations:\n",
    "            total += res.num_tickets\n",
    "        return total\n",
    "    \n",
    "    def __iter__(self):\n",
    "        self.index = 0\n",
    "        return self\n",
    "    \n",
    "    def __next__(self):\n",
    "        if self.index < len(self.reservations):\n",
    "            res = self.reservations[self.index]\n",
    "            self.index += 1\n",
    "            return res\n",
    "        else:\n",
    "            raise StopIteration\n"
   ]
  },
  {
   "cell_type": "markdown",
   "id": "a80f1f3b",
   "metadata": {
    "slideshow": {
     "slide_type": "slide"
    }
   },
   "source": [
    "Here is the iteration process in action."
   ]
  },
  {
   "cell_type": "code",
   "execution_count": 17,
   "id": "d379554d",
   "metadata": {
    "slideshow": {
     "slide_type": "fragment"
    }
   },
   "outputs": [
    {
     "name": "stdout",
     "output_type": "stream",
     "text": [
      "Romo and Julia (2023/03/08 20:00H - €15); reserved 11 out of 40\n",
      "Reservation for Julia: 4 tickets\n",
      "Reservation for Peter: 2 tickets\n",
      "Reservation for Alex: 5 tickets\n"
     ]
    }
   ],
   "source": [
    "perf3 = Performance(\"Romo and Julia\", \"2023/03/08 20:00H\", 15, 40)\n",
    "res3 = Reservation(Customer(\"Julia\", \"Marsh\", \"j.marsh@example.com\"), perf3, 4)\n",
    "perf3.add_reservation(res3)\n",
    "res4 = Reservation(Customer(\"Peter\", \"Dole\", \"p.dole@example.com\"), perf3, 2)\n",
    "perf3.add_reservation(res4)\n",
    "res5 = Reservation(Customer(\"Alex\", \"Walsh\", \"a.walsh@example.com\"), perf3, 5)\n",
    "perf3.add_reservation(res5)\n",
    "\n",
    "print(perf3)\n",
    "for res in perf3:\n",
    "    print(f'Reservation for {res.customer.first}: {res.num_tickets} tickets')"
   ]
  },
  {
   "cell_type": "markdown",
   "id": "bec2be88",
   "metadata": {
    "slideshow": {
     "slide_type": "slide"
    }
   },
   "source": [
    "Notice the **_chaining_** of the dot operator to access object that are properties of objects: `res.customer.first`.\n",
    "\n",
    "There are many more hooks you can implement; for indexing (`__getitem__()`), comparison (`__eq__()`) and many more.  \n",
    "\n",
    "[Here](https://towardsdatascience.com/a-guide-to-pythons-dunder-methods-3b8104fce335) is the link again to the website going deeper into the topic."
   ]
  },
  {
   "cell_type": "markdown",
   "id": "1ebe4160",
   "metadata": {
    "slideshow": {
     "slide_type": "fragment"
    }
   },
   "source": [
    "This finishes this example. Can you improve or extend on the design?"
   ]
  },
  {
   "cell_type": "markdown",
   "id": "b6347f9b",
   "metadata": {
    "slideshow": {
     "slide_type": "skip"
    }
   },
   "source": [
    "### An alternative iteration\n",
    "Alternatively, you can implement iteration using `__getitem__()`:\n"
   ]
  },
  {
   "cell_type": "code",
   "execution_count": 18,
   "id": "43a12f26",
   "metadata": {
    "slideshow": {
     "slide_type": "skip"
    }
   },
   "outputs": [],
   "source": [
    "class PerformanceAltIt:\n",
    "    def __init__(self, title, datetime, seat_price, max_seats):\n",
    "        self.title = title\n",
    "        self.datetime = datetime\n",
    "        self.seat_price = seat_price\n",
    "        self.max_seats = max_seats\n",
    "        self.reservations = list()    # a list to store reservations\n",
    "        \n",
    "    def __str__(self):\n",
    "        return f'{self.title} ({self.datetime} - €{self.seat_price}); reserved {self.tickets_sold()} out of {self.max_seats}'\n",
    "    \n",
    "    def add_reservation(self, reservation):\n",
    "        '''Add a reservation to this performance.\n",
    "        Raises a valueError when the reservation size exceeds the available seats.'''\n",
    "        if self.tickets_sold() + reservation.num_tickets > self.max_seats:\n",
    "            raise ValueError(f'only {self.max_seats - self.tickets_sold()} seats available')\n",
    "        self.reservations.append(reservation)\n",
    "\n",
    "    def tickets_sold(self):\n",
    "        '''Get the number of tickets sold'''\n",
    "        total = 0\n",
    "        for res in self.reservations:\n",
    "            total += res.num_tickets\n",
    "        return total\n",
    "\n",
    "    def __getitem__(self, k):\n",
    "        return self.reservations[k]\n",
    "        "
   ]
  },
  {
   "cell_type": "code",
   "execution_count": 19,
   "id": "10ab7b6f",
   "metadata": {
    "slideshow": {
     "slide_type": "skip"
    }
   },
   "outputs": [
    {
     "name": "stdout",
     "output_type": "stream",
     "text": [
      "Romo and Julia (2023/03/08 20:00H - €15); reserved 11 out of 40\n",
      "Reservation for Julia: 4 tickets\n",
      "Reservation for Peter: 2 tickets\n",
      "Reservation for Alex: 5 tickets\n",
      "[name=Julia Marsh, tickets=4, name=Peter Dole, tickets=2]\n"
     ]
    }
   ],
   "source": [
    "perf4 = PerformanceAltIt(\"Romo and Julia\", \"2023/03/08 20:00H\", 15, 40)\n",
    "res3 = Reservation(Customer(\"Julia\", \"Marsh\", \"j.marsh@example.com\"), perf4, 4)\n",
    "perf4.add_reservation(res3)\n",
    "res4 = Reservation(Customer(\"Peter\", \"Dole\", \"p.dole@example.com\"), perf4, 2)\n",
    "perf4.add_reservation(res4)\n",
    "res5 = Reservation(Customer(\"Alex\", \"Walsh\", \"a.walsh@example.com\"), perf4, 5)\n",
    "perf4.add_reservation(res5)\n",
    "\n",
    "print(perf4)\n",
    "\n",
    "#iteration: no problem\n",
    "for res in perf4:\n",
    "    print(f'Reservation for {res.customer.first}: {res.num_tickets} tickets')\n",
    "\n",
    "#indexing and slicing\n",
    "print(perf4[0:2])"
   ]
  },
  {
   "cell_type": "markdown",
   "id": "b92a5515",
   "metadata": {
    "slideshow": {
     "slide_type": "slide"
    }
   },
   "source": [
    "## The main hooks\n",
    "\n",
    "\n",
    "* `__init__()`: used by constructor new Instance`()`\n",
    "* `__str__()`: used by `str( )` (and `print()`)\n",
    "* `__repr__()`: used by `repr()` (and `print()` when it does not find a `__str__()`)\n",
    "* `__iter__()` and `__next__()` to implement iteration. Alternatively, this can be done using `__len__()` and `__getitem__()`\n",
    "\n",
    "\n",
    "\n"
   ]
  }
 ],
 "metadata": {
  "celltoolbar": "Slideshow",
  "kernelspec": {
   "display_name": "Python 3 (ipykernel)",
   "language": "python",
   "name": "python3"
  },
  "language_info": {
   "codemirror_mode": {
    "name": "ipython",
    "version": 3
   },
   "file_extension": ".py",
   "mimetype": "text/x-python",
   "name": "python",
   "nbconvert_exporter": "python",
   "pygments_lexer": "ipython3",
   "version": "3.9.12"
  }
 },
 "nbformat": 4,
 "nbformat_minor": 5
}
