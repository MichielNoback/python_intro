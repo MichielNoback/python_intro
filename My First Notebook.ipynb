{
 "cells": [
  {
   "cell_type": "code",
   "execution_count": 1,
   "id": "0778441e",
   "metadata": {},
   "outputs": [
    {
     "name": "stdout",
     "output_type": "stream",
     "text": [
      "Hello world!\n",
      "Bye now\n"
     ]
    }
   ],
   "source": [
    "print(\"Hello world!\")\n",
    "print(\"Bye now\")"
   ]
  },
  {
   "cell_type": "markdown",
   "id": "f8b06c0c",
   "metadata": {},
   "source": [
    "# Hoofdstuk 1\n",
    "<h1>Hoofdstuk 1</h1>\n",
    "\n",
    "## Paragraaf 1: de start\n",
    "### Subparagraaf 1\n",
    "Ik kan hier mijn gedachten kwijt\n",
    "\n",
    "* punt a\n",
    "* punt b\n",
    "* punt c"
   ]
  },
  {
   "cell_type": "markdown",
   "id": "cb67a2d9",
   "metadata": {},
   "source": [
    "\n",
    "![kitten picture](pics/kitten.jpeg)"
   ]
  },
  {
   "cell_type": "markdown",
   "id": "95defcbf",
   "metadata": {},
   "source": [
    "1. punt 1\n",
    "1. punt 2\n",
    "1. punt 3\n",
    "\n",
    "We **praten** nog even __door__ met *__elkaar__*\n",
    "~test~\n",
    "\n",
    "<u>underlined</u> moet via HTML\n",
    "\n",
    "> dit is een block quote deel. blabla bla  \n",
    "dit is een nieuwe regel\n",
    "\n",
    "Dit is een [link](https://www.edureka.co/blog/wp-content/uploads/2018/10/Jupyter_Notebook_CheatSheet_Edureka.pdf) naar een Jupyter cheat sheet!\n",
    "`[link text](url)`\n"
   ]
  },
  {
   "cell_type": "raw",
   "id": "fb4b052f",
   "metadata": {},
   "source": [
    "ljwehblfjehwb\n",
    ";kchbdJCHV,jh\n",
    "<h1>Hallo</h1>\n",
    "# Hallo"
   ]
  },
  {
   "cell_type": "code",
   "execution_count": 2,
   "id": "3ce28176",
   "metadata": {},
   "outputs": [
    {
     "name": "stdout",
     "output_type": "stream",
     "text": [
      "24.074074074074073\n",
      "4\n",
      "-2\n",
      "15\n",
      "0.6\n",
      "243\n",
      "1.7320508075688772\n"
     ]
    },
    {
     "data": {
      "text/plain": [
       "1.7320508075688772"
      ]
     },
     "execution_count": 2,
     "metadata": {},
     "output_type": "execute_result"
    }
   ],
   "source": [
    "print(78 / 1.8**2)\n",
    "print(1 + 3)\n",
    "print(1 - 3)\n",
    "print(3 * 5)\n",
    "print(3 / 5)\n",
    "print(3 ** 5)\n",
    "print(3 ** 0.5)\n",
    "\n",
    "import math\n",
    "math.sqrt(3)\n",
    "\n"
   ]
  },
  {
   "cell_type": "code",
   "execution_count": 3,
   "id": "e4254dc7",
   "metadata": {},
   "outputs": [
    {
     "name": "stdout",
     "output_type": "stream",
     "text": [
      "2.7751196172248807\n",
      "6.734772289856238\n"
     ]
    }
   ],
   "source": [
    "print((4.6 + 1.2) / 2.09)\n",
    "a = 3 * 4**(7/12)\n",
    "print(a)"
   ]
  },
  {
   "cell_type": "code",
   "execution_count": 4,
   "id": "cec0e2c1",
   "metadata": {},
   "outputs": [
    {
     "name": "stdout",
     "output_type": "stream",
     "text": [
      "The volumne of a sphere with radius 6 is 452.39\n"
     ]
    }
   ],
   "source": [
    "r = 6\n",
    "vol = (2 / 3) * math.pi * r**3\n",
    "\n",
    "print(f'The volumne of a sphere with radius {r} is {round(vol, 2)}')"
   ]
  },
  {
   "cell_type": "code",
   "execution_count": 5,
   "id": "8bd27bb1",
   "metadata": {},
   "outputs": [
    {
     "data": {
      "text/plain": [
       "1.259881576697424"
      ]
     },
     "execution_count": 5,
     "metadata": {},
     "output_type": "execute_result"
    }
   ],
   "source": [
    "5 * ((4 + 2) / (math.sqrt(7) * 9))"
   ]
  },
  {
   "cell_type": "code",
   "execution_count": 6,
   "id": "49a9e3f2",
   "metadata": {},
   "outputs": [
    {
     "data": {
      "text/plain": [
       "''"
      ]
     },
     "execution_count": 6,
     "metadata": {},
     "output_type": "execute_result"
    }
   ],
   "source": [
    "bool()\n",
    "int()\n",
    "float()\n",
    "str()\n",
    "\n",
    "#type()"
   ]
  },
  {
   "cell_type": "code",
   "execution_count": 7,
   "id": "5b1a1eb3",
   "metadata": {},
   "outputs": [
    {
     "data": {
      "text/plain": [
       "'I e li use'"
      ]
     },
     "execution_count": 7,
     "metadata": {},
     "output_type": "execute_result"
    }
   ],
   "source": [
    "message = \"In een klein huisje\"\n",
    "message[:] # SLICING COPY\n",
    "\n",
    "#I e li (elke tweede letter)\n",
    "message[::2]"
   ]
  },
  {
   "cell_type": "code",
   "execution_count": 8,
   "id": "c92991df",
   "metadata": {},
   "outputs": [
    {
     "data": {
      "text/plain": [
       "['In ', ' klein huisje']"
      ]
     },
     "execution_count": 8,
     "metadata": {},
     "output_type": "execute_result"
    }
   ],
   "source": [
    "message.split(\"een\")\n"
   ]
  },
  {
   "cell_type": "code",
   "execution_count": 10,
   "id": "72427f76",
   "metadata": {},
   "outputs": [
    {
     "name": "stdout",
     "output_type": "stream",
     "text": [
      "0\n",
      "0\n",
      "1\n",
      "1\n",
      "2\n",
      "4\n",
      "3\n",
      "9\n",
      "4\n",
      "16\n",
      "hallo\n",
      "4\n"
     ]
    }
   ],
   "source": [
    "m = \"hallo\"\n",
    "# local scope\n",
    "for n in range(5):\n",
    "    \n",
    "    print(n)\n",
    "\n",
    "print(m)\n",
    "print(n)"
   ]
  },
  {
   "cell_type": "code",
   "execution_count": 16,
   "id": "2d7b1473",
   "metadata": {},
   "outputs": [
    {
     "name": "stdout",
     "output_type": "stream",
     "text": [
      "Please say your name: Michiel\n"
     ]
    }
   ],
   "source": [
    "name = \"\"\n",
    "while len(name) == 0:\n",
    "    name = input(\"Please say your name: \")"
   ]
  },
  {
   "cell_type": "code",
   "execution_count": 12,
   "id": "a7e826cd",
   "metadata": {},
   "outputs": [
    {
     "name": "stdout",
     "output_type": "stream",
     "text": [
      "Good morning, Michiel Noback\n"
     ]
    }
   ],
   "source": [
    "print(f\"Good morning, {name}\")"
   ]
  },
  {
   "cell_type": "code",
   "execution_count": 20,
   "id": "bf65cd50",
   "metadata": {},
   "outputs": [
    {
     "ename": "TypeError",
     "evalue": "can only concatenate str (not \"int\") to str",
     "output_type": "error",
     "traceback": [
      "\u001b[0;31m---------------------------------------------------------------------------\u001b[0m",
      "\u001b[0;31mTypeError\u001b[0m                                 Traceback (most recent call last)",
      "Cell \u001b[0;32mIn[20], line 3\u001b[0m\n\u001b[1;32m      1\u001b[0m \u001b[38;5;28;01mdef\u001b[39;00m \u001b[38;5;21mgreeting\u001b[39m(name: \u001b[38;5;28mstr\u001b[39m) \u001b[38;5;241m-\u001b[39m\u001b[38;5;241m>\u001b[39m \u001b[38;5;28mstr\u001b[39m:\n\u001b[1;32m      2\u001b[0m     \u001b[38;5;28;01mreturn\u001b[39;00m \u001b[38;5;124m'\u001b[39m\u001b[38;5;124mHello \u001b[39m\u001b[38;5;124m'\u001b[39m \u001b[38;5;241m+\u001b[39m name\n\u001b[0;32m----> 3\u001b[0m \u001b[43mgreeting\u001b[49m\u001b[43m(\u001b[49m\u001b[38;5;241;43m42\u001b[39;49m\u001b[43m)\u001b[49m\n",
      "Cell \u001b[0;32mIn[20], line 2\u001b[0m, in \u001b[0;36mgreeting\u001b[0;34m(name)\u001b[0m\n\u001b[1;32m      1\u001b[0m \u001b[38;5;28;01mdef\u001b[39;00m \u001b[38;5;21mgreeting\u001b[39m(name: \u001b[38;5;28mstr\u001b[39m) \u001b[38;5;241m-\u001b[39m\u001b[38;5;241m>\u001b[39m \u001b[38;5;28mstr\u001b[39m:\n\u001b[0;32m----> 2\u001b[0m     \u001b[38;5;28;01mreturn\u001b[39;00m \u001b[38;5;124;43m'\u001b[39;49m\u001b[38;5;124;43mHello \u001b[39;49m\u001b[38;5;124;43m'\u001b[39;49m\u001b[43m \u001b[49m\u001b[38;5;241;43m+\u001b[39;49m\u001b[43m \u001b[49m\u001b[43mname\u001b[49m\n",
      "\u001b[0;31mTypeError\u001b[0m: can only concatenate str (not \"int\") to str"
     ]
    }
   ],
   "source": [
    "def greeting(name: str) -> str:\n",
    "    return 'Hello ' + name\n",
    "greeting(42)"
   ]
  },
  {
   "cell_type": "code",
   "execution_count": 27,
   "id": "51a39bbe",
   "metadata": {},
   "outputs": [
    {
     "name": "stdout",
     "output_type": "stream",
     "text": [
      "['1', 'm', '180']\n",
      "['2', 'm', '188']\n",
      "['3', 'f', '178']\n",
      "['4', 'f', '182']\n",
      "['5', 'f', '172']\n",
      "['6', 'm', '189']\n",
      "The average height is 181.5\n"
     ]
    }
   ],
   "source": [
    "file = open(\"data/lengths.csv\", \"r\")\n",
    "total = 0\n",
    "for i, line in enumerate(file):\n",
    "    elements = line.strip().split(',')\n",
    "    \n",
    "    print(elements) \n",
    "    total += int(elements[2])\n",
    "\n",
    "print(f\"The average height is {total/(i+1)}\")"
   ]
  },
  {
   "cell_type": "code",
   "execution_count": 48,
   "id": "985f9b38",
   "metadata": {},
   "outputs": [],
   "source": [
    "in_file = \"./data/patients_before_after.csv\"\n",
    "out_file = \"./data/patients_difference.csv\"\n",
    "\n",
    "out_handle = open(out_file, \"w\")\n",
    "out_handle.write(\"Patient, Difference\\n\")\n",
    "with open(in_file, \"r\") as in_handle:\n",
    "    for i, line in enumerate(in_handle):\n",
    "        if i == 0: \n",
    "            continue\n",
    "        \n",
    "        elements = line.strip().split(\",\")\n",
    "        before = int(elements[1])\n",
    "        after = int(elements[2])\n",
    "        difference = abs(after - before)\n",
    "        print(i, difference, file=out_handle) #hack\n",
    "        #out_handle.write(elements[0] + \", \" + str(difference) + \"\\n\")\n",
    "out_handle.close()"
   ]
  },
  {
   "cell_type": "markdown",
   "id": "e2cb9e9a",
   "metadata": {},
   "source": [
    "\n",
    "&amp;"
   ]
  },
  {
   "cell_type": "code",
   "execution_count": 51,
   "id": "3517b96f",
   "metadata": {},
   "outputs": [
    {
     "name": "stdout",
     "output_type": "stream",
     "text": [
      "oh my oh my\n"
     ]
    }
   ],
   "source": [
    "import sys\n",
    "print(\"oh my oh my\", file = sys.stdout)"
   ]
  }
 ],
 "metadata": {
  "kernelspec": {
   "display_name": "Python 3 (ipykernel)",
   "language": "python",
   "name": "python3"
  },
  "language_info": {
   "codemirror_mode": {
    "name": "ipython",
    "version": 3
   },
   "file_extension": ".py",
   "mimetype": "text/x-python",
   "name": "python",
   "nbconvert_exporter": "python",
   "pygments_lexer": "ipython3",
   "version": "3.9.12"
  }
 },
 "nbformat": 4,
 "nbformat_minor": 5
}
