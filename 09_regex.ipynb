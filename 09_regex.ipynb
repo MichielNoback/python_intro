{
 "cells": [
  {
   "cell_type": "markdown",
   "id": "4177a8d0",
   "metadata": {},
   "source": [
    "# 09 Regular expressions and the `re` modules\n"
   ]
  },
  {
   "cell_type": "markdown",
   "id": "2be114ce",
   "metadata": {},
   "source": []
  }
 ],
 "metadata": {
  "kernelspec": {
   "display_name": "Python 3 (ipykernel)",
   "language": "python",
   "name": "python3"
  },
  "language_info": {
   "codemirror_mode": {
    "name": "ipython",
    "version": 3
   },
   "file_extension": ".py",
   "mimetype": "text/x-python",
   "name": "python",
   "nbconvert_exporter": "python",
   "pygments_lexer": "ipython3",
   "version": "3.9.12"
  }
 },
 "nbformat": 4,
 "nbformat_minor": 5
}
